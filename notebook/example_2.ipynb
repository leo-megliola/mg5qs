{
 "cells": [
  {
   "cell_type": "code",
   "execution_count": 1,
   "id": "d2d06db4-55c9-4324-a884-1a6f12b4f019",
   "metadata": {},
   "outputs": [],
   "source": [
    "import mg5qs_import as qs\n",
    "from pathlib import Path\n",
    "import os\n",
    "import numpy as np \n",
    "import matplotlib.pyplot as plt"
   ]
  },
  {
   "cell_type": "markdown",
   "id": "e43a9ab9-fbbd-4037-b78f-21b6d5f1bec7",
   "metadata": {},
   "source": [
    "### Vary parameters using API and visual editing tools\n",
    "\n",
    "This example will demonstrate how MadGraph's built-in capabilities to edit model and run parameters are carried over into mg5qs.\n",
    "\n",
    "This example includes:\n",
    "- use of visual card editor\n",
    "- use of API for editing model parameters\n",
    "- looping over model parmeters\n",
    "- "
   ]
  },
  {
   "cell_type": "markdown",
   "id": "76de0165-338b-4131-9f18-dd3c958af162",
   "metadata": {},
   "source": [
    "### 1. Generate a MadGraph framework and use visual card editor\n",
    "\n",
    "**1.1 Create MadGraph framework and edit run_card**\n",
    "\n",
    "The visual card editor uses IPyWidgets (native to Jupyter) to edit cards, it is essentially a replacement for vi/gedit/nano/etc. command line file editors. "
   ]
  },
  {
   "cell_type": "code",
   "execution_count": 2,
   "id": "db956f52-3a8c-4ee1-a5d9-b3df3657cf7a",
   "metadata": {
    "scrolled": true
   },
   "outputs": [
    {
     "name": "stdout",
     "output_type": "stream",
     "text": [
      "#************************************************************\n",
      "#*                        MadGraph 5                        *\n",
      "#*                                                          *\n",
      "#*                *                       *                 *\n",
      "#*                  *        * *        *                   *\n",
      "#*                    * * * * 5 * * * *                     *\n",
      "#*                  *        * *        *                   *\n",
      "#*                *                       *                 *\n",
      "#*                                                          *\n",
      "#*                                                          *\n",
      "#*    The MadGraph Development Team - Please visit us at    *\n",
      "#*    https://server06.fynu.ucl.ac.be/projects/madgraph     *\n",
      "#*                                                          *\n",
      "#************************************************************\n",
      "#*                                                          *\n",
      "#*               Command File for MadGraph 5                *\n",
      "#*                                                          *\n",
      "#*     run as ./bin/mg5  filename                           *\n",
      "#*                                                          *\n",
      "#************************************************************\n"
     ]
    },
    {
     "data": {
      "application/vnd.jupyter.widget-view+json": {
       "model_id": "2756ef48be034a068ed02b43e64a0ea9",
       "version_major": 2,
       "version_minor": 0
      },
      "text/plain": [
       "Text(value='import model sm', layout=Layout(width='550px'))"
      ]
     },
     "metadata": {},
     "output_type": "display_data"
    },
    {
     "name": "stdout",
     "output_type": "stream",
     "text": [
      "# Define multiparticle labels\n"
     ]
    },
    {
     "data": {
      "application/vnd.jupyter.widget-view+json": {
       "model_id": "0343fd0a20314f07932bceb11b0df224",
       "version_major": 2,
       "version_minor": 0
      },
      "text/plain": [
       "Text(value='define p = g u c d s u~ c~ d~ s~', layout=Layout(width='550px'))"
      ]
     },
     "metadata": {},
     "output_type": "display_data"
    },
    {
     "data": {
      "application/vnd.jupyter.widget-view+json": {
       "model_id": "59da49ab2222492082b2ad34df1aa6b6",
       "version_major": 2,
       "version_minor": 0
      },
      "text/plain": [
       "Text(value='define j = g u c d s u~ c~ d~ s~', layout=Layout(width='550px'))"
      ]
     },
     "metadata": {},
     "output_type": "display_data"
    },
    {
     "data": {
      "application/vnd.jupyter.widget-view+json": {
       "model_id": "ef3e1c232b0c4517bf1a19ef0779df86",
       "version_major": 2,
       "version_minor": 0
      },
      "text/plain": [
       "Text(value='define l+ = e+ mu+', layout=Layout(width='550px'))"
      ]
     },
     "metadata": {},
     "output_type": "display_data"
    },
    {
     "data": {
      "application/vnd.jupyter.widget-view+json": {
       "model_id": "50dea2010fd34fe98a9e5b66c3752c5a",
       "version_major": 2,
       "version_minor": 0
      },
      "text/plain": [
       "Text(value='define l- = e- mu-', layout=Layout(width='550px'))"
      ]
     },
     "metadata": {},
     "output_type": "display_data"
    },
    {
     "data": {
      "application/vnd.jupyter.widget-view+json": {
       "model_id": "b4c27098fdeb4cd38c2c58a549cd2eb6",
       "version_major": 2,
       "version_minor": 0
      },
      "text/plain": [
       "Text(value='define vl = ve vm vt', layout=Layout(width='550px'))"
      ]
     },
     "metadata": {},
     "output_type": "display_data"
    },
    {
     "data": {
      "application/vnd.jupyter.widget-view+json": {
       "model_id": "ff64d3e4d13643768f7e073460b4f4b7",
       "version_major": 2,
       "version_minor": 0
      },
      "text/plain": [
       "Text(value='define vl~ = ve~ vm~ vt~', layout=Layout(width='550px'))"
      ]
     },
     "metadata": {},
     "output_type": "display_data"
    },
    {
     "name": "stdout",
     "output_type": "stream",
     "text": [
      "# Specify process(es) to run\n"
     ]
    },
    {
     "data": {
      "application/vnd.jupyter.widget-view+json": {
       "model_id": "44950433a052478c95f5298a7f33064a",
       "version_major": 2,
       "version_minor": 0
      },
      "text/plain": [
       "Text(value='generate p p > e- ve~ @1', layout=Layout(width='550px'))"
      ]
     },
     "metadata": {},
     "output_type": "display_data"
    },
    {
     "data": {
      "application/vnd.jupyter.widget-view+json": {
       "model_id": "4a7b50f55ea5460a849b9ad1893cc073",
       "version_major": 2,
       "version_minor": 0
      },
      "text/plain": [
       "Text(value='add process p p > e- ve~ j @2', layout=Layout(width='550px'))"
      ]
     },
     "metadata": {},
     "output_type": "display_data"
    },
    {
     "data": {
      "application/vnd.jupyter.widget-view+json": {
       "model_id": "21a566082ff749cea59c87da3ceb4c97",
       "version_major": 2,
       "version_minor": 0
      },
      "text/plain": [
       "Text(value='add process p p > t t~ @3', layout=Layout(width='550px'))"
      ]
     },
     "metadata": {},
     "output_type": "display_data"
    },
    {
     "name": "stdout",
     "output_type": "stream",
     "text": [
      "# Output processes to MadEvent directory\n"
     ]
    },
    {
     "data": {
      "application/vnd.jupyter.widget-view+json": {
       "model_id": "7ffbc316e7ef467f839ccb62a3cc3993",
       "version_major": 2,
       "version_minor": 0
      },
      "text/plain": [
       "Text(value='output EXAMPLE', layout=Layout(width='550px'))"
      ]
     },
     "metadata": {},
     "output_type": "display_data"
    },
    {
     "name": "stdout",
     "output_type": "stream",
     "text": [
      "# This will create a directory PROC_$MODELNAME_$X\n",
      "# If you want to specify the path/name of the directory use\n",
      "# output /path/to/output\n",
      "# When finished editing, press the save button below\n"
     ]
    },
    {
     "data": {
      "application/vnd.jupyter.widget-view+json": {
       "model_id": "8fc8a697a68a4105904834ed0b297202",
       "version_major": 2,
       "version_minor": 0
      },
      "text/plain": [
       "Button(description='Save', style=ButtonStyle())"
      ]
     },
     "metadata": {},
     "output_type": "display_data"
    },
    {
     "data": {
      "application/vnd.jupyter.widget-view+json": {
       "model_id": "b7c14df2df9b4c32987ede987759399f",
       "version_major": 2,
       "version_minor": 0
      },
      "text/plain": [
       "Output()"
      ]
     },
     "metadata": {},
     "output_type": "display_data"
    }
   ],
   "source": [
    "# edit proc_card before using it to generate framework \n",
    "qs.edit_card_spec(qs.INPUT_PATH / 'proc_card.dat')\n",
    "# try changing the output name, currently 'EXAMPLE'"
   ]
  },
  {
   "cell_type": "code",
   "execution_count": 3,
   "id": "39d5790a-da57-47a0-8814-a80e4877a3e4",
   "metadata": {},
   "outputs": [],
   "source": [
    "# generate framework \n",
    "output_name, FRAMEWORK_PATH = qs.run_MG5(qs.MG5_PATH, qs.INPUT_PATH, proc_card_name='proc_card.dat')"
   ]
  },
  {
   "cell_type": "markdown",
   "id": "62e51d9d-40e9-4275-9611-0a86f31a2905",
   "metadata": {},
   "source": [
    "**1.2 change run parmeters by editing run_card generated allong with the framework**\n",
    "\n",
    "Each new framework is created with a number of cards (see FRAMEWORK_PATH/Cards). The run_card contains: number of events, random seed, and many more runtime parameters. "
   ]
  },
  {
   "cell_type": "code",
   "execution_count": 4,
   "id": "3028c7af-cbda-4ec3-bf01-7fccbbddcc8d",
   "metadata": {
    "scrolled": true
   },
   "outputs": [
    {
     "name": "stdout",
     "output_type": "stream",
     "text": [
      "#*********************************************************************\n",
      "#                       MadGraph5_aMC@NLO                            *\n",
      "#                                                                    *\n",
      "#                     run_card.dat MadEvent                          *\n",
      "#                                                                    *\n",
      "#  This file is used to set the parameters of the run.               *\n",
      "#                                                                    *\n",
      "#  Some notation/conventions:                                        *\n",
      "#                                                                    *\n",
      "#   Lines starting with a '# ' are info or comments                  *\n",
      "#                                                                    *\n",
      "#   mind the format:   value    = variable     ! comment             *\n",
      "#                                                                    *\n",
      "#   To display more options, you can type the command:               *\n",
      "#      update to_full                                                *\n",
      "#*********************************************************************\n",
      "#\n",
      "#*********************************************************************\n",
      "# Tag name for the run (one word)                                    *\n",
      "#*********************************************************************\n"
     ]
    },
    {
     "data": {
      "application/vnd.jupyter.widget-view+json": {
       "model_id": "12cbd6cb6b8a419a94d2e57543ceed5b",
       "version_major": 2,
       "version_minor": 0
      },
      "text/plain": [
       "Text(value='tag_1     = run_tag ! name of the run', layout=Layout(width='550px'))"
      ]
     },
     "metadata": {},
     "output_type": "display_data"
    },
    {
     "name": "stdout",
     "output_type": "stream",
     "text": [
      "#*********************************************************************\n",
      "# Number of events and rnd seed                                      *\n",
      "# Warning: Do not generate more than 1M events in a single run       *\n",
      "#*********************************************************************\n"
     ]
    },
    {
     "data": {
      "application/vnd.jupyter.widget-view+json": {
       "model_id": "fd37d8cea5ec48f8bc4c8b49c22ceae4",
       "version_major": 2,
       "version_minor": 0
      },
      "text/plain": [
       "Text(value='10000 = nevents ! Number of unweighted events requested', layout=Layout(width='550px'))"
      ]
     },
     "metadata": {},
     "output_type": "display_data"
    },
    {
     "data": {
      "application/vnd.jupyter.widget-view+json": {
       "model_id": "e44483b98de24c489b1142895c582eeb",
       "version_major": 2,
       "version_minor": 0
      },
      "text/plain": [
       "Text(value='0   = iseed   ! rnd seed (0=assigned automatically=default))', layout=Layout(width='550px'))"
      ]
     },
     "metadata": {},
     "output_type": "display_data"
    },
    {
     "name": "stdout",
     "output_type": "stream",
     "text": [
      "#*********************************************************************\n",
      "# Collider type and energy                                           *\n",
      "# lpp: 0=No PDF, 1=proton, -1=antiproton,                            *\n",
      "#                2=elastic photon of proton/ion beam                 *\n",
      "#             +/-3=PDF of electron/positron beam                     *\n",
      "#             +/-4=PDF of muon/antimuon beam                         *\n",
      "#*********************************************************************\n"
     ]
    },
    {
     "data": {
      "application/vnd.jupyter.widget-view+json": {
       "model_id": "279557985c144280bbaded8238d13faf",
       "version_major": 2,
       "version_minor": 0
      },
      "text/plain": [
       "Text(value='1        = lpp1    ! beam 1 type', layout=Layout(width='550px'))"
      ]
     },
     "metadata": {},
     "output_type": "display_data"
    },
    {
     "data": {
      "application/vnd.jupyter.widget-view+json": {
       "model_id": "0b7b7682f44f40a28c25c4e4eff12d44",
       "version_major": 2,
       "version_minor": 0
      },
      "text/plain": [
       "Text(value='1        = lpp2    ! beam 2 type', layout=Layout(width='550px'))"
      ]
     },
     "metadata": {},
     "output_type": "display_data"
    },
    {
     "data": {
      "application/vnd.jupyter.widget-view+json": {
       "model_id": "a87fbefc2a064abd8ffd0b957995235f",
       "version_major": 2,
       "version_minor": 0
      },
      "text/plain": [
       "Text(value='6500.0     = ebeam1  ! beam 1 total energy in GeV', layout=Layout(width='550px'))"
      ]
     },
     "metadata": {},
     "output_type": "display_data"
    },
    {
     "data": {
      "application/vnd.jupyter.widget-view+json": {
       "model_id": "8c1329316fd44c409a825684a5087eb6",
       "version_major": 2,
       "version_minor": 0
      },
      "text/plain": [
       "Text(value='6500.0     = ebeam2  ! beam 2 total energy in GeV', layout=Layout(width='550px'))"
      ]
     },
     "metadata": {},
     "output_type": "display_data"
    },
    {
     "name": "stdout",
     "output_type": "stream",
     "text": [
      "# To see polarised beam options: type \"update beam_pol\"\n",
      "\n",
      "#*********************************************************************\n",
      "# PDF CHOICE: this automatically fixes alpha_s and its evol.         *\n",
      "# pdlabel: lhapdf=LHAPDF (installation needed) [1412.7420]           *\n",
      "#          iww=Improved Weizsaecker-Williams Approx.[hep-ph/9310350] *\n",
      "#          eva=Effective W/Z/A Approx.       [2111.02442]            *\n",
      "#          edff=EDFF in gamma-UPC            [eq.(11) in 2207.03012] *\n",
      "#          chff=ChFF in gamma-UPC            [eq.(13) in 2207.03012] *\n",
      "#          none=No PDF, same as lhapdf with lppx=0                   *\n",
      "#*********************************************************************\n"
     ]
    },
    {
     "data": {
      "application/vnd.jupyter.widget-view+json": {
       "model_id": "6dbc5f2d482a43d889229f6a97822caa",
       "version_major": 2,
       "version_minor": 0
      },
      "text/plain": [
       "Text(value='nn23lo1    = pdlabel     ! PDF set', layout=Layout(width='550px'))"
      ]
     },
     "metadata": {},
     "output_type": "display_data"
    },
    {
     "data": {
      "application/vnd.jupyter.widget-view+json": {
       "model_id": "c5e304d1ef3746b7a934e3ef107f01db",
       "version_major": 2,
       "version_minor": 0
      },
      "text/plain": [
       "Text(value='230000    = lhaid     ! if pdlabel=lhapdf, this is the lhapdf number', layout=Layout(width='550px'…"
      ]
     },
     "metadata": {},
     "output_type": "display_data"
    },
    {
     "name": "stdout",
     "output_type": "stream",
     "text": [
      "# To see heavy ion options: type \"update ion_pdf\"\n",
      "#*********************************************************************\n",
      "# Renormalization and factorization scales                           *\n",
      "#*********************************************************************\n"
     ]
    },
    {
     "data": {
      "application/vnd.jupyter.widget-view+json": {
       "model_id": "74d03e188fe44ec0858fb31fd356999c",
       "version_major": 2,
       "version_minor": 0
      },
      "text/plain": [
       "Text(value='False = fixed_ren_scale  ! if .true. use fixed ren scale', layout=Layout(width='550px'))"
      ]
     },
     "metadata": {},
     "output_type": "display_data"
    },
    {
     "data": {
      "application/vnd.jupyter.widget-view+json": {
       "model_id": "742c526e19534a05a45e3232a749b6b8",
       "version_major": 2,
       "version_minor": 0
      },
      "text/plain": [
       "Text(value='False = fixed_fac_scale  ! if .true. use fixed fac scale', layout=Layout(width='550px'))"
      ]
     },
     "metadata": {},
     "output_type": "display_data"
    },
    {
     "data": {
      "application/vnd.jupyter.widget-view+json": {
       "model_id": "a8b6fde51a654c6c99a5ae5dc030fe15",
       "version_major": 2,
       "version_minor": 0
      },
      "text/plain": [
       "Text(value='91.188  = scale            ! fixed ren scale', layout=Layout(width='550px'))"
      ]
     },
     "metadata": {},
     "output_type": "display_data"
    },
    {
     "data": {
      "application/vnd.jupyter.widget-view+json": {
       "model_id": "e563526ea80643639f329c306bcc286a",
       "version_major": 2,
       "version_minor": 0
      },
      "text/plain": [
       "Text(value='91.188  = dsqrt_q2fact1    ! fixed fact scale for pdf1', layout=Layout(width='550px'))"
      ]
     },
     "metadata": {},
     "output_type": "display_data"
    },
    {
     "data": {
      "application/vnd.jupyter.widget-view+json": {
       "model_id": "43b112af3b10432dadd08e6dc4f44459",
       "version_major": 2,
       "version_minor": 0
      },
      "text/plain": [
       "Text(value='91.188  = dsqrt_q2fact2    ! fixed fact scale for pdf2', layout=Layout(width='550px'))"
      ]
     },
     "metadata": {},
     "output_type": "display_data"
    },
    {
     "data": {
      "application/vnd.jupyter.widget-view+json": {
       "model_id": "a4b180eb6dc6419da78a021e8543bc37",
       "version_major": 2,
       "version_minor": 0
      },
      "text/plain": [
       "Text(value='-1 = dynamical_scale_choice ! Choose one of the preselected dynamical choices', layout=Layout(widt…"
      ]
     },
     "metadata": {},
     "output_type": "display_data"
    },
    {
     "data": {
      "application/vnd.jupyter.widget-view+json": {
       "model_id": "a61c3d282d264f628516830e071dd2c7",
       "version_major": 2,
       "version_minor": 0
      },
      "text/plain": [
       "Text(value='1.0  = scalefact        ! scale factor for event-by-event scales', layout=Layout(width='550px'))"
      ]
     },
     "metadata": {},
     "output_type": "display_data"
    },
    {
     "name": "stdout",
     "output_type": "stream",
     "text": [
      "\n",
      "\n",
      "#*********************************************************************\n",
      "# Type and output format\n",
      "#*********************************************************************\n"
     ]
    },
    {
     "data": {
      "application/vnd.jupyter.widget-view+json": {
       "model_id": "2b6a45c555834428a557565b71c2f905",
       "version_major": 2,
       "version_minor": 0
      },
      "text/plain": [
       "Text(value='False     = gridpack  !True = setting up the grid pack', layout=Layout(width='550px'))"
      ]
     },
     "metadata": {},
     "output_type": "display_data"
    },
    {
     "data": {
      "application/vnd.jupyter.widget-view+json": {
       "model_id": "f9b973323ec54d27abee17f813289b1c",
       "version_major": 2,
       "version_minor": 0
      },
      "text/plain": [
       "Text(value='-1.0 = time_of_flight ! threshold (in mm) below which the invariant livetime is not written (-1 me…"
      ]
     },
     "metadata": {},
     "output_type": "display_data"
    },
    {
     "data": {
      "application/vnd.jupyter.widget-view+json": {
       "model_id": "b6ebe8411af74a4eb2e50b6fceeb36b2",
       "version_major": 2,
       "version_minor": 0
      },
      "text/plain": [
       "Text(value='average =  event_norm       ! average/sum. Normalization of the weight in the LHEF', layout=Layout…"
      ]
     },
     "metadata": {},
     "output_type": "display_data"
    },
    {
     "name": "stdout",
     "output_type": "stream",
     "text": [
      "# To see MLM/CKKW  merging options: type \"update MLM\" or \"update CKKW\"\n",
      "\n",
      "#*********************************************************************\n",
      "#\n",
      "#*********************************************************************\n",
      "# Phase-Space Optimization strategy (basic options)\n",
      "#*********************************************************************\n"
     ]
    },
    {
     "data": {
      "application/vnd.jupyter.widget-view+json": {
       "model_id": "dae6cc045c8c4e1f9e61101d66eca188",
       "version_major": 2,
       "version_minor": 0
      },
      "text/plain": [
       "Text(value='0  = nhel          ! using helicities importance sampling or not.', layout=Layout(width='550px'))"
      ]
     },
     "metadata": {},
     "output_type": "display_data"
    },
    {
     "data": {
      "application/vnd.jupyter.widget-view+json": {
       "model_id": "0c25fef635bb4894b75c84b0aa169d43",
       "version_major": 2,
       "version_minor": 0
      },
      "text/plain": [
       "Text(value='! 0: sum over helicity, 1: importance sampling', layout=Layout(width='550px'))"
      ]
     },
     "metadata": {},
     "output_type": "display_data"
    },
    {
     "data": {
      "application/vnd.jupyter.widget-view+json": {
       "model_id": "cb718a0d3c034396918fbb4dbbc9a369",
       "version_major": 2,
       "version_minor": 0
      },
      "text/plain": [
       "Text(value='1  = sde_strategy  ! default integration strategy (hep-ph/2021.00773)', layout=Layout(width='550px…"
      ]
     },
     "metadata": {},
     "output_type": "display_data"
    },
    {
     "data": {
      "application/vnd.jupyter.widget-view+json": {
       "model_id": "d1c203f7f22d424fabecc6aab2d7c45c",
       "version_major": 2,
       "version_minor": 0
      },
      "text/plain": [
       "Text(value='! 1 is old strategy (using amp square)', layout=Layout(width='550px'))"
      ]
     },
     "metadata": {},
     "output_type": "display_data"
    },
    {
     "data": {
      "application/vnd.jupyter.widget-view+json": {
       "model_id": "3b2550abd4224472886d9293f1b3c5dd",
       "version_major": 2,
       "version_minor": 0
      },
      "text/plain": [
       "Text(value='! 2 is new strategy (using only the denominator)', layout=Layout(width='550px'))"
      ]
     },
     "metadata": {},
     "output_type": "display_data"
    },
    {
     "name": "stdout",
     "output_type": "stream",
     "text": [
      "# To see advanced option for Phase-Space optimization: type \"update psoptim\"\n",
      "#*********************************************************************\n",
      "# Customization (custom cuts/scale/bias/...)                         *\n",
      "# list of files containing fortran function that overwrite default   *\n",
      "#*********************************************************************\n"
     ]
    },
    {
     "data": {
      "application/vnd.jupyter.widget-view+json": {
       "model_id": "966c2d0ae7014d0b8742a7c9f9a81da8",
       "version_major": 2,
       "version_minor": 0
      },
      "text/plain": [
       "Text(value='= custom_fcts ! List of files containing user hook function', layout=Layout(width='550px'))"
      ]
     },
     "metadata": {},
     "output_type": "display_data"
    },
    {
     "name": "stdout",
     "output_type": "stream",
     "text": [
      "#*******************************\n",
      "# Parton level cuts definition *\n",
      "#*******************************\n"
     ]
    },
    {
     "data": {
      "application/vnd.jupyter.widget-view+json": {
       "model_id": "a7a62cb542ae4f789ef080b79834a166",
       "version_major": 2,
       "version_minor": 0
      },
      "text/plain": [
       "Text(value='0.0  = dsqrt_shat ! minimal shat for full process', layout=Layout(width='550px'))"
      ]
     },
     "metadata": {},
     "output_type": "display_data"
    },
    {
     "name": "stdout",
     "output_type": "stream",
     "text": [
      "#\n",
      "#\n",
      "#*********************************************************************\n",
      "# BW cutoff (M+/-bwcutoff*Gamma) ! Define on/off-shell for \"$\" and decay\n",
      "#*********************************************************************\n"
     ]
    },
    {
     "data": {
      "application/vnd.jupyter.widget-view+json": {
       "model_id": "494d93f008774bd1b1f6cfa316ad233c",
       "version_major": 2,
       "version_minor": 0
      },
      "text/plain": [
       "Text(value='15.0  = bwcutoff      ! (M+/-bwcutoff*Gamma)', layout=Layout(width='550px'))"
      ]
     },
     "metadata": {},
     "output_type": "display_data"
    },
    {
     "name": "stdout",
     "output_type": "stream",
     "text": [
      "#*********************************************************************\n",
      "# Standard Cuts                                                      *\n",
      "#*********************************************************************\n",
      "# Minimum and maximum pt's (for max, -1 means no cut)                *\n",
      "#*********************************************************************\n"
     ]
    },
    {
     "data": {
      "application/vnd.jupyter.widget-view+json": {
       "model_id": "f90683eda9994ae59fc91b25d5bb2441",
       "version_major": 2,
       "version_minor": 0
      },
      "text/plain": [
       "Text(value='20.0  = ptj       ! minimum pt for the jets', layout=Layout(width='550px'))"
      ]
     },
     "metadata": {},
     "output_type": "display_data"
    },
    {
     "data": {
      "application/vnd.jupyter.widget-view+json": {
       "model_id": "23e52b7df2e648b8972b0120b4efaa14",
       "version_major": 2,
       "version_minor": 0
      },
      "text/plain": [
       "Text(value='10.0  = ptl       ! minimum pt for the charged leptons', layout=Layout(width='550px'))"
      ]
     },
     "metadata": {},
     "output_type": "display_data"
    },
    {
     "data": {
      "application/vnd.jupyter.widget-view+json": {
       "model_id": "0e68dbbf25cb4acc9df6983379ed9b3b",
       "version_major": 2,
       "version_minor": 0
      },
      "text/plain": [
       "Text(value=\"0.0  = misset    ! minimum missing Et (sum of neutrino's momenta)\", layout=Layout(width='550px'))"
      ]
     },
     "metadata": {},
     "output_type": "display_data"
    },
    {
     "data": {
      "application/vnd.jupyter.widget-view+json": {
       "model_id": "40c846c7274347c6b6ff46c2f1def208",
       "version_major": 2,
       "version_minor": 0
      },
      "text/plain": [
       "Text(value='-1.0  = ptjmax    ! maximum pt for the jets', layout=Layout(width='550px'))"
      ]
     },
     "metadata": {},
     "output_type": "display_data"
    },
    {
     "data": {
      "application/vnd.jupyter.widget-view+json": {
       "model_id": "4fb8eea8902b4d81a70d8e920d193623",
       "version_major": 2,
       "version_minor": 0
      },
      "text/plain": [
       "Text(value='-1.0  = ptlmax    ! maximum pt for the charged leptons', layout=Layout(width='550px'))"
      ]
     },
     "metadata": {},
     "output_type": "display_data"
    },
    {
     "data": {
      "application/vnd.jupyter.widget-view+json": {
       "model_id": "3736ff7f1730428c9ee3e90e36b6c9bd",
       "version_major": 2,
       "version_minor": 0
      },
      "text/plain": [
       "Text(value=\"-1.0  = missetmax ! maximum missing Et (sum of neutrino's momenta)\", layout=Layout(width='550px'))"
      ]
     },
     "metadata": {},
     "output_type": "display_data"
    },
    {
     "data": {
      "application/vnd.jupyter.widget-view+json": {
       "model_id": "ebf8216e91c047d2b24d7265d31e54ca",
       "version_major": 2,
       "version_minor": 0
      },
      "text/plain": [
       "Text(value='{} = pt_min_pdg ! pt cut for other particles (use pdg code). Applied on particle and anti-particle…"
      ]
     },
     "metadata": {},
     "output_type": "display_data"
    },
    {
     "data": {
      "application/vnd.jupyter.widget-view+json": {
       "model_id": "3a856f77a3a249aaa7e1b57ffb43ce81",
       "version_major": 2,
       "version_minor": 0
      },
      "text/plain": [
       "Text(value='{}\\t= pt_max_pdg ! pt cut for other particles (syntax e.g. {6: 100, 25: 50})', layout=Layout(width…"
      ]
     },
     "metadata": {},
     "output_type": "display_data"
    },
    {
     "name": "stdout",
     "output_type": "stream",
     "text": [
      "#\n",
      "# For display option for energy cut in the partonic center of mass frame type 'update ecut'\n",
      "#\n",
      "#*********************************************************************\n",
      "# Maximum and minimum absolute rapidity (for max, -1 means no cut)   *\n",
      "#*********************************************************************\n"
     ]
    },
    {
     "data": {
      "application/vnd.jupyter.widget-view+json": {
       "model_id": "bade6a84985944518a2d701159b40496",
       "version_major": 2,
       "version_minor": 0
      },
      "text/plain": [
       "Text(value='5.0 = etaj    ! max rap for the jets', layout=Layout(width='550px'))"
      ]
     },
     "metadata": {},
     "output_type": "display_data"
    },
    {
     "data": {
      "application/vnd.jupyter.widget-view+json": {
       "model_id": "bfae3163d29f4ce994d973b5248f6302",
       "version_major": 2,
       "version_minor": 0
      },
      "text/plain": [
       "Text(value='2.5  = etal    ! max rap for the charged leptons', layout=Layout(width='550px'))"
      ]
     },
     "metadata": {},
     "output_type": "display_data"
    },
    {
     "data": {
      "application/vnd.jupyter.widget-view+json": {
       "model_id": "8cb5f825ea264cb58e1e4ba6f5a7b105",
       "version_major": 2,
       "version_minor": 0
      },
      "text/plain": [
       "Text(value='0.0  = etalmin ! min rap for the charged leptons', layout=Layout(width='550px'))"
      ]
     },
     "metadata": {},
     "output_type": "display_data"
    },
    {
     "data": {
      "application/vnd.jupyter.widget-view+json": {
       "model_id": "98c236174f8545898cccd23ee334d845",
       "version_major": 2,
       "version_minor": 0
      },
      "text/plain": [
       "Text(value='{} = eta_min_pdg ! rap cut for other particles (use pdg code). Applied on particle and anti-partic…"
      ]
     },
     "metadata": {},
     "output_type": "display_data"
    },
    {
     "data": {
      "application/vnd.jupyter.widget-view+json": {
       "model_id": "af1d25ef337948379a7624424df06dd0",
       "version_major": 2,
       "version_minor": 0
      },
      "text/plain": [
       "Text(value='{} = eta_max_pdg ! rap cut for other particles (syntax e.g. {6: 2.5, 23: 5})', layout=Layout(width…"
      ]
     },
     "metadata": {},
     "output_type": "display_data"
    },
    {
     "name": "stdout",
     "output_type": "stream",
     "text": [
      "#*********************************************************************\n",
      "# Minimum and maximum DeltaR distance                                *\n",
      "#*********************************************************************\n"
     ]
    },
    {
     "data": {
      "application/vnd.jupyter.widget-view+json": {
       "model_id": "2daf9142d3b74897b1a6fb94d46eb91e",
       "version_major": 2,
       "version_minor": 0
      },
      "text/plain": [
       "Text(value='0.4 = drjl    ! min distance between jet and lepton', layout=Layout(width='550px'))"
      ]
     },
     "metadata": {},
     "output_type": "display_data"
    },
    {
     "data": {
      "application/vnd.jupyter.widget-view+json": {
       "model_id": "c8bc35fe426e4f3da28481657b0c18dd",
       "version_major": 2,
       "version_minor": 0
      },
      "text/plain": [
       "Text(value='-1.0  = drjlmax ! max distance between jet and lepton', layout=Layout(width='550px'))"
      ]
     },
     "metadata": {},
     "output_type": "display_data"
    },
    {
     "name": "stdout",
     "output_type": "stream",
     "text": [
      "#*********************************************************************\n",
      "# Minimum and maximum invariant mass for pairs                       *\n",
      "#*********************************************************************\n"
     ]
    },
    {
     "data": {
      "application/vnd.jupyter.widget-view+json": {
       "model_id": "2586077e9d744ff3abdf76cd325ee0e8",
       "version_major": 2,
       "version_minor": 0
      },
      "text/plain": [
       "Text(value='{} = mxx_min_pdg ! min invariant mass of a pair of particles X/X~ (e.g. {6:250})', layout=Layout(w…"
      ]
     },
     "metadata": {},
     "output_type": "display_data"
    },
    {
     "data": {
      "application/vnd.jupyter.widget-view+json": {
       "model_id": "3624392ff6e54f4b9b752a97e1ed2012",
       "version_major": 2,
       "version_minor": 0
      },
      "text/plain": [
       "Text(value=\"{'default': False} = mxx_only_part_antipart ! if True the invariant mass is applied only\", layout=…"
      ]
     },
     "metadata": {},
     "output_type": "display_data"
    },
    {
     "data": {
      "application/vnd.jupyter.widget-view+json": {
       "model_id": "0893dff2d5274a54bb07ca31b922b933",
       "version_major": 2,
       "version_minor": 0
      },
      "text/plain": [
       "Text(value='! to pairs of particle/antiparticle and not to pairs of the same pdg codes.', layout=Layout(width=…"
      ]
     },
     "metadata": {},
     "output_type": "display_data"
    },
    {
     "name": "stdout",
     "output_type": "stream",
     "text": [
      "#*********************************************************************\n",
      "# Minimum and maximum invariant mass for all letpons                 *\n",
      "#*********************************************************************\n"
     ]
    },
    {
     "data": {
      "application/vnd.jupyter.widget-view+json": {
       "model_id": "383edc5907fc45bfa077978493d413c6",
       "version_major": 2,
       "version_minor": 0
      },
      "text/plain": [
       "Text(value='0.0   = mmnl    ! min invariant mass for all letpons (l+- and vl)', layout=Layout(width='550px'))"
      ]
     },
     "metadata": {},
     "output_type": "display_data"
    },
    {
     "data": {
      "application/vnd.jupyter.widget-view+json": {
       "model_id": "1a287ab20cbc41ab9e208be36d060ed5",
       "version_major": 2,
       "version_minor": 0
      },
      "text/plain": [
       "Text(value='-1.0  = mmnlmax ! max invariant mass for all letpons (l+- and vl)', layout=Layout(width='550px'))"
      ]
     },
     "metadata": {},
     "output_type": "display_data"
    },
    {
     "name": "stdout",
     "output_type": "stream",
     "text": [
      "#*********************************************************************\n",
      "# Minimum and maximum pt for 4-momenta sum of leptons / neutrino     *\n",
      "#  for pair of lepton includes only same flavor, opposite charge\n",
      "#*********************************************************************\n",
      "#*********************************************************************\n",
      "# Inclusive cuts                                                     *\n",
      "#*********************************************************************\n"
     ]
    },
    {
     "data": {
      "application/vnd.jupyter.widget-view+json": {
       "model_id": "f17c9ee4817e4afda90090018b6df5cd",
       "version_major": 2,
       "version_minor": 0
      },
      "text/plain": [
       "Text(value='0.0  = ptheavy   ! minimum pt for at least one heavy final state', layout=Layout(width='550px'))"
      ]
     },
     "metadata": {},
     "output_type": "display_data"
    },
    {
     "name": "stdout",
     "output_type": "stream",
     "text": [
      "#*********************************************************************\n",
      "# maximal pdg code for quark to be considered as a light jet         *\n",
      "# (otherwise b cuts are applied)                                     *\n",
      "#*********************************************************************\n"
     ]
    },
    {
     "data": {
      "application/vnd.jupyter.widget-view+json": {
       "model_id": "c8117e805a1f4feabd9bcb6235b9f5ba",
       "version_major": 2,
       "version_minor": 0
      },
      "text/plain": [
       "Text(value='4 = maxjetflavor    ! Maximum jet pdg code', layout=Layout(width='550px'))"
      ]
     },
     "metadata": {},
     "output_type": "display_data"
    },
    {
     "name": "stdout",
     "output_type": "stream",
     "text": [
      "#*********************************************************************\n",
      "#\n",
      "#*********************************************************************\n",
      "# Store info for systematics studies                                 *\n",
      "# WARNING: Do not use for interference type of computation           *\n",
      "#*********************************************************************\n"
     ]
    },
    {
     "data": {
      "application/vnd.jupyter.widget-view+json": {
       "model_id": "c049dc7fdbfa45429d0d5fb87720b910",
       "version_major": 2,
       "version_minor": 0
      },
      "text/plain": [
       "Text(value='True  = use_syst      ! Enable systematics studies', layout=Layout(width='550px'))"
      ]
     },
     "metadata": {},
     "output_type": "display_data"
    },
    {
     "name": "stdout",
     "output_type": "stream",
     "text": [
      "#\n"
     ]
    },
    {
     "data": {
      "application/vnd.jupyter.widget-view+json": {
       "model_id": "9f21af6d9b944f619b697b8606a699c7",
       "version_major": 2,
       "version_minor": 0
      },
      "text/plain": [
       "Text(value='systematics = systematics_program ! none, systematics [python], SysCalc [depreceted, C++]', layout…"
      ]
     },
     "metadata": {},
     "output_type": "display_data"
    },
    {
     "data": {
      "application/vnd.jupyter.widget-view+json": {
       "model_id": "313f6cfa90284ea8b97257313017207e",
       "version_major": 2,
       "version_minor": 0
      },
      "text/plain": [
       "Text(value=\"['--mur=0.5,1,2', '--muf=0.5,1,2', '--pdf=errorset'] = systematics_arguments ! see: https://cp3.ir…"
      ]
     },
     "metadata": {},
     "output_type": "display_data"
    },
    {
     "name": "stdout",
     "output_type": "stream",
     "text": [
      "\n"
     ]
    },
    {
     "data": {
      "application/vnd.jupyter.widget-view+json": {
       "model_id": "dbd39e32789b409284bb87d3fc98b6cf",
       "version_major": 2,
       "version_minor": 0
      },
      "text/plain": [
       "Button(description='Save', style=ButtonStyle())"
      ]
     },
     "metadata": {},
     "output_type": "display_data"
    },
    {
     "data": {
      "application/vnd.jupyter.widget-view+json": {
       "model_id": "a7da1d1007384d269139eda9883f1f7d",
       "version_major": 2,
       "version_minor": 0
      },
      "text/plain": [
       "Output()"
      ]
     },
     "metadata": {},
     "output_type": "display_data"
    }
   ],
   "source": [
    "qs.edit_card(FRAMEWORK_PATH) # by default, edit_card will chose the run_card"
   ]
  },
  {
   "cell_type": "markdown",
   "id": "ee67b771-5288-43f1-80e0-b3dc27f1e927",
   "metadata": {},
   "source": [
    "**1.3 load param_card using API and change a value**\n",
    "\n",
    "The param_card can be edited using the visual editor, but it is often preferred to use the API since values can be changed without manual input. Also, some parmeter cards have hundreds or even thousands of lines, so the visual editor is cumbersome. Using the API allows LHE generation to be performed in a loop which changes one or more parameters each time."
   ]
  },
  {
   "cell_type": "code",
   "execution_count": 5,
   "id": "f33c7514-fe52-4df9-996b-2307f9e1bdae",
   "metadata": {},
   "outputs": [
    {
     "data": {
      "text/plain": [
       "Abstract of Parameter Card\n",
       "  /home/leo/MadStats/mg5qs/output/EXAMPLE/Cards/param_card.dat\n",
       "    BLOCKS:\n",
       "      MASS (17)\n",
       "      SMINPUTS (3)\n",
       "      YUKAWA (3)\n",
       "    DECAY (17)"
      ]
     },
     "execution_count": 5,
     "metadata": {},
     "output_type": "execute_result"
    }
   ],
   "source": [
    "# load param card and look at contents \n",
    "card = qs.ParamCard(FRAMEWORK_PATH)\n",
    "card"
   ]
  },
  {
   "cell_type": "code",
   "execution_count": 6,
   "id": "a1528102-a735-4fc8-b203-1704b2949f0d",
   "metadata": {},
   "outputs": [
    {
     "data": {
      "text/plain": [
       "dict_keys(['DECAY', 'MASS', 'SMINPUTS', 'YUKAWA'])"
      ]
     },
     "execution_count": 6,
     "metadata": {},
     "output_type": "execute_result"
    }
   ],
   "source": [
    "# the ParamCard object stores a dictionary of pandas dataframes\n",
    "card.dfs().keys() # view keys"
   ]
  },
  {
   "cell_type": "code",
   "execution_count": 7,
   "id": "f57b1f29-dfb3-4d94-98dc-b4f754cbbc95",
   "metadata": {},
   "outputs": [
    {
     "data": {
      "text/html": [
       "<div>\n",
       "<style scoped>\n",
       "    .dataframe tbody tr th:only-of-type {\n",
       "        vertical-align: middle;\n",
       "    }\n",
       "\n",
       "    .dataframe tbody tr th {\n",
       "        vertical-align: top;\n",
       "    }\n",
       "\n",
       "    .dataframe thead th {\n",
       "        text-align: right;\n",
       "    }\n",
       "</style>\n",
       "<table border=\"1\" class=\"dataframe\">\n",
       "  <thead>\n",
       "    <tr style=\"text-align: right;\">\n",
       "      <th></th>\n",
       "      <th>key</th>\n",
       "      <th>value</th>\n",
       "      <th>comment</th>\n",
       "    </tr>\n",
       "  </thead>\n",
       "  <tbody>\n",
       "    <tr>\n",
       "      <th>0</th>\n",
       "      <td>5</td>\n",
       "      <td>4.700</td>\n",
       "      <td>MB</td>\n",
       "    </tr>\n",
       "    <tr>\n",
       "      <th>1</th>\n",
       "      <td>6</td>\n",
       "      <td>173.000</td>\n",
       "      <td>MT</td>\n",
       "    </tr>\n",
       "    <tr>\n",
       "      <th>2</th>\n",
       "      <td>15</td>\n",
       "      <td>1.777</td>\n",
       "      <td>MTA</td>\n",
       "    </tr>\n",
       "    <tr>\n",
       "      <th>3</th>\n",
       "      <td>23</td>\n",
       "      <td>91.188</td>\n",
       "      <td>MZ</td>\n",
       "    </tr>\n",
       "    <tr>\n",
       "      <th>4</th>\n",
       "      <td>25</td>\n",
       "      <td>125.000</td>\n",
       "      <td>MH</td>\n",
       "    </tr>\n",
       "    <tr>\n",
       "      <th>5</th>\n",
       "      <td>1</td>\n",
       "      <td>0.000</td>\n",
       "      <td>d : 0.0</td>\n",
       "    </tr>\n",
       "    <tr>\n",
       "      <th>6</th>\n",
       "      <td>2</td>\n",
       "      <td>0.000</td>\n",
       "      <td>u : 0.0</td>\n",
       "    </tr>\n",
       "    <tr>\n",
       "      <th>7</th>\n",
       "      <td>3</td>\n",
       "      <td>0.000</td>\n",
       "      <td>s : 0.0</td>\n",
       "    </tr>\n",
       "    <tr>\n",
       "      <th>8</th>\n",
       "      <td>4</td>\n",
       "      <td>0.000</td>\n",
       "      <td>c : 0.0</td>\n",
       "    </tr>\n",
       "    <tr>\n",
       "      <th>9</th>\n",
       "      <td>11</td>\n",
       "      <td>0.000</td>\n",
       "      <td>e- : 0.0</td>\n",
       "    </tr>\n",
       "    <tr>\n",
       "      <th>10</th>\n",
       "      <td>12</td>\n",
       "      <td>0.000</td>\n",
       "      <td>ve : 0.0</td>\n",
       "    </tr>\n",
       "    <tr>\n",
       "      <th>11</th>\n",
       "      <td>13</td>\n",
       "      <td>0.000</td>\n",
       "      <td>mu- : 0.0</td>\n",
       "    </tr>\n",
       "    <tr>\n",
       "      <th>12</th>\n",
       "      <td>14</td>\n",
       "      <td>0.000</td>\n",
       "      <td>vm : 0.0</td>\n",
       "    </tr>\n",
       "    <tr>\n",
       "      <th>13</th>\n",
       "      <td>16</td>\n",
       "      <td>0.000</td>\n",
       "      <td>vt : 0.0</td>\n",
       "    </tr>\n",
       "    <tr>\n",
       "      <th>14</th>\n",
       "      <td>21</td>\n",
       "      <td>0.000</td>\n",
       "      <td>g : 0.0</td>\n",
       "    </tr>\n",
       "    <tr>\n",
       "      <th>15</th>\n",
       "      <td>22</td>\n",
       "      <td>0.000</td>\n",
       "      <td>a : 0.0</td>\n",
       "    </tr>\n",
       "    <tr>\n",
       "      <th>16</th>\n",
       "      <td>24</td>\n",
       "      <td>80.419</td>\n",
       "      <td>w+ : cmath.sqrt(MZ__exp__2/2. + cmath.sqrt(MZ_...</td>\n",
       "    </tr>\n",
       "  </tbody>\n",
       "</table>\n",
       "</div>"
      ],
      "text/plain": [
       "    key    value                                            comment\n",
       "0     5    4.700                                                 MB\n",
       "1     6  173.000                                                 MT\n",
       "2    15    1.777                                                MTA\n",
       "3    23   91.188                                                 MZ\n",
       "4    25  125.000                                                 MH\n",
       "5     1    0.000                                            d : 0.0\n",
       "6     2    0.000                                            u : 0.0\n",
       "7     3    0.000                                            s : 0.0\n",
       "8     4    0.000                                            c : 0.0\n",
       "9    11    0.000                                           e- : 0.0\n",
       "10   12    0.000                                           ve : 0.0\n",
       "11   13    0.000                                          mu- : 0.0\n",
       "12   14    0.000                                           vm : 0.0\n",
       "13   16    0.000                                           vt : 0.0\n",
       "14   21    0.000                                            g : 0.0\n",
       "15   22    0.000                                            a : 0.0\n",
       "16   24   80.419  w+ : cmath.sqrt(MZ__exp__2/2. + cmath.sqrt(MZ_..."
      ]
     },
     "execution_count": 7,
     "metadata": {},
     "output_type": "execute_result"
    }
   ],
   "source": [
    "# to find a specifc value, look at a particular dataframe\n",
    "df_mass = card.dfs()['MASS']\n",
    "df_mass # notice the key ascocated with Higgs mass is 25"
   ]
  },
  {
   "cell_type": "markdown",
   "id": "8a50d386-540b-47fd-8d59-8b64b40bc639",
   "metadata": {},
   "source": [
    "For longer param_cards, search by parameter name this way:"
   ]
  },
  {
   "cell_type": "code",
   "execution_count": 8,
   "id": "bbc7bfbd-a67f-4bf9-9bc2-5af7df47ea87",
   "metadata": {},
   "outputs": [
    {
     "data": {
      "text/html": [
       "<div>\n",
       "<style scoped>\n",
       "    .dataframe tbody tr th:only-of-type {\n",
       "        vertical-align: middle;\n",
       "    }\n",
       "\n",
       "    .dataframe tbody tr th {\n",
       "        vertical-align: top;\n",
       "    }\n",
       "\n",
       "    .dataframe thead th {\n",
       "        text-align: right;\n",
       "    }\n",
       "</style>\n",
       "<table border=\"1\" class=\"dataframe\">\n",
       "  <thead>\n",
       "    <tr style=\"text-align: right;\">\n",
       "      <th></th>\n",
       "      <th>key</th>\n",
       "      <th>value</th>\n",
       "      <th>comment</th>\n",
       "    </tr>\n",
       "  </thead>\n",
       "  <tbody>\n",
       "    <tr>\n",
       "      <th>4</th>\n",
       "      <td>25</td>\n",
       "      <td>125.0</td>\n",
       "      <td>MH</td>\n",
       "    </tr>\n",
       "  </tbody>\n",
       "</table>\n",
       "</div>"
      ],
      "text/plain": [
       "   key  value comment\n",
       "4   25  125.0      MH"
      ]
     },
     "execution_count": 8,
     "metadata": {},
     "output_type": "execute_result"
    }
   ],
   "source": [
    "# this is the standard way of searching a pandas dataframe\n",
    "df_mass[df_mass['comment'].str.startswith('MH')]"
   ]
  },
  {
   "cell_type": "code",
   "execution_count": 9,
   "id": "b5295a49-cf70-4fe4-9e88-9975643c0554",
   "metadata": {},
   "outputs": [
    {
     "data": {
      "text/html": [
       "<div>\n",
       "<style scoped>\n",
       "    .dataframe tbody tr th:only-of-type {\n",
       "        vertical-align: middle;\n",
       "    }\n",
       "\n",
       "    .dataframe tbody tr th {\n",
       "        vertical-align: top;\n",
       "    }\n",
       "\n",
       "    .dataframe thead th {\n",
       "        text-align: right;\n",
       "    }\n",
       "</style>\n",
       "<table border=\"1\" class=\"dataframe\">\n",
       "  <thead>\n",
       "    <tr style=\"text-align: right;\">\n",
       "      <th></th>\n",
       "      <th>key</th>\n",
       "      <th>value</th>\n",
       "      <th>comment</th>\n",
       "    </tr>\n",
       "  </thead>\n",
       "  <tbody>\n",
       "    <tr>\n",
       "      <th>4</th>\n",
       "      <td>25</td>\n",
       "      <td>42.0</td>\n",
       "      <td>MH</td>\n",
       "    </tr>\n",
       "  </tbody>\n",
       "</table>\n",
       "</div>"
      ],
      "text/plain": [
       "   key  value comment\n",
       "4   25   42.0      MH"
      ]
     },
     "execution_count": 9,
     "metadata": {},
     "output_type": "execute_result"
    }
   ],
   "source": [
    "# call set_value using the block name and key\n",
    "new_MH = 42\n",
    "card.set_value('MASS', 25, new_MH)\n",
    "# reload dataframe and check change \n",
    "df_mass = card.dfs()['MASS']\n",
    "df_mass[df_mass['comment'].str.startswith('MH')]"
   ]
  },
  {
   "cell_type": "markdown",
   "id": "90fa4572-38d4-447d-a0a3-12e3d4825089",
   "metadata": {},
   "source": [
    "### 2. Generate LHEs with altered parameters\n",
    "\n",
    "**2.1 write a loop that changes a parameter value and generates LHEs**"
   ]
  },
  {
   "cell_type": "code",
   "execution_count": 10,
   "id": "bd8dcf3f-af3a-4a69-a585-2b542c082229",
   "metadata": {},
   "outputs": [
    {
     "name": "stdout",
     "output_type": "stream",
     "text": [
      "Working on MH = 75.0 ...\n",
      "Working on MH = 100.0 ...\n",
      "Working on MH = 125.0 ...\n",
      "Working on MH = 150.0 ...\n",
      "Working on MH = 175.0 ...\n",
      "Done\n"
     ]
    }
   ],
   "source": [
    "# loop over values for the Higgs mass and generate LHEs \n",
    "for MH in np.linspace(75, 175, 5):\n",
    "    card.set_value('MASS', 25, MH)  # set the new value \n",
    "    print('Working on MH =', MH, '...')\n",
    "    qs.generate_LHE(card, FRAMEWORK_PATH) # generate LHE with current Higgs mass\n",
    "print('Done')"
   ]
  },
  {
   "cell_type": "markdown",
   "id": "a0b83860-7ee9-44b1-a55d-fab7b8d987d6",
   "metadata": {},
   "source": [
    "### 3. Generate transverse momenta\n",
    "\n",
    "**3.1 get LHEs**"
   ]
  },
  {
   "cell_type": "code",
   "execution_count": 11,
   "id": "65a64c84-74fe-4397-b652-3772709dde00",
   "metadata": {},
   "outputs": [],
   "source": [
    "LHEs = qs.get_LHEs(FRAMEWORK_PATH)"
   ]
  },
  {
   "cell_type": "markdown",
   "id": "69a7ddec-366a-407d-85ee-02e621606a2c",
   "metadata": {},
   "source": [
    "**3.2 call pT_particle using multithreading**"
   ]
  },
  {
   "cell_type": "code",
   "execution_count": 20,
   "id": "da80b8de-dce6-4dfb-b4ab-8d97d3989a73",
   "metadata": {
    "scrolled": true
   },
   "outputs": [
    {
     "name": "stdout",
     "output_type": "stream",
     "text": [
      "\n",
      " *------------------------------------------------------------------------------------* \n",
      " |                                                                                    | \n",
      " |  *------------------------------------------------------------------------------*  | \n",
      " |  |                                                                              |  | \n",
      " |  |                                                                              |  | \n",
      " |  |   PPP   Y   Y  TTTTT  H   H  III    A      Welcome to the Lund Monte Carlo!  |  | \n",
      " |  |   P  P   Y Y     T    H   H   I    A A     This is PYTHIA version 8.311      |  | \n",
      " |  |   PPP     Y      T    HHHHH   I   AAAAA    Last date of change:  8 Mar 2024  |  | \n",
      " |  |   P       Y      T    H   H   I   A   A                                      |  | \n",
      " |  |   P       Y      T    H   H  III  A   A    Now is 04 Sep 2024 at 19:00:59    |  | \n",
      " |  |                                                                              |  | \n",
      " |  |   Program documentation and an archive of historic versions is found on:     |  | \n",
      " |  |                                                                              |  | \n",
      " |  |                               https://pythia.org/                            |  | \n",
      " |  |                                                                              |  | \n",
      " |  |   PYTHIA is authored by a collaboration consisting of:                       |  | \n",
      " |  |                                                                              |  | \n",
      " |  |   Javira Altmann, Christian Bierlich, Naomi Cooke, Nishita Desai,            |  | \n",
      " |  |   Leif Gellersen, Ilkka Helenius, Philip Ilten, Leif Lonnblad,               |  | \n",
      " |  |   Stephen Mrenna, Christian Preuss, Torbjorn Sjostrand, Peter Skands,        |  | \n",
      " |  |   Marius Utheim, and Rob Verheyen.                                           |  | \n",
      " |  |                                                                              |  | \n",
      " |  |   The complete list of authors, including contact information and            |  | \n",
      " |  |   affiliations, can be found on https://pythia.org/.                         |  | \n",
      " |  |   Problems or bugs should be reported on email at authors@pythia.org.        |  | \n",
      " |  |                                                                              |  | \n",
      " |  |   The main program reference is C. Bierlich et al,                           |  | \n",
      " |  |   'A comprehensive guide to the physics and usage of Pythia 8.3',            |  | \n",
      " |  |   SciPost Phys. Codebases 8-r8.3 (2022) [arXiv:2203.11601 [hep-ph]]          |  | \n",
      " |  |                                                                              |  | \n",
      " |  |   PYTHIA is released under the GNU General Public Licence version 2 or later.|  | \n",
      " |  |   Please respect the MCnet Guidelines for Event Generator Authors and Users. |  | \n",
      " |  |                                                                              |  | \n",
      " |  |   Disclaimer: this program comes without any guarantees.                     |  | \n",
      " |  |   Beware of errors and use common sense when interpreting results.           |  | \n",
      " |  |                                                                              |  | \n",
      " |  |   Copyright (C) 2024 Torbjorn Sjostrand                                      |  | \n",
      " |  |                                                                              |  | \n",
      " |  |                                                                              |  | \n",
      " |  *------------------------------------------------------------------------------*  | \n",
      " |                                                                                    | \n",
      " *------------------------------------------------------------------------------------* \n",
      "\n",
      "\n",
      " *------------------------------------------------------------------------------------* \n",
      " |                                                                                    | \n",
      " |  *------------------------------------------------------------------------------*  | \n",
      " |  |                                                                              |  | \n",
      " |  |                                                                              |  | \n",
      " |  |   PPP   Y   Y  TTTTT  H   H  III    A      Welcome to the Lund Monte Carlo!  |  | \n",
      " |  |   P  P   Y Y     T    H   H   I    A A     This is PYTHIA version 8.311      |  | \n",
      " |  |   PPP     Y      T    HHHHH   I   AAAAA    Last date of change:  8 Mar 2024  |  | \n",
      " |  |   P       Y      T    H   H   I   A   A                                      |  | \n",
      " |  |   P       Y      T    H   H  III  A   A    Now is 04 Sep 2024 at 19:00:59    |  | \n",
      " |  |                                                                              |  | \n",
      " |  |   Program documentation and an archive of historic versions is found on:     |  | \n",
      " |  |                                                                              |  | \n",
      " |  |                               https://pythia.org/                            |  | \n",
      " |  |                                                                              |  | \n",
      " |  |   PYTHIA is authored by a collaboration consisting of:                       |  | \n",
      " |  |                                                                              |  | \n",
      " |  |   Javira Altmann, Christian Bierlich, Naomi Cooke, Nishita Desai,            |  | \n",
      " |  |   Leif Gellersen, Ilkka Helenius, Philip Ilten, Leif Lonnblad,               |  | \n",
      " |  |   Stephen Mrenna, Christian Preuss, Torbjorn Sjostrand, Peter Skands,        |  | \n",
      " |  |   Marius Utheim, and Rob Verheyen.                                           |  | \n",
      " |  |                                                                              |  | \n",
      " |  |   The complete list of authors, including contact information and            |  | \n",
      " |  |   affiliations, can be found on https://pythia.org/.                         |  | \n",
      " |  |   Problems or bugs should be reported on email at authors@pythia.org.        |  | \n",
      " |  |                                                                              |  | \n",
      " |  |   The main program reference is C. Bierlich et al,                           |  | \n",
      " |  |   'A comprehensive guide to the physics and usage of Pythia 8.3',            |  | \n",
      " |  |   SciPost Phys. Codebases 8-r8.3 (2022) [arXiv:2203.11601 [hep-ph]]          |  | \n",
      " |  |                                                                              |  | \n",
      " |  |   PYTHIA is released under the GNU General Public Licence version 2 or later.|  | \n",
      " |  |   Please respect the MCnet Guidelines for Event Generator Authors and Users. |  | \n",
      " |  |                                                                              |  | \n",
      " |  |   Disclaimer: this program comes without any guarantees.                     |  | \n",
      " |  |   Beware of errors and use common sense when interpreting results.           |  | \n",
      " |  |                                                                              |  | \n",
      " |  |   Copyright (C) 2024 Torbjorn Sjostrand                                      |  | \n",
      " |  |                                                                              |  | \n",
      " |  |                                                                              |  | \n",
      " |  *------------------------------------------------------------------------------*  | \n",
      " |                                                                                    | \n",
      " *------------------------------------------------------------------------------------* \n",
      "\n",
      " *-----------------------  SusyLesHouches SUSY/BSM Interface  ------------------------*\n",
      " | Last Change 12 Apr 2017 - P. Skands\n",
      " | Parsing: /home/leo/MadStats/mg5qs/output/EXAMPLE/Events/run_03/unweighted_events.lhe\n",
      " *-----------------------  SusyLesHouches SUSY/BSM Interface  ------------------------*\n",
      " | Last Change 12 Apr 2017 - P. Skands\n",
      " | Parsing: /home/leo/MadStats/mg5qs/output/EXAMPLE/Events/run_04/unweighted_events.lhe\n",
      " | (SLHA::readFile) line 319 - storing non-SLHA(2) block: yukawa\n",
      " | (SLHA::readFile) line 319 - storing non-SLHA(2) block: yukawa\n",
      "\n",
      " *------------------------------------------------------------------------------------* \n",
      " |                                                                                    | \n",
      " |  *------------------------------------------------------------------------------*  | \n",
      " |  |                                                                              |  | \n",
      " |  |                                                                              |  | \n",
      " |  |   PPP   Y   Y  TTTTT  H   H  III    A      Welcome to the Lund Monte Carlo!  |  | \n",
      " |  |   P  P   Y Y     T    H   H   I    A A     This is PYTHIA version 8.311      |  | \n",
      " |  |   PPP     Y      T    HHHHH   I   AAAAA    Last date of change:  8 Mar 2024  |  | \n",
      " |  |   P       Y      T    H   H   I   A   A                                      |  | \n",
      " |  |   P       Y      T    H   H  III  A   A    Now is 04 Sep 2024 at 19:00:59    |  | \n",
      " |  |                                                                              |  | \n",
      " |  |   Program documentation and an archive of historic versions is found on:     |  | \n",
      " |  |                                                                              |  | \n",
      " |  |                               https://pythia.org/                            |  | \n",
      " |  |                                                                              |  | \n",
      " |  |   PYTHIA is authored by a collaboration consisting of:                       |  | \n",
      " |  |                                                                              |  | \n",
      " |  |   Javira Altmann, Christian Bierlich, Naomi Cooke, Nishita Desai,            |  | \n",
      " |  |   Leif Gellersen, Ilkka Helenius, Philip Ilten, Leif Lonnblad,               |  | \n",
      " |  |   Stephen Mrenna, Christian Preuss, Torbjorn Sjostrand, Peter Skands,        |  | \n",
      " |  |   Marius Utheim, and Rob Verheyen.                                           |  | \n",
      " |  |                                                                              |  | \n",
      " |  |   The complete list of authors, including contact information and            |  | \n",
      " |  |   affiliations, can be found on https://pythia.org/.                         |  | \n",
      " |  |   Problems or bugs should be reported on email at authors@pythia.org.        |  | \n",
      " |  |                                                                              |  | \n",
      " |  |   The main program reference is C. Bierlich et al,                           |  | \n",
      " |  |   'A comprehensive guide to the physics and usage of Pythia 8.3',            |  | \n",
      " |  |   SciPost Phys. Codebases 8-r8.3 (2022) [arXiv:2203.11601 [hep-ph]]          |  | \n",
      " |  |                                                                              |  | \n",
      " |  |   PYTHIA is released under the GNU General Public Licence version 2 or later.|  | \n",
      " |  |   Please respect the MCnet Guidelines for Event Generator Authors and Users. |  | \n",
      " |  |                                                                              |  | \n",
      " |  |   Disclaimer: this program comes without any guarantees.                     |  | \n",
      " |  |   Beware of errors and use common sense when interpreting results.           |  | \n",
      " |  |                                                                              |  | \n",
      " |  |   Copyright (C) 2024 Torbjorn Sjostrand                                      |  | \n",
      " |  |                                                                              |  | \n",
      " |  |                                                                              |  | \n",
      " |  *------------------------------------------------------------------------------*  | \n",
      " |                                                                                    | \n",
      " *------------------------------------------------------------------------------------* \n",
      "\n",
      "\n",
      " *------------------------------------------------------------------------------------* \n",
      " |                                                                                    | \n",
      " |  *------------------------------------------------------------------------------*  | \n",
      " |  |                                                                              |  | \n",
      " |  |                                                                              |  | \n",
      " |  |   PPP   Y   Y  TTTTT  H   H  III    A      Welcome to the Lund Monte Carlo!  |  | \n",
      " |  |   P  P   Y Y     T    H   H   I    A A     This is PYTHIA version 8.311      |  | \n",
      " |  |   PPP     Y      T    HHHHH   I   AAAAA    Last date of change:  8 Mar 2024  |  | \n",
      " |  |   P       Y      T    H   H   I   A   A                                      |  | \n",
      " |  |   P       Y      T    H   H  III  A   A    Now is 04 Sep 2024 at 19:00:59    |  | \n",
      " |  |                                                                              |  | \n",
      " |  |   Program documentation and an archive of historic versions is found on:     |  | \n",
      " |  |                                                                              |  | \n",
      " |  |                               https://pythia.org/                            |  | \n",
      " |  |                                                                              |  | \n",
      " |  |   PYTHIA is authored by a collaboration consisting of:                       |  | \n",
      " |  |                                                                              |  | \n",
      " |  |   Javira Altmann, Christian Bierlich, Naomi Cooke, Nishita Desai,            |  | \n",
      " |  |   Leif Gellersen, Ilkka Helenius, Philip Ilten, Leif Lonnblad,               |  | \n",
      " |  |   Stephen Mrenna, Christian Preuss, Torbjorn Sjostrand, Peter Skands,        |  | \n",
      " |  |   Marius Utheim, and Rob Verheyen.                                           |  | \n",
      " |  |                                                                              |  | \n",
      " |  |   The complete list of authors, including contact information and            |  | \n",
      " |  |   affiliations, can be found on https://pythia.org/.                         |  | \n",
      " |  |   Problems or bugs should be reported on email at authors@pythia.org.        |  | \n",
      " |  |                                                                              |  | \n",
      " |  |   The main program reference is C. Bierlich et al,                           |  | \n",
      " |  |   'A comprehensive guide to the physics and usage of Pythia 8.3',            |  | \n",
      " |  |   SciPost Phys. Codebases 8-r8.3 (2022) [arXiv:2203.11601 [hep-ph]]          |  | \n",
      " |  |                                                                              |  | \n",
      " |  |   PYTHIA is released under the GNU General Public Licence version 2 or later.|  | \n",
      " |  |   Please respect the MCnet Guidelines for Event Generator Authors and Users. |  | \n",
      " |  |                                                                              |  | \n",
      " |  |   Disclaimer: this program comes without any guarantees.                     |  | \n",
      " |  |   Beware of errors and use common sense when interpreting results.           |  | \n",
      " |  |                                                                              |  | \n",
      " |  |   Copyright (C) 2024 Torbjorn Sjostrand                                      |  | \n",
      " |  |                                                                              |  | \n",
      " |  |                                                                              |  | \n",
      " |  *------------------------------------------------------------------------------*  | \n",
      " |                                                                                    | \n",
      " *------------------------------------------------------------------------------------* \n",
      "\n",
      "\n",
      " *------------------------------------------------------------------------------------* \n",
      " |                                                                                    | \n",
      " |  *------------------------------------------------------------------------------*  | \n",
      " |  |                                                                              |  | \n",
      " |  |                                                                              |  | \n",
      " |  |   PPP   Y   Y  TTTTT  H   H  III    A      Welcome to the Lund Monte Carlo!  |  | \n",
      " |  |   P  P   Y Y     T    H   H   I    A A     This is PYTHIA version 8.311      |  | \n",
      " |  |   PPP     Y      T    HHHHH   I   AAAAA    Last date of change:  8 Mar 2024  |  | \n",
      " |  |   P       Y      T    H   H   I   A   A                                      |  | \n",
      " |  |   P       Y      T    H   H  III  A   A    Now is 04 Sep 2024 at 19:00:59    |  | \n",
      " |  |                                                                              |  | \n",
      " |  |   Program documentation and an archive of historic versions is found on:     |  | \n",
      " |  |                                                                              |  | \n",
      " |  |                               https://pythia.org/                            |  | \n",
      " |  |                                                                              |  | \n",
      " |  |   PYTHIA is authored by a collaboration consisting of:                       |  | \n",
      " |  |                                                                              |  | \n",
      " |  |   Javira Altmann, Christian Bierlich, Naomi Cooke, Nishita Desai,            |  | \n",
      " |  |   Leif Gellersen, Ilkka Helenius, Philip Ilten, Leif Lonnblad,               |  | \n",
      " |  |   Stephen Mrenna, Christian Preuss, Torbjorn Sjostrand, Peter Skands,        |  | \n",
      " |  |   Marius Utheim, and Rob Verheyen.                                           |  | \n",
      " |  |                                                                              |  | \n",
      " |  |   The complete list of authors, including contact information and            |  | \n",
      " |  |   affiliations, can be found on https://pythia.org/.                         |  | \n",
      " |  |   Problems or bugs should be reported on email at authors@pythia.org.        |  | \n",
      " |  |                                                                              |  | \n",
      " |  |   The main program reference is C. Bierlich et al,                           |  | \n",
      " |  |   'A comprehensive guide to the physics and usage of Pythia 8.3',            |  | \n",
      " |  |   SciPost Phys. Codebases 8-r8.3 (2022) [arXiv:2203.11601 [hep-ph]]          |  | \n",
      " |  |                                                                              |  | \n",
      " |  |   PYTHIA is released under the GNU General Public Licence version 2 or later.|  | \n",
      " |  |   Please respect the MCnet Guidelines for Event Generator Authors and Users. |  | \n",
      " |  |                                                                              |  | \n",
      " |  |   Disclaimer: this program comes without any guarantees.                     |  | \n",
      " |  |   Beware of errors and use common sense when interpreting results.           |  | \n",
      " |  |                                                                              |  | \n",
      " |  |   Copyright (C) 2024 Torbjorn Sjostrand                                      |  | \n",
      " |  |                                                                              |  | \n",
      " |  |                                                                              |  | \n",
      " |  *------------------------------------------------------------------------------*  | \n",
      " |                                                                                    | \n",
      " *------------------------------------------------------------------------------------* \n",
      "\n",
      " *-----------------------  SusyLesHouches SUSY/BSM Interface  ------------------------*\n",
      " | Last Change 12 Apr 2017 - P. Skands\n",
      " | Parsing: /home/leo/MadStats/mg5qs/output/EXAMPLE/Events/run_01/unweighted_events.lhe\n",
      " | (SLHA::readFile) line 319 - storing non-SLHA(2) block: yukawa\n",
      " *-----------------------  SusyLesHouches SUSY/BSM Interface  ------------------------*\n",
      " | Last Change 12 Apr 2017 - P. Skands\n",
      " | Parsing: /home/leo/MadStats/mg5qs/output/EXAMPLE/Events/run_02/unweighted_events.lhe\n",
      " | (SLHA::readFile) line 319 - storing non-SLHA(2) block: yukawa\n",
      " *-----------------------  SusyLesHouches SUSY/BSM Interface  ------------------------*\n",
      " | Last Change 12 Apr 2017 - P. Skands\n",
      " | Parsing: /home/leo/MadStats/mg5qs/output/EXAMPLE/Events/run_05/unweighted_events.lhe\n",
      " | (SLHA::readFile) line 319 - storing non-SLHA(2) block: yukawa\n",
      " *------------------------------------------------------------------------------------*\n",
      "\n",
      "TAUS: 468\n",
      " *------------------------------------------------------------------------------------*\n",
      "\n",
      "TAUS: 477\n",
      " *------------------------------------------------------------------------------------*\n",
      "\n",
      "TAUS: 473\n",
      " *------------------------------------------------------------------------------------*\n",
      "\n",
      "TAUS: 482\n",
      " *------------------------------------------------------------------------------------*\n",
      "\n",
      "TAUS: 458\n"
     ]
    }
   ],
   "source": [
    "import concurrent.futures\n",
    "cpu_cores = 10  # set an appropriate value based on CPU hardware\n",
    "results = {}\n",
    "\n",
    "def process_LHE(LHE, PID=15):\n",
    "    result =  qs.generate_pT(PID, LHE)\n",
    "    return LHE.parent.name, result\n",
    "\n",
    "with concurrent.futures.ProcessPoolExecutor(max_workers=cpu_cores) as executor:\n",
    "    futures = {executor.submit(process_LHE, LHE): LHE for LHE in LHEs}\n",
    "    for future in concurrent.futures.as_completed(futures):\n",
    "        name, result = future.result()\n",
    "        results[name] = result  "
   ]
  },
  {
   "cell_type": "code",
   "execution_count": 32,
   "id": "1afc369e-3a80-434d-b860-40a016216cc9",
   "metadata": {},
   "outputs": [
    {
     "data": {
      "image/png": "[encoded data removed]",
      "text/plain": [
       "<Figure size 700x3000 with 5 Axes>"
      ]
     },
     "metadata": {},
     "output_type": "display_data"
    }
   ],
   "source": [
    "fig, ax = plt.subplots(len(results), figsize=(7, len(results)*6))\n",
    "\n",
    "ks = np.sort([key for key in results.keys()]) # construct sorted list of keys \n",
    "MH = np.linspace(75, 175, 5)\n",
    "\n",
    "for i, k in enumerate(ks):\n",
    "    ax[i].hist(results[k][1], bins=30)\n",
    "    ax[i].set_title(k+'; Higgs Mass = '+str(MH[i])+'GeV')\n",
    "    ax[i].set_yscale('log')\n",
    "    ax[i].set_xlabel(\"pT (GeV)\")\n",
    "plt.show()"
   ]
  },
  {
   "cell_type": "code",
   "execution_count": null,
   "id": "91cd1cd3-9067-4946-9463-79657818cc13",
   "metadata": {},
   "outputs": [],
   "source": []
  }
 ],
 "metadata": {
  "kernelspec": {
   "display_name": "Python 3 (My Custom Kernel)",
   "language": "python",
   "name": "my_custom_kernel"
  },
  "language_info": {
   "codemirror_mode": {
    "name": "ipython",
    "version": 3
   },
   "file_extension": ".py",
   "mimetype": "text/x-python",
   "name": "python",
   "nbconvert_exporter": "python",
   "pygments_lexer": "ipython3",
   "version": "3.12.2"
  }
 },
 "nbformat": 4,
 "nbformat_minor": 5
}
