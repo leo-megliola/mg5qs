{
 "cells": [
  {
   "cell_type": "code",
   "execution_count": null,
   "id": "d2d06db4-55c9-4324-a884-1a6f12b4f019",
   "metadata": {},
   "outputs": [],
   "source": [
    "import mg5qs_import as qs\n",
    "from pathlib import Path\n",
    "import os\n",
    "import numpy as np \n",
    "import matplotlib.pyplot as plt"
   ]
  },
  {
   "cell_type": "markdown",
   "id": "e43a9ab9-fbbd-4037-b78f-21b6d5f1bec7",
   "metadata": {},
   "source": [
    "### Vary parameters using API and visual editing tools\n",
    "\n",
    "This example will demonstrate how MadGraph's built-in capabilities to edit model and run parameters are carried over into mg5qs.\n",
    "\n",
    "This example includes:\n",
    "- use of visual card editor\n",
    "- use of API for editing model parameters\n",
    "- looping over model parmeters\n",
    "- associating parameter values with corresponding run "
   ]
  },
  {
   "cell_type": "markdown",
   "id": "76de0165-338b-4131-9f18-dd3c958af162",
   "metadata": {},
   "source": [
    "### 1. Generate a MadGraph framework and use visual card editor\n",
    "\n",
    "**1.1 Create MadGraph framework and edit run_card**\n",
    "\n",
    "The visual card editor uses IPyWidgets (native to Jupyter) to edit cards, it is essentially a replacement for vi/gedit/nano/etc. command line file editors. "
   ]
  },
  {
   "cell_type": "code",
   "execution_count": null,
   "id": "db956f52-3a8c-4ee1-a5d9-b3df3657cf7a",
   "metadata": {
    "scrolled": true
   },
   "outputs": [],
   "source": [
    "# edit proc_card before using it to generate framework \n",
    "qs.edit_card_spec(qs.INPUT_PATH / 'proc_card.dat')\n",
    "# try changing the output name, currently 'EXAMPLE'"
   ]
  },
  {
   "cell_type": "code",
   "execution_count": null,
   "id": "39d5790a-da57-47a0-8814-a80e4877a3e4",
   "metadata": {},
   "outputs": [],
   "source": [
    "# generate framework \n",
    "output_name, FRAMEWORK_PATH = qs.run_MG5(qs.MG5_PATH, qs.INPUT_PATH, proc_card_name='proc_card.dat')"
   ]
  },
  {
   "cell_type": "markdown",
   "id": "62e51d9d-40e9-4275-9611-0a86f31a2905",
   "metadata": {},
   "source": [
    "**1.2 change run parmeters by editing run_card generated allong with the framework**\n",
    "\n",
    "Each new framework is created with a number of cards (see FRAMEWORK_PATH/Cards). The run_card contains: number of events, random seed, and many more runtime parameters. "
   ]
  },
  {
   "cell_type": "code",
   "execution_count": null,
   "id": "3028c7af-cbda-4ec3-bf01-7fccbbddcc8d",
   "metadata": {
    "scrolled": true
   },
   "outputs": [],
   "source": [
    "qs.edit_card(FRAMEWORK_PATH) # by default, edit_card will chose the run_card"
   ]
  },
  {
   "cell_type": "markdown",
   "id": "ee67b771-5288-43f1-80e0-b3dc27f1e927",
   "metadata": {},
   "source": [
    "**1.3 load param_card using API and change a value**\n",
    "\n",
    "The param_card can be edited using the visual editor, but it is often preferred to use the API since values can be changed without manual input. Also, some parmeter cards have hundreds or even thousands of lines, so the visual editor is cumbersome. Using the API allows LHE generation to be performed in a loop which changes one or more parameters each time."
   ]
  },
  {
   "cell_type": "code",
   "execution_count": null,
   "id": "f33c7514-fe52-4df9-996b-2307f9e1bdae",
   "metadata": {},
   "outputs": [],
   "source": [
    "# load param card and look at contents \n",
    "card = qs.ParamCard(FRAMEWORK_PATH)\n",
    "card"
   ]
  },
  {
   "cell_type": "code",
   "execution_count": null,
   "id": "a1528102-a735-4fc8-b203-1704b2949f0d",
   "metadata": {},
   "outputs": [],
   "source": [
    "# the ParamCard object stores a dictionary of pandas dataframes\n",
    "card.dfs().keys() # view keys"
   ]
  },
  {
   "cell_type": "code",
   "execution_count": null,
   "id": "f57b1f29-dfb3-4d94-98dc-b4f754cbbc95",
   "metadata": {},
   "outputs": [],
   "source": [
    "# to find a specifc value, look at a particular dataframe\n",
    "df_mass = card.dfs()['MASS']\n",
    "df_mass # notice the key ascocated with Higgs mass is 25"
   ]
  },
  {
   "cell_type": "markdown",
   "id": "8a50d386-540b-47fd-8d59-8b64b40bc639",
   "metadata": {},
   "source": [
    "For longer param_cards, search by parameter name this way:"
   ]
  },
  {
   "cell_type": "code",
   "execution_count": null,
   "id": "bbc7bfbd-a67f-4bf9-9bc2-5af7df47ea87",
   "metadata": {},
   "outputs": [],
   "source": [
    "# this is the standard way of searching a pandas dataframe\n",
    "df_mass[df_mass['comment'].str.startswith('MH')]"
   ]
  },
  {
   "cell_type": "code",
   "execution_count": null,
   "id": "b5295a49-cf70-4fe4-9e88-9975643c0554",
   "metadata": {},
   "outputs": [],
   "source": [
    "# call set_value using the block name and key\n",
    "new_MH = 42\n",
    "card.set_value('MASS', 25, new_MH)\n",
    "# reload dataframe and check change \n",
    "df_mass = card.dfs()['MASS']\n",
    "df_mass[df_mass['comment'].str.startswith('MH')]"
   ]
  },
  {
   "cell_type": "markdown",
   "id": "90fa4572-38d4-447d-a0a3-12e3d4825089",
   "metadata": {},
   "source": [
    "### 2. Generate LHEs with altered parameters\n",
    "\n",
    "**2.1 write a loop that changes a parameter value and generates LHEs**"
   ]
  },
  {
   "cell_type": "code",
   "execution_count": null,
   "id": "bd8dcf3f-af3a-4a69-a585-2b542c082229",
   "metadata": {},
   "outputs": [],
   "source": [
    "# loop over values for the Higgs mass and generate LHEs \n",
    "for MH in np.linspace(75, 175, 5):\n",
    "    card.set_value('MASS', 25, MH)  # set the new value \n",
    "    print('Working on MH =', MH, '...')\n",
    "    qs.generate_LHE(card, FRAMEWORK_PATH) # generate LHE with current Higgs mass\n",
    "print('Done')"
   ]
  },
  {
   "cell_type": "markdown",
   "id": "a0b83860-7ee9-44b1-a55d-fab7b8d987d6",
   "metadata": {},
   "source": [
    "### 3. Generate transverse momenta\n",
    "\n",
    "**3.1 get LHEs**"
   ]
  },
  {
   "cell_type": "code",
   "execution_count": null,
   "id": "65a64c84-74fe-4397-b652-3772709dde00",
   "metadata": {},
   "outputs": [],
   "source": [
    "LHEs = qs.get_LHEs(FRAMEWORK_PATH)"
   ]
  },
  {
   "cell_type": "markdown",
   "id": "69a7ddec-366a-407d-85ee-02e621606a2c",
   "metadata": {},
   "source": [
    "**3.2 call pT_particle using multithreading**"
   ]
  },
  {
   "cell_type": "code",
   "execution_count": null,
   "id": "da80b8de-dce6-4dfb-b4ab-8d97d3989a73",
   "metadata": {
    "scrolled": true
   },
   "outputs": [],
   "source": [
    "import concurrent.futures\n",
    "cpu_cores = 10  # set an appropriate value based on CPU hardware\n",
    "results = {}\n",
    "\n",
    "def process_LHE(LHE, PID=15):\n",
    "    result =  qs.generate_pT(PID, LHE)\n",
    "    return LHE.parent.name, result\n",
    "\n",
    "with concurrent.futures.ProcessPoolExecutor(max_workers=cpu_cores) as executor:\n",
    "    futures = {executor.submit(process_LHE, LHE): LHE for LHE in LHEs}\n",
    "    for future in concurrent.futures.as_completed(futures):\n",
    "        name, result = future.result()\n",
    "        results[name] = result  "
   ]
  },
  {
   "cell_type": "code",
   "execution_count": null,
   "id": "1afc369e-3a80-434d-b860-40a016216cc9",
   "metadata": {},
   "outputs": [],
   "source": [
    "fig, ax = plt.subplots(len(results), figsize=(7, len(results)*6))\n",
    "\n",
    "ks = np.sort([key for key in results.keys()]) # construct sorted list of keys \n",
    "MH = np.linspace(75, 175, 5)\n",
    "\n",
    "for i, k in enumerate(ks):\n",
    "    ax[i].hist(results[k][1], bins=30)\n",
    "    ax[i].set_title(k+'; Higgs Mass = '+str(MH[i])+'GeV')\n",
    "    ax[i].set_yscale('log')\n",
    "    ax[i].set_xlabel(\"pT (GeV)\")\n",
    "plt.show()"
   ]
  },
  {
   "cell_type": "code",
   "execution_count": null,
   "id": "91cd1cd3-9067-4946-9463-79657818cc13",
   "metadata": {},
   "outputs": [],
   "source": []
  }
 ],
 "metadata": {
  "kernelspec": {
   "display_name": "Python 3 (My Custom Kernel)",
   "language": "python",
   "name": "my_custom_kernel"
  },
  "language_info": {
   "codemirror_mode": {
    "name": "ipython",
    "version": 3
   },
   "file_extension": ".py",
   "mimetype": "text/x-python",
   "name": "python",
   "nbconvert_exporter": "python",
   "pygments_lexer": "ipython3",
   "version": "3.12.2"
  }
 },
 "nbformat": 4,
 "nbformat_minor": 5
}
