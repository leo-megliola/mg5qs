{
 "cells": [
  {
   "cell_type": "code",
   "execution_count": 1,
   "id": "3ea7ccba-7be8-4d86-bf59-6cb98d343ac8",
   "metadata": {},
   "outputs": [],
   "source": [
    "from EditCard import *\n",
    "from EditFramework import *"
   ]
  },
  {
   "cell_type": "code",
   "execution_count": 2,
   "id": "a5be5baa-929e-4ab5-a1ed-77bafccea0a1",
   "metadata": {},
   "outputs": [
    {
     "data": {
      "application/vnd.jupyter.widget-view+json": {
       "model_id": "5e6b26008e0d4009992d0aefb250e9fb",
       "version_major": 2,
       "version_minor": 0
      },
      "text/plain": [
       "Text(value='p p > t t~', description='generate')"
      ]
     },
     "metadata": {},
     "output_type": "display_data"
    },
    {
     "data": {
      "application/vnd.jupyter.widget-view+json": {
       "model_id": "4530e690ceb74e4983a8d601afb00d29",
       "version_major": 2,
       "version_minor": 0
      },
      "text/plain": [
       "Text(value='TEST', description='output')"
      ]
     },
     "metadata": {},
     "output_type": "display_data"
    },
    {
     "data": {
      "application/vnd.jupyter.widget-view+json": {
       "model_id": "f12d2115055045dc8ff455c3d7b84253",
       "version_major": 2,
       "version_minor": 0
      },
      "text/plain": [
       "Button(description='Edit Event', style=ButtonStyle())"
      ]
     },
     "metadata": {},
     "output_type": "display_data"
    },
    {
     "data": {
      "application/vnd.jupyter.widget-view+json": {
       "model_id": "596faa78856140f9b3abdb77a08b90c6",
       "version_major": 2,
       "version_minor": 0
      },
      "text/plain": [
       "Output()"
      ]
     },
     "metadata": {},
     "output_type": "display_data"
    }
   ],
   "source": [
    "CreateFramework('/home/leo/MadStats/MadGraph2/mg5amcnlo/')"
   ]
  },
  {
   "cell_type": "code",
   "execution_count": 3,
   "id": "d98e0433-0434-4e68-94f4-12fff62c300f",
   "metadata": {},
   "outputs": [
    {
     "name": "stdout",
     "output_type": "stream",
     "text": [
      "#*********************************************************************\n",
      "#                       MadGraph5_aMC@NLO                            *\n",
      "#                                                                    *\n",
      "#                     run_card.dat MadEvent                          *\n",
      "#                                                                    *\n",
      "#  This file is used to set the parameters of the run.               *\n",
      "#                                                                    *\n",
      "#  Some notation/conventions:                                        *\n",
      "#                                                                    *\n",
      "#   Lines starting with a '# ' are info or comments                  *\n",
      "#                                                                    *\n",
      "#   mind the format:   value    = variable     ! comment             *\n",
      "#                                                                    *\n",
      "#   To display more options, you can type the command:               *\n",
      "#      update to_full                                                *\n",
      "#*********************************************************************\n",
      "#\n",
      "#*********************************************************************\n",
      "# Tag name for the run (one word)                                    *\n",
      "#*********************************************************************\n"
     ]
    },
    {
     "data": {
      "application/vnd.jupyter.widget-view+json": {
       "model_id": "170402c199274947abf5bbfed9576cb3",
       "version_major": 2,
       "version_minor": 0
      },
      "text/plain": [
       "Text(value='tag_1     = run_tag ! name of the run', layout=Layout(width='550px'))"
      ]
     },
     "metadata": {},
     "output_type": "display_data"
    },
    {
     "name": "stdout",
     "output_type": "stream",
     "text": [
      "#*********************************************************************\n",
      "# Number of events and rnd seed                                      *\n",
      "# Warning: Do not generate more than 1M events in a single run       *\n",
      "#*********************************************************************\n"
     ]
    },
    {
     "data": {
      "application/vnd.jupyter.widget-view+json": {
       "model_id": "939ed3afd76d41c5bf576aa55e8044d4",
       "version_major": 2,
       "version_minor": 0
      },
      "text/plain": [
       "Text(value='10000 = nevents ! Number of unweighted events requested', layout=Layout(width='550px'))"
      ]
     },
     "metadata": {},
     "output_type": "display_data"
    },
    {
     "data": {
      "application/vnd.jupyter.widget-view+json": {
       "model_id": "5b0db140236c46af95b10b051322da41",
       "version_major": 2,
       "version_minor": 0
      },
      "text/plain": [
       "Text(value='0   = iseed   ! rnd seed (0=assigned automatically=default))', layout=Layout(width='550px'))"
      ]
     },
     "metadata": {},
     "output_type": "display_data"
    },
    {
     "name": "stdout",
     "output_type": "stream",
     "text": [
      "#*********************************************************************\n",
      "# Collider type and energy                                           *\n",
      "# lpp: 0=No PDF, 1=proton, -1=antiproton,                            *\n",
      "#                2=elastic photon of proton/ion beam                 *\n",
      "#             +/-3=PDF of electron/positron beam                     *\n",
      "#             +/-4=PDF of muon/antimuon beam                         *\n",
      "#*********************************************************************\n"
     ]
    },
    {
     "data": {
      "application/vnd.jupyter.widget-view+json": {
       "model_id": "7478c68b894842e2beb6157166a5d13b",
       "version_major": 2,
       "version_minor": 0
      },
      "text/plain": [
       "Text(value='1        = lpp1    ! beam 1 type', layout=Layout(width='550px'))"
      ]
     },
     "metadata": {},
     "output_type": "display_data"
    },
    {
     "data": {
      "application/vnd.jupyter.widget-view+json": {
       "model_id": "edf5e34bffba43db8ed1b62f1b3650da",
       "version_major": 2,
       "version_minor": 0
      },
      "text/plain": [
       "Text(value='1        = lpp2    ! beam 2 type', layout=Layout(width='550px'))"
      ]
     },
     "metadata": {},
     "output_type": "display_data"
    },
    {
     "data": {
      "application/vnd.jupyter.widget-view+json": {
       "model_id": "bb67035a32884f9ca3854e24c9919378",
       "version_major": 2,
       "version_minor": 0
      },
      "text/plain": [
       "Text(value='6500.0     = ebeam1  ! beam 1 total energy in GeV', layout=Layout(width='550px'))"
      ]
     },
     "metadata": {},
     "output_type": "display_data"
    },
    {
     "data": {
      "application/vnd.jupyter.widget-view+json": {
       "model_id": "972ccac4bf71485ba226691c637f7c57",
       "version_major": 2,
       "version_minor": 0
      },
      "text/plain": [
       "Text(value='6500.0     = ebeam2  ! beam 2 total energy in GeV', layout=Layout(width='550px'))"
      ]
     },
     "metadata": {},
     "output_type": "display_data"
    },
    {
     "name": "stdout",
     "output_type": "stream",
     "text": [
      "# To see polarised beam options: type \"update beam_pol\"\n",
      "\n",
      "#*********************************************************************\n",
      "# PDF CHOICE: this automatically fixes alpha_s and its evol.         *\n",
      "# pdlabel: lhapdf=LHAPDF (installation needed) [1412.7420]           *\n",
      "#          iww=Improved Weizsaecker-Williams Approx.[hep-ph/9310350] *\n",
      "#          eva=Effective W/Z/A Approx.       [2111.02442]            *\n",
      "#          edff=EDFF in gamma-UPC            [eq.(11) in 2207.03012] *\n",
      "#          chff=ChFF in gamma-UPC            [eq.(13) in 2207.03012] *\n",
      "#          none=No PDF, same as lhapdf with lppx=0                   *\n",
      "#*********************************************************************\n"
     ]
    },
    {
     "data": {
      "application/vnd.jupyter.widget-view+json": {
       "model_id": "14bc506a8ae3476da589bbdd36c46b24",
       "version_major": 2,
       "version_minor": 0
      },
      "text/plain": [
       "Text(value='nn23lo1    = pdlabel     ! PDF set', layout=Layout(width='550px'))"
      ]
     },
     "metadata": {},
     "output_type": "display_data"
    },
    {
     "data": {
      "application/vnd.jupyter.widget-view+json": {
       "model_id": "6e1e754e71a04d7fb7c0b37e9ad34e36",
       "version_major": 2,
       "version_minor": 0
      },
      "text/plain": [
       "Text(value='230000    = lhaid     ! if pdlabel=lhapdf, this is the lhapdf number', layout=Layout(width='550px'…"
      ]
     },
     "metadata": {},
     "output_type": "display_data"
    },
    {
     "name": "stdout",
     "output_type": "stream",
     "text": [
      "# To see heavy ion options: type \"update ion_pdf\"\n",
      "#*********************************************************************\n",
      "# Renormalization and factorization scales                           *\n",
      "#*********************************************************************\n"
     ]
    },
    {
     "data": {
      "application/vnd.jupyter.widget-view+json": {
       "model_id": "7123e63596e844559bbb13072c03c39b",
       "version_major": 2,
       "version_minor": 0
      },
      "text/plain": [
       "Text(value='False = fixed_ren_scale  ! if .true. use fixed ren scale', layout=Layout(width='550px'))"
      ]
     },
     "metadata": {},
     "output_type": "display_data"
    },
    {
     "data": {
      "application/vnd.jupyter.widget-view+json": {
       "model_id": "7532d8ea99634c90b32d257d12221b56",
       "version_major": 2,
       "version_minor": 0
      },
      "text/plain": [
       "Text(value='False = fixed_fac_scale  ! if .true. use fixed fac scale', layout=Layout(width='550px'))"
      ]
     },
     "metadata": {},
     "output_type": "display_data"
    },
    {
     "data": {
      "application/vnd.jupyter.widget-view+json": {
       "model_id": "7ddac1fdd5594a96b07443d681b971aa",
       "version_major": 2,
       "version_minor": 0
      },
      "text/plain": [
       "Text(value='91.188  = scale            ! fixed ren scale', layout=Layout(width='550px'))"
      ]
     },
     "metadata": {},
     "output_type": "display_data"
    },
    {
     "data": {
      "application/vnd.jupyter.widget-view+json": {
       "model_id": "7071034858d941af8a6b8f952a9f7d43",
       "version_major": 2,
       "version_minor": 0
      },
      "text/plain": [
       "Text(value='91.188  = dsqrt_q2fact1    ! fixed fact scale for pdf1', layout=Layout(width='550px'))"
      ]
     },
     "metadata": {},
     "output_type": "display_data"
    },
    {
     "data": {
      "application/vnd.jupyter.widget-view+json": {
       "model_id": "d5d52c1ac3a34a8983fe78bb1dc32e40",
       "version_major": 2,
       "version_minor": 0
      },
      "text/plain": [
       "Text(value='91.188  = dsqrt_q2fact2    ! fixed fact scale for pdf2', layout=Layout(width='550px'))"
      ]
     },
     "metadata": {},
     "output_type": "display_data"
    },
    {
     "data": {
      "application/vnd.jupyter.widget-view+json": {
       "model_id": "5bc5a4050e6d438896d8f3598f3558c9",
       "version_major": 2,
       "version_minor": 0
      },
      "text/plain": [
       "Text(value='-1 = dynamical_scale_choice ! Choose one of the preselected dynamical choices', layout=Layout(widt…"
      ]
     },
     "metadata": {},
     "output_type": "display_data"
    },
    {
     "data": {
      "application/vnd.jupyter.widget-view+json": {
       "model_id": "d6580b1edede4ab88010e3bf47d89ca2",
       "version_major": 2,
       "version_minor": 0
      },
      "text/plain": [
       "Text(value='1.0  = scalefact        ! scale factor for event-by-event scales', layout=Layout(width='550px'))"
      ]
     },
     "metadata": {},
     "output_type": "display_data"
    },
    {
     "name": "stdout",
     "output_type": "stream",
     "text": [
      "\n",
      "\n",
      "#*********************************************************************\n",
      "# Type and output format\n",
      "#*********************************************************************\n"
     ]
    },
    {
     "data": {
      "application/vnd.jupyter.widget-view+json": {
       "model_id": "e2d23b56f1b14cd8975068132e6a769b",
       "version_major": 2,
       "version_minor": 0
      },
      "text/plain": [
       "Text(value='False     = gridpack  !True = setting up the grid pack', layout=Layout(width='550px'))"
      ]
     },
     "metadata": {},
     "output_type": "display_data"
    },
    {
     "data": {
      "application/vnd.jupyter.widget-view+json": {
       "model_id": "3462b95ce75b457d9bc3976ecb9a698d",
       "version_major": 2,
       "version_minor": 0
      },
      "text/plain": [
       "Text(value='-1.0 = time_of_flight ! threshold (in mm) below which the invariant livetime is not written (-1 me…"
      ]
     },
     "metadata": {},
     "output_type": "display_data"
    },
    {
     "data": {
      "application/vnd.jupyter.widget-view+json": {
       "model_id": "b9ebd732b9cf4e35baa32ca724a540ae",
       "version_major": 2,
       "version_minor": 0
      },
      "text/plain": [
       "Text(value='average =  event_norm       ! average/sum. Normalization of the weight in the LHEF', layout=Layout…"
      ]
     },
     "metadata": {},
     "output_type": "display_data"
    },
    {
     "name": "stdout",
     "output_type": "stream",
     "text": [
      "# To see MLM/CKKW  merging options: type \"update MLM\" or \"update CKKW\"\n",
      "\n",
      "#*********************************************************************\n",
      "#\n",
      "#*********************************************************************\n",
      "# Phase-Space Optimization strategy (basic options)\n",
      "#*********************************************************************\n"
     ]
    },
    {
     "data": {
      "application/vnd.jupyter.widget-view+json": {
       "model_id": "bb1c50ebcfd84f7f8f8a5e54dc82669b",
       "version_major": 2,
       "version_minor": 0
      },
      "text/plain": [
       "Text(value='0  = nhel          ! using helicities importance sampling or not.', layout=Layout(width='550px'))"
      ]
     },
     "metadata": {},
     "output_type": "display_data"
    },
    {
     "data": {
      "application/vnd.jupyter.widget-view+json": {
       "model_id": "96c967c3d5d646e39072526c5a7f262a",
       "version_major": 2,
       "version_minor": 0
      },
      "text/plain": [
       "Text(value='! 0: sum over helicity, 1: importance sampling', layout=Layout(width='550px'))"
      ]
     },
     "metadata": {},
     "output_type": "display_data"
    },
    {
     "data": {
      "application/vnd.jupyter.widget-view+json": {
       "model_id": "ceeef0fcc3fb4060b8806ca73cec8ca2",
       "version_major": 2,
       "version_minor": 0
      },
      "text/plain": [
       "Text(value='1  = sde_strategy  ! default integration strategy (hep-ph/2021.00773)', layout=Layout(width='550px…"
      ]
     },
     "metadata": {},
     "output_type": "display_data"
    },
    {
     "data": {
      "application/vnd.jupyter.widget-view+json": {
       "model_id": "57d31ee35fe14d2aa8bd0dd5ad7c6b08",
       "version_major": 2,
       "version_minor": 0
      },
      "text/plain": [
       "Text(value='! 1 is old strategy (using amp square)', layout=Layout(width='550px'))"
      ]
     },
     "metadata": {},
     "output_type": "display_data"
    },
    {
     "data": {
      "application/vnd.jupyter.widget-view+json": {
       "model_id": "f0f0cfc1c6894319a14d86011d7751e2",
       "version_major": 2,
       "version_minor": 0
      },
      "text/plain": [
       "Text(value='! 2 is new strategy (using only the denominator)', layout=Layout(width='550px'))"
      ]
     },
     "metadata": {},
     "output_type": "display_data"
    },
    {
     "name": "stdout",
     "output_type": "stream",
     "text": [
      "# To see advanced option for Phase-Space optimization: type \"update psoptim\"\n",
      "#*********************************************************************\n",
      "# Customization (custom cuts/scale/bias/...)                         *\n",
      "# list of files containing fortran function that overwrite default   *\n",
      "#*********************************************************************\n"
     ]
    },
    {
     "data": {
      "application/vnd.jupyter.widget-view+json": {
       "model_id": "e20f6f819f34464998e17307cf204db2",
       "version_major": 2,
       "version_minor": 0
      },
      "text/plain": [
       "Text(value='= custom_fcts ! List of files containing user hook function', layout=Layout(width='550px'))"
      ]
     },
     "metadata": {},
     "output_type": "display_data"
    },
    {
     "name": "stdout",
     "output_type": "stream",
     "text": [
      "#*******************************\n",
      "# Parton level cuts definition *\n",
      "#*******************************\n"
     ]
    },
    {
     "data": {
      "application/vnd.jupyter.widget-view+json": {
       "model_id": "cbd48dac8ffe441e9bd6fc0a94938065",
       "version_major": 2,
       "version_minor": 0
      },
      "text/plain": [
       "Text(value='0.0  = dsqrt_shat ! minimal shat for full process', layout=Layout(width='550px'))"
      ]
     },
     "metadata": {},
     "output_type": "display_data"
    },
    {
     "name": "stdout",
     "output_type": "stream",
     "text": [
      "#\n",
      "#\n",
      "#*********************************************************************\n",
      "# BW cutoff (M+/-bwcutoff*Gamma) ! Define on/off-shell for \"$\" and decay\n",
      "#*********************************************************************\n"
     ]
    },
    {
     "data": {
      "application/vnd.jupyter.widget-view+json": {
       "model_id": "693fa40101cc4363a18d8e66af287c3f",
       "version_major": 2,
       "version_minor": 0
      },
      "text/plain": [
       "Text(value='15.0  = bwcutoff      ! (M+/-bwcutoff*Gamma)', layout=Layout(width='550px'))"
      ]
     },
     "metadata": {},
     "output_type": "display_data"
    },
    {
     "name": "stdout",
     "output_type": "stream",
     "text": [
      "#*********************************************************************\n",
      "# Standard Cuts                                                      *\n",
      "#*********************************************************************\n",
      "# Minimum and maximum pt's (for max, -1 means no cut)                *\n",
      "#*********************************************************************\n"
     ]
    },
    {
     "data": {
      "application/vnd.jupyter.widget-view+json": {
       "model_id": "ab3802cdc1a84fa8bcf81c97f7d56bc0",
       "version_major": 2,
       "version_minor": 0
      },
      "text/plain": [
       "Text(value='{} = pt_min_pdg ! pt cut for other particles (use pdg code). Applied on particle and anti-particle…"
      ]
     },
     "metadata": {},
     "output_type": "display_data"
    },
    {
     "data": {
      "application/vnd.jupyter.widget-view+json": {
       "model_id": "13bc5c4c2d8c444395d5734a86339b08",
       "version_major": 2,
       "version_minor": 0
      },
      "text/plain": [
       "Text(value='{}\\t= pt_max_pdg ! pt cut for other particles (syntax e.g. {6: 100, 25: 50})', layout=Layout(width…"
      ]
     },
     "metadata": {},
     "output_type": "display_data"
    },
    {
     "name": "stdout",
     "output_type": "stream",
     "text": [
      "#\n",
      "# For display option for energy cut in the partonic center of mass frame type 'update ecut'\n",
      "#\n",
      "#*********************************************************************\n",
      "# Maximum and minimum absolute rapidity (for max, -1 means no cut)   *\n",
      "#*********************************************************************\n"
     ]
    },
    {
     "data": {
      "application/vnd.jupyter.widget-view+json": {
       "model_id": "e916888b752d4156a64800136582c506",
       "version_major": 2,
       "version_minor": 0
      },
      "text/plain": [
       "Text(value='{} = eta_min_pdg ! rap cut for other particles (use pdg code). Applied on particle and anti-partic…"
      ]
     },
     "metadata": {},
     "output_type": "display_data"
    },
    {
     "data": {
      "application/vnd.jupyter.widget-view+json": {
       "model_id": "6ed5e69c000b4991ab2133b7ca36bce3",
       "version_major": 2,
       "version_minor": 0
      },
      "text/plain": [
       "Text(value='{} = eta_max_pdg ! rap cut for other particles (syntax e.g. {6: 2.5, 23: 5})', layout=Layout(width…"
      ]
     },
     "metadata": {},
     "output_type": "display_data"
    },
    {
     "name": "stdout",
     "output_type": "stream",
     "text": [
      "#*********************************************************************\n",
      "# Minimum and maximum DeltaR distance                                *\n",
      "#*********************************************************************\n",
      "#*********************************************************************\n",
      "# Minimum and maximum invariant mass for pairs                       *\n",
      "#*********************************************************************\n"
     ]
    },
    {
     "data": {
      "application/vnd.jupyter.widget-view+json": {
       "model_id": "7a06701453fd4d44b9a80e5140574e51",
       "version_major": 2,
       "version_minor": 0
      },
      "text/plain": [
       "Text(value='{} = mxx_min_pdg ! min invariant mass of a pair of particles X/X~ (e.g. {6:250})', layout=Layout(w…"
      ]
     },
     "metadata": {},
     "output_type": "display_data"
    },
    {
     "data": {
      "application/vnd.jupyter.widget-view+json": {
       "model_id": "7432d1e607804be888bd3db8069e17df",
       "version_major": 2,
       "version_minor": 0
      },
      "text/plain": [
       "Text(value=\"{'default': False} = mxx_only_part_antipart ! if True the invariant mass is applied only\", layout=…"
      ]
     },
     "metadata": {},
     "output_type": "display_data"
    },
    {
     "data": {
      "application/vnd.jupyter.widget-view+json": {
       "model_id": "53c1efa08c554a2991d86e4a0db86bbf",
       "version_major": 2,
       "version_minor": 0
      },
      "text/plain": [
       "Text(value='! to pairs of particle/antiparticle and not to pairs of the same pdg codes.', layout=Layout(width=…"
      ]
     },
     "metadata": {},
     "output_type": "display_data"
    },
    {
     "name": "stdout",
     "output_type": "stream",
     "text": [
      "#*********************************************************************\n",
      "# Inclusive cuts                                                     *\n",
      "#*********************************************************************\n"
     ]
    },
    {
     "data": {
      "application/vnd.jupyter.widget-view+json": {
       "model_id": "85b38d1079084c64a62dd8ad3c49d6af",
       "version_major": 2,
       "version_minor": 0
      },
      "text/plain": [
       "Text(value='0.0  = ptheavy   ! minimum pt for at least one heavy final state', layout=Layout(width='550px'))"
      ]
     },
     "metadata": {},
     "output_type": "display_data"
    },
    {
     "name": "stdout",
     "output_type": "stream",
     "text": [
      "#*********************************************************************\n",
      "# maximal pdg code for quark to be considered as a light jet         *\n",
      "# (otherwise b cuts are applied)                                     *\n",
      "#*********************************************************************\n"
     ]
    },
    {
     "data": {
      "application/vnd.jupyter.widget-view+json": {
       "model_id": "0b598e83c73e4c1a8f90a970f46c9b12",
       "version_major": 2,
       "version_minor": 0
      },
      "text/plain": [
       "Text(value='4 = maxjetflavor    ! Maximum jet pdg code', layout=Layout(width='550px'))"
      ]
     },
     "metadata": {},
     "output_type": "display_data"
    },
    {
     "name": "stdout",
     "output_type": "stream",
     "text": [
      "#*********************************************************************\n",
      "#\n",
      "#*********************************************************************\n",
      "# Store info for systematics studies                                 *\n",
      "# WARNING: Do not use for interference type of computation           *\n",
      "#*********************************************************************\n"
     ]
    },
    {
     "data": {
      "application/vnd.jupyter.widget-view+json": {
       "model_id": "42ae9f3e271a464786f0e50db8c2e341",
       "version_major": 2,
       "version_minor": 0
      },
      "text/plain": [
       "Text(value='True  = use_syst      ! Enable systematics studies', layout=Layout(width='550px'))"
      ]
     },
     "metadata": {},
     "output_type": "display_data"
    },
    {
     "name": "stdout",
     "output_type": "stream",
     "text": [
      "#\n"
     ]
    },
    {
     "data": {
      "application/vnd.jupyter.widget-view+json": {
       "model_id": "d5baf809222f450c9cae98641211c21f",
       "version_major": 2,
       "version_minor": 0
      },
      "text/plain": [
       "Text(value='systematics = systematics_program ! none, systematics [python], SysCalc [depreceted, C++]', layout…"
      ]
     },
     "metadata": {},
     "output_type": "display_data"
    },
    {
     "data": {
      "application/vnd.jupyter.widget-view+json": {
       "model_id": "42efeae6e03b4c56bcbbbdbd16823c79",
       "version_major": 2,
       "version_minor": 0
      },
      "text/plain": [
       "Text(value=\"['--mur=0.5,1,2', '--muf=0.5,1,2', '--pdf=errorset'] = systematics_arguments ! see: https://cp3.ir…"
      ]
     },
     "metadata": {},
     "output_type": "display_data"
    },
    {
     "name": "stdout",
     "output_type": "stream",
     "text": [
      "\n"
     ]
    },
    {
     "data": {
      "application/vnd.jupyter.widget-view+json": {
       "model_id": "93fafdbea63644de98b00f62d42b47e7",
       "version_major": 2,
       "version_minor": 0
      },
      "text/plain": [
       "Button(description='Save', style=ButtonStyle())"
      ]
     },
     "metadata": {},
     "output_type": "display_data"
    },
    {
     "data": {
      "application/vnd.jupyter.widget-view+json": {
       "model_id": "9474b7a1992f493da57dd7ea6ed2156d",
       "version_major": 2,
       "version_minor": 0
      },
      "text/plain": [
       "Output()"
      ]
     },
     "metadata": {},
     "output_type": "display_data"
    }
   ],
   "source": [
    "edit_card(get_framework_path())"
   ]
  },
  {
   "cell_type": "code",
   "execution_count": 13,
   "id": "b27162ba-66e0-4d8d-8e3a-7b8f377aec3e",
   "metadata": {},
   "outputs": [
    {
     "data": {
      "application/vnd.jupyter.widget-view+json": {
       "model_id": "40168d9888e647b0a08ef12e8734b64f",
       "version_major": 2,
       "version_minor": 0
      },
      "text/plain": [
       "Checkbox(value=False, description='Pythia8')"
      ]
     },
     "metadata": {},
     "output_type": "display_data"
    },
    {
     "data": {
      "application/vnd.jupyter.widget-view+json": {
       "model_id": "d333cdacbbcd4e638008d81aecd1af14",
       "version_major": 2,
       "version_minor": 0
      },
      "text/plain": [
       "Checkbox(value=False, description='Delphes')"
      ]
     },
     "metadata": {},
     "output_type": "display_data"
    }
   ],
   "source": [
    "pythia = widgets.Checkbox(value=False, description='Pythia8')\n",
    "delphes = widgets.Checkbox(value=False, description='Delphes')\n",
    "display(pythia, delphes)"
   ]
  },
  {
   "cell_type": "code",
   "execution_count": 14,
   "id": "82c31674-12a1-4272-87a7-785a89bdfaef",
   "metadata": {},
   "outputs": [],
   "source": [
    "import shutil\n",
    "\n",
    "cards_path = get_cards_path()\n",
    "pythia_source_card = cards_path+'pythia8_card_default.dat'\n",
    "pythia_card = cards_path+'pythia8_card.dat'\n",
    "delphes_source_card = cards_path+'delphes_card_default.dat'\n",
    "delphes_card = cards_path+'delphes_card.dat'\n",
    "\n",
    "if pythia.value:\n",
    "    shutil.copy(pythia_source_card, pythia_card)   # Copy the file\n",
    "elif os.path.exists(pythia_card):\n",
    "    os.remove(pythia_card)\n",
    "if delphes.value:\n",
    "    shutil.copy(delphes_source_card, delphes_card)   # Copy the file\n",
    "elif os.path.exists(delphes_card):\n",
    "    os.remove(delphes_card)"
   ]
  },
  {
   "cell_type": "code",
   "execution_count": 15,
   "id": "b6b53edc-317f-4c04-8eb0-720c4eb6014c",
   "metadata": {
    "scrolled": true
   },
   "outputs": [
    {
     "name": "stdout",
     "output_type": "stream",
     "text": [
      "!\n",
      "! Pythia8 cmd card automatically generated by MadGraph5_aMC@NLO\n",
      "! For more information on the use of the MG5aMC / Pythia8 interface, visit\n",
      "!    https://cp3.irmp.ucl.ac.be/projects/madgraph/wiki/LOPY8Merging\n",
      "!\n",
      "! ==================\n",
      "! General parameters\n",
      "! ==================\n",
      "!\n"
     ]
    },
    {
     "data": {
      "application/vnd.jupyter.widget-view+json": {
       "model_id": "a0e6cc4227af4a9199dc0a9f5e638ea5",
       "version_major": 2,
       "version_minor": 0
      },
      "text/plain": [
       "Text(value='Main:numberOfEvents      = -1', layout=Layout(width='550px'))"
      ]
     },
     "metadata": {},
     "output_type": "display_data"
    },
    {
     "name": "stdout",
     "output_type": "stream",
     "text": [
      "!\n",
      "! -------------------------------------------------------------------\n",
      "! Specify the HEPMC output of the Pythia8 shower. You can set it to:\n",
      "!   hepmc       : MG5aMC will automatically place it the run_<i> directory\n",
      "!   hepmc.gz    : Same as 'hepmc', but also will compress the output file.\n",
      "!   hepmcremove : MG5aMC will automatically remove the file at the end of the run.\n",
      "!                 (usefull when running with Delphes)\n",
      "!   hepmc@<hepmc_path> :\n",
      "!                 User defined path where the HEPMC file must written. It will\n",
      "!                 therefore not be placed in the run_<i> directory. The\n",
      "!                 specified path, if not absolute, will be relative to\n",
      "!                 the Event/run_<i> directory of the process output.\n",
      "!   /dev/null : to turn off the HEPMC output.\n",
      "!   fifo      : to have MG5aMC setup the piping of the PY8 output to\n",
      "!               analysis tools such as MadAnalysis5.\n",
      "!   fifo@<fifo_path> :\n",
      "!               Same as 'fifo', but selecting a custom path to create the\n",
      "!               fifo pipe. (useful to select a mounted drive that supports\n",
      "!               fifo). Note that the fifo file extension *must* be '.hepmc.fifo'.\n",
      "! -------------------------------------------------------------------\n",
      "!\n"
     ]
    },
    {
     "data": {
      "application/vnd.jupyter.widget-view+json": {
       "model_id": "1a89b08b4c274d9abbdc2ba3af2aabbe",
       "version_major": 2,
       "version_minor": 0
      },
      "text/plain": [
       "Text(value='HEPMCoutput:file         = hepmc.gz', layout=Layout(width='550px'))"
      ]
     },
     "metadata": {},
     "output_type": "display_data"
    },
    {
     "name": "stdout",
     "output_type": "stream",
     "text": [
      "!\n",
      "! --------------------------------------------------------------------\n",
      "! Parameters relevant only when performing MLM merging, which can be\n",
      "! turned on by setting ickkw to '1' in the run_card and chosing a\n",
      "! positive value for the parameter xqcut.\n",
      "! For details, see section 'Jet Matching' on the left-hand menu of\n",
      "!    http://home.thep.lu.se/~torbjorn/pythia81html/Welcome.html\n",
      "! --------------------------------------------------------------------\n",
      "! If equal to -1.0, MadGraph5_aMC@NLO will set it automatically based\n",
      "! on the parameter 'xqcut' of the run_card.dat\n"
     ]
    },
    {
     "data": {
      "application/vnd.jupyter.widget-view+json": {
       "model_id": "c82f0ea3f6c749b0b15f1030d7c7f95d",
       "version_major": 2,
       "version_minor": 0
      },
      "text/plain": [
       "Text(value='JetMatching:qCut         = -1.0', layout=Layout(width='550px'))"
      ]
     },
     "metadata": {},
     "output_type": "display_data"
    },
    {
     "name": "stdout",
     "output_type": "stream",
     "text": [
      "! Use default kt-MLM to match parton level jets to those produced by the\n",
      "! shower. But the other Shower-kt scheme is available too with this option.\n"
     ]
    },
    {
     "data": {
      "application/vnd.jupyter.widget-view+json": {
       "model_id": "912d04c634d94243aba1487e41bc8425",
       "version_major": 2,
       "version_minor": 0
      },
      "text/plain": [
       "Text(value='JetMatching:doShowerKt   = off', layout=Layout(width='550px'))"
      ]
     },
     "metadata": {},
     "output_type": "display_data"
    },
    {
     "name": "stdout",
     "output_type": "stream",
     "text": [
      "! A value of -1 means that it is automatically guessed by MadGraph.\n",
      "! It is however always safer to explicitly set it.\n"
     ]
    },
    {
     "data": {
      "application/vnd.jupyter.widget-view+json": {
       "model_id": "91cafb3e6bd040e78b6451568ce61efe",
       "version_major": 2,
       "version_minor": 0
      },
      "text/plain": [
       "Text(value='JetMatching:nJetMax      = -1', layout=Layout(width='550px'))"
      ]
     },
     "metadata": {},
     "output_type": "display_data"
    },
    {
     "name": "stdout",
     "output_type": "stream",
     "text": [
      "!\n",
      "! --------------------------------------------------------------------\n",
      "! Parameters relevant only when performing CKKW-L merging, which can\n",
      "! be turned on by setting the parameter 'ptlund' *or* 'ktdurham' to\n",
      "! a positive value.\n",
      "! For details, see section 'CKKW-L Merging' on the left-hand menu of\n",
      "!    http://home.thep.lu.se/~torbjorn/pythia81html/Welcome.html\n",
      "! --------------------------------------------------------------------\n",
      "! Central merging scale values you want to be used.\n",
      "! If equal to -1.0, then MadGraph5_aMC@NLO will set this automatically\n",
      "! based on the parameter 'ktdurham' of the run_card.dat\n"
     ]
    },
    {
     "data": {
      "application/vnd.jupyter.widget-view+json": {
       "model_id": "660ec5a9b56f4d2f8d8bf64cdfb83ddb",
       "version_major": 2,
       "version_minor": 0
      },
      "text/plain": [
       "Text(value='Merging:TMS              = -1.0', layout=Layout(width='550px'))"
      ]
     },
     "metadata": {},
     "output_type": "display_data"
    },
    {
     "name": "stdout",
     "output_type": "stream",
     "text": [
      "! This must be set manually, according to Pythia8 directives.\n",
      "! An example of possible value is 'pp>LEPTONS,NEUTRINOS'\n",
      "! Alternatively, from Pythia v8.223 onwards, the value 'guess' can be\n",
      "! used to instruct Pythia to guess the hard process. The guess would mean\n",
      "! that all particles apart from light partons will be considered as a part\n",
      "! of the hard process. This guess is prone to errors if the desired hard\n",
      "! process is complicated (i.e. contains light partons). The user should\n",
      "! then be wary of suspicious error messages in the Pythia log file.\n"
     ]
    },
    {
     "data": {
      "application/vnd.jupyter.widget-view+json": {
       "model_id": "9e15048e66364abbb0c4919195e8aa3d",
       "version_major": 2,
       "version_minor": 0
      },
      "text/plain": [
       "Text(value='Merging:Process          = <set_by_user>', layout=Layout(width='550px'))"
      ]
     },
     "metadata": {},
     "output_type": "display_data"
    },
    {
     "name": "stdout",
     "output_type": "stream",
     "text": [
      "! A value of -1 means that it is automatically guessed by MadGraph.\n",
      "! It is however always safer to explicitly set it.\n"
     ]
    },
    {
     "data": {
      "application/vnd.jupyter.widget-view+json": {
       "model_id": "5b0885e21f1a4f0e98512ff275bf97bf",
       "version_major": 2,
       "version_minor": 0
      },
      "text/plain": [
       "Text(value='Merging:nJetMax  \\t\\t = -1', layout=Layout(width='550px'))"
      ]
     },
     "metadata": {},
     "output_type": "display_data"
    },
    {
     "name": "stdout",
     "output_type": "stream",
     "text": [
      "!\n",
      "! For all merging schemes, decide whehter you want the merging scale\n",
      "! variation computed for only the central weights or all other\n",
      "! PDF and scale variation weights as well\n"
     ]
    },
    {
     "data": {
      "application/vnd.jupyter.widget-view+json": {
       "model_id": "ba9a2a8846354f10bcbe7c675bee6e3d",
       "version_major": 2,
       "version_minor": 0
      },
      "text/plain": [
       "Text(value='SysCalc:fullCutVariation = off', layout=Layout(width='550px'))"
      ]
     },
     "metadata": {},
     "output_type": "display_data"
    },
    {
     "name": "stdout",
     "output_type": "stream",
     "text": [
      "!\n",
      "! ==========================\n",
      "! User customized parameters\n",
      "! ==========================\n",
      "!\n",
      "! By default, Pythia8 generates multi-parton interaction events. This is\n",
      "! often irrelevant for phenomenology and very slow. You can turn this\n",
      "! feature off by uncommenting the line below if so desired.\n",
      "!partonlevel:mpi = off\n"
     ]
    },
    {
     "data": {
      "application/vnd.jupyter.widget-view+json": {
       "model_id": "51070e89054946f7b0af77fbeba8e2dc",
       "version_major": 2,
       "version_minor": 0
      },
      "text/plain": [
       "Button(description='Save', style=ButtonStyle())"
      ]
     },
     "metadata": {},
     "output_type": "display_data"
    },
    {
     "data": {
      "application/vnd.jupyter.widget-view+json": {
       "model_id": "e1c6f6db4df041799f97709964506805",
       "version_major": 2,
       "version_minor": 0
      },
      "text/plain": [
       "Output()"
      ]
     },
     "metadata": {},
     "output_type": "display_data"
    }
   ],
   "source": [
    "edit_card(get_framework_path(), card_name='pythia8_card.dat', comment_delim='!')"
   ]
  },
  {
   "cell_type": "code",
   "execution_count": 7,
   "id": "985b48b1-05a9-439c-bb17-e9739f401466",
   "metadata": {
    "scrolled": true
   },
   "outputs": [
    {
     "name": "stdout",
     "output_type": "stream",
     "text": [
      "#######################################\n",
      "# Order of execution of various modules\n",
      "#######################################\n",
      "\n"
     ]
    },
    {
     "data": {
      "application/vnd.jupyter.widget-view+json": {
       "model_id": "986e6071d6ff44f5b5813604bd6ac00f",
       "version_major": 2,
       "version_minor": 0
      },
      "text/plain": [
       "Text(value='set ExecutionPath {', layout=Layout(width='550px'))"
      ]
     },
     "metadata": {},
     "output_type": "display_data"
    },
    {
     "data": {
      "application/vnd.jupyter.widget-view+json": {
       "model_id": "49528c8843b04590a489abafd2b9c192",
       "version_major": 2,
       "version_minor": 0
      },
      "text/plain": [
       "Text(value='ParticlePropagator', layout=Layout(width='550px'))"
      ]
     },
     "metadata": {},
     "output_type": "display_data"
    },
    {
     "name": "stdout",
     "output_type": "stream",
     "text": [
      "\n"
     ]
    },
    {
     "data": {
      "application/vnd.jupyter.widget-view+json": {
       "model_id": "a74a631c2905474a9433fa5d78a5bc3f",
       "version_major": 2,
       "version_minor": 0
      },
      "text/plain": [
       "Text(value='ChargedHadronTrackingEfficiency', layout=Layout(width='550px'))"
      ]
     },
     "metadata": {},
     "output_type": "display_data"
    },
    {
     "data": {
      "application/vnd.jupyter.widget-view+json": {
       "model_id": "8771ade4ce134d7abbdfa0361584f69c",
       "version_major": 2,
       "version_minor": 0
      },
      "text/plain": [
       "Text(value='ElectronTrackingEfficiency', layout=Layout(width='550px'))"
      ]
     },
     "metadata": {},
     "output_type": "display_data"
    },
    {
     "data": {
      "application/vnd.jupyter.widget-view+json": {
       "model_id": "17ee36ba5c5349adb72bd63c602bd739",
       "version_major": 2,
       "version_minor": 0
      },
      "text/plain": [
       "Text(value='MuonTrackingEfficiency', layout=Layout(width='550px'))"
      ]
     },
     "metadata": {},
     "output_type": "display_data"
    },
    {
     "name": "stdout",
     "output_type": "stream",
     "text": [
      "\n"
     ]
    },
    {
     "data": {
      "application/vnd.jupyter.widget-view+json": {
       "model_id": "62c9563d661643249e7c36e9d4dc9269",
       "version_major": 2,
       "version_minor": 0
      },
      "text/plain": [
       "Text(value='ChargedHadronMomentumSmearing', layout=Layout(width='550px'))"
      ]
     },
     "metadata": {},
     "output_type": "display_data"
    },
    {
     "data": {
      "application/vnd.jupyter.widget-view+json": {
       "model_id": "472857d6fe7042eabcb6d9f95b1269a7",
       "version_major": 2,
       "version_minor": 0
      },
      "text/plain": [
       "Text(value='ElectronMomentumSmearing', layout=Layout(width='550px'))"
      ]
     },
     "metadata": {},
     "output_type": "display_data"
    },
    {
     "data": {
      "application/vnd.jupyter.widget-view+json": {
       "model_id": "aa4b304e44234dd2be02c76d06b395e5",
       "version_major": 2,
       "version_minor": 0
      },
      "text/plain": [
       "Text(value='MuonMomentumSmearing', layout=Layout(width='550px'))"
      ]
     },
     "metadata": {},
     "output_type": "display_data"
    },
    {
     "name": "stdout",
     "output_type": "stream",
     "text": [
      "\n"
     ]
    },
    {
     "data": {
      "application/vnd.jupyter.widget-view+json": {
       "model_id": "bbbc9ab667f24c1ba2381fcf69e21aeb",
       "version_major": 2,
       "version_minor": 0
      },
      "text/plain": [
       "Text(value='TrackMerger', layout=Layout(width='550px'))"
      ]
     },
     "metadata": {},
     "output_type": "display_data"
    },
    {
     "name": "stdout",
     "output_type": "stream",
     "text": [
      "\n"
     ]
    },
    {
     "data": {
      "application/vnd.jupyter.widget-view+json": {
       "model_id": "7d8a5dd83f814b3d9ac2886dff4ba72e",
       "version_major": 2,
       "version_minor": 0
      },
      "text/plain": [
       "Text(value='ECal', layout=Layout(width='550px'))"
      ]
     },
     "metadata": {},
     "output_type": "display_data"
    },
    {
     "data": {
      "application/vnd.jupyter.widget-view+json": {
       "model_id": "24d3a217c8d84f08968accfad60ee7e4",
       "version_major": 2,
       "version_minor": 0
      },
      "text/plain": [
       "Text(value='HCal', layout=Layout(width='550px'))"
      ]
     },
     "metadata": {},
     "output_type": "display_data"
    },
    {
     "name": "stdout",
     "output_type": "stream",
     "text": [
      "\n"
     ]
    },
    {
     "data": {
      "application/vnd.jupyter.widget-view+json": {
       "model_id": "05696be048c04fdd9c5c8cf4eba77e48",
       "version_major": 2,
       "version_minor": 0
      },
      "text/plain": [
       "Text(value='Calorimeter', layout=Layout(width='550px'))"
      ]
     },
     "metadata": {},
     "output_type": "display_data"
    },
    {
     "data": {
      "application/vnd.jupyter.widget-view+json": {
       "model_id": "3b0384ddd28345ff910c02062eacc90a",
       "version_major": 2,
       "version_minor": 0
      },
      "text/plain": [
       "Text(value='EFlowMerger', layout=Layout(width='550px'))"
      ]
     },
     "metadata": {},
     "output_type": "display_data"
    },
    {
     "data": {
      "application/vnd.jupyter.widget-view+json": {
       "model_id": "5c9c213f34c243a29566bd5ea8b6bf90",
       "version_major": 2,
       "version_minor": 0
      },
      "text/plain": [
       "Text(value='EFlowFilter', layout=Layout(width='550px'))"
      ]
     },
     "metadata": {},
     "output_type": "display_data"
    },
    {
     "name": "stdout",
     "output_type": "stream",
     "text": [
      "\n"
     ]
    },
    {
     "data": {
      "application/vnd.jupyter.widget-view+json": {
       "model_id": "0a78b7f414984a74bd081b1a4a86c7cf",
       "version_major": 2,
       "version_minor": 0
      },
      "text/plain": [
       "Text(value='PhotonEfficiency', layout=Layout(width='550px'))"
      ]
     },
     "metadata": {},
     "output_type": "display_data"
    },
    {
     "data": {
      "application/vnd.jupyter.widget-view+json": {
       "model_id": "9a74d95d05054ea581b982d6953fafa2",
       "version_major": 2,
       "version_minor": 0
      },
      "text/plain": [
       "Text(value='PhotonIsolation', layout=Layout(width='550px'))"
      ]
     },
     "metadata": {},
     "output_type": "display_data"
    },
    {
     "name": "stdout",
     "output_type": "stream",
     "text": [
      "\n"
     ]
    },
    {
     "data": {
      "application/vnd.jupyter.widget-view+json": {
       "model_id": "b50611ca177f49aba6534a2f67ecf834",
       "version_major": 2,
       "version_minor": 0
      },
      "text/plain": [
       "Text(value='ElectronFilter', layout=Layout(width='550px'))"
      ]
     },
     "metadata": {},
     "output_type": "display_data"
    },
    {
     "data": {
      "application/vnd.jupyter.widget-view+json": {
       "model_id": "55a6bfa0d92645a3ade869e546b59d3f",
       "version_major": 2,
       "version_minor": 0
      },
      "text/plain": [
       "Text(value='ElectronEfficiency', layout=Layout(width='550px'))"
      ]
     },
     "metadata": {},
     "output_type": "display_data"
    },
    {
     "data": {
      "application/vnd.jupyter.widget-view+json": {
       "model_id": "ab55c1a9ae7b40bc8f237bb85c1d001a",
       "version_major": 2,
       "version_minor": 0
      },
      "text/plain": [
       "Text(value='ElectronIsolation', layout=Layout(width='550px'))"
      ]
     },
     "metadata": {},
     "output_type": "display_data"
    },
    {
     "name": "stdout",
     "output_type": "stream",
     "text": [
      "\n"
     ]
    },
    {
     "data": {
      "application/vnd.jupyter.widget-view+json": {
       "model_id": "b6e647bd432b4998b95c96895667bd9c",
       "version_major": 2,
       "version_minor": 0
      },
      "text/plain": [
       "Text(value='ChargedHadronFilter', layout=Layout(width='550px'))"
      ]
     },
     "metadata": {},
     "output_type": "display_data"
    },
    {
     "name": "stdout",
     "output_type": "stream",
     "text": [
      "\n"
     ]
    },
    {
     "data": {
      "application/vnd.jupyter.widget-view+json": {
       "model_id": "50f58374ebba460b80b8dfd63a0c2211",
       "version_major": 2,
       "version_minor": 0
      },
      "text/plain": [
       "Text(value='MuonEfficiency', layout=Layout(width='550px'))"
      ]
     },
     "metadata": {},
     "output_type": "display_data"
    },
    {
     "data": {
      "application/vnd.jupyter.widget-view+json": {
       "model_id": "f07575abf851455481e0b28d2371be53",
       "version_major": 2,
       "version_minor": 0
      },
      "text/plain": [
       "Text(value='MuonIsolation', layout=Layout(width='550px'))"
      ]
     },
     "metadata": {},
     "output_type": "display_data"
    },
    {
     "name": "stdout",
     "output_type": "stream",
     "text": [
      "\n"
     ]
    },
    {
     "data": {
      "application/vnd.jupyter.widget-view+json": {
       "model_id": "8abfd89ff4304600bb9995070014aa5c",
       "version_major": 2,
       "version_minor": 0
      },
      "text/plain": [
       "Text(value='MissingET', layout=Layout(width='550px'))"
      ]
     },
     "metadata": {},
     "output_type": "display_data"
    },
    {
     "name": "stdout",
     "output_type": "stream",
     "text": [
      "\n"
     ]
    },
    {
     "data": {
      "application/vnd.jupyter.widget-view+json": {
       "model_id": "0c294fcaf47c4db1ad37eb2dbf1a2860",
       "version_major": 2,
       "version_minor": 0
      },
      "text/plain": [
       "Text(value='NeutrinoFilter', layout=Layout(width='550px'))"
      ]
     },
     "metadata": {},
     "output_type": "display_data"
    },
    {
     "data": {
      "application/vnd.jupyter.widget-view+json": {
       "model_id": "fc24039a5a7045559bcaa1b1b2ad5af8",
       "version_major": 2,
       "version_minor": 0
      },
      "text/plain": [
       "Text(value='GenJetFinder', layout=Layout(width='550px'))"
      ]
     },
     "metadata": {},
     "output_type": "display_data"
    },
    {
     "data": {
      "application/vnd.jupyter.widget-view+json": {
       "model_id": "3f81c0a2f3a04460b16691802a1325ff",
       "version_major": 2,
       "version_minor": 0
      },
      "text/plain": [
       "Text(value='GenMissingET', layout=Layout(width='550px'))"
      ]
     },
     "metadata": {},
     "output_type": "display_data"
    },
    {
     "name": "stdout",
     "output_type": "stream",
     "text": [
      "\n"
     ]
    },
    {
     "data": {
      "application/vnd.jupyter.widget-view+json": {
       "model_id": "e38b83059dd7451483f4001f9151f822",
       "version_major": 2,
       "version_minor": 0
      },
      "text/plain": [
       "Text(value='FastJetFinder', layout=Layout(width='550px'))"
      ]
     },
     "metadata": {},
     "output_type": "display_data"
    },
    {
     "data": {
      "application/vnd.jupyter.widget-view+json": {
       "model_id": "5abab4f4b54d483cbc0a5f71239c8779",
       "version_major": 2,
       "version_minor": 0
      },
      "text/plain": [
       "Text(value='FatJetFinder', layout=Layout(width='550px'))"
      ]
     },
     "metadata": {},
     "output_type": "display_data"
    },
    {
     "name": "stdout",
     "output_type": "stream",
     "text": [
      "\n"
     ]
    },
    {
     "data": {
      "application/vnd.jupyter.widget-view+json": {
       "model_id": "7a2acb7ab6ff4449b92d30daa801a20c",
       "version_major": 2,
       "version_minor": 0
      },
      "text/plain": [
       "Text(value='JetEnergyScale', layout=Layout(width='550px'))"
      ]
     },
     "metadata": {},
     "output_type": "display_data"
    },
    {
     "name": "stdout",
     "output_type": "stream",
     "text": [
      "\n"
     ]
    },
    {
     "data": {
      "application/vnd.jupyter.widget-view+json": {
       "model_id": "bf65ce1e6bc743dc87b8d1a5c3efbb96",
       "version_major": 2,
       "version_minor": 0
      },
      "text/plain": [
       "Text(value='JetFlavorAssociation', layout=Layout(width='550px'))"
      ]
     },
     "metadata": {},
     "output_type": "display_data"
    },
    {
     "name": "stdout",
     "output_type": "stream",
     "text": [
      "\n"
     ]
    },
    {
     "data": {
      "application/vnd.jupyter.widget-view+json": {
       "model_id": "6464a3e51b894d6cacc270576d4cb73c",
       "version_major": 2,
       "version_minor": 0
      },
      "text/plain": [
       "Text(value='BTagging', layout=Layout(width='550px'))"
      ]
     },
     "metadata": {},
     "output_type": "display_data"
    },
    {
     "data": {
      "application/vnd.jupyter.widget-view+json": {
       "model_id": "19c6b52528e0499484833a0596068ab8",
       "version_major": 2,
       "version_minor": 0
      },
      "text/plain": [
       "Text(value='TauTagging', layout=Layout(width='550px'))"
      ]
     },
     "metadata": {},
     "output_type": "display_data"
    },
    {
     "name": "stdout",
     "output_type": "stream",
     "text": [
      "\n"
     ]
    },
    {
     "data": {
      "application/vnd.jupyter.widget-view+json": {
       "model_id": "0d04f7a65bbe448d97e827460dbbfd8a",
       "version_major": 2,
       "version_minor": 0
      },
      "text/plain": [
       "Text(value='UniqueObjectFinder', layout=Layout(width='550px'))"
      ]
     },
     "metadata": {},
     "output_type": "display_data"
    },
    {
     "name": "stdout",
     "output_type": "stream",
     "text": [
      "\n"
     ]
    },
    {
     "data": {
      "application/vnd.jupyter.widget-view+json": {
       "model_id": "ba04270d035e4eb08524913920d95a62",
       "version_major": 2,
       "version_minor": 0
      },
      "text/plain": [
       "Text(value='ScalarHT', layout=Layout(width='550px'))"
      ]
     },
     "metadata": {},
     "output_type": "display_data"
    },
    {
     "name": "stdout",
     "output_type": "stream",
     "text": [
      "\n"
     ]
    },
    {
     "data": {
      "application/vnd.jupyter.widget-view+json": {
       "model_id": "0c803dcecaac462ca2692fcb6feca84c",
       "version_major": 2,
       "version_minor": 0
      },
      "text/plain": [
       "Text(value='TreeWriter', layout=Layout(width='550px'))"
      ]
     },
     "metadata": {},
     "output_type": "display_data"
    },
    {
     "data": {
      "application/vnd.jupyter.widget-view+json": {
       "model_id": "5be03b9323c44fe0995bff686feb66ef",
       "version_major": 2,
       "version_minor": 0
      },
      "text/plain": [
       "Text(value='}', layout=Layout(width='550px'))"
      ]
     },
     "metadata": {},
     "output_type": "display_data"
    },
    {
     "name": "stdout",
     "output_type": "stream",
     "text": [
      "\n",
      "#################################\n",
      "# Propagate particles in cylinder\n",
      "#################################\n",
      "\n"
     ]
    },
    {
     "data": {
      "application/vnd.jupyter.widget-view+json": {
       "model_id": "5dc2f4c5285e4901b28024e2c0954ad2",
       "version_major": 2,
       "version_minor": 0
      },
      "text/plain": [
       "Text(value='module ParticlePropagator ParticlePropagator {', layout=Layout(width='550px'))"
      ]
     },
     "metadata": {},
     "output_type": "display_data"
    },
    {
     "data": {
      "application/vnd.jupyter.widget-view+json": {
       "model_id": "0a2d346c90da406b815c47cca408b2d0",
       "version_major": 2,
       "version_minor": 0
      },
      "text/plain": [
       "Text(value='set InputArray Delphes/stableParticles', layout=Layout(width='550px'))"
      ]
     },
     "metadata": {},
     "output_type": "display_data"
    },
    {
     "name": "stdout",
     "output_type": "stream",
     "text": [
      "\n"
     ]
    },
    {
     "data": {
      "application/vnd.jupyter.widget-view+json": {
       "model_id": "79b529f6a46a4cf08305a5cc1b0b952c",
       "version_major": 2,
       "version_minor": 0
      },
      "text/plain": [
       "Text(value='set OutputArray stableParticles', layout=Layout(width='550px'))"
      ]
     },
     "metadata": {},
     "output_type": "display_data"
    },
    {
     "data": {
      "application/vnd.jupyter.widget-view+json": {
       "model_id": "6e3fd2feda474f7cb31a8572c61e53f8",
       "version_major": 2,
       "version_minor": 0
      },
      "text/plain": [
       "Text(value='set ChargedHadronOutputArray chargedHadrons', layout=Layout(width='550px'))"
      ]
     },
     "metadata": {},
     "output_type": "display_data"
    },
    {
     "data": {
      "application/vnd.jupyter.widget-view+json": {
       "model_id": "f0990e0bd1eb460b868b855eee468c92",
       "version_major": 2,
       "version_minor": 0
      },
      "text/plain": [
       "Text(value='set ElectronOutputArray electrons', layout=Layout(width='550px'))"
      ]
     },
     "metadata": {},
     "output_type": "display_data"
    },
    {
     "data": {
      "application/vnd.jupyter.widget-view+json": {
       "model_id": "f13c1bea44984007aeaa06009ff80667",
       "version_major": 2,
       "version_minor": 0
      },
      "text/plain": [
       "Text(value='set MuonOutputArray muons', layout=Layout(width='550px'))"
      ]
     },
     "metadata": {},
     "output_type": "display_data"
    },
    {
     "name": "stdout",
     "output_type": "stream",
     "text": [
      "\n",
      "# radius of the magnetic field coverage, in m\n"
     ]
    },
    {
     "data": {
      "application/vnd.jupyter.widget-view+json": {
       "model_id": "57f358111c78469a99b7747d17172eda",
       "version_major": 2,
       "version_minor": 0
      },
      "text/plain": [
       "Text(value='set Radius 1.29', layout=Layout(width='550px'))"
      ]
     },
     "metadata": {},
     "output_type": "display_data"
    },
    {
     "name": "stdout",
     "output_type": "stream",
     "text": [
      "# half-length of the magnetic field coverage, in m\n"
     ]
    },
    {
     "data": {
      "application/vnd.jupyter.widget-view+json": {
       "model_id": "e424be70cd7d4ccab7800da7f45bf336",
       "version_major": 2,
       "version_minor": 0
      },
      "text/plain": [
       "Text(value='set HalfLength 3.00', layout=Layout(width='550px'))"
      ]
     },
     "metadata": {},
     "output_type": "display_data"
    },
    {
     "name": "stdout",
     "output_type": "stream",
     "text": [
      "\n",
      "# magnetic field\n"
     ]
    },
    {
     "data": {
      "application/vnd.jupyter.widget-view+json": {
       "model_id": "df806de7415b4ca1b13709ec9023f558",
       "version_major": 2,
       "version_minor": 0
      },
      "text/plain": [
       "Text(value='set Bz 3.8', layout=Layout(width='550px'))"
      ]
     },
     "metadata": {},
     "output_type": "display_data"
    },
    {
     "data": {
      "application/vnd.jupyter.widget-view+json": {
       "model_id": "b4d307d12e8e474da683ea9306801256",
       "version_major": 2,
       "version_minor": 0
      },
      "text/plain": [
       "Text(value='}', layout=Layout(width='550px'))"
      ]
     },
     "metadata": {},
     "output_type": "display_data"
    },
    {
     "name": "stdout",
     "output_type": "stream",
     "text": [
      "\n",
      "####################################\n",
      "# Charged hadron tracking efficiency\n",
      "####################################\n",
      "\n"
     ]
    },
    {
     "data": {
      "application/vnd.jupyter.widget-view+json": {
       "model_id": "4706f5e9bb2d4840bff54cad80443541",
       "version_major": 2,
       "version_minor": 0
      },
      "text/plain": [
       "Text(value='module Efficiency ChargedHadronTrackingEfficiency {', layout=Layout(width='550px'))"
      ]
     },
     "metadata": {},
     "output_type": "display_data"
    },
    {
     "data": {
      "application/vnd.jupyter.widget-view+json": {
       "model_id": "93da0a8ba2e243a0805729741f3f6b96",
       "version_major": 2,
       "version_minor": 0
      },
      "text/plain": [
       "Text(value='set InputArray ParticlePropagator/chargedHadrons', layout=Layout(width='550px'))"
      ]
     },
     "metadata": {},
     "output_type": "display_data"
    },
    {
     "data": {
      "application/vnd.jupyter.widget-view+json": {
       "model_id": "27abbafdbdd141e991222017a6800c9b",
       "version_major": 2,
       "version_minor": 0
      },
      "text/plain": [
       "Text(value='set OutputArray chargedHadrons', layout=Layout(width='550px'))"
      ]
     },
     "metadata": {},
     "output_type": "display_data"
    },
    {
     "name": "stdout",
     "output_type": "stream",
     "text": [
      "\n",
      "# add EfficiencyFormula {efficiency formula as a function of eta and pt}\n",
      "\n",
      "# tracking efficiency formula for charged hadrons\n"
     ]
    },
    {
     "data": {
      "application/vnd.jupyter.widget-view+json": {
       "model_id": "1844a185f6e44d0597d80832366ec1f2",
       "version_major": 2,
       "version_minor": 0
      },
      "text/plain": [
       "Text(value='set EfficiencyFormula {                                                    (pt <= 0.1)   * (0.00) …"
      ]
     },
     "metadata": {},
     "output_type": "display_data"
    },
    {
     "data": {
      "application/vnd.jupyter.widget-view+json": {
       "model_id": "b778ec48930d48999c09f5acf51be7b1",
       "version_major": 2,
       "version_minor": 0
      },
      "text/plain": [
       "Text(value='(abs(eta) <= 1.5) * (pt > 0.1   && pt <= 1.0)   * (0.70) +', layout=Layout(width='550px'))"
      ]
     },
     "metadata": {},
     "output_type": "display_data"
    },
    {
     "data": {
      "application/vnd.jupyter.widget-view+json": {
       "model_id": "7bfb2033e628451db082be00259f3e75",
       "version_major": 2,
       "version_minor": 0
      },
      "text/plain": [
       "Text(value='(abs(eta) <= 1.5) * (pt > 1.0)                  * (0.95) +', layout=Layout(width='550px'))"
      ]
     },
     "metadata": {},
     "output_type": "display_data"
    },
    {
     "data": {
      "application/vnd.jupyter.widget-view+json": {
       "model_id": "a2733c5b10ee44ada1a065551b520648",
       "version_major": 2,
       "version_minor": 0
      },
      "text/plain": [
       "Text(value='(abs(eta) > 1.5 && abs(eta) <= 2.5) * (pt > 0.1   && pt <= 1.0)   * (0.60) +', layout=Layout(width…"
      ]
     },
     "metadata": {},
     "output_type": "display_data"
    },
    {
     "data": {
      "application/vnd.jupyter.widget-view+json": {
       "model_id": "7d1d5344e06a464680a09c4a580adda8",
       "version_major": 2,
       "version_minor": 0
      },
      "text/plain": [
       "Text(value='(abs(eta) > 1.5 && abs(eta) <= 2.5) * (pt > 1.0)                  * (0.85) +', layout=Layout(width…"
      ]
     },
     "metadata": {},
     "output_type": "display_data"
    },
    {
     "data": {
      "application/vnd.jupyter.widget-view+json": {
       "model_id": "26faf5604c0747e59f2041d4d52ec51a",
       "version_major": 2,
       "version_minor": 0
      },
      "text/plain": [
       "Text(value='(abs(eta) > 2.5)                                                  * (0.00)}', layout=Layout(width=…"
      ]
     },
     "metadata": {},
     "output_type": "display_data"
    },
    {
     "data": {
      "application/vnd.jupyter.widget-view+json": {
       "model_id": "6b542be1e62f4e43aa9b696618b57b23",
       "version_major": 2,
       "version_minor": 0
      },
      "text/plain": [
       "Text(value='}', layout=Layout(width='550px'))"
      ]
     },
     "metadata": {},
     "output_type": "display_data"
    },
    {
     "name": "stdout",
     "output_type": "stream",
     "text": [
      "\n",
      "##############################\n",
      "# Electron tracking efficiency\n",
      "##############################\n",
      "\n"
     ]
    },
    {
     "data": {
      "application/vnd.jupyter.widget-view+json": {
       "model_id": "17abb2d3c4cb47a39b437d4a191cfdc0",
       "version_major": 2,
       "version_minor": 0
      },
      "text/plain": [
       "Text(value='module Efficiency ElectronTrackingEfficiency {', layout=Layout(width='550px'))"
      ]
     },
     "metadata": {},
     "output_type": "display_data"
    },
    {
     "data": {
      "application/vnd.jupyter.widget-view+json": {
       "model_id": "f367e080ff904103a2ba3bc24261431a",
       "version_major": 2,
       "version_minor": 0
      },
      "text/plain": [
       "Text(value='set InputArray ParticlePropagator/electrons', layout=Layout(width='550px'))"
      ]
     },
     "metadata": {},
     "output_type": "display_data"
    },
    {
     "data": {
      "application/vnd.jupyter.widget-view+json": {
       "model_id": "1e91cc7bd5254bc2af63ca27810c3686",
       "version_major": 2,
       "version_minor": 0
      },
      "text/plain": [
       "Text(value='set OutputArray electrons', layout=Layout(width='550px'))"
      ]
     },
     "metadata": {},
     "output_type": "display_data"
    },
    {
     "name": "stdout",
     "output_type": "stream",
     "text": [
      "\n",
      "# set EfficiencyFormula {efficiency formula as a function of eta and pt}\n",
      "\n",
      "# tracking efficiency formula for electrons\n"
     ]
    },
    {
     "data": {
      "application/vnd.jupyter.widget-view+json": {
       "model_id": "8a2826658c344585bb6cc41e10a68a7e",
       "version_major": 2,
       "version_minor": 0
      },
      "text/plain": [
       "Text(value='set EfficiencyFormula {                                                    (pt <= 0.1)   * (0.00) …"
      ]
     },
     "metadata": {},
     "output_type": "display_data"
    },
    {
     "data": {
      "application/vnd.jupyter.widget-view+json": {
       "model_id": "068a30ec008f4eed928f51b593f0087f",
       "version_major": 2,
       "version_minor": 0
      },
      "text/plain": [
       "Text(value='(abs(eta) <= 1.5) * (pt > 0.1   && pt <= 1.0)   * (0.73) +', layout=Layout(width='550px'))"
      ]
     },
     "metadata": {},
     "output_type": "display_data"
    },
    {
     "data": {
      "application/vnd.jupyter.widget-view+json": {
       "model_id": "749db44fa90d416ea819f23b968cde21",
       "version_major": 2,
       "version_minor": 0
      },
      "text/plain": [
       "Text(value='(abs(eta) <= 1.5) * (pt > 1.0   && pt <= 1.0e2) * (0.95) +', layout=Layout(width='550px'))"
      ]
     },
     "metadata": {},
     "output_type": "display_data"
    },
    {
     "data": {
      "application/vnd.jupyter.widget-view+json": {
       "model_id": "cf3b1560336041e2ab89dadf07b68121",
       "version_major": 2,
       "version_minor": 0
      },
      "text/plain": [
       "Text(value='(abs(eta) <= 1.5) * (pt > 1.0e2)                * (0.99) +', layout=Layout(width='550px'))"
      ]
     },
     "metadata": {},
     "output_type": "display_data"
    },
    {
     "data": {
      "application/vnd.jupyter.widget-view+json": {
       "model_id": "35812da313954d5ea05a0e9ad3c111f0",
       "version_major": 2,
       "version_minor": 0
      },
      "text/plain": [
       "Text(value='(abs(eta) > 1.5 && abs(eta) <= 2.5) * (pt > 0.1   && pt <= 1.0)   * (0.50) +', layout=Layout(width…"
      ]
     },
     "metadata": {},
     "output_type": "display_data"
    },
    {
     "data": {
      "application/vnd.jupyter.widget-view+json": {
       "model_id": "48ac598aba524454a08283ced667ed69",
       "version_major": 2,
       "version_minor": 0
      },
      "text/plain": [
       "Text(value='(abs(eta) > 1.5 && abs(eta) <= 2.5) * (pt > 1.0   && pt <= 1.0e2) * (0.83) +', layout=Layout(width…"
      ]
     },
     "metadata": {},
     "output_type": "display_data"
    },
    {
     "data": {
      "application/vnd.jupyter.widget-view+json": {
       "model_id": "f5e2bc3d90074da88487df6df4cd973c",
       "version_major": 2,
       "version_minor": 0
      },
      "text/plain": [
       "Text(value='(abs(eta) > 1.5 && abs(eta) <= 2.5) * (pt > 1.0e2)                * (0.90) +', layout=Layout(width…"
      ]
     },
     "metadata": {},
     "output_type": "display_data"
    },
    {
     "data": {
      "application/vnd.jupyter.widget-view+json": {
       "model_id": "5512dd09f1d3470cb9b7824f8b95c6e5",
       "version_major": 2,
       "version_minor": 0
      },
      "text/plain": [
       "Text(value='(abs(eta) > 2.5)                                                  * (0.00)}', layout=Layout(width=…"
      ]
     },
     "metadata": {},
     "output_type": "display_data"
    },
    {
     "data": {
      "application/vnd.jupyter.widget-view+json": {
       "model_id": "2ab716a6dca5488886068acc003d266a",
       "version_major": 2,
       "version_minor": 0
      },
      "text/plain": [
       "Text(value='}', layout=Layout(width='550px'))"
      ]
     },
     "metadata": {},
     "output_type": "display_data"
    },
    {
     "name": "stdout",
     "output_type": "stream",
     "text": [
      "\n",
      "##########################\n",
      "# Muon tracking efficiency\n",
      "##########################\n",
      "\n"
     ]
    },
    {
     "data": {
      "application/vnd.jupyter.widget-view+json": {
       "model_id": "aa0a88a0a78445a4ae3c25130c7b3209",
       "version_major": 2,
       "version_minor": 0
      },
      "text/plain": [
       "Text(value='module Efficiency MuonTrackingEfficiency {', layout=Layout(width='550px'))"
      ]
     },
     "metadata": {},
     "output_type": "display_data"
    },
    {
     "data": {
      "application/vnd.jupyter.widget-view+json": {
       "model_id": "1aa524517f894c1c8ceca132d0644ca7",
       "version_major": 2,
       "version_minor": 0
      },
      "text/plain": [
       "Text(value='set InputArray ParticlePropagator/muons', layout=Layout(width='550px'))"
      ]
     },
     "metadata": {},
     "output_type": "display_data"
    },
    {
     "data": {
      "application/vnd.jupyter.widget-view+json": {
       "model_id": "7add42cbf5d742d98b060806caf9dad4",
       "version_major": 2,
       "version_minor": 0
      },
      "text/plain": [
       "Text(value='set OutputArray muons', layout=Layout(width='550px'))"
      ]
     },
     "metadata": {},
     "output_type": "display_data"
    },
    {
     "name": "stdout",
     "output_type": "stream",
     "text": [
      "\n",
      "# set EfficiencyFormula {efficiency formula as a function of eta and pt}\n",
      "\n",
      "# tracking efficiency formula for muons\n"
     ]
    },
    {
     "data": {
      "application/vnd.jupyter.widget-view+json": {
       "model_id": "da0dd00c637449f3aa823ad072f8317e",
       "version_major": 2,
       "version_minor": 0
      },
      "text/plain": [
       "Text(value='set EfficiencyFormula {                                                    (pt <= 0.1)   * (0.00) …"
      ]
     },
     "metadata": {},
     "output_type": "display_data"
    },
    {
     "data": {
      "application/vnd.jupyter.widget-view+json": {
       "model_id": "dc194524a71945b892517ab4f30186d5",
       "version_major": 2,
       "version_minor": 0
      },
      "text/plain": [
       "Text(value='(abs(eta) <= 1.5) * (pt > 0.1   && pt <= 1.0)   * (0.75) +', layout=Layout(width='550px'))"
      ]
     },
     "metadata": {},
     "output_type": "display_data"
    },
    {
     "data": {
      "application/vnd.jupyter.widget-view+json": {
       "model_id": "bdc5c3061cfa4bde93d556b0367d5355",
       "version_major": 2,
       "version_minor": 0
      },
      "text/plain": [
       "Text(value='(abs(eta) <= 1.5) * (pt > 1.0   && pt <= 1.0e3) * (0.99) +', layout=Layout(width='550px'))"
      ]
     },
     "metadata": {},
     "output_type": "display_data"
    },
    {
     "data": {
      "application/vnd.jupyter.widget-view+json": {
       "model_id": "c7de7c1a63ec4313b0e11eed1188bcaa",
       "version_major": 2,
       "version_minor": 0
      },
      "text/plain": [
       "Text(value='(abs(eta) <= 1.5) * (pt > 1.0e3 )               * (0.99 * exp(0.5 - pt*5.0e-4)) +', layout=Layout(…"
      ]
     },
     "metadata": {},
     "output_type": "display_data"
    },
    {
     "name": "stdout",
     "output_type": "stream",
     "text": [
      "\n"
     ]
    },
    {
     "data": {
      "application/vnd.jupyter.widget-view+json": {
       "model_id": "99cc74e22f2a44499c0cadf790794543",
       "version_major": 2,
       "version_minor": 0
      },
      "text/plain": [
       "Text(value='(abs(eta) > 1.5 && abs(eta) <= 2.5) * (pt > 0.1   && pt <= 1.0)   * (0.70) +', layout=Layout(width…"
      ]
     },
     "metadata": {},
     "output_type": "display_data"
    },
    {
     "data": {
      "application/vnd.jupyter.widget-view+json": {
       "model_id": "1196d8697211489299403dce7ee3ef89",
       "version_major": 2,
       "version_minor": 0
      },
      "text/plain": [
       "Text(value='(abs(eta) > 1.5 && abs(eta) <= 2.5) * (pt > 1.0   && pt <= 1.0e3) * (0.98) +', layout=Layout(width…"
      ]
     },
     "metadata": {},
     "output_type": "display_data"
    },
    {
     "data": {
      "application/vnd.jupyter.widget-view+json": {
       "model_id": "3e5abb9f3ce348ebb796c780bfd46e83",
       "version_major": 2,
       "version_minor": 0
      },
      "text/plain": [
       "Text(value='(abs(eta) > 1.5 && abs(eta) <= 2.5) * (pt > 1.0e3)                * (0.98 * exp(0.5 - pt*5.0e-4)) …"
      ]
     },
     "metadata": {},
     "output_type": "display_data"
    },
    {
     "data": {
      "application/vnd.jupyter.widget-view+json": {
       "model_id": "6e267c440d0a44d29d48d9272a052659",
       "version_major": 2,
       "version_minor": 0
      },
      "text/plain": [
       "Text(value='(abs(eta) > 2.5)                                                  * (0.00)}', layout=Layout(width=…"
      ]
     },
     "metadata": {},
     "output_type": "display_data"
    },
    {
     "data": {
      "application/vnd.jupyter.widget-view+json": {
       "model_id": "537b4a50b2e64939b9c4d29ae0af7207",
       "version_major": 2,
       "version_minor": 0
      },
      "text/plain": [
       "Text(value='}', layout=Layout(width='550px'))"
      ]
     },
     "metadata": {},
     "output_type": "display_data"
    },
    {
     "name": "stdout",
     "output_type": "stream",
     "text": [
      "\n",
      "########################################\n",
      "# Momentum resolution for charged tracks\n",
      "########################################\n",
      "\n"
     ]
    },
    {
     "data": {
      "application/vnd.jupyter.widget-view+json": {
       "model_id": "79381f47ce4242d39589b7c6b73b5adb",
       "version_major": 2,
       "version_minor": 0
      },
      "text/plain": [
       "Text(value='module MomentumSmearing ChargedHadronMomentumSmearing {', layout=Layout(width='550px'))"
      ]
     },
     "metadata": {},
     "output_type": "display_data"
    },
    {
     "data": {
      "application/vnd.jupyter.widget-view+json": {
       "model_id": "d9705c390336448683985a02bb4fc177",
       "version_major": 2,
       "version_minor": 0
      },
      "text/plain": [
       "Text(value='set InputArray ChargedHadronTrackingEfficiency/chargedHadrons', layout=Layout(width='550px'))"
      ]
     },
     "metadata": {},
     "output_type": "display_data"
    },
    {
     "data": {
      "application/vnd.jupyter.widget-view+json": {
       "model_id": "fc651e261bc64f5ea63cacdedd8f9f6a",
       "version_major": 2,
       "version_minor": 0
      },
      "text/plain": [
       "Text(value='set OutputArray chargedHadrons', layout=Layout(width='550px'))"
      ]
     },
     "metadata": {},
     "output_type": "display_data"
    },
    {
     "name": "stdout",
     "output_type": "stream",
     "text": [
      "\n",
      "# set ResolutionFormula {resolution formula as a function of eta and pt}\n",
      "\n",
      "# resolution formula for charged hadrons\n",
      "# based on arXiv:1405.6569\n"
     ]
    },
    {
     "data": {
      "application/vnd.jupyter.widget-view+json": {
       "model_id": "6f30b1d7b32842ed90a585836009cead",
       "version_major": 2,
       "version_minor": 0
      },
      "text/plain": [
       "Text(value='set ResolutionFormula {                  (abs(eta) <= 0.5) * (pt > 0.1) * sqrt(0.06^2 + pt^2*1.3e-…"
      ]
     },
     "metadata": {},
     "output_type": "display_data"
    },
    {
     "data": {
      "application/vnd.jupyter.widget-view+json": {
       "model_id": "c6d67cb40a734a9daf8fd5ef00a80410",
       "version_major": 2,
       "version_minor": 0
      },
      "text/plain": [
       "Text(value='(abs(eta) > 0.5 && abs(eta) <= 1.5) * (pt > 0.1) * sqrt(0.10^2 + pt^2*1.7e-3^2) +', layout=Layout(…"
      ]
     },
     "metadata": {},
     "output_type": "display_data"
    },
    {
     "data": {
      "application/vnd.jupyter.widget-view+json": {
       "model_id": "43f08b1085624e1fa0073b1566dfc53b",
       "version_major": 2,
       "version_minor": 0
      },
      "text/plain": [
       "Text(value='(abs(eta) > 1.5 && abs(eta) <= 2.5) * (pt > 0.1) * sqrt(0.25^2 + pt^2*3.1e-3^2)}', layout=Layout(w…"
      ]
     },
     "metadata": {},
     "output_type": "display_data"
    },
    {
     "data": {
      "application/vnd.jupyter.widget-view+json": {
       "model_id": "8663ec6dc2f74565a8dfb67b6b2e7bfd",
       "version_major": 2,
       "version_minor": 0
      },
      "text/plain": [
       "Text(value='}', layout=Layout(width='550px'))"
      ]
     },
     "metadata": {},
     "output_type": "display_data"
    },
    {
     "name": "stdout",
     "output_type": "stream",
     "text": [
      "\n",
      "###################################\n",
      "# Momentum resolution for electrons\n",
      "###################################\n",
      "\n"
     ]
    },
    {
     "data": {
      "application/vnd.jupyter.widget-view+json": {
       "model_id": "bb513c9f4be54fceb11cffeaf87e7ffd",
       "version_major": 2,
       "version_minor": 0
      },
      "text/plain": [
       "Text(value='module MomentumSmearing ElectronMomentumSmearing {', layout=Layout(width='550px'))"
      ]
     },
     "metadata": {},
     "output_type": "display_data"
    },
    {
     "data": {
      "application/vnd.jupyter.widget-view+json": {
       "model_id": "8df786a599724bed8246a52cb3cd9020",
       "version_major": 2,
       "version_minor": 0
      },
      "text/plain": [
       "Text(value='set InputArray ElectronTrackingEfficiency/electrons', layout=Layout(width='550px'))"
      ]
     },
     "metadata": {},
     "output_type": "display_data"
    },
    {
     "data": {
      "application/vnd.jupyter.widget-view+json": {
       "model_id": "67357584f31c46cb84074d33ac91a0a3",
       "version_major": 2,
       "version_minor": 0
      },
      "text/plain": [
       "Text(value='set OutputArray electrons', layout=Layout(width='550px'))"
      ]
     },
     "metadata": {},
     "output_type": "display_data"
    },
    {
     "name": "stdout",
     "output_type": "stream",
     "text": [
      "\n",
      "# set ResolutionFormula {resolution formula as a function of eta and energy}\n",
      "\n",
      "# resolution formula for electrons\n",
      "# based on arXiv:1502.02701\n"
     ]
    },
    {
     "data": {
      "application/vnd.jupyter.widget-view+json": {
       "model_id": "bf8375af41fa4eef9b3280a37fc7b878",
       "version_major": 2,
       "version_minor": 0
      },
      "text/plain": [
       "Text(value='set ResolutionFormula {                  (abs(eta) <= 0.5) * (pt > 0.1) * sqrt(0.03^2 + pt^2*1.3e-…"
      ]
     },
     "metadata": {},
     "output_type": "display_data"
    },
    {
     "data": {
      "application/vnd.jupyter.widget-view+json": {
       "model_id": "18c6203b9a544028a7c3031292db7887",
       "version_major": 2,
       "version_minor": 0
      },
      "text/plain": [
       "Text(value='(abs(eta) > 0.5 && abs(eta) <= 1.5) * (pt > 0.1) * sqrt(0.05^2 + pt^2*1.7e-3^2) +', layout=Layout(…"
      ]
     },
     "metadata": {},
     "output_type": "display_data"
    },
    {
     "data": {
      "application/vnd.jupyter.widget-view+json": {
       "model_id": "e0809b72225c4b0dae62cbacecc1ed6c",
       "version_major": 2,
       "version_minor": 0
      },
      "text/plain": [
       "Text(value='(abs(eta) > 1.5 && abs(eta) <= 2.5) * (pt > 0.1) * sqrt(0.15^2 + pt^2*3.1e-3^2)}', layout=Layout(w…"
      ]
     },
     "metadata": {},
     "output_type": "display_data"
    },
    {
     "data": {
      "application/vnd.jupyter.widget-view+json": {
       "model_id": "cc607732ce8f49079c4fddfc2e8cf659",
       "version_major": 2,
       "version_minor": 0
      },
      "text/plain": [
       "Text(value='}', layout=Layout(width='550px'))"
      ]
     },
     "metadata": {},
     "output_type": "display_data"
    },
    {
     "name": "stdout",
     "output_type": "stream",
     "text": [
      "\n",
      "###############################\n",
      "# Momentum resolution for muons\n",
      "###############################\n",
      "\n"
     ]
    },
    {
     "data": {
      "application/vnd.jupyter.widget-view+json": {
       "model_id": "2ced5c3557744e549269ced16b702795",
       "version_major": 2,
       "version_minor": 0
      },
      "text/plain": [
       "Text(value='module MomentumSmearing MuonMomentumSmearing {', layout=Layout(width='550px'))"
      ]
     },
     "metadata": {},
     "output_type": "display_data"
    },
    {
     "data": {
      "application/vnd.jupyter.widget-view+json": {
       "model_id": "334a34b55e3e44f38fa6dbb419e3de21",
       "version_major": 2,
       "version_minor": 0
      },
      "text/plain": [
       "Text(value='set InputArray MuonTrackingEfficiency/muons', layout=Layout(width='550px'))"
      ]
     },
     "metadata": {},
     "output_type": "display_data"
    },
    {
     "data": {
      "application/vnd.jupyter.widget-view+json": {
       "model_id": "9d111e327941442fb2847d48a854a1e8",
       "version_major": 2,
       "version_minor": 0
      },
      "text/plain": [
       "Text(value='set OutputArray muons', layout=Layout(width='550px'))"
      ]
     },
     "metadata": {},
     "output_type": "display_data"
    },
    {
     "name": "stdout",
     "output_type": "stream",
     "text": [
      "\n",
      "# set ResolutionFormula {resolution formula as a function of eta and pt}\n",
      "\n",
      "# resolution formula for muons\n"
     ]
    },
    {
     "data": {
      "application/vnd.jupyter.widget-view+json": {
       "model_id": "9e707636ab5d42a0acfb857baf8d6f7b",
       "version_major": 2,
       "version_minor": 0
      },
      "text/plain": [
       "Text(value='set ResolutionFormula {                  (abs(eta) <= 0.5) * (pt > 0.1) * sqrt(0.01^2 + pt^2*1.0e-…"
      ]
     },
     "metadata": {},
     "output_type": "display_data"
    },
    {
     "data": {
      "application/vnd.jupyter.widget-view+json": {
       "model_id": "a9e113fe684841bd890b6fec6295103f",
       "version_major": 2,
       "version_minor": 0
      },
      "text/plain": [
       "Text(value='(abs(eta) > 0.5 && abs(eta) <= 1.5) * (pt > 0.1) * sqrt(0.015^2 + pt^2*1.5e-4^2) +', layout=Layout…"
      ]
     },
     "metadata": {},
     "output_type": "display_data"
    },
    {
     "data": {
      "application/vnd.jupyter.widget-view+json": {
       "model_id": "fa9517e0e8e74f7daf3be2eb5b08d2c4",
       "version_major": 2,
       "version_minor": 0
      },
      "text/plain": [
       "Text(value='(abs(eta) > 1.5 && abs(eta) <= 2.5) * (pt > 0.1) * sqrt(0.025^2 + pt^2*3.5e-4^2)}', layout=Layout(…"
      ]
     },
     "metadata": {},
     "output_type": "display_data"
    },
    {
     "data": {
      "application/vnd.jupyter.widget-view+json": {
       "model_id": "04fb6cae2c7943d7a74b9e9d00061f2f",
       "version_major": 2,
       "version_minor": 0
      },
      "text/plain": [
       "Text(value='}', layout=Layout(width='550px'))"
      ]
     },
     "metadata": {},
     "output_type": "display_data"
    },
    {
     "name": "stdout",
     "output_type": "stream",
     "text": [
      "\n",
      "##############\n",
      "# Track merger\n",
      "##############\n",
      "\n"
     ]
    },
    {
     "data": {
      "application/vnd.jupyter.widget-view+json": {
       "model_id": "84c7386dc9224256ac4cb65f66858421",
       "version_major": 2,
       "version_minor": 0
      },
      "text/plain": [
       "Text(value='module Merger TrackMerger {', layout=Layout(width='550px'))"
      ]
     },
     "metadata": {},
     "output_type": "display_data"
    },
    {
     "name": "stdout",
     "output_type": "stream",
     "text": [
      "# add InputArray InputArray\n"
     ]
    },
    {
     "data": {
      "application/vnd.jupyter.widget-view+json": {
       "model_id": "a37878d1cf7a45ffb09b3002295b171b",
       "version_major": 2,
       "version_minor": 0
      },
      "text/plain": [
       "Text(value='add InputArray ChargedHadronMomentumSmearing/chargedHadrons', layout=Layout(width='550px'))"
      ]
     },
     "metadata": {},
     "output_type": "display_data"
    },
    {
     "data": {
      "application/vnd.jupyter.widget-view+json": {
       "model_id": "151ac686684c40e7b75fae873c96edf6",
       "version_major": 2,
       "version_minor": 0
      },
      "text/plain": [
       "Text(value='add InputArray ElectronMomentumSmearing/electrons', layout=Layout(width='550px'))"
      ]
     },
     "metadata": {},
     "output_type": "display_data"
    },
    {
     "data": {
      "application/vnd.jupyter.widget-view+json": {
       "model_id": "cfa2008802fb4d409611d978d319d3bd",
       "version_major": 2,
       "version_minor": 0
      },
      "text/plain": [
       "Text(value='add InputArray MuonMomentumSmearing/muons', layout=Layout(width='550px'))"
      ]
     },
     "metadata": {},
     "output_type": "display_data"
    },
    {
     "data": {
      "application/vnd.jupyter.widget-view+json": {
       "model_id": "a90e4236d115423eb6cd1821334d82ab",
       "version_major": 2,
       "version_minor": 0
      },
      "text/plain": [
       "Text(value='set OutputArray tracks', layout=Layout(width='550px'))"
      ]
     },
     "metadata": {},
     "output_type": "display_data"
    },
    {
     "data": {
      "application/vnd.jupyter.widget-view+json": {
       "model_id": "1f7385af2fbe46a6979c7be4f96c18c9",
       "version_major": 2,
       "version_minor": 0
      },
      "text/plain": [
       "Text(value='}', layout=Layout(width='550px'))"
      ]
     },
     "metadata": {},
     "output_type": "display_data"
    },
    {
     "name": "stdout",
     "output_type": "stream",
     "text": [
      "\n",
      "\n",
      "\n",
      "#############\n",
      "#   ECAL\n",
      "#############\n",
      "\n"
     ]
    },
    {
     "data": {
      "application/vnd.jupyter.widget-view+json": {
       "model_id": "5b5e78974d2740da92647b6db995edaf",
       "version_major": 2,
       "version_minor": 0
      },
      "text/plain": [
       "Text(value='module SimpleCalorimeter ECal {', layout=Layout(width='550px'))"
      ]
     },
     "metadata": {},
     "output_type": "display_data"
    },
    {
     "data": {
      "application/vnd.jupyter.widget-view+json": {
       "model_id": "5edcc72ab21343cb9b263a963ac85804",
       "version_major": 2,
       "version_minor": 0
      },
      "text/plain": [
       "Text(value='set ParticleInputArray ParticlePropagator/stableParticles', layout=Layout(width='550px'))"
      ]
     },
     "metadata": {},
     "output_type": "display_data"
    },
    {
     "data": {
      "application/vnd.jupyter.widget-view+json": {
       "model_id": "74b4be7edaa2453d9e54f8327bae36b0",
       "version_major": 2,
       "version_minor": 0
      },
      "text/plain": [
       "Text(value='set TrackInputArray TrackMerger/tracks', layout=Layout(width='550px'))"
      ]
     },
     "metadata": {},
     "output_type": "display_data"
    },
    {
     "name": "stdout",
     "output_type": "stream",
     "text": [
      "\n"
     ]
    },
    {
     "data": {
      "application/vnd.jupyter.widget-view+json": {
       "model_id": "f1df546478d44267adb4c7b00eb96581",
       "version_major": 2,
       "version_minor": 0
      },
      "text/plain": [
       "Text(value='set TowerOutputArray ecalTowers', layout=Layout(width='550px'))"
      ]
     },
     "metadata": {},
     "output_type": "display_data"
    },
    {
     "data": {
      "application/vnd.jupyter.widget-view+json": {
       "model_id": "e841e7df923a4755912c0c7969b17f4a",
       "version_major": 2,
       "version_minor": 0
      },
      "text/plain": [
       "Text(value='set EFlowTrackOutputArray eflowTracks', layout=Layout(width='550px'))"
      ]
     },
     "metadata": {},
     "output_type": "display_data"
    },
    {
     "data": {
      "application/vnd.jupyter.widget-view+json": {
       "model_id": "768164b10dc44c36a4981ac67abf733a",
       "version_major": 2,
       "version_minor": 0
      },
      "text/plain": [
       "Text(value='set EFlowTowerOutputArray eflowPhotons', layout=Layout(width='550px'))"
      ]
     },
     "metadata": {},
     "output_type": "display_data"
    },
    {
     "name": "stdout",
     "output_type": "stream",
     "text": [
      "\n"
     ]
    },
    {
     "data": {
      "application/vnd.jupyter.widget-view+json": {
       "model_id": "b2715e914a004b71a5adfb765152fe62",
       "version_major": 2,
       "version_minor": 0
      },
      "text/plain": [
       "Text(value='set IsEcal true', layout=Layout(width='550px'))"
      ]
     },
     "metadata": {},
     "output_type": "display_data"
    },
    {
     "name": "stdout",
     "output_type": "stream",
     "text": [
      "\n"
     ]
    },
    {
     "data": {
      "application/vnd.jupyter.widget-view+json": {
       "model_id": "b5527ff3ae754a2e8d844905808bba67",
       "version_major": 2,
       "version_minor": 0
      },
      "text/plain": [
       "Text(value='set EnergyMin 0.5', layout=Layout(width='550px'))"
      ]
     },
     "metadata": {},
     "output_type": "display_data"
    },
    {
     "data": {
      "application/vnd.jupyter.widget-view+json": {
       "model_id": "e586519c275e4bafa87301639669de13",
       "version_major": 2,
       "version_minor": 0
      },
      "text/plain": [
       "Text(value='set EnergySignificanceMin 2.0', layout=Layout(width='550px'))"
      ]
     },
     "metadata": {},
     "output_type": "display_data"
    },
    {
     "name": "stdout",
     "output_type": "stream",
     "text": [
      "\n"
     ]
    },
    {
     "data": {
      "application/vnd.jupyter.widget-view+json": {
       "model_id": "3f2a8c8b200f4b68829c172aa0cabbb3",
       "version_major": 2,
       "version_minor": 0
      },
      "text/plain": [
       "Text(value='set SmearTowerCenter true', layout=Layout(width='550px'))"
      ]
     },
     "metadata": {},
     "output_type": "display_data"
    },
    {
     "name": "stdout",
     "output_type": "stream",
     "text": [
      "\n"
     ]
    },
    {
     "data": {
      "application/vnd.jupyter.widget-view+json": {
       "model_id": "7272108173ba494ca59006bd26681466",
       "version_major": 2,
       "version_minor": 0
      },
      "text/plain": [
       "Text(value='set pi [expr {acos(-1)}]', layout=Layout(width='550px'))"
      ]
     },
     "metadata": {},
     "output_type": "display_data"
    },
    {
     "name": "stdout",
     "output_type": "stream",
     "text": [
      "\n",
      "# lists of the edges of each tower in eta and phi\n",
      "# each list starts with the lower edge of the first tower\n",
      "# the list ends with the higher edged of the last tower\n",
      "\n",
      "# assume 0.02 x 0.02 resolution in eta,phi in the barrel |eta| < 1.5\n",
      "\n"
     ]
    },
    {
     "data": {
      "application/vnd.jupyter.widget-view+json": {
       "model_id": "c371d2462570459b922d7c750cfa2cf7",
       "version_major": 2,
       "version_minor": 0
      },
      "text/plain": [
       "Text(value='set PhiBins {}', layout=Layout(width='550px'))"
      ]
     },
     "metadata": {},
     "output_type": "display_data"
    },
    {
     "data": {
      "application/vnd.jupyter.widget-view+json": {
       "model_id": "eca3c81520f940d2835c1e70e9c44c8f",
       "version_major": 2,
       "version_minor": 0
      },
      "text/plain": [
       "Text(value='for {set i -180} {$i <= 180} {incr i} {', layout=Layout(width='550px'))"
      ]
     },
     "metadata": {},
     "output_type": "display_data"
    },
    {
     "data": {
      "application/vnd.jupyter.widget-view+json": {
       "model_id": "3cb307a8a50941bb9bf480f8771fd62d",
       "version_major": 2,
       "version_minor": 0
      },
      "text/plain": [
       "Text(value='add PhiBins [expr {$i * $pi/180.0}]', layout=Layout(width='550px'))"
      ]
     },
     "metadata": {},
     "output_type": "display_data"
    },
    {
     "data": {
      "application/vnd.jupyter.widget-view+json": {
       "model_id": "bb9f5156eed34f0aa537c02f0fbdba66",
       "version_major": 2,
       "version_minor": 0
      },
      "text/plain": [
       "Text(value='}', layout=Layout(width='550px'))"
      ]
     },
     "metadata": {},
     "output_type": "display_data"
    },
    {
     "name": "stdout",
     "output_type": "stream",
     "text": [
      "\n",
      "# 0.02 unit in eta up to eta = 1.5 (barrel)\n"
     ]
    },
    {
     "data": {
      "application/vnd.jupyter.widget-view+json": {
       "model_id": "cb77c273c4a34024a49e06d6dc60698c",
       "version_major": 2,
       "version_minor": 0
      },
      "text/plain": [
       "Text(value='for {set i -85} {$i <= 86} {incr i} {', layout=Layout(width='550px'))"
      ]
     },
     "metadata": {},
     "output_type": "display_data"
    },
    {
     "data": {
      "application/vnd.jupyter.widget-view+json": {
       "model_id": "84dea51880244d74b324c35865d76c31",
       "version_major": 2,
       "version_minor": 0
      },
      "text/plain": [
       "Text(value='set eta [expr {$i * 0.0174}]', layout=Layout(width='550px'))"
      ]
     },
     "metadata": {},
     "output_type": "display_data"
    },
    {
     "data": {
      "application/vnd.jupyter.widget-view+json": {
       "model_id": "34c777673e0c496e855947f0d6d066c4",
       "version_major": 2,
       "version_minor": 0
      },
      "text/plain": [
       "Text(value='add EtaPhiBins $eta $PhiBins', layout=Layout(width='550px'))"
      ]
     },
     "metadata": {},
     "output_type": "display_data"
    },
    {
     "data": {
      "application/vnd.jupyter.widget-view+json": {
       "model_id": "1b0938af45914520a03dc4b39b1e89fc",
       "version_major": 2,
       "version_minor": 0
      },
      "text/plain": [
       "Text(value='}', layout=Layout(width='550px'))"
      ]
     },
     "metadata": {},
     "output_type": "display_data"
    },
    {
     "name": "stdout",
     "output_type": "stream",
     "text": [
      "\n",
      "# assume 0.02 x 0.02 resolution in eta,phi in the endcaps 1.5 < |eta| < 3.0 (HGCAL- ECAL)\n",
      "\n"
     ]
    },
    {
     "data": {
      "application/vnd.jupyter.widget-view+json": {
       "model_id": "04dce97864ab4b0785443b7a8400edf8",
       "version_major": 2,
       "version_minor": 0
      },
      "text/plain": [
       "Text(value='set PhiBins {}', layout=Layout(width='550px'))"
      ]
     },
     "metadata": {},
     "output_type": "display_data"
    },
    {
     "data": {
      "application/vnd.jupyter.widget-view+json": {
       "model_id": "efc3eafc9e4148f7b4778bb5b92e4d93",
       "version_major": 2,
       "version_minor": 0
      },
      "text/plain": [
       "Text(value='for {set i -180} {$i <= 180} {incr i} {', layout=Layout(width='550px'))"
      ]
     },
     "metadata": {},
     "output_type": "display_data"
    },
    {
     "data": {
      "application/vnd.jupyter.widget-view+json": {
       "model_id": "1cefeb9d4e35411db0468762e9d33f5e",
       "version_major": 2,
       "version_minor": 0
      },
      "text/plain": [
       "Text(value='add PhiBins [expr {$i * $pi/180.0}]', layout=Layout(width='550px'))"
      ]
     },
     "metadata": {},
     "output_type": "display_data"
    },
    {
     "data": {
      "application/vnd.jupyter.widget-view+json": {
       "model_id": "cf9a2edf37844b6c9b890d272e2c3c42",
       "version_major": 2,
       "version_minor": 0
      },
      "text/plain": [
       "Text(value='}', layout=Layout(width='550px'))"
      ]
     },
     "metadata": {},
     "output_type": "display_data"
    },
    {
     "name": "stdout",
     "output_type": "stream",
     "text": [
      "\n",
      "# 0.02 unit in eta up to eta = 3\n"
     ]
    },
    {
     "data": {
      "application/vnd.jupyter.widget-view+json": {
       "model_id": "a5f41c91832a49ba89657df3df90d88f",
       "version_major": 2,
       "version_minor": 0
      },
      "text/plain": [
       "Text(value='for {set i 1} {$i <= 84} {incr i} {', layout=Layout(width='550px'))"
      ]
     },
     "metadata": {},
     "output_type": "display_data"
    },
    {
     "data": {
      "application/vnd.jupyter.widget-view+json": {
       "model_id": "2c4359da544b43af80c697fcb39d9681",
       "version_major": 2,
       "version_minor": 0
      },
      "text/plain": [
       "Text(value='set eta [expr { -2.958 + $i * 0.0174}]', layout=Layout(width='550px'))"
      ]
     },
     "metadata": {},
     "output_type": "display_data"
    },
    {
     "data": {
      "application/vnd.jupyter.widget-view+json": {
       "model_id": "17fba713a4744d40b71cddc85fedb51c",
       "version_major": 2,
       "version_minor": 0
      },
      "text/plain": [
       "Text(value='add EtaPhiBins $eta $PhiBins', layout=Layout(width='550px'))"
      ]
     },
     "metadata": {},
     "output_type": "display_data"
    },
    {
     "data": {
      "application/vnd.jupyter.widget-view+json": {
       "model_id": "00a5f4cd5cc045179bd39b61b4dbf0cb",
       "version_major": 2,
       "version_minor": 0
      },
      "text/plain": [
       "Text(value='}', layout=Layout(width='550px'))"
      ]
     },
     "metadata": {},
     "output_type": "display_data"
    },
    {
     "name": "stdout",
     "output_type": "stream",
     "text": [
      "\n"
     ]
    },
    {
     "data": {
      "application/vnd.jupyter.widget-view+json": {
       "model_id": "4a354d7228e14e47b149b2f2988b4ffe",
       "version_major": 2,
       "version_minor": 0
      },
      "text/plain": [
       "Text(value='for {set i 1} {$i <= 84} {incr i} {', layout=Layout(width='550px'))"
      ]
     },
     "metadata": {},
     "output_type": "display_data"
    },
    {
     "data": {
      "application/vnd.jupyter.widget-view+json": {
       "model_id": "fd48ca70fcb44578a1b9384e14733942",
       "version_major": 2,
       "version_minor": 0
      },
      "text/plain": [
       "Text(value='set eta [expr { 1.4964 + $i * 0.0174}]', layout=Layout(width='550px'))"
      ]
     },
     "metadata": {},
     "output_type": "display_data"
    },
    {
     "data": {
      "application/vnd.jupyter.widget-view+json": {
       "model_id": "dfceec20f2d943a390b25193f0241ea9",
       "version_major": 2,
       "version_minor": 0
      },
      "text/plain": [
       "Text(value='add EtaPhiBins $eta $PhiBins', layout=Layout(width='550px'))"
      ]
     },
     "metadata": {},
     "output_type": "display_data"
    },
    {
     "data": {
      "application/vnd.jupyter.widget-view+json": {
       "model_id": "e1f9175dd0ef405f9cf573809ad11dcd",
       "version_major": 2,
       "version_minor": 0
      },
      "text/plain": [
       "Text(value='}', layout=Layout(width='550px'))"
      ]
     },
     "metadata": {},
     "output_type": "display_data"
    },
    {
     "name": "stdout",
     "output_type": "stream",
     "text": [
      "\n",
      "# take present CMS granularity for HF\n",
      "\n",
      "# 0.175 x (0.175 - 0.35) resolution in eta,phi in the HF 3.0 < |eta| < 5.0\n"
     ]
    },
    {
     "data": {
      "application/vnd.jupyter.widget-view+json": {
       "model_id": "0b07fdbe5fae4146b795e951458f2dc1",
       "version_major": 2,
       "version_minor": 0
      },
      "text/plain": [
       "Text(value='set PhiBins {}', layout=Layout(width='550px'))"
      ]
     },
     "metadata": {},
     "output_type": "display_data"
    },
    {
     "data": {
      "application/vnd.jupyter.widget-view+json": {
       "model_id": "549fb53a24f744cc99d96a12f6df9124",
       "version_major": 2,
       "version_minor": 0
      },
      "text/plain": [
       "Text(value='for {set i -18} {$i <= 18} {incr i} {', layout=Layout(width='550px'))"
      ]
     },
     "metadata": {},
     "output_type": "display_data"
    },
    {
     "data": {
      "application/vnd.jupyter.widget-view+json": {
       "model_id": "cec5715f37ff486e8c7931587bf411a7",
       "version_major": 2,
       "version_minor": 0
      },
      "text/plain": [
       "Text(value='add PhiBins [expr {$i * $pi/18.0}]', layout=Layout(width='550px'))"
      ]
     },
     "metadata": {},
     "output_type": "display_data"
    },
    {
     "data": {
      "application/vnd.jupyter.widget-view+json": {
       "model_id": "28cb47c2bd964eed91514f6af91621f5",
       "version_major": 2,
       "version_minor": 0
      },
      "text/plain": [
       "Text(value='}', layout=Layout(width='550px'))"
      ]
     },
     "metadata": {},
     "output_type": "display_data"
    },
    {
     "name": "stdout",
     "output_type": "stream",
     "text": [
      "\n"
     ]
    },
    {
     "data": {
      "application/vnd.jupyter.widget-view+json": {
       "model_id": "704136bec8ed4e8ab88d8765bc274677",
       "version_major": 2,
       "version_minor": 0
      },
      "text/plain": [
       "Text(value='foreach eta {-5 -4.7 -4.525 -4.35 -4.175 -4 -3.825 -3.65 -3.475 -3.3 -3.125 -2.958 3.125 3.3 3.475…"
      ]
     },
     "metadata": {},
     "output_type": "display_data"
    },
    {
     "data": {
      "application/vnd.jupyter.widget-view+json": {
       "model_id": "b255161ae9bc4786acc59bd9dcaa20b9",
       "version_major": 2,
       "version_minor": 0
      },
      "text/plain": [
       "Text(value='add EtaPhiBins $eta $PhiBins', layout=Layout(width='550px'))"
      ]
     },
     "metadata": {},
     "output_type": "display_data"
    },
    {
     "data": {
      "application/vnd.jupyter.widget-view+json": {
       "model_id": "b539513a9341482987bae1f77b0ca248",
       "version_major": 2,
       "version_minor": 0
      },
      "text/plain": [
       "Text(value='}', layout=Layout(width='550px'))"
      ]
     },
     "metadata": {},
     "output_type": "display_data"
    },
    {
     "name": "stdout",
     "output_type": "stream",
     "text": [
      "\n",
      "\n"
     ]
    },
    {
     "data": {
      "application/vnd.jupyter.widget-view+json": {
       "model_id": "f4abd297b160454c8905d2313a62c37b",
       "version_major": 2,
       "version_minor": 0
      },
      "text/plain": [
       "Text(value='add EnergyFraction {0} {0.0}', layout=Layout(width='550px'))"
      ]
     },
     "metadata": {},
     "output_type": "display_data"
    },
    {
     "name": "stdout",
     "output_type": "stream",
     "text": [
      "# energy fractions for e, gamma and pi0\n"
     ]
    },
    {
     "data": {
      "application/vnd.jupyter.widget-view+json": {
       "model_id": "e6045bac0165467f8ca66f84297677f5",
       "version_major": 2,
       "version_minor": 0
      },
      "text/plain": [
       "Text(value='add EnergyFraction {11} {1.0}', layout=Layout(width='550px'))"
      ]
     },
     "metadata": {},
     "output_type": "display_data"
    },
    {
     "data": {
      "application/vnd.jupyter.widget-view+json": {
       "model_id": "584585afc49e4c7b8340588bb6bc2e7a",
       "version_major": 2,
       "version_minor": 0
      },
      "text/plain": [
       "Text(value='add EnergyFraction {22} {1.0}', layout=Layout(width='550px'))"
      ]
     },
     "metadata": {},
     "output_type": "display_data"
    },
    {
     "data": {
      "application/vnd.jupyter.widget-view+json": {
       "model_id": "34bee7327bbb4970ad19cb03eabd8aa6",
       "version_major": 2,
       "version_minor": 0
      },
      "text/plain": [
       "Text(value='add EnergyFraction {111} {1.0}', layout=Layout(width='550px'))"
      ]
     },
     "metadata": {},
     "output_type": "display_data"
    },
    {
     "name": "stdout",
     "output_type": "stream",
     "text": [
      "# energy fractions for muon, neutrinos and neutralinos\n"
     ]
    },
    {
     "data": {
      "application/vnd.jupyter.widget-view+json": {
       "model_id": "589ecf2fcac04d23aee257e6b99dcbb6",
       "version_major": 2,
       "version_minor": 0
      },
      "text/plain": [
       "Text(value='add EnergyFraction {12} {0.0}', layout=Layout(width='550px'))"
      ]
     },
     "metadata": {},
     "output_type": "display_data"
    },
    {
     "data": {
      "application/vnd.jupyter.widget-view+json": {
       "model_id": "b070763ee61946f2ad4262211d749e03",
       "version_major": 2,
       "version_minor": 0
      },
      "text/plain": [
       "Text(value='add EnergyFraction {13} {0.0}', layout=Layout(width='550px'))"
      ]
     },
     "metadata": {},
     "output_type": "display_data"
    },
    {
     "data": {
      "application/vnd.jupyter.widget-view+json": {
       "model_id": "f11d2337a90a4acaa0a97b5079613ac2",
       "version_major": 2,
       "version_minor": 0
      },
      "text/plain": [
       "Text(value='add EnergyFraction {14} {0.0}', layout=Layout(width='550px'))"
      ]
     },
     "metadata": {},
     "output_type": "display_data"
    },
    {
     "data": {
      "application/vnd.jupyter.widget-view+json": {
       "model_id": "b48241f9547d454d92e387c5241387a4",
       "version_major": 2,
       "version_minor": 0
      },
      "text/plain": [
       "Text(value='add EnergyFraction {16} {0.0}', layout=Layout(width='550px'))"
      ]
     },
     "metadata": {},
     "output_type": "display_data"
    },
    {
     "data": {
      "application/vnd.jupyter.widget-view+json": {
       "model_id": "f124e67b0d124853935f9d3aef968b28",
       "version_major": 2,
       "version_minor": 0
      },
      "text/plain": [
       "Text(value='add EnergyFraction {1000022} {0.0}', layout=Layout(width='550px'))"
      ]
     },
     "metadata": {},
     "output_type": "display_data"
    },
    {
     "data": {
      "application/vnd.jupyter.widget-view+json": {
       "model_id": "cab0c87ed5a94ce2bf5191a521f13dee",
       "version_major": 2,
       "version_minor": 0
      },
      "text/plain": [
       "Text(value='add EnergyFraction {1000023} {0.0}', layout=Layout(width='550px'))"
      ]
     },
     "metadata": {},
     "output_type": "display_data"
    },
    {
     "data": {
      "application/vnd.jupyter.widget-view+json": {
       "model_id": "1e238240ad084990a8f4fb13509566f6",
       "version_major": 2,
       "version_minor": 0
      },
      "text/plain": [
       "Text(value='add EnergyFraction {1000025} {0.0}', layout=Layout(width='550px'))"
      ]
     },
     "metadata": {},
     "output_type": "display_data"
    },
    {
     "data": {
      "application/vnd.jupyter.widget-view+json": {
       "model_id": "84f9b8f5c5254a79aebb84fa494708ec",
       "version_major": 2,
       "version_minor": 0
      },
      "text/plain": [
       "Text(value='add EnergyFraction {1000035} {0.0}', layout=Layout(width='550px'))"
      ]
     },
     "metadata": {},
     "output_type": "display_data"
    },
    {
     "data": {
      "application/vnd.jupyter.widget-view+json": {
       "model_id": "7671ae3c798245ad9470829e36c2a658",
       "version_major": 2,
       "version_minor": 0
      },
      "text/plain": [
       "Text(value='add EnergyFraction {1000045} {0.0}', layout=Layout(width='550px'))"
      ]
     },
     "metadata": {},
     "output_type": "display_data"
    },
    {
     "name": "stdout",
     "output_type": "stream",
     "text": [
      "# energy fractions for K0short and Lambda\n"
     ]
    },
    {
     "data": {
      "application/vnd.jupyter.widget-view+json": {
       "model_id": "677ff90a89fc46179de4a8efcaeee6e8",
       "version_major": 2,
       "version_minor": 0
      },
      "text/plain": [
       "Text(value='add EnergyFraction {310} {0.3}', layout=Layout(width='550px'))"
      ]
     },
     "metadata": {},
     "output_type": "display_data"
    },
    {
     "data": {
      "application/vnd.jupyter.widget-view+json": {
       "model_id": "e94704c21e864f7b858ce62c3fb59eda",
       "version_major": 2,
       "version_minor": 0
      },
      "text/plain": [
       "Text(value='add EnergyFraction {3122} {0.3}', layout=Layout(width='550px'))"
      ]
     },
     "metadata": {},
     "output_type": "display_data"
    },
    {
     "name": "stdout",
     "output_type": "stream",
     "text": [
      "\n",
      "# set ResolutionFormula {resolution formula as a function of eta and energy}\n",
      "\n",
      "# for the ECAL barrel (|eta| < 1.5), see hep-ex/1306.2016 and 1502.02701\n",
      "\n",
      "# set ECalResolutionFormula {resolution formula as a function of eta and energy}\n",
      "# Eta shape from arXiv:1306.2016, Energy shape from arXiv:1502.02701\n"
     ]
    },
    {
     "data": {
      "application/vnd.jupyter.widget-view+json": {
       "model_id": "fa9597527ece44f981b8a2f09dd08f8a",
       "version_major": 2,
       "version_minor": 0
      },
      "text/plain": [
       "Text(value='set ResolutionFormula {                      (abs(eta) <= 1.5) * (1+0.64*eta^2) * sqrt(energy^2*0.…"
      ]
     },
     "metadata": {},
     "output_type": "display_data"
    },
    {
     "data": {
      "application/vnd.jupyter.widget-view+json": {
       "model_id": "c6fd0a11c65d442eab2e35b628f1d53e",
       "version_major": 2,
       "version_minor": 0
      },
      "text/plain": [
       "Text(value='(abs(eta) > 1.5 && abs(eta) <= 2.5) * (2.16 + 5.6*(abs(eta)-2)^2) * sqrt(energy^2*0.008^2 + energy…"
      ]
     },
     "metadata": {},
     "output_type": "display_data"
    },
    {
     "data": {
      "application/vnd.jupyter.widget-view+json": {
       "model_id": "bf599f1313ba4a26aab6e9e5e7dfcb3e",
       "version_major": 2,
       "version_minor": 0
      },
      "text/plain": [
       "Text(value='(abs(eta) > 2.5 && abs(eta) <= 5.0) * sqrt(energy^2*0.107^2 + energy*2.08^2)}', layout=Layout(widt…"
      ]
     },
     "metadata": {},
     "output_type": "display_data"
    },
    {
     "name": "stdout",
     "output_type": "stream",
     "text": [
      "\n"
     ]
    },
    {
     "data": {
      "application/vnd.jupyter.widget-view+json": {
       "model_id": "0dfcdf09138347328d30d9956bc2e5fd",
       "version_major": 2,
       "version_minor": 0
      },
      "text/plain": [
       "Text(value='}', layout=Layout(width='550px'))"
      ]
     },
     "metadata": {},
     "output_type": "display_data"
    },
    {
     "name": "stdout",
     "output_type": "stream",
     "text": [
      "\n",
      "\n",
      "#############\n",
      "#   HCAL\n",
      "#############\n",
      "\n"
     ]
    },
    {
     "data": {
      "application/vnd.jupyter.widget-view+json": {
       "model_id": "6d48e7395dba4ca182e7a15d9ce9abbc",
       "version_major": 2,
       "version_minor": 0
      },
      "text/plain": [
       "Text(value='module SimpleCalorimeter HCal {', layout=Layout(width='550px'))"
      ]
     },
     "metadata": {},
     "output_type": "display_data"
    },
    {
     "data": {
      "application/vnd.jupyter.widget-view+json": {
       "model_id": "d2d1a5930ce14258911a4e307c3d506c",
       "version_major": 2,
       "version_minor": 0
      },
      "text/plain": [
       "Text(value='set ParticleInputArray ParticlePropagator/stableParticles', layout=Layout(width='550px'))"
      ]
     },
     "metadata": {},
     "output_type": "display_data"
    },
    {
     "data": {
      "application/vnd.jupyter.widget-view+json": {
       "model_id": "2988804f6e6a4a5aade30578d4f01d91",
       "version_major": 2,
       "version_minor": 0
      },
      "text/plain": [
       "Text(value='set TrackInputArray ECal/eflowTracks', layout=Layout(width='550px'))"
      ]
     },
     "metadata": {},
     "output_type": "display_data"
    },
    {
     "name": "stdout",
     "output_type": "stream",
     "text": [
      "\n"
     ]
    },
    {
     "data": {
      "application/vnd.jupyter.widget-view+json": {
       "model_id": "6600491f1f494eac87c4bb03c3246661",
       "version_major": 2,
       "version_minor": 0
      },
      "text/plain": [
       "Text(value='set TowerOutputArray hcalTowers', layout=Layout(width='550px'))"
      ]
     },
     "metadata": {},
     "output_type": "display_data"
    },
    {
     "data": {
      "application/vnd.jupyter.widget-view+json": {
       "model_id": "4c663e1094744c6895e85e5bebf7d062",
       "version_major": 2,
       "version_minor": 0
      },
      "text/plain": [
       "Text(value='set EFlowTrackOutputArray eflowTracks', layout=Layout(width='550px'))"
      ]
     },
     "metadata": {},
     "output_type": "display_data"
    },
    {
     "data": {
      "application/vnd.jupyter.widget-view+json": {
       "model_id": "40928b8a8e894d0ca08aa823dfdc8d2c",
       "version_major": 2,
       "version_minor": 0
      },
      "text/plain": [
       "Text(value='set EFlowTowerOutputArray eflowNeutralHadrons', layout=Layout(width='550px'))"
      ]
     },
     "metadata": {},
     "output_type": "display_data"
    },
    {
     "name": "stdout",
     "output_type": "stream",
     "text": [
      "\n"
     ]
    },
    {
     "data": {
      "application/vnd.jupyter.widget-view+json": {
       "model_id": "a838eb8b717645199465eb381087cc4d",
       "version_major": 2,
       "version_minor": 0
      },
      "text/plain": [
       "Text(value='set IsEcal false', layout=Layout(width='550px'))"
      ]
     },
     "metadata": {},
     "output_type": "display_data"
    },
    {
     "name": "stdout",
     "output_type": "stream",
     "text": [
      "\n"
     ]
    },
    {
     "data": {
      "application/vnd.jupyter.widget-view+json": {
       "model_id": "1e576b60dc174df2b195546c4c936692",
       "version_major": 2,
       "version_minor": 0
      },
      "text/plain": [
       "Text(value='set EnergyMin 1.0', layout=Layout(width='550px'))"
      ]
     },
     "metadata": {},
     "output_type": "display_data"
    },
    {
     "data": {
      "application/vnd.jupyter.widget-view+json": {
       "model_id": "844ec5e0a13d4a7cb665564e776731ee",
       "version_major": 2,
       "version_minor": 0
      },
      "text/plain": [
       "Text(value='set EnergySignificanceMin 1.0', layout=Layout(width='550px'))"
      ]
     },
     "metadata": {},
     "output_type": "display_data"
    },
    {
     "name": "stdout",
     "output_type": "stream",
     "text": [
      "\n"
     ]
    },
    {
     "data": {
      "application/vnd.jupyter.widget-view+json": {
       "model_id": "a5d56624c683455ba31c54496fb3507f",
       "version_major": 2,
       "version_minor": 0
      },
      "text/plain": [
       "Text(value='set SmearTowerCenter true', layout=Layout(width='550px'))"
      ]
     },
     "metadata": {},
     "output_type": "display_data"
    },
    {
     "name": "stdout",
     "output_type": "stream",
     "text": [
      "\n"
     ]
    },
    {
     "data": {
      "application/vnd.jupyter.widget-view+json": {
       "model_id": "1d6387f7f8ff42ed9ff4ef199752106c",
       "version_major": 2,
       "version_minor": 0
      },
      "text/plain": [
       "Text(value='set pi [expr {acos(-1)}]', layout=Layout(width='550px'))"
      ]
     },
     "metadata": {},
     "output_type": "display_data"
    },
    {
     "name": "stdout",
     "output_type": "stream",
     "text": [
      "\n",
      "# lists of the edges of each tower in eta and phi\n",
      "# each list starts with the lower edge of the first tower\n",
      "# the list ends with the higher edged of the last tower\n",
      "\n",
      "# 5 degrees towers\n"
     ]
    },
    {
     "data": {
      "application/vnd.jupyter.widget-view+json": {
       "model_id": "b33e46954d33429d998aae9f740bcbaa",
       "version_major": 2,
       "version_minor": 0
      },
      "text/plain": [
       "Text(value='set PhiBins {}', layout=Layout(width='550px'))"
      ]
     },
     "metadata": {},
     "output_type": "display_data"
    },
    {
     "data": {
      "application/vnd.jupyter.widget-view+json": {
       "model_id": "45a21ccc5f9d47e596c283489e64ebf3",
       "version_major": 2,
       "version_minor": 0
      },
      "text/plain": [
       "Text(value='for {set i -36} {$i <= 36} {incr i} {', layout=Layout(width='550px'))"
      ]
     },
     "metadata": {},
     "output_type": "display_data"
    },
    {
     "data": {
      "application/vnd.jupyter.widget-view+json": {
       "model_id": "817f33bd1fb34174a0ddbdd062312c1f",
       "version_major": 2,
       "version_minor": 0
      },
      "text/plain": [
       "Text(value='add PhiBins [expr {$i * $pi/36.0}]', layout=Layout(width='550px'))"
      ]
     },
     "metadata": {},
     "output_type": "display_data"
    },
    {
     "data": {
      "application/vnd.jupyter.widget-view+json": {
       "model_id": "e3295e80c25a4a8d98794f90f657088d",
       "version_major": 2,
       "version_minor": 0
      },
      "text/plain": [
       "Text(value='}', layout=Layout(width='550px'))"
      ]
     },
     "metadata": {},
     "output_type": "display_data"
    },
    {
     "data": {
      "application/vnd.jupyter.widget-view+json": {
       "model_id": "320b00f888884fd196fe16b2ff135bdf",
       "version_major": 2,
       "version_minor": 0
      },
      "text/plain": [
       "Text(value='foreach eta {-1.566 -1.479 -1.392 -1.305 -1.218 -1.131 -1.044 -0.957 -0.87 -0.783 -0.696 -0.609 -0…"
      ]
     },
     "metadata": {},
     "output_type": "display_data"
    },
    {
     "data": {
      "application/vnd.jupyter.widget-view+json": {
       "model_id": "4a8ee0a92f9b4364aeebb07579ffbd72",
       "version_major": 2,
       "version_minor": 0
      },
      "text/plain": [
       "Text(value='add EtaPhiBins $eta $PhiBins', layout=Layout(width='550px'))"
      ]
     },
     "metadata": {},
     "output_type": "display_data"
    },
    {
     "data": {
      "application/vnd.jupyter.widget-view+json": {
       "model_id": "83b04e224f06497cb710c03055a7f5be",
       "version_major": 2,
       "version_minor": 0
      },
      "text/plain": [
       "Text(value='}', layout=Layout(width='550px'))"
      ]
     },
     "metadata": {},
     "output_type": "display_data"
    },
    {
     "name": "stdout",
     "output_type": "stream",
     "text": [
      "\n",
      "# 10 degrees towers\n"
     ]
    },
    {
     "data": {
      "application/vnd.jupyter.widget-view+json": {
       "model_id": "8c7f115e92a1406393f3f2eeb559ac72",
       "version_major": 2,
       "version_minor": 0
      },
      "text/plain": [
       "Text(value='set PhiBins {}', layout=Layout(width='550px'))"
      ]
     },
     "metadata": {},
     "output_type": "display_data"
    },
    {
     "data": {
      "application/vnd.jupyter.widget-view+json": {
       "model_id": "d79df6990cd54865be763d874225c99b",
       "version_major": 2,
       "version_minor": 0
      },
      "text/plain": [
       "Text(value='for {set i -18} {$i <= 18} {incr i} {', layout=Layout(width='550px'))"
      ]
     },
     "metadata": {},
     "output_type": "display_data"
    },
    {
     "data": {
      "application/vnd.jupyter.widget-view+json": {
       "model_id": "1397c2d9cfe140db8820cace37e5102f",
       "version_major": 2,
       "version_minor": 0
      },
      "text/plain": [
       "Text(value='add PhiBins [expr {$i * $pi/18.0}]', layout=Layout(width='550px'))"
      ]
     },
     "metadata": {},
     "output_type": "display_data"
    },
    {
     "data": {
      "application/vnd.jupyter.widget-view+json": {
       "model_id": "b57bcd600c1944a2ad9168ccafc39f5b",
       "version_major": 2,
       "version_minor": 0
      },
      "text/plain": [
       "Text(value='}', layout=Layout(width='550px'))"
      ]
     },
     "metadata": {},
     "output_type": "display_data"
    },
    {
     "data": {
      "application/vnd.jupyter.widget-view+json": {
       "model_id": "7fed5d4ede1446faaa6bf810d7f5228c",
       "version_major": 2,
       "version_minor": 0
      },
      "text/plain": [
       "Text(value='foreach eta {-4.35 -4.175 -4 -3.825 -3.65 -3.475 -3.3 -3.125 -2.95 -2.868 -2.65 -2.5 -2.322 -2.172…"
      ]
     },
     "metadata": {},
     "output_type": "display_data"
    },
    {
     "data": {
      "application/vnd.jupyter.widget-view+json": {
       "model_id": "975636346f404527a794531449c17175",
       "version_major": 2,
       "version_minor": 0
      },
      "text/plain": [
       "Text(value='add EtaPhiBins $eta $PhiBins', layout=Layout(width='550px'))"
      ]
     },
     "metadata": {},
     "output_type": "display_data"
    },
    {
     "data": {
      "application/vnd.jupyter.widget-view+json": {
       "model_id": "4f74790df20844198196c17694e594c3",
       "version_major": 2,
       "version_minor": 0
      },
      "text/plain": [
       "Text(value='}', layout=Layout(width='550px'))"
      ]
     },
     "metadata": {},
     "output_type": "display_data"
    },
    {
     "name": "stdout",
     "output_type": "stream",
     "text": [
      "\n",
      "# 20 degrees towers\n"
     ]
    },
    {
     "data": {
      "application/vnd.jupyter.widget-view+json": {
       "model_id": "9e2797a30a9645249b99e6bc82940047",
       "version_major": 2,
       "version_minor": 0
      },
      "text/plain": [
       "Text(value='set PhiBins {}', layout=Layout(width='550px'))"
      ]
     },
     "metadata": {},
     "output_type": "display_data"
    },
    {
     "data": {
      "application/vnd.jupyter.widget-view+json": {
       "model_id": "b49491ea9d384a3a9c4487b38c26954a",
       "version_major": 2,
       "version_minor": 0
      },
      "text/plain": [
       "Text(value='for {set i -9} {$i <= 9} {incr i} {', layout=Layout(width='550px'))"
      ]
     },
     "metadata": {},
     "output_type": "display_data"
    },
    {
     "data": {
      "application/vnd.jupyter.widget-view+json": {
       "model_id": "6c6934b6fdb7456baca3f130ec86e86c",
       "version_major": 2,
       "version_minor": 0
      },
      "text/plain": [
       "Text(value='add PhiBins [expr {$i * $pi/9.0}]', layout=Layout(width='550px'))"
      ]
     },
     "metadata": {},
     "output_type": "display_data"
    },
    {
     "data": {
      "application/vnd.jupyter.widget-view+json": {
       "model_id": "51f7ab020cbb435b97814c290a76b038",
       "version_major": 2,
       "version_minor": 0
      },
      "text/plain": [
       "Text(value='}', layout=Layout(width='550px'))"
      ]
     },
     "metadata": {},
     "output_type": "display_data"
    },
    {
     "data": {
      "application/vnd.jupyter.widget-view+json": {
       "model_id": "3db1b6b883ee494098511f062c7fcf6c",
       "version_major": 2,
       "version_minor": 0
      },
      "text/plain": [
       "Text(value='foreach eta {-5 -4.7 -4.525 4.7 5} {', layout=Layout(width='550px'))"
      ]
     },
     "metadata": {},
     "output_type": "display_data"
    },
    {
     "data": {
      "application/vnd.jupyter.widget-view+json": {
       "model_id": "613728083a324ee99bbe73e86764f42c",
       "version_major": 2,
       "version_minor": 0
      },
      "text/plain": [
       "Text(value='add EtaPhiBins $eta $PhiBins', layout=Layout(width='550px'))"
      ]
     },
     "metadata": {},
     "output_type": "display_data"
    },
    {
     "data": {
      "application/vnd.jupyter.widget-view+json": {
       "model_id": "ad5e309065b2485986de5f5193dac0f5",
       "version_major": 2,
       "version_minor": 0
      },
      "text/plain": [
       "Text(value='}', layout=Layout(width='550px'))"
      ]
     },
     "metadata": {},
     "output_type": "display_data"
    },
    {
     "name": "stdout",
     "output_type": "stream",
     "text": [
      "\n",
      "# default energy fractions {abs(PDG code)} {Fecal Fhcal}\n"
     ]
    },
    {
     "data": {
      "application/vnd.jupyter.widget-view+json": {
       "model_id": "389b6c812b6b4f11b25bbd66b70211f4",
       "version_major": 2,
       "version_minor": 0
      },
      "text/plain": [
       "Text(value='add EnergyFraction {0} {1.0}', layout=Layout(width='550px'))"
      ]
     },
     "metadata": {},
     "output_type": "display_data"
    },
    {
     "name": "stdout",
     "output_type": "stream",
     "text": [
      "# energy fractions for e, gamma and pi0\n"
     ]
    },
    {
     "data": {
      "application/vnd.jupyter.widget-view+json": {
       "model_id": "bfd13be16f6647e8b8d3228c0d788d9e",
       "version_major": 2,
       "version_minor": 0
      },
      "text/plain": [
       "Text(value='add EnergyFraction {11} {0.0}', layout=Layout(width='550px'))"
      ]
     },
     "metadata": {},
     "output_type": "display_data"
    },
    {
     "data": {
      "application/vnd.jupyter.widget-view+json": {
       "model_id": "79ee426f183444939fa372f7d256f9d4",
       "version_major": 2,
       "version_minor": 0
      },
      "text/plain": [
       "Text(value='add EnergyFraction {22} {0.0}', layout=Layout(width='550px'))"
      ]
     },
     "metadata": {},
     "output_type": "display_data"
    },
    {
     "data": {
      "application/vnd.jupyter.widget-view+json": {
       "model_id": "7585f8d346ef4b079cd39b64a6b5d6d8",
       "version_major": 2,
       "version_minor": 0
      },
      "text/plain": [
       "Text(value='add EnergyFraction {111} {0.0}', layout=Layout(width='550px'))"
      ]
     },
     "metadata": {},
     "output_type": "display_data"
    },
    {
     "name": "stdout",
     "output_type": "stream",
     "text": [
      "# energy fractions for muon, neutrinos and neutralinos\n"
     ]
    },
    {
     "data": {
      "application/vnd.jupyter.widget-view+json": {
       "model_id": "443005b16a704259a9d70c6f8f2ae992",
       "version_major": 2,
       "version_minor": 0
      },
      "text/plain": [
       "Text(value='add EnergyFraction {12} {0.0}', layout=Layout(width='550px'))"
      ]
     },
     "metadata": {},
     "output_type": "display_data"
    },
    {
     "data": {
      "application/vnd.jupyter.widget-view+json": {
       "model_id": "345fa30047824e538c76955f04089ac3",
       "version_major": 2,
       "version_minor": 0
      },
      "text/plain": [
       "Text(value='add EnergyFraction {13} {0.0}', layout=Layout(width='550px'))"
      ]
     },
     "metadata": {},
     "output_type": "display_data"
    },
    {
     "data": {
      "application/vnd.jupyter.widget-view+json": {
       "model_id": "8f849ed155434a6cbfbd075c23d54559",
       "version_major": 2,
       "version_minor": 0
      },
      "text/plain": [
       "Text(value='add EnergyFraction {14} {0.0}', layout=Layout(width='550px'))"
      ]
     },
     "metadata": {},
     "output_type": "display_data"
    },
    {
     "data": {
      "application/vnd.jupyter.widget-view+json": {
       "model_id": "ef973daf999649e995b9d4c4d80559db",
       "version_major": 2,
       "version_minor": 0
      },
      "text/plain": [
       "Text(value='add EnergyFraction {16} {0.0}', layout=Layout(width='550px'))"
      ]
     },
     "metadata": {},
     "output_type": "display_data"
    },
    {
     "data": {
      "application/vnd.jupyter.widget-view+json": {
       "model_id": "5f16d6e5b7c840d3b9e2b0a5cb530aec",
       "version_major": 2,
       "version_minor": 0
      },
      "text/plain": [
       "Text(value='add EnergyFraction {1000022} {0.0}', layout=Layout(width='550px'))"
      ]
     },
     "metadata": {},
     "output_type": "display_data"
    },
    {
     "data": {
      "application/vnd.jupyter.widget-view+json": {
       "model_id": "ce824b7c5b164b0692188761f49eea80",
       "version_major": 2,
       "version_minor": 0
      },
      "text/plain": [
       "Text(value='add EnergyFraction {1000023} {0.0}', layout=Layout(width='550px'))"
      ]
     },
     "metadata": {},
     "output_type": "display_data"
    },
    {
     "data": {
      "application/vnd.jupyter.widget-view+json": {
       "model_id": "baa2c3a443f3479c9fb72b668fdccbef",
       "version_major": 2,
       "version_minor": 0
      },
      "text/plain": [
       "Text(value='add EnergyFraction {1000025} {0.0}', layout=Layout(width='550px'))"
      ]
     },
     "metadata": {},
     "output_type": "display_data"
    },
    {
     "data": {
      "application/vnd.jupyter.widget-view+json": {
       "model_id": "4430e311da6d4aa3bbfa19789ac5b15a",
       "version_major": 2,
       "version_minor": 0
      },
      "text/plain": [
       "Text(value='add EnergyFraction {1000035} {0.0}', layout=Layout(width='550px'))"
      ]
     },
     "metadata": {},
     "output_type": "display_data"
    },
    {
     "data": {
      "application/vnd.jupyter.widget-view+json": {
       "model_id": "6df14b0052a44eb0b9ca5e4d438b547e",
       "version_major": 2,
       "version_minor": 0
      },
      "text/plain": [
       "Text(value='add EnergyFraction {1000045} {0.0}', layout=Layout(width='550px'))"
      ]
     },
     "metadata": {},
     "output_type": "display_data"
    },
    {
     "name": "stdout",
     "output_type": "stream",
     "text": [
      "# energy fractions for K0short and Lambda\n"
     ]
    },
    {
     "data": {
      "application/vnd.jupyter.widget-view+json": {
       "model_id": "7ea9ab8b702844a49e8bfe52637455b6",
       "version_major": 2,
       "version_minor": 0
      },
      "text/plain": [
       "Text(value='add EnergyFraction {310} {0.7}', layout=Layout(width='550px'))"
      ]
     },
     "metadata": {},
     "output_type": "display_data"
    },
    {
     "data": {
      "application/vnd.jupyter.widget-view+json": {
       "model_id": "c5d6030843154e529f435f151c41c354",
       "version_major": 2,
       "version_minor": 0
      },
      "text/plain": [
       "Text(value='add EnergyFraction {3122} {0.7}', layout=Layout(width='550px'))"
      ]
     },
     "metadata": {},
     "output_type": "display_data"
    },
    {
     "name": "stdout",
     "output_type": "stream",
     "text": [
      "\n",
      "# set HCalResolutionFormula {resolution formula as a function of eta and energy}\n"
     ]
    },
    {
     "data": {
      "application/vnd.jupyter.widget-view+json": {
       "model_id": "d2d6a629a79a4a9e95d6a45c3df6e2e5",
       "version_major": 2,
       "version_minor": 0
      },
      "text/plain": [
       "Text(value='set ResolutionFormula {                      (abs(eta) <= 3.0) * sqrt(energy^2*0.050^2 + energy*1.…"
      ]
     },
     "metadata": {},
     "output_type": "display_data"
    },
    {
     "data": {
      "application/vnd.jupyter.widget-view+json": {
       "model_id": "60642507e43d4b1ea96f7ce7b000da6c",
       "version_major": 2,
       "version_minor": 0
      },
      "text/plain": [
       "Text(value='(abs(eta) > 3.0 && abs(eta) <= 5.0) * sqrt(energy^2*0.130^2 + energy*2.70^2)}', layout=Layout(widt…"
      ]
     },
     "metadata": {},
     "output_type": "display_data"
    },
    {
     "name": "stdout",
     "output_type": "stream",
     "text": [
      "\n"
     ]
    },
    {
     "data": {
      "application/vnd.jupyter.widget-view+json": {
       "model_id": "e31b9d4405ad4bfda281fa38e15ca942",
       "version_major": 2,
       "version_minor": 0
      },
      "text/plain": [
       "Text(value='}', layout=Layout(width='550px'))"
      ]
     },
     "metadata": {},
     "output_type": "display_data"
    },
    {
     "name": "stdout",
     "output_type": "stream",
     "text": [
      "\n",
      "\n",
      "#################\n",
      "# Electron filter\n",
      "#################\n",
      "\n"
     ]
    },
    {
     "data": {
      "application/vnd.jupyter.widget-view+json": {
       "model_id": "d226178d290b4536895f19cf0d0eb352",
       "version_major": 2,
       "version_minor": 0
      },
      "text/plain": [
       "Text(value='module PdgCodeFilter ElectronFilter {', layout=Layout(width='550px'))"
      ]
     },
     "metadata": {},
     "output_type": "display_data"
    },
    {
     "data": {
      "application/vnd.jupyter.widget-view+json": {
       "model_id": "0a0ac05218124e348da4eefdfa940b82",
       "version_major": 2,
       "version_minor": 0
      },
      "text/plain": [
       "Text(value='set InputArray HCal/eflowTracks', layout=Layout(width='550px'))"
      ]
     },
     "metadata": {},
     "output_type": "display_data"
    },
    {
     "data": {
      "application/vnd.jupyter.widget-view+json": {
       "model_id": "adf3bba0b4fc40239bffd1ad91d20124",
       "version_major": 2,
       "version_minor": 0
      },
      "text/plain": [
       "Text(value='set OutputArray electrons', layout=Layout(width='550px'))"
      ]
     },
     "metadata": {},
     "output_type": "display_data"
    },
    {
     "data": {
      "application/vnd.jupyter.widget-view+json": {
       "model_id": "afc3d3b09f424c30840c65e119f2df8c",
       "version_major": 2,
       "version_minor": 0
      },
      "text/plain": [
       "Text(value='set Invert true', layout=Layout(width='550px'))"
      ]
     },
     "metadata": {},
     "output_type": "display_data"
    },
    {
     "data": {
      "application/vnd.jupyter.widget-view+json": {
       "model_id": "085c8e2e0be84c34a74e9cd20dab1112",
       "version_major": 2,
       "version_minor": 0
      },
      "text/plain": [
       "Text(value='add PdgCode {11}', layout=Layout(width='550px'))"
      ]
     },
     "metadata": {},
     "output_type": "display_data"
    },
    {
     "data": {
      "application/vnd.jupyter.widget-view+json": {
       "model_id": "ee0d41b40c0e4ee19cff383f53fc4452",
       "version_major": 2,
       "version_minor": 0
      },
      "text/plain": [
       "Text(value='add PdgCode {-11}', layout=Layout(width='550px'))"
      ]
     },
     "metadata": {},
     "output_type": "display_data"
    },
    {
     "data": {
      "application/vnd.jupyter.widget-view+json": {
       "model_id": "236b2720564344f9a663c60ce4d4ba10",
       "version_major": 2,
       "version_minor": 0
      },
      "text/plain": [
       "Text(value='}', layout=Layout(width='550px'))"
      ]
     },
     "metadata": {},
     "output_type": "display_data"
    },
    {
     "name": "stdout",
     "output_type": "stream",
     "text": [
      "\n",
      "######################\n",
      "# ChargedHadronFilter\n",
      "######################\n",
      "\n"
     ]
    },
    {
     "data": {
      "application/vnd.jupyter.widget-view+json": {
       "model_id": "66273cc8767348a18b75952acfa5c6bc",
       "version_major": 2,
       "version_minor": 0
      },
      "text/plain": [
       "Text(value='module PdgCodeFilter ChargedHadronFilter {', layout=Layout(width='550px'))"
      ]
     },
     "metadata": {},
     "output_type": "display_data"
    },
    {
     "data": {
      "application/vnd.jupyter.widget-view+json": {
       "model_id": "645a6b18116a48038dfef5e65b3dce99",
       "version_major": 2,
       "version_minor": 0
      },
      "text/plain": [
       "Text(value='set InputArray HCal/eflowTracks', layout=Layout(width='550px'))"
      ]
     },
     "metadata": {},
     "output_type": "display_data"
    },
    {
     "data": {
      "application/vnd.jupyter.widget-view+json": {
       "model_id": "5cffa460ed4046439be6f9257c3959bb",
       "version_major": 2,
       "version_minor": 0
      },
      "text/plain": [
       "Text(value='set OutputArray chargedHadrons', layout=Layout(width='550px'))"
      ]
     },
     "metadata": {},
     "output_type": "display_data"
    },
    {
     "name": "stdout",
     "output_type": "stream",
     "text": [
      "\n"
     ]
    },
    {
     "data": {
      "application/vnd.jupyter.widget-view+json": {
       "model_id": "2a81b10e2f4742f0ba4c7bc4ce5b3ec2",
       "version_major": 2,
       "version_minor": 0
      },
      "text/plain": [
       "Text(value='add PdgCode {11}', layout=Layout(width='550px'))"
      ]
     },
     "metadata": {},
     "output_type": "display_data"
    },
    {
     "data": {
      "application/vnd.jupyter.widget-view+json": {
       "model_id": "082e98a429a842dd96ef6844b5db4a84",
       "version_major": 2,
       "version_minor": 0
      },
      "text/plain": [
       "Text(value='add PdgCode {-11}', layout=Layout(width='550px'))"
      ]
     },
     "metadata": {},
     "output_type": "display_data"
    },
    {
     "data": {
      "application/vnd.jupyter.widget-view+json": {
       "model_id": "7d8f7754c24440669b72c6e25e83df40",
       "version_major": 2,
       "version_minor": 0
      },
      "text/plain": [
       "Text(value='add PdgCode {13}', layout=Layout(width='550px'))"
      ]
     },
     "metadata": {},
     "output_type": "display_data"
    },
    {
     "data": {
      "application/vnd.jupyter.widget-view+json": {
       "model_id": "a9b9f0c986f94db18f6235de0b5a74ca",
       "version_major": 2,
       "version_minor": 0
      },
      "text/plain": [
       "Text(value='add PdgCode {-13}', layout=Layout(width='550px'))"
      ]
     },
     "metadata": {},
     "output_type": "display_data"
    },
    {
     "data": {
      "application/vnd.jupyter.widget-view+json": {
       "model_id": "b531e3e0ffbe4d0280051e470efe7696",
       "version_major": 2,
       "version_minor": 0
      },
      "text/plain": [
       "Text(value='}', layout=Layout(width='550px'))"
      ]
     },
     "metadata": {},
     "output_type": "display_data"
    },
    {
     "name": "stdout",
     "output_type": "stream",
     "text": [
      "\n",
      "\n",
      "###################################################\n",
      "# Tower Merger (in case not using e-flow algorithm)\n",
      "###################################################\n",
      "\n"
     ]
    },
    {
     "data": {
      "application/vnd.jupyter.widget-view+json": {
       "model_id": "365ba51b63ec4275afb4767ee441fd43",
       "version_major": 2,
       "version_minor": 0
      },
      "text/plain": [
       "Text(value='module Merger Calorimeter {', layout=Layout(width='550px'))"
      ]
     },
     "metadata": {},
     "output_type": "display_data"
    },
    {
     "name": "stdout",
     "output_type": "stream",
     "text": [
      "# add InputArray InputArray\n"
     ]
    },
    {
     "data": {
      "application/vnd.jupyter.widget-view+json": {
       "model_id": "66ba0de33dcc4eb98ce5a56ad0844d61",
       "version_major": 2,
       "version_minor": 0
      },
      "text/plain": [
       "Text(value='add InputArray ECal/ecalTowers', layout=Layout(width='550px'))"
      ]
     },
     "metadata": {},
     "output_type": "display_data"
    },
    {
     "data": {
      "application/vnd.jupyter.widget-view+json": {
       "model_id": "e5e5bcf188cb4d82a61267dfb74b4ee6",
       "version_major": 2,
       "version_minor": 0
      },
      "text/plain": [
       "Text(value='add InputArray HCal/hcalTowers', layout=Layout(width='550px'))"
      ]
     },
     "metadata": {},
     "output_type": "display_data"
    },
    {
     "data": {
      "application/vnd.jupyter.widget-view+json": {
       "model_id": "06ac2cff0ba0418d981f2ac780865f8e",
       "version_major": 2,
       "version_minor": 0
      },
      "text/plain": [
       "Text(value='set OutputArray towers', layout=Layout(width='550px'))"
      ]
     },
     "metadata": {},
     "output_type": "display_data"
    },
    {
     "data": {
      "application/vnd.jupyter.widget-view+json": {
       "model_id": "10f4b739b1544fdfb4eef67507ec25c0",
       "version_major": 2,
       "version_minor": 0
      },
      "text/plain": [
       "Text(value='}', layout=Layout(width='550px'))"
      ]
     },
     "metadata": {},
     "output_type": "display_data"
    },
    {
     "name": "stdout",
     "output_type": "stream",
     "text": [
      "\n",
      "\n",
      "\n",
      "####################\n",
      "# Energy flow merger\n",
      "####################\n",
      "\n"
     ]
    },
    {
     "data": {
      "application/vnd.jupyter.widget-view+json": {
       "model_id": "54ef44c679124a6782f2147151f66a31",
       "version_major": 2,
       "version_minor": 0
      },
      "text/plain": [
       "Text(value='module Merger EFlowMerger {', layout=Layout(width='550px'))"
      ]
     },
     "metadata": {},
     "output_type": "display_data"
    },
    {
     "name": "stdout",
     "output_type": "stream",
     "text": [
      "# add InputArray InputArray\n"
     ]
    },
    {
     "data": {
      "application/vnd.jupyter.widget-view+json": {
       "model_id": "094e77706ce548aaa7b13c857684b5a8",
       "version_major": 2,
       "version_minor": 0
      },
      "text/plain": [
       "Text(value='add InputArray HCal/eflowTracks', layout=Layout(width='550px'))"
      ]
     },
     "metadata": {},
     "output_type": "display_data"
    },
    {
     "data": {
      "application/vnd.jupyter.widget-view+json": {
       "model_id": "b3bf337cb3f84e5bb12869fa547a1ba9",
       "version_major": 2,
       "version_minor": 0
      },
      "text/plain": [
       "Text(value='add InputArray ECal/eflowPhotons', layout=Layout(width='550px'))"
      ]
     },
     "metadata": {},
     "output_type": "display_data"
    },
    {
     "data": {
      "application/vnd.jupyter.widget-view+json": {
       "model_id": "22d1188ea9d547a7bcc49f18e1901443",
       "version_major": 2,
       "version_minor": 0
      },
      "text/plain": [
       "Text(value='add InputArray HCal/eflowNeutralHadrons', layout=Layout(width='550px'))"
      ]
     },
     "metadata": {},
     "output_type": "display_data"
    },
    {
     "data": {
      "application/vnd.jupyter.widget-view+json": {
       "model_id": "a0feeaa550ba4f35923ae6da1425f046",
       "version_major": 2,
       "version_minor": 0
      },
      "text/plain": [
       "Text(value='set OutputArray eflow', layout=Layout(width='550px'))"
      ]
     },
     "metadata": {},
     "output_type": "display_data"
    },
    {
     "data": {
      "application/vnd.jupyter.widget-view+json": {
       "model_id": "45fb410cc634419192b38d3e5222d719",
       "version_major": 2,
       "version_minor": 0
      },
      "text/plain": [
       "Text(value='}', layout=Layout(width='550px'))"
      ]
     },
     "metadata": {},
     "output_type": "display_data"
    },
    {
     "name": "stdout",
     "output_type": "stream",
     "text": [
      "\n",
      "######################\n",
      "# EFlowFilter\n",
      "######################\n",
      "\n"
     ]
    },
    {
     "data": {
      "application/vnd.jupyter.widget-view+json": {
       "model_id": "f212b569f6ad459d911fd5cbd77a84b0",
       "version_major": 2,
       "version_minor": 0
      },
      "text/plain": [
       "Text(value='module PdgCodeFilter EFlowFilter {', layout=Layout(width='550px'))"
      ]
     },
     "metadata": {},
     "output_type": "display_data"
    },
    {
     "data": {
      "application/vnd.jupyter.widget-view+json": {
       "model_id": "baa6fce3ab43486aaf1580904e6a63fa",
       "version_major": 2,
       "version_minor": 0
      },
      "text/plain": [
       "Text(value='set InputArray EFlowMerger/eflow', layout=Layout(width='550px'))"
      ]
     },
     "metadata": {},
     "output_type": "display_data"
    },
    {
     "data": {
      "application/vnd.jupyter.widget-view+json": {
       "model_id": "016afde4324c443c8b436ddd860ab9da",
       "version_major": 2,
       "version_minor": 0
      },
      "text/plain": [
       "Text(value='set OutputArray eflow', layout=Layout(width='550px'))"
      ]
     },
     "metadata": {},
     "output_type": "display_data"
    },
    {
     "name": "stdout",
     "output_type": "stream",
     "text": [
      "\n"
     ]
    },
    {
     "data": {
      "application/vnd.jupyter.widget-view+json": {
       "model_id": "acc61ccf5ea24ffc914a85223bd2a778",
       "version_major": 2,
       "version_minor": 0
      },
      "text/plain": [
       "Text(value='add PdgCode {11}', layout=Layout(width='550px'))"
      ]
     },
     "metadata": {},
     "output_type": "display_data"
    },
    {
     "data": {
      "application/vnd.jupyter.widget-view+json": {
       "model_id": "a7989f77ba0149c189ce005b55af2400",
       "version_major": 2,
       "version_minor": 0
      },
      "text/plain": [
       "Text(value='add PdgCode {-11}', layout=Layout(width='550px'))"
      ]
     },
     "metadata": {},
     "output_type": "display_data"
    },
    {
     "data": {
      "application/vnd.jupyter.widget-view+json": {
       "model_id": "8bf61712562f45719c0300e8ddcfa4c1",
       "version_major": 2,
       "version_minor": 0
      },
      "text/plain": [
       "Text(value='add PdgCode {13}', layout=Layout(width='550px'))"
      ]
     },
     "metadata": {},
     "output_type": "display_data"
    },
    {
     "data": {
      "application/vnd.jupyter.widget-view+json": {
       "model_id": "c4cd2deb7b42411986274b33859551ad",
       "version_major": 2,
       "version_minor": 0
      },
      "text/plain": [
       "Text(value='add PdgCode {-13}', layout=Layout(width='550px'))"
      ]
     },
     "metadata": {},
     "output_type": "display_data"
    },
    {
     "data": {
      "application/vnd.jupyter.widget-view+json": {
       "model_id": "5f754bfdee7348e8b85fad8242fddfb9",
       "version_major": 2,
       "version_minor": 0
      },
      "text/plain": [
       "Text(value='}', layout=Layout(width='550px'))"
      ]
     },
     "metadata": {},
     "output_type": "display_data"
    },
    {
     "name": "stdout",
     "output_type": "stream",
     "text": [
      "\n",
      "\n",
      "###################\n",
      "# Photon efficiency\n",
      "###################\n",
      "\n"
     ]
    },
    {
     "data": {
      "application/vnd.jupyter.widget-view+json": {
       "model_id": "463e5988707948fdbfa3bd7302dee570",
       "version_major": 2,
       "version_minor": 0
      },
      "text/plain": [
       "Text(value='module Efficiency PhotonEfficiency {', layout=Layout(width='550px'))"
      ]
     },
     "metadata": {},
     "output_type": "display_data"
    },
    {
     "data": {
      "application/vnd.jupyter.widget-view+json": {
       "model_id": "58ded8b17baa4668a8bb8e9e7b26a075",
       "version_major": 2,
       "version_minor": 0
      },
      "text/plain": [
       "Text(value='set InputArray ECal/eflowPhotons', layout=Layout(width='550px'))"
      ]
     },
     "metadata": {},
     "output_type": "display_data"
    },
    {
     "data": {
      "application/vnd.jupyter.widget-view+json": {
       "model_id": "3cb9c35bf91249dabbd2eada75f07e38",
       "version_major": 2,
       "version_minor": 0
      },
      "text/plain": [
       "Text(value='set OutputArray photons', layout=Layout(width='550px'))"
      ]
     },
     "metadata": {},
     "output_type": "display_data"
    },
    {
     "name": "stdout",
     "output_type": "stream",
     "text": [
      "\n",
      "# set EfficiencyFormula {efficiency formula as a function of eta and pt}\n",
      "\n",
      "# efficiency formula for photons\n"
     ]
    },
    {
     "data": {
      "application/vnd.jupyter.widget-view+json": {
       "model_id": "0c0b8d0fd28341aa96f3bc86fd9ab24b",
       "version_major": 2,
       "version_minor": 0
      },
      "text/plain": [
       "Text(value='set EfficiencyFormula {                                      (pt <= 10.0) * (0.00) +', layout=Layo…"
      ]
     },
     "metadata": {},
     "output_type": "display_data"
    },
    {
     "data": {
      "application/vnd.jupyter.widget-view+json": {
       "model_id": "c34f283cb31c44a7b4200aaf32fff254",
       "version_major": 2,
       "version_minor": 0
      },
      "text/plain": [
       "Text(value='(abs(eta) <= 1.5) * (pt > 10.0)  * (0.95) +', layout=Layout(width='550px'))"
      ]
     },
     "metadata": {},
     "output_type": "display_data"
    },
    {
     "data": {
      "application/vnd.jupyter.widget-view+json": {
       "model_id": "b3d5937d1a524c9994c6a0039e465d78",
       "version_major": 2,
       "version_minor": 0
      },
      "text/plain": [
       "Text(value='(abs(eta) > 1.5 && abs(eta) <= 2.5) * (pt > 10.0)  * (0.85) +', layout=Layout(width='550px'))"
      ]
     },
     "metadata": {},
     "output_type": "display_data"
    },
    {
     "data": {
      "application/vnd.jupyter.widget-view+json": {
       "model_id": "01e42f9b3b8441988dc850a956e87440",
       "version_major": 2,
       "version_minor": 0
      },
      "text/plain": [
       "Text(value='(abs(eta) > 2.5)                                   * (0.00)}', layout=Layout(width='550px'))"
      ]
     },
     "metadata": {},
     "output_type": "display_data"
    },
    {
     "data": {
      "application/vnd.jupyter.widget-view+json": {
       "model_id": "696b49c67e864624a75236feddf78fd0",
       "version_major": 2,
       "version_minor": 0
      },
      "text/plain": [
       "Text(value='}', layout=Layout(width='550px'))"
      ]
     },
     "metadata": {},
     "output_type": "display_data"
    },
    {
     "name": "stdout",
     "output_type": "stream",
     "text": [
      "\n",
      "##################\n",
      "# Photon isolation\n",
      "##################\n",
      "\n"
     ]
    },
    {
     "data": {
      "application/vnd.jupyter.widget-view+json": {
       "model_id": "b27277d8009f42aa8b395bf2807c7b7f",
       "version_major": 2,
       "version_minor": 0
      },
      "text/plain": [
       "Text(value='module Isolation PhotonIsolation {', layout=Layout(width='550px'))"
      ]
     },
     "metadata": {},
     "output_type": "display_data"
    },
    {
     "data": {
      "application/vnd.jupyter.widget-view+json": {
       "model_id": "962096e21622495f89520c3b8938b1f9",
       "version_major": 2,
       "version_minor": 0
      },
      "text/plain": [
       "Text(value='set CandidateInputArray PhotonEfficiency/photons', layout=Layout(width='550px'))"
      ]
     },
     "metadata": {},
     "output_type": "display_data"
    },
    {
     "data": {
      "application/vnd.jupyter.widget-view+json": {
       "model_id": "19da77081c9649349845524f5258d1f0",
       "version_major": 2,
       "version_minor": 0
      },
      "text/plain": [
       "Text(value='set IsolationInputArray EFlowFilter/eflow', layout=Layout(width='550px'))"
      ]
     },
     "metadata": {},
     "output_type": "display_data"
    },
    {
     "name": "stdout",
     "output_type": "stream",
     "text": [
      "\n"
     ]
    },
    {
     "data": {
      "application/vnd.jupyter.widget-view+json": {
       "model_id": "31f3ad838ad641038d7d178d7b85c7e0",
       "version_major": 2,
       "version_minor": 0
      },
      "text/plain": [
       "Text(value='set OutputArray photons', layout=Layout(width='550px'))"
      ]
     },
     "metadata": {},
     "output_type": "display_data"
    },
    {
     "name": "stdout",
     "output_type": "stream",
     "text": [
      "\n"
     ]
    },
    {
     "data": {
      "application/vnd.jupyter.widget-view+json": {
       "model_id": "65994d46f9644de2ab21eb1cd062127b",
       "version_major": 2,
       "version_minor": 0
      },
      "text/plain": [
       "Text(value='set DeltaRMax 0.5', layout=Layout(width='550px'))"
      ]
     },
     "metadata": {},
     "output_type": "display_data"
    },
    {
     "name": "stdout",
     "output_type": "stream",
     "text": [
      "\n"
     ]
    },
    {
     "data": {
      "application/vnd.jupyter.widget-view+json": {
       "model_id": "c33cd33de3c84bef8b71dd6e1abd3268",
       "version_major": 2,
       "version_minor": 0
      },
      "text/plain": [
       "Text(value='set PTMin 0.5', layout=Layout(width='550px'))"
      ]
     },
     "metadata": {},
     "output_type": "display_data"
    },
    {
     "name": "stdout",
     "output_type": "stream",
     "text": [
      "\n"
     ]
    },
    {
     "data": {
      "application/vnd.jupyter.widget-view+json": {
       "model_id": "b0f12cb102144f2c894bd44531206b9f",
       "version_major": 2,
       "version_minor": 0
      },
      "text/plain": [
       "Text(value='set PTRatioMax 0.12', layout=Layout(width='550px'))"
      ]
     },
     "metadata": {},
     "output_type": "display_data"
    },
    {
     "data": {
      "application/vnd.jupyter.widget-view+json": {
       "model_id": "36863edf3b2d4349955431226eb4d1aa",
       "version_major": 2,
       "version_minor": 0
      },
      "text/plain": [
       "Text(value='}', layout=Layout(width='550px'))"
      ]
     },
     "metadata": {},
     "output_type": "display_data"
    },
    {
     "name": "stdout",
     "output_type": "stream",
     "text": [
      "\n",
      "\n",
      "#####################\n",
      "# Electron efficiency\n",
      "#####################\n",
      "\n"
     ]
    },
    {
     "data": {
      "application/vnd.jupyter.widget-view+json": {
       "model_id": "a22e8a6d292a442ea8f52b5f659bad36",
       "version_major": 2,
       "version_minor": 0
      },
      "text/plain": [
       "Text(value='module Efficiency ElectronEfficiency {', layout=Layout(width='550px'))"
      ]
     },
     "metadata": {},
     "output_type": "display_data"
    },
    {
     "data": {
      "application/vnd.jupyter.widget-view+json": {
       "model_id": "7e58ae07606243dfa8e5345ce277ee88",
       "version_major": 2,
       "version_minor": 0
      },
      "text/plain": [
       "Text(value='set InputArray ElectronFilter/electrons', layout=Layout(width='550px'))"
      ]
     },
     "metadata": {},
     "output_type": "display_data"
    },
    {
     "data": {
      "application/vnd.jupyter.widget-view+json": {
       "model_id": "7757699ef0924a6f988d1b389c6836e4",
       "version_major": 2,
       "version_minor": 0
      },
      "text/plain": [
       "Text(value='set OutputArray electrons', layout=Layout(width='550px'))"
      ]
     },
     "metadata": {},
     "output_type": "display_data"
    },
    {
     "name": "stdout",
     "output_type": "stream",
     "text": [
      "\n",
      "# set EfficiencyFormula {efficiency formula as a function of eta and pt}\n",
      "\n",
      "# efficiency formula for electrons\n"
     ]
    },
    {
     "data": {
      "application/vnd.jupyter.widget-view+json": {
       "model_id": "0ce7ba75fa4f4a12aeaab61a2744431b",
       "version_major": 2,
       "version_minor": 0
      },
      "text/plain": [
       "Text(value='set EfficiencyFormula {                                      (pt <= 10.0) * (0.00) +', layout=Layo…"
      ]
     },
     "metadata": {},
     "output_type": "display_data"
    },
    {
     "data": {
      "application/vnd.jupyter.widget-view+json": {
       "model_id": "06d6c9cb904e441bb3d61988f05b09f4",
       "version_major": 2,
       "version_minor": 0
      },
      "text/plain": [
       "Text(value='(abs(eta) <= 1.5) * (pt > 10.0)  * (0.95) +', layout=Layout(width='550px'))"
      ]
     },
     "metadata": {},
     "output_type": "display_data"
    },
    {
     "data": {
      "application/vnd.jupyter.widget-view+json": {
       "model_id": "8c423052797443a09bd2aaa07cfb9ad2",
       "version_major": 2,
       "version_minor": 0
      },
      "text/plain": [
       "Text(value='(abs(eta) > 1.5 && abs(eta) <= 2.5) * (pt > 10.0)  * (0.85) +', layout=Layout(width='550px'))"
      ]
     },
     "metadata": {},
     "output_type": "display_data"
    },
    {
     "data": {
      "application/vnd.jupyter.widget-view+json": {
       "model_id": "bcec7382c32d4ea99c7a9d2c7fa6f49f",
       "version_major": 2,
       "version_minor": 0
      },
      "text/plain": [
       "Text(value='(abs(eta) > 2.5)                                   * (0.00)}', layout=Layout(width='550px'))"
      ]
     },
     "metadata": {},
     "output_type": "display_data"
    },
    {
     "data": {
      "application/vnd.jupyter.widget-view+json": {
       "model_id": "8c32d7f6ffeb4368a35b0ee5cc107ba0",
       "version_major": 2,
       "version_minor": 0
      },
      "text/plain": [
       "Text(value='}', layout=Layout(width='550px'))"
      ]
     },
     "metadata": {},
     "output_type": "display_data"
    },
    {
     "name": "stdout",
     "output_type": "stream",
     "text": [
      "\n",
      "####################\n",
      "# Electron isolation\n",
      "####################\n",
      "\n"
     ]
    },
    {
     "data": {
      "application/vnd.jupyter.widget-view+json": {
       "model_id": "aeb174bf416e44e197fdba546b6f99ed",
       "version_major": 2,
       "version_minor": 0
      },
      "text/plain": [
       "Text(value='module Isolation ElectronIsolation {', layout=Layout(width='550px'))"
      ]
     },
     "metadata": {},
     "output_type": "display_data"
    },
    {
     "data": {
      "application/vnd.jupyter.widget-view+json": {
       "model_id": "5ede66dcba084541b024c07fdac46d6f",
       "version_major": 2,
       "version_minor": 0
      },
      "text/plain": [
       "Text(value='set CandidateInputArray ElectronEfficiency/electrons', layout=Layout(width='550px'))"
      ]
     },
     "metadata": {},
     "output_type": "display_data"
    },
    {
     "data": {
      "application/vnd.jupyter.widget-view+json": {
       "model_id": "208fc401f7034a9882924c92e3515198",
       "version_major": 2,
       "version_minor": 0
      },
      "text/plain": [
       "Text(value='set IsolationInputArray EFlowFilter/eflow', layout=Layout(width='550px'))"
      ]
     },
     "metadata": {},
     "output_type": "display_data"
    },
    {
     "name": "stdout",
     "output_type": "stream",
     "text": [
      "\n"
     ]
    },
    {
     "data": {
      "application/vnd.jupyter.widget-view+json": {
       "model_id": "e31c90e4d66742eab7abd35e3a5f7626",
       "version_major": 2,
       "version_minor": 0
      },
      "text/plain": [
       "Text(value='set OutputArray electrons', layout=Layout(width='550px'))"
      ]
     },
     "metadata": {},
     "output_type": "display_data"
    },
    {
     "name": "stdout",
     "output_type": "stream",
     "text": [
      "\n"
     ]
    },
    {
     "data": {
      "application/vnd.jupyter.widget-view+json": {
       "model_id": "7feaefcdd98b44828d6caed8ce7e4803",
       "version_major": 2,
       "version_minor": 0
      },
      "text/plain": [
       "Text(value='set DeltaRMax 0.5', layout=Layout(width='550px'))"
      ]
     },
     "metadata": {},
     "output_type": "display_data"
    },
    {
     "name": "stdout",
     "output_type": "stream",
     "text": [
      "\n"
     ]
    },
    {
     "data": {
      "application/vnd.jupyter.widget-view+json": {
       "model_id": "06268eb1d17c437d9f08073cfe1db868",
       "version_major": 2,
       "version_minor": 0
      },
      "text/plain": [
       "Text(value='set PTMin 0.5', layout=Layout(width='550px'))"
      ]
     },
     "metadata": {},
     "output_type": "display_data"
    },
    {
     "name": "stdout",
     "output_type": "stream",
     "text": [
      "\n"
     ]
    },
    {
     "data": {
      "application/vnd.jupyter.widget-view+json": {
       "model_id": "5bd10de274af4c0c8192b69709bb2025",
       "version_major": 2,
       "version_minor": 0
      },
      "text/plain": [
       "Text(value='set PTRatioMax 0.12', layout=Layout(width='550px'))"
      ]
     },
     "metadata": {},
     "output_type": "display_data"
    },
    {
     "data": {
      "application/vnd.jupyter.widget-view+json": {
       "model_id": "9e991a887ae4443e8aeed9bda84883d1",
       "version_major": 2,
       "version_minor": 0
      },
      "text/plain": [
       "Text(value='}', layout=Layout(width='550px'))"
      ]
     },
     "metadata": {},
     "output_type": "display_data"
    },
    {
     "name": "stdout",
     "output_type": "stream",
     "text": [
      "\n",
      "#################\n",
      "# Muon efficiency\n",
      "#################\n",
      "\n"
     ]
    },
    {
     "data": {
      "application/vnd.jupyter.widget-view+json": {
       "model_id": "d018b29522944ea9862e3ac4a6e65c50",
       "version_major": 2,
       "version_minor": 0
      },
      "text/plain": [
       "Text(value='module Efficiency MuonEfficiency {', layout=Layout(width='550px'))"
      ]
     },
     "metadata": {},
     "output_type": "display_data"
    },
    {
     "data": {
      "application/vnd.jupyter.widget-view+json": {
       "model_id": "26a53f916ad0418b84d168c6103610f2",
       "version_major": 2,
       "version_minor": 0
      },
      "text/plain": [
       "Text(value='set InputArray MuonMomentumSmearing/muons', layout=Layout(width='550px'))"
      ]
     },
     "metadata": {},
     "output_type": "display_data"
    },
    {
     "data": {
      "application/vnd.jupyter.widget-view+json": {
       "model_id": "0ded084087cd418fa211b915f316a9b6",
       "version_major": 2,
       "version_minor": 0
      },
      "text/plain": [
       "Text(value='set OutputArray muons', layout=Layout(width='550px'))"
      ]
     },
     "metadata": {},
     "output_type": "display_data"
    },
    {
     "name": "stdout",
     "output_type": "stream",
     "text": [
      "\n",
      "# set EfficiencyFormula {efficiency as a function of eta and pt}\n",
      "\n",
      "# efficiency formula for muons\n"
     ]
    },
    {
     "data": {
      "application/vnd.jupyter.widget-view+json": {
       "model_id": "cc76a80759994833b7a0bf1bc3c7eb03",
       "version_major": 2,
       "version_minor": 0
      },
      "text/plain": [
       "Text(value='set EfficiencyFormula {                                     (pt <= 10.0)                * (0.00) +…"
      ]
     },
     "metadata": {},
     "output_type": "display_data"
    },
    {
     "data": {
      "application/vnd.jupyter.widget-view+json": {
       "model_id": "2c859c51d6a143e49e3b88c860398643",
       "version_major": 2,
       "version_minor": 0
      },
      "text/plain": [
       "Text(value='(abs(eta) <= 1.5) * (pt > 10.0)                * (0.95) +', layout=Layout(width='550px'))"
      ]
     },
     "metadata": {},
     "output_type": "display_data"
    },
    {
     "data": {
      "application/vnd.jupyter.widget-view+json": {
       "model_id": "a0df257539554063936dca4dd3eedd1e",
       "version_major": 2,
       "version_minor": 0
      },
      "text/plain": [
       "Text(value='(abs(eta) > 1.5 && abs(eta) <= 2.4) * (pt > 10.0)                * (0.95) +', layout=Layout(width=…"
      ]
     },
     "metadata": {},
     "output_type": "display_data"
    },
    {
     "data": {
      "application/vnd.jupyter.widget-view+json": {
       "model_id": "6046276057f441f980a5a0c6b1898cc6",
       "version_major": 2,
       "version_minor": 0
      },
      "text/plain": [
       "Text(value='(abs(eta) > 2.4)                                                 * (0.00)}', layout=Layout(width='…"
      ]
     },
     "metadata": {},
     "output_type": "display_data"
    },
    {
     "data": {
      "application/vnd.jupyter.widget-view+json": {
       "model_id": "0a70f62370a94b849f514e5d21409f96",
       "version_major": 2,
       "version_minor": 0
      },
      "text/plain": [
       "Text(value='}', layout=Layout(width='550px'))"
      ]
     },
     "metadata": {},
     "output_type": "display_data"
    },
    {
     "name": "stdout",
     "output_type": "stream",
     "text": [
      "\n",
      "################\n",
      "# Muon isolation\n",
      "################\n",
      "\n"
     ]
    },
    {
     "data": {
      "application/vnd.jupyter.widget-view+json": {
       "model_id": "8497e0c853914ccba2dd77a81225a8e1",
       "version_major": 2,
       "version_minor": 0
      },
      "text/plain": [
       "Text(value='module Isolation MuonIsolation {', layout=Layout(width='550px'))"
      ]
     },
     "metadata": {},
     "output_type": "display_data"
    },
    {
     "data": {
      "application/vnd.jupyter.widget-view+json": {
       "model_id": "30311338ac3a4b40bdb6763de5079154",
       "version_major": 2,
       "version_minor": 0
      },
      "text/plain": [
       "Text(value='set CandidateInputArray MuonEfficiency/muons', layout=Layout(width='550px'))"
      ]
     },
     "metadata": {},
     "output_type": "display_data"
    },
    {
     "data": {
      "application/vnd.jupyter.widget-view+json": {
       "model_id": "18adf9bf9e0a49c3b9e1808c7026ffba",
       "version_major": 2,
       "version_minor": 0
      },
      "text/plain": [
       "Text(value='set IsolationInputArray EFlowFilter/eflow', layout=Layout(width='550px'))"
      ]
     },
     "metadata": {},
     "output_type": "display_data"
    },
    {
     "name": "stdout",
     "output_type": "stream",
     "text": [
      "\n"
     ]
    },
    {
     "data": {
      "application/vnd.jupyter.widget-view+json": {
       "model_id": "9cd7e9dff7e74b10acff75184c148dd8",
       "version_major": 2,
       "version_minor": 0
      },
      "text/plain": [
       "Text(value='set OutputArray muons', layout=Layout(width='550px'))"
      ]
     },
     "metadata": {},
     "output_type": "display_data"
    },
    {
     "name": "stdout",
     "output_type": "stream",
     "text": [
      "\n"
     ]
    },
    {
     "data": {
      "application/vnd.jupyter.widget-view+json": {
       "model_id": "fda2fd2fafbe4ec4a8ab2643d6098c05",
       "version_major": 2,
       "version_minor": 0
      },
      "text/plain": [
       "Text(value='set DeltaRMax 0.5', layout=Layout(width='550px'))"
      ]
     },
     "metadata": {},
     "output_type": "display_data"
    },
    {
     "name": "stdout",
     "output_type": "stream",
     "text": [
      "\n"
     ]
    },
    {
     "data": {
      "application/vnd.jupyter.widget-view+json": {
       "model_id": "3aded9243bb74516a5fd5597870ef47c",
       "version_major": 2,
       "version_minor": 0
      },
      "text/plain": [
       "Text(value='set PTMin 0.5', layout=Layout(width='550px'))"
      ]
     },
     "metadata": {},
     "output_type": "display_data"
    },
    {
     "name": "stdout",
     "output_type": "stream",
     "text": [
      "\n"
     ]
    },
    {
     "data": {
      "application/vnd.jupyter.widget-view+json": {
       "model_id": "a09edf688a614e928405aecf51981f37",
       "version_major": 2,
       "version_minor": 0
      },
      "text/plain": [
       "Text(value='set PTRatioMax 0.25', layout=Layout(width='550px'))"
      ]
     },
     "metadata": {},
     "output_type": "display_data"
    },
    {
     "data": {
      "application/vnd.jupyter.widget-view+json": {
       "model_id": "687cb3e468414556975e0db70863d602",
       "version_major": 2,
       "version_minor": 0
      },
      "text/plain": [
       "Text(value='}', layout=Layout(width='550px'))"
      ]
     },
     "metadata": {},
     "output_type": "display_data"
    },
    {
     "name": "stdout",
     "output_type": "stream",
     "text": [
      "\n",
      "###################\n",
      "# Missing ET merger\n",
      "###################\n",
      "\n"
     ]
    },
    {
     "data": {
      "application/vnd.jupyter.widget-view+json": {
       "model_id": "6bebf7c8df6d4df0b1b5ba8da46962ba",
       "version_major": 2,
       "version_minor": 0
      },
      "text/plain": [
       "Text(value='module Merger MissingET {', layout=Layout(width='550px'))"
      ]
     },
     "metadata": {},
     "output_type": "display_data"
    },
    {
     "name": "stdout",
     "output_type": "stream",
     "text": [
      "# add InputArray InputArray\n"
     ]
    },
    {
     "data": {
      "application/vnd.jupyter.widget-view+json": {
       "model_id": "ff76b7d68a3349ed85f4619272240160",
       "version_major": 2,
       "version_minor": 0
      },
      "text/plain": [
       "Text(value='add InputArray EFlowMerger/eflow', layout=Layout(width='550px'))"
      ]
     },
     "metadata": {},
     "output_type": "display_data"
    },
    {
     "data": {
      "application/vnd.jupyter.widget-view+json": {
       "model_id": "a61930fc687d48a8bb19f0f24d3c6207",
       "version_major": 2,
       "version_minor": 0
      },
      "text/plain": [
       "Text(value='set MomentumOutputArray momentum', layout=Layout(width='550px'))"
      ]
     },
     "metadata": {},
     "output_type": "display_data"
    },
    {
     "data": {
      "application/vnd.jupyter.widget-view+json": {
       "model_id": "bc497200b665492d8f5bc4bd481a1573",
       "version_major": 2,
       "version_minor": 0
      },
      "text/plain": [
       "Text(value='}', layout=Layout(width='550px'))"
      ]
     },
     "metadata": {},
     "output_type": "display_data"
    },
    {
     "name": "stdout",
     "output_type": "stream",
     "text": [
      "\n",
      "##################\n",
      "# Scalar HT merger\n",
      "##################\n",
      "\n"
     ]
    },
    {
     "data": {
      "application/vnd.jupyter.widget-view+json": {
       "model_id": "4757f07486da446391c1e72bb8263253",
       "version_major": 2,
       "version_minor": 0
      },
      "text/plain": [
       "Text(value='module Merger ScalarHT {', layout=Layout(width='550px'))"
      ]
     },
     "metadata": {},
     "output_type": "display_data"
    },
    {
     "name": "stdout",
     "output_type": "stream",
     "text": [
      "# add InputArray InputArray\n"
     ]
    },
    {
     "data": {
      "application/vnd.jupyter.widget-view+json": {
       "model_id": "ae2208a7864f4b1db9845d63069050ea",
       "version_major": 2,
       "version_minor": 0
      },
      "text/plain": [
       "Text(value='add InputArray UniqueObjectFinder/jets', layout=Layout(width='550px'))"
      ]
     },
     "metadata": {},
     "output_type": "display_data"
    },
    {
     "data": {
      "application/vnd.jupyter.widget-view+json": {
       "model_id": "c09b9516e3004108a958315eb495b0c9",
       "version_major": 2,
       "version_minor": 0
      },
      "text/plain": [
       "Text(value='add InputArray UniqueObjectFinder/electrons', layout=Layout(width='550px'))"
      ]
     },
     "metadata": {},
     "output_type": "display_data"
    },
    {
     "data": {
      "application/vnd.jupyter.widget-view+json": {
       "model_id": "5a1428b505584ead9e1bd16bcef00235",
       "version_major": 2,
       "version_minor": 0
      },
      "text/plain": [
       "Text(value='add InputArray UniqueObjectFinder/photons', layout=Layout(width='550px'))"
      ]
     },
     "metadata": {},
     "output_type": "display_data"
    },
    {
     "data": {
      "application/vnd.jupyter.widget-view+json": {
       "model_id": "7317799f2bed420da03d13d29687cc04",
       "version_major": 2,
       "version_minor": 0
      },
      "text/plain": [
       "Text(value='add InputArray UniqueObjectFinder/muons', layout=Layout(width='550px'))"
      ]
     },
     "metadata": {},
     "output_type": "display_data"
    },
    {
     "data": {
      "application/vnd.jupyter.widget-view+json": {
       "model_id": "8c65da26999945b089df1b9d3ad491a1",
       "version_major": 2,
       "version_minor": 0
      },
      "text/plain": [
       "Text(value='set EnergyOutputArray energy', layout=Layout(width='550px'))"
      ]
     },
     "metadata": {},
     "output_type": "display_data"
    },
    {
     "data": {
      "application/vnd.jupyter.widget-view+json": {
       "model_id": "7d3507974ad04cd39f13d45b2d65cad4",
       "version_major": 2,
       "version_minor": 0
      },
      "text/plain": [
       "Text(value='}', layout=Layout(width='550px'))"
      ]
     },
     "metadata": {},
     "output_type": "display_data"
    },
    {
     "name": "stdout",
     "output_type": "stream",
     "text": [
      "\n",
      "\n",
      "#####################\n",
      "# Neutrino Filter\n",
      "#####################\n",
      "\n"
     ]
    },
    {
     "data": {
      "application/vnd.jupyter.widget-view+json": {
       "model_id": "aee05f7e04b54dd290d69666dd1eee5b",
       "version_major": 2,
       "version_minor": 0
      },
      "text/plain": [
       "Text(value='module PdgCodeFilter NeutrinoFilter {', layout=Layout(width='550px'))"
      ]
     },
     "metadata": {},
     "output_type": "display_data"
    },
    {
     "name": "stdout",
     "output_type": "stream",
     "text": [
      "\n"
     ]
    },
    {
     "data": {
      "application/vnd.jupyter.widget-view+json": {
       "model_id": "3d50c3e23077434898fdda024e29cbeb",
       "version_major": 2,
       "version_minor": 0
      },
      "text/plain": [
       "Text(value='set InputArray Delphes/stableParticles', layout=Layout(width='550px'))"
      ]
     },
     "metadata": {},
     "output_type": "display_data"
    },
    {
     "data": {
      "application/vnd.jupyter.widget-view+json": {
       "model_id": "e7beaa2b13964b20b1c31d94d2c85563",
       "version_major": 2,
       "version_minor": 0
      },
      "text/plain": [
       "Text(value='set OutputArray filteredParticles', layout=Layout(width='550px'))"
      ]
     },
     "metadata": {},
     "output_type": "display_data"
    },
    {
     "name": "stdout",
     "output_type": "stream",
     "text": [
      "\n"
     ]
    },
    {
     "data": {
      "application/vnd.jupyter.widget-view+json": {
       "model_id": "2654c88f599d4539b5c36af80367ad4a",
       "version_major": 2,
       "version_minor": 0
      },
      "text/plain": [
       "Text(value='set PTMin 0.0', layout=Layout(width='550px'))"
      ]
     },
     "metadata": {},
     "output_type": "display_data"
    },
    {
     "name": "stdout",
     "output_type": "stream",
     "text": [
      "\n"
     ]
    },
    {
     "data": {
      "application/vnd.jupyter.widget-view+json": {
       "model_id": "82bcc1a672344701a44063e31d655469",
       "version_major": 2,
       "version_minor": 0
      },
      "text/plain": [
       "Text(value='add PdgCode {12}', layout=Layout(width='550px'))"
      ]
     },
     "metadata": {},
     "output_type": "display_data"
    },
    {
     "data": {
      "application/vnd.jupyter.widget-view+json": {
       "model_id": "a4a120ceb0fe46598089c81e7dff50d9",
       "version_major": 2,
       "version_minor": 0
      },
      "text/plain": [
       "Text(value='add PdgCode {14}', layout=Layout(width='550px'))"
      ]
     },
     "metadata": {},
     "output_type": "display_data"
    },
    {
     "data": {
      "application/vnd.jupyter.widget-view+json": {
       "model_id": "3836d3f46c4f41bfb05bf59c39a1ee0b",
       "version_major": 2,
       "version_minor": 0
      },
      "text/plain": [
       "Text(value='add PdgCode {16}', layout=Layout(width='550px'))"
      ]
     },
     "metadata": {},
     "output_type": "display_data"
    },
    {
     "data": {
      "application/vnd.jupyter.widget-view+json": {
       "model_id": "95982e4ddf344b4f82d0a277c7799dce",
       "version_major": 2,
       "version_minor": 0
      },
      "text/plain": [
       "Text(value='add PdgCode {-12}', layout=Layout(width='550px'))"
      ]
     },
     "metadata": {},
     "output_type": "display_data"
    },
    {
     "data": {
      "application/vnd.jupyter.widget-view+json": {
       "model_id": "c7df1d727b0e4b97895b55c557918d7c",
       "version_major": 2,
       "version_minor": 0
      },
      "text/plain": [
       "Text(value='add PdgCode {-14}', layout=Layout(width='550px'))"
      ]
     },
     "metadata": {},
     "output_type": "display_data"
    },
    {
     "data": {
      "application/vnd.jupyter.widget-view+json": {
       "model_id": "4282a769dd7e419bb0fc708e964db463",
       "version_major": 2,
       "version_minor": 0
      },
      "text/plain": [
       "Text(value='add PdgCode {-16}', layout=Layout(width='550px'))"
      ]
     },
     "metadata": {},
     "output_type": "display_data"
    },
    {
     "name": "stdout",
     "output_type": "stream",
     "text": [
      "\n"
     ]
    },
    {
     "data": {
      "application/vnd.jupyter.widget-view+json": {
       "model_id": "ab85fca7487c41d4bda75a06e22df927",
       "version_major": 2,
       "version_minor": 0
      },
      "text/plain": [
       "Text(value='}', layout=Layout(width='550px'))"
      ]
     },
     "metadata": {},
     "output_type": "display_data"
    },
    {
     "name": "stdout",
     "output_type": "stream",
     "text": [
      "\n",
      "\n",
      "#####################\n",
      "# MC truth jet finder\n",
      "#####################\n",
      "\n"
     ]
    },
    {
     "data": {
      "application/vnd.jupyter.widget-view+json": {
       "model_id": "cc381883abf44d7abbddec2fab1861ed",
       "version_major": 2,
       "version_minor": 0
      },
      "text/plain": [
       "Text(value='module FastJetFinder GenJetFinder {', layout=Layout(width='550px'))"
      ]
     },
     "metadata": {},
     "output_type": "display_data"
    },
    {
     "data": {
      "application/vnd.jupyter.widget-view+json": {
       "model_id": "4bf0be7c4c824966b318ff6869444652",
       "version_major": 2,
       "version_minor": 0
      },
      "text/plain": [
       "Text(value='set InputArray NeutrinoFilter/filteredParticles', layout=Layout(width='550px'))"
      ]
     },
     "metadata": {},
     "output_type": "display_data"
    },
    {
     "name": "stdout",
     "output_type": "stream",
     "text": [
      "\n"
     ]
    },
    {
     "data": {
      "application/vnd.jupyter.widget-view+json": {
       "model_id": "85f340e23a8f4d05b07a7c28f5031092",
       "version_major": 2,
       "version_minor": 0
      },
      "text/plain": [
       "Text(value='set OutputArray jets', layout=Layout(width='550px'))"
      ]
     },
     "metadata": {},
     "output_type": "display_data"
    },
    {
     "name": "stdout",
     "output_type": "stream",
     "text": [
      "\n",
      "# algorithm: 1 CDFJetClu, 2 MidPoint, 3 SIScone, 4 kt, 5 Cambridge/Aachen, 6 antikt\n"
     ]
    },
    {
     "data": {
      "application/vnd.jupyter.widget-view+json": {
       "model_id": "3214cc87c13d4834be227c452dd0a3b1",
       "version_major": 2,
       "version_minor": 0
      },
      "text/plain": [
       "Text(value='set JetAlgorithm 6', layout=Layout(width='550px'))"
      ]
     },
     "metadata": {},
     "output_type": "display_data"
    },
    {
     "data": {
      "application/vnd.jupyter.widget-view+json": {
       "model_id": "1b65a36d0eaf464ab6c5e61a2b900512",
       "version_major": 2,
       "version_minor": 0
      },
      "text/plain": [
       "Text(value='set ParameterR 0.5', layout=Layout(width='550px'))"
      ]
     },
     "metadata": {},
     "output_type": "display_data"
    },
    {
     "name": "stdout",
     "output_type": "stream",
     "text": [
      "\n"
     ]
    },
    {
     "data": {
      "application/vnd.jupyter.widget-view+json": {
       "model_id": "17040fded89a4d3babba99c8283ade90",
       "version_major": 2,
       "version_minor": 0
      },
      "text/plain": [
       "Text(value='set JetPTMin 20.0', layout=Layout(width='550px'))"
      ]
     },
     "metadata": {},
     "output_type": "display_data"
    },
    {
     "data": {
      "application/vnd.jupyter.widget-view+json": {
       "model_id": "862d81f2b14740dead0bd248dc727ef1",
       "version_major": 2,
       "version_minor": 0
      },
      "text/plain": [
       "Text(value='}', layout=Layout(width='550px'))"
      ]
     },
     "metadata": {},
     "output_type": "display_data"
    },
    {
     "name": "stdout",
     "output_type": "stream",
     "text": [
      "\n",
      "#########################\n",
      "# Gen Missing ET merger\n",
      "########################\n",
      "\n"
     ]
    },
    {
     "data": {
      "application/vnd.jupyter.widget-view+json": {
       "model_id": "f5369d0c30824058bbf6fc5d987e6575",
       "version_major": 2,
       "version_minor": 0
      },
      "text/plain": [
       "Text(value='module Merger GenMissingET {', layout=Layout(width='550px'))"
      ]
     },
     "metadata": {},
     "output_type": "display_data"
    },
    {
     "name": "stdout",
     "output_type": "stream",
     "text": [
      "# add InputArray InputArray\n"
     ]
    },
    {
     "data": {
      "application/vnd.jupyter.widget-view+json": {
       "model_id": "d301bbdffdb24a4fa705034b6368b96f",
       "version_major": 2,
       "version_minor": 0
      },
      "text/plain": [
       "Text(value='add InputArray NeutrinoFilter/filteredParticles', layout=Layout(width='550px'))"
      ]
     },
     "metadata": {},
     "output_type": "display_data"
    },
    {
     "data": {
      "application/vnd.jupyter.widget-view+json": {
       "model_id": "6b099a9af5044d4394a71bdbb4a2342b",
       "version_major": 2,
       "version_minor": 0
      },
      "text/plain": [
       "Text(value='set MomentumOutputArray momentum', layout=Layout(width='550px'))"
      ]
     },
     "metadata": {},
     "output_type": "display_data"
    },
    {
     "data": {
      "application/vnd.jupyter.widget-view+json": {
       "model_id": "9e95b932a6f74fababff1b87b032314d",
       "version_major": 2,
       "version_minor": 0
      },
      "text/plain": [
       "Text(value='}', layout=Layout(width='550px'))"
      ]
     },
     "metadata": {},
     "output_type": "display_data"
    },
    {
     "name": "stdout",
     "output_type": "stream",
     "text": [
      "\n",
      "\n",
      "\n",
      "############\n",
      "# Jet finder\n",
      "############\n",
      "\n"
     ]
    },
    {
     "data": {
      "application/vnd.jupyter.widget-view+json": {
       "model_id": "e3868a41c66e4d7ba62925de71fb5586",
       "version_major": 2,
       "version_minor": 0
      },
      "text/plain": [
       "Text(value='module FastJetFinder FastJetFinder {', layout=Layout(width='550px'))"
      ]
     },
     "metadata": {},
     "output_type": "display_data"
    },
    {
     "name": "stdout",
     "output_type": "stream",
     "text": [
      "#  set InputArray Calorimeter/towers\n"
     ]
    },
    {
     "data": {
      "application/vnd.jupyter.widget-view+json": {
       "model_id": "89abcba99602406c944a2f2411e96b34",
       "version_major": 2,
       "version_minor": 0
      },
      "text/plain": [
       "Text(value='set InputArray EFlowMerger/eflow', layout=Layout(width='550px'))"
      ]
     },
     "metadata": {},
     "output_type": "display_data"
    },
    {
     "name": "stdout",
     "output_type": "stream",
     "text": [
      "\n"
     ]
    },
    {
     "data": {
      "application/vnd.jupyter.widget-view+json": {
       "model_id": "db1db8c02deb41dbb7ee96a089fcfb42",
       "version_major": 2,
       "version_minor": 0
      },
      "text/plain": [
       "Text(value='set OutputArray jets', layout=Layout(width='550px'))"
      ]
     },
     "metadata": {},
     "output_type": "display_data"
    },
    {
     "name": "stdout",
     "output_type": "stream",
     "text": [
      "\n",
      "# algorithm: 1 CDFJetClu, 2 MidPoint, 3 SIScone, 4 kt, 5 Cambridge/Aachen, 6 antikt\n"
     ]
    },
    {
     "data": {
      "application/vnd.jupyter.widget-view+json": {
       "model_id": "1b3a0147af904dc1b1d345babeac174d",
       "version_major": 2,
       "version_minor": 0
      },
      "text/plain": [
       "Text(value='set JetAlgorithm 6', layout=Layout(width='550px'))"
      ]
     },
     "metadata": {},
     "output_type": "display_data"
    },
    {
     "data": {
      "application/vnd.jupyter.widget-view+json": {
       "model_id": "2122d4a258134c1eb10285f7095e9859",
       "version_major": 2,
       "version_minor": 0
      },
      "text/plain": [
       "Text(value='set ParameterR 0.5', layout=Layout(width='550px'))"
      ]
     },
     "metadata": {},
     "output_type": "display_data"
    },
    {
     "name": "stdout",
     "output_type": "stream",
     "text": [
      "\n"
     ]
    },
    {
     "data": {
      "application/vnd.jupyter.widget-view+json": {
       "model_id": "8c4dcd79a55145e8885b01e41ec9a23c",
       "version_major": 2,
       "version_minor": 0
      },
      "text/plain": [
       "Text(value='set JetPTMin 20.0', layout=Layout(width='550px'))"
      ]
     },
     "metadata": {},
     "output_type": "display_data"
    },
    {
     "data": {
      "application/vnd.jupyter.widget-view+json": {
       "model_id": "eecb23a0ef7d4433a4c67b39c3e53162",
       "version_major": 2,
       "version_minor": 0
      },
      "text/plain": [
       "Text(value='}', layout=Layout(width='550px'))"
      ]
     },
     "metadata": {},
     "output_type": "display_data"
    },
    {
     "name": "stdout",
     "output_type": "stream",
     "text": [
      "\n",
      "##################\n",
      "# Fat Jet finder\n",
      "##################\n",
      "\n"
     ]
    },
    {
     "data": {
      "application/vnd.jupyter.widget-view+json": {
       "model_id": "3ebd655d55b8414085ea6f7ba643c3f1",
       "version_major": 2,
       "version_minor": 0
      },
      "text/plain": [
       "Text(value='module FastJetFinder FatJetFinder {', layout=Layout(width='550px'))"
      ]
     },
     "metadata": {},
     "output_type": "display_data"
    },
    {
     "data": {
      "application/vnd.jupyter.widget-view+json": {
       "model_id": "61817b68e68c457cabdf595e0754eb1f",
       "version_major": 2,
       "version_minor": 0
      },
      "text/plain": [
       "Text(value='set InputArray EFlowMerger/eflow', layout=Layout(width='550px'))"
      ]
     },
     "metadata": {},
     "output_type": "display_data"
    },
    {
     "name": "stdout",
     "output_type": "stream",
     "text": [
      "\n"
     ]
    },
    {
     "data": {
      "application/vnd.jupyter.widget-view+json": {
       "model_id": "310a447b3e9a41f0b410b45dd2a5b5f1",
       "version_major": 2,
       "version_minor": 0
      },
      "text/plain": [
       "Text(value='set OutputArray jets', layout=Layout(width='550px'))"
      ]
     },
     "metadata": {},
     "output_type": "display_data"
    },
    {
     "name": "stdout",
     "output_type": "stream",
     "text": [
      "\n",
      "# algorithm: 1 CDFJetClu, 2 MidPoint, 3 SIScone, 4 kt, 5 Cambridge/Aachen, 6 antikt\n"
     ]
    },
    {
     "data": {
      "application/vnd.jupyter.widget-view+json": {
       "model_id": "59388cccdf4045e386901cb81472e228",
       "version_major": 2,
       "version_minor": 0
      },
      "text/plain": [
       "Text(value='set JetAlgorithm 6', layout=Layout(width='550px'))"
      ]
     },
     "metadata": {},
     "output_type": "display_data"
    },
    {
     "data": {
      "application/vnd.jupyter.widget-view+json": {
       "model_id": "e96a6cc72bda4ebb9281d86a23e97092",
       "version_major": 2,
       "version_minor": 0
      },
      "text/plain": [
       "Text(value='set ParameterR 0.8', layout=Layout(width='550px'))"
      ]
     },
     "metadata": {},
     "output_type": "display_data"
    },
    {
     "name": "stdout",
     "output_type": "stream",
     "text": [
      "\n"
     ]
    },
    {
     "data": {
      "application/vnd.jupyter.widget-view+json": {
       "model_id": "77f2cbbfb5f942dc98ab8ceaa1ee675d",
       "version_major": 2,
       "version_minor": 0
      },
      "text/plain": [
       "Text(value='set ComputeNsubjettiness 1', layout=Layout(width='550px'))"
      ]
     },
     "metadata": {},
     "output_type": "display_data"
    },
    {
     "data": {
      "application/vnd.jupyter.widget-view+json": {
       "model_id": "b5c33aa0113048b293f70f9335534cbb",
       "version_major": 2,
       "version_minor": 0
      },
      "text/plain": [
       "Text(value='set Beta 1.0', layout=Layout(width='550px'))"
      ]
     },
     "metadata": {},
     "output_type": "display_data"
    },
    {
     "data": {
      "application/vnd.jupyter.widget-view+json": {
       "model_id": "e03df72b7205475fa6f5d51b317f7bc9",
       "version_major": 2,
       "version_minor": 0
      },
      "text/plain": [
       "Text(value='set AxisMode 4', layout=Layout(width='550px'))"
      ]
     },
     "metadata": {},
     "output_type": "display_data"
    },
    {
     "name": "stdout",
     "output_type": "stream",
     "text": [
      "\n"
     ]
    },
    {
     "data": {
      "application/vnd.jupyter.widget-view+json": {
       "model_id": "6e0db4a2d2dd4fc0b76402c0f20d3863",
       "version_major": 2,
       "version_minor": 0
      },
      "text/plain": [
       "Text(value='set ComputeTrimming 1', layout=Layout(width='550px'))"
      ]
     },
     "metadata": {},
     "output_type": "display_data"
    },
    {
     "data": {
      "application/vnd.jupyter.widget-view+json": {
       "model_id": "8d2960b8584b4931903d392de001620a",
       "version_major": 2,
       "version_minor": 0
      },
      "text/plain": [
       "Text(value='set RTrim 0.2', layout=Layout(width='550px'))"
      ]
     },
     "metadata": {},
     "output_type": "display_data"
    },
    {
     "data": {
      "application/vnd.jupyter.widget-view+json": {
       "model_id": "1bdb08c159c541bdad0a4b7e3ad73e32",
       "version_major": 2,
       "version_minor": 0
      },
      "text/plain": [
       "Text(value='set PtFracTrim 0.05', layout=Layout(width='550px'))"
      ]
     },
     "metadata": {},
     "output_type": "display_data"
    },
    {
     "name": "stdout",
     "output_type": "stream",
     "text": [
      "\n"
     ]
    },
    {
     "data": {
      "application/vnd.jupyter.widget-view+json": {
       "model_id": "9b2691ffc0824076a9bdc811ca4fcc44",
       "version_major": 2,
       "version_minor": 0
      },
      "text/plain": [
       "Text(value='set ComputePruning 1', layout=Layout(width='550px'))"
      ]
     },
     "metadata": {},
     "output_type": "display_data"
    },
    {
     "data": {
      "application/vnd.jupyter.widget-view+json": {
       "model_id": "4e5d5b4ec566419aa3bf2ec402b80472",
       "version_major": 2,
       "version_minor": 0
      },
      "text/plain": [
       "Text(value='set ZcutPrun 0.1', layout=Layout(width='550px'))"
      ]
     },
     "metadata": {},
     "output_type": "display_data"
    },
    {
     "data": {
      "application/vnd.jupyter.widget-view+json": {
       "model_id": "e11f6282aff5493593832b0e86cfa114",
       "version_major": 2,
       "version_minor": 0
      },
      "text/plain": [
       "Text(value='set RcutPrun 0.5', layout=Layout(width='550px'))"
      ]
     },
     "metadata": {},
     "output_type": "display_data"
    },
    {
     "data": {
      "application/vnd.jupyter.widget-view+json": {
       "model_id": "9f1ba7ab87f545b8ac1c55e327dc37a4",
       "version_major": 2,
       "version_minor": 0
      },
      "text/plain": [
       "Text(value='set RPrun 0.8', layout=Layout(width='550px'))"
      ]
     },
     "metadata": {},
     "output_type": "display_data"
    },
    {
     "name": "stdout",
     "output_type": "stream",
     "text": [
      "\n"
     ]
    },
    {
     "data": {
      "application/vnd.jupyter.widget-view+json": {
       "model_id": "9e7f78e3869a4310862d920f0f63b3c5",
       "version_major": 2,
       "version_minor": 0
      },
      "text/plain": [
       "Text(value='set ComputeSoftDrop 1', layout=Layout(width='550px'))"
      ]
     },
     "metadata": {},
     "output_type": "display_data"
    },
    {
     "data": {
      "application/vnd.jupyter.widget-view+json": {
       "model_id": "8183f07191714acb8ca3ab7fa2bec405",
       "version_major": 2,
       "version_minor": 0
      },
      "text/plain": [
       "Text(value='set BetaSoftDrop 0.0', layout=Layout(width='550px'))"
      ]
     },
     "metadata": {},
     "output_type": "display_data"
    },
    {
     "data": {
      "application/vnd.jupyter.widget-view+json": {
       "model_id": "20d4660918f74ae5b13c2b553579c6b9",
       "version_major": 2,
       "version_minor": 0
      },
      "text/plain": [
       "Text(value='set SymmetryCutSoftDrop 0.1', layout=Layout(width='550px'))"
      ]
     },
     "metadata": {},
     "output_type": "display_data"
    },
    {
     "data": {
      "application/vnd.jupyter.widget-view+json": {
       "model_id": "8b95e32d6e924b77861e974e23b76a2c",
       "version_major": 2,
       "version_minor": 0
      },
      "text/plain": [
       "Text(value='set R0SoftDrop 0.8', layout=Layout(width='550px'))"
      ]
     },
     "metadata": {},
     "output_type": "display_data"
    },
    {
     "name": "stdout",
     "output_type": "stream",
     "text": [
      "\n"
     ]
    },
    {
     "data": {
      "application/vnd.jupyter.widget-view+json": {
       "model_id": "40a23307f4ef425a806e38f96e7d890f",
       "version_major": 2,
       "version_minor": 0
      },
      "text/plain": [
       "Text(value='set JetPTMin 200.0', layout=Layout(width='550px'))"
      ]
     },
     "metadata": {},
     "output_type": "display_data"
    },
    {
     "data": {
      "application/vnd.jupyter.widget-view+json": {
       "model_id": "23cd9386e1e548f5880dc721cbdf3d6a",
       "version_major": 2,
       "version_minor": 0
      },
      "text/plain": [
       "Text(value='}', layout=Layout(width='550px'))"
      ]
     },
     "metadata": {},
     "output_type": "display_data"
    },
    {
     "name": "stdout",
     "output_type": "stream",
     "text": [
      "\n",
      "\n",
      "\n",
      "\n",
      "##################\n",
      "# Jet Energy Scale\n",
      "##################\n",
      "\n"
     ]
    },
    {
     "data": {
      "application/vnd.jupyter.widget-view+json": {
       "model_id": "26a5181ec11e4e4db79cf06690fa4afe",
       "version_major": 2,
       "version_minor": 0
      },
      "text/plain": [
       "Text(value='module EnergyScale JetEnergyScale {', layout=Layout(width='550px'))"
      ]
     },
     "metadata": {},
     "output_type": "display_data"
    },
    {
     "data": {
      "application/vnd.jupyter.widget-view+json": {
       "model_id": "b470e3d216404de0914531751d33f019",
       "version_major": 2,
       "version_minor": 0
      },
      "text/plain": [
       "Text(value='set InputArray FastJetFinder/jets', layout=Layout(width='550px'))"
      ]
     },
     "metadata": {},
     "output_type": "display_data"
    },
    {
     "data": {
      "application/vnd.jupyter.widget-view+json": {
       "model_id": "db2781dbef5249cf87cc108232dd2b82",
       "version_major": 2,
       "version_minor": 0
      },
      "text/plain": [
       "Text(value='set OutputArray jets', layout=Layout(width='550px'))"
      ]
     },
     "metadata": {},
     "output_type": "display_data"
    },
    {
     "name": "stdout",
     "output_type": "stream",
     "text": [
      "\n",
      "# scale formula for jets\n"
     ]
    },
    {
     "data": {
      "application/vnd.jupyter.widget-view+json": {
       "model_id": "cb28b2df66ed41ea82345de6c4a2ce0f",
       "version_major": 2,
       "version_minor": 0
      },
      "text/plain": [
       "Text(value='set ScaleFormula {sqrt( (2.5 - 0.15*(abs(eta)))^2 / pt + 1.0 )}', layout=Layout(width='550px'))"
      ]
     },
     "metadata": {},
     "output_type": "display_data"
    },
    {
     "data": {
      "application/vnd.jupyter.widget-view+json": {
       "model_id": "1606fdf9b2ca4657a96805c1305d3c0a",
       "version_major": 2,
       "version_minor": 0
      },
      "text/plain": [
       "Text(value='}', layout=Layout(width='550px'))"
      ]
     },
     "metadata": {},
     "output_type": "display_data"
    },
    {
     "name": "stdout",
     "output_type": "stream",
     "text": [
      "\n",
      "########################\n",
      "# Jet Flavor Association\n",
      "########################\n",
      "\n"
     ]
    },
    {
     "data": {
      "application/vnd.jupyter.widget-view+json": {
       "model_id": "91a4c54ccc0942bcb4000d8b51b7bc54",
       "version_major": 2,
       "version_minor": 0
      },
      "text/plain": [
       "Text(value='module JetFlavorAssociation JetFlavorAssociation {', layout=Layout(width='550px'))"
      ]
     },
     "metadata": {},
     "output_type": "display_data"
    },
    {
     "name": "stdout",
     "output_type": "stream",
     "text": [
      "\n"
     ]
    },
    {
     "data": {
      "application/vnd.jupyter.widget-view+json": {
       "model_id": "760f39a5076b4199b30774c4cb4de1fd",
       "version_major": 2,
       "version_minor": 0
      },
      "text/plain": [
       "Text(value='set PartonInputArray Delphes/partons', layout=Layout(width='550px'))"
      ]
     },
     "metadata": {},
     "output_type": "display_data"
    },
    {
     "data": {
      "application/vnd.jupyter.widget-view+json": {
       "model_id": "45267f6de41f4f639d28e8cc2da8cf40",
       "version_major": 2,
       "version_minor": 0
      },
      "text/plain": [
       "Text(value='set ParticleInputArray Delphes/allParticles', layout=Layout(width='550px'))"
      ]
     },
     "metadata": {},
     "output_type": "display_data"
    },
    {
     "data": {
      "application/vnd.jupyter.widget-view+json": {
       "model_id": "e0570f28c80e47e084338012190636c7",
       "version_major": 2,
       "version_minor": 0
      },
      "text/plain": [
       "Text(value='set ParticleLHEFInputArray Delphes/allParticlesLHEF', layout=Layout(width='550px'))"
      ]
     },
     "metadata": {},
     "output_type": "display_data"
    },
    {
     "data": {
      "application/vnd.jupyter.widget-view+json": {
       "model_id": "3422b55620cc49749a5a325f66dfe774",
       "version_major": 2,
       "version_minor": 0
      },
      "text/plain": [
       "Text(value='set JetInputArray JetEnergyScale/jets', layout=Layout(width='550px'))"
      ]
     },
     "metadata": {},
     "output_type": "display_data"
    },
    {
     "name": "stdout",
     "output_type": "stream",
     "text": [
      "\n"
     ]
    },
    {
     "data": {
      "application/vnd.jupyter.widget-view+json": {
       "model_id": "8555f80976b242588340cdec77c7001c",
       "version_major": 2,
       "version_minor": 0
      },
      "text/plain": [
       "Text(value='set DeltaR 0.5', layout=Layout(width='550px'))"
      ]
     },
     "metadata": {},
     "output_type": "display_data"
    },
    {
     "data": {
      "application/vnd.jupyter.widget-view+json": {
       "model_id": "1cd65d9dc28441f585fa8f07e96140ad",
       "version_major": 2,
       "version_minor": 0
      },
      "text/plain": [
       "Text(value='set PartonPTMin 1.0', layout=Layout(width='550px'))"
      ]
     },
     "metadata": {},
     "output_type": "display_data"
    },
    {
     "data": {
      "application/vnd.jupyter.widget-view+json": {
       "model_id": "209c35e5cce34cd1873b4de75971e5bb",
       "version_major": 2,
       "version_minor": 0
      },
      "text/plain": [
       "Text(value='set PartonEtaMax 2.5', layout=Layout(width='550px'))"
      ]
     },
     "metadata": {},
     "output_type": "display_data"
    },
    {
     "name": "stdout",
     "output_type": "stream",
     "text": [
      "\n"
     ]
    },
    {
     "data": {
      "application/vnd.jupyter.widget-view+json": {
       "model_id": "1a9b5d620dfb4cfb9bd02b75aa86fa51",
       "version_major": 2,
       "version_minor": 0
      },
      "text/plain": [
       "Text(value='}', layout=Layout(width='550px'))"
      ]
     },
     "metadata": {},
     "output_type": "display_data"
    },
    {
     "name": "stdout",
     "output_type": "stream",
     "text": [
      "\n",
      "###########\n",
      "# b-tagging\n",
      "###########\n",
      "\n"
     ]
    },
    {
     "data": {
      "application/vnd.jupyter.widget-view+json": {
       "model_id": "febae39bb3a444418a47c3b7effaa68f",
       "version_major": 2,
       "version_minor": 0
      },
      "text/plain": [
       "Text(value='module BTagging BTagging {', layout=Layout(width='550px'))"
      ]
     },
     "metadata": {},
     "output_type": "display_data"
    },
    {
     "data": {
      "application/vnd.jupyter.widget-view+json": {
       "model_id": "9a1ad6e77bd54b29a6af50e01d5aba92",
       "version_major": 2,
       "version_minor": 0
      },
      "text/plain": [
       "Text(value='set JetInputArray JetEnergyScale/jets', layout=Layout(width='550px'))"
      ]
     },
     "metadata": {},
     "output_type": "display_data"
    },
    {
     "name": "stdout",
     "output_type": "stream",
     "text": [
      "\n"
     ]
    },
    {
     "data": {
      "application/vnd.jupyter.widget-view+json": {
       "model_id": "8efe1e8aa6254cb0bd8ad7a753620c28",
       "version_major": 2,
       "version_minor": 0
      },
      "text/plain": [
       "Text(value='set BitNumber 0', layout=Layout(width='550px'))"
      ]
     },
     "metadata": {},
     "output_type": "display_data"
    },
    {
     "name": "stdout",
     "output_type": "stream",
     "text": [
      "\n",
      "# add EfficiencyFormula {abs(PDG code)} {efficiency formula as a function of eta and pt}\n",
      "# PDG code = the highest PDG code of a quark or gluon inside DeltaR cone around jet axis\n",
      "# gluon's PDG code has the lowest priority\n",
      "\n",
      "# based on arXiv:1211.4462\n",
      "\n",
      "# default efficiency formula (misidentification rate)\n"
     ]
    },
    {
     "data": {
      "application/vnd.jupyter.widget-view+json": {
       "model_id": "5af1c13ba00d4d68a386d03001d96b27",
       "version_major": 2,
       "version_minor": 0
      },
      "text/plain": [
       "Text(value='add EfficiencyFormula {0} {0.01+0.000038*pt}', layout=Layout(width='550px'))"
      ]
     },
     "metadata": {},
     "output_type": "display_data"
    },
    {
     "name": "stdout",
     "output_type": "stream",
     "text": [
      "\n",
      "# efficiency formula for c-jets (misidentification rate)\n"
     ]
    },
    {
     "data": {
      "application/vnd.jupyter.widget-view+json": {
       "model_id": "189b9d84a1514e62ac3a47b9612f2b3c",
       "version_major": 2,
       "version_minor": 0
      },
      "text/plain": [
       "Text(value='add EfficiencyFormula {4} {0.25*tanh(0.018*pt)*(1/(1+ 0.0013*pt))}', layout=Layout(width='550px'))"
      ]
     },
     "metadata": {},
     "output_type": "display_data"
    },
    {
     "name": "stdout",
     "output_type": "stream",
     "text": [
      "\n",
      "# efficiency formula for b-jets\n"
     ]
    },
    {
     "data": {
      "application/vnd.jupyter.widget-view+json": {
       "model_id": "56a40364fc97449298aa86ba9a75ced2",
       "version_major": 2,
       "version_minor": 0
      },
      "text/plain": [
       "Text(value='add EfficiencyFormula {5} {0.85*tanh(0.0025*pt)*(25.0/(1+0.063*pt))}', layout=Layout(width='550px'…"
      ]
     },
     "metadata": {},
     "output_type": "display_data"
    },
    {
     "data": {
      "application/vnd.jupyter.widget-view+json": {
       "model_id": "4ad352752d7d473aac80deea48099488",
       "version_major": 2,
       "version_minor": 0
      },
      "text/plain": [
       "Text(value='}', layout=Layout(width='550px'))"
      ]
     },
     "metadata": {},
     "output_type": "display_data"
    },
    {
     "name": "stdout",
     "output_type": "stream",
     "text": [
      "\n",
      "#############\n",
      "# tau-tagging\n",
      "#############\n",
      "\n"
     ]
    },
    {
     "data": {
      "application/vnd.jupyter.widget-view+json": {
       "model_id": "c702b07627c14fadbc0f87e0f79c58d6",
       "version_major": 2,
       "version_minor": 0
      },
      "text/plain": [
       "Text(value='module TauTagging TauTagging {', layout=Layout(width='550px'))"
      ]
     },
     "metadata": {},
     "output_type": "display_data"
    },
    {
     "data": {
      "application/vnd.jupyter.widget-view+json": {
       "model_id": "4d87fb728e1540219e777ee5fed1140a",
       "version_major": 2,
       "version_minor": 0
      },
      "text/plain": [
       "Text(value='set ParticleInputArray Delphes/allParticles', layout=Layout(width='550px'))"
      ]
     },
     "metadata": {},
     "output_type": "display_data"
    },
    {
     "data": {
      "application/vnd.jupyter.widget-view+json": {
       "model_id": "187a2f35a31549a2b08401d8531c8b1a",
       "version_major": 2,
       "version_minor": 0
      },
      "text/plain": [
       "Text(value='set PartonInputArray Delphes/partons', layout=Layout(width='550px'))"
      ]
     },
     "metadata": {},
     "output_type": "display_data"
    },
    {
     "data": {
      "application/vnd.jupyter.widget-view+json": {
       "model_id": "534e42ef54764286b8e1cb52e4dea66e",
       "version_major": 2,
       "version_minor": 0
      },
      "text/plain": [
       "Text(value='set JetInputArray JetEnergyScale/jets', layout=Layout(width='550px'))"
      ]
     },
     "metadata": {},
     "output_type": "display_data"
    },
    {
     "name": "stdout",
     "output_type": "stream",
     "text": [
      "\n"
     ]
    },
    {
     "data": {
      "application/vnd.jupyter.widget-view+json": {
       "model_id": "8f37169d31914bccb51d16d61398c6ae",
       "version_major": 2,
       "version_minor": 0
      },
      "text/plain": [
       "Text(value='set DeltaR 0.5', layout=Layout(width='550px'))"
      ]
     },
     "metadata": {},
     "output_type": "display_data"
    },
    {
     "name": "stdout",
     "output_type": "stream",
     "text": [
      "\n"
     ]
    },
    {
     "data": {
      "application/vnd.jupyter.widget-view+json": {
       "model_id": "235d99196e314017ab9bb3ea671837fb",
       "version_major": 2,
       "version_minor": 0
      },
      "text/plain": [
       "Text(value='set TauPTMin 1.0', layout=Layout(width='550px'))"
      ]
     },
     "metadata": {},
     "output_type": "display_data"
    },
    {
     "name": "stdout",
     "output_type": "stream",
     "text": [
      "\n"
     ]
    },
    {
     "data": {
      "application/vnd.jupyter.widget-view+json": {
       "model_id": "05ce035d5a964d7a9e37c135c0401d72",
       "version_major": 2,
       "version_minor": 0
      },
      "text/plain": [
       "Text(value='set TauEtaMax 2.5', layout=Layout(width='550px'))"
      ]
     },
     "metadata": {},
     "output_type": "display_data"
    },
    {
     "name": "stdout",
     "output_type": "stream",
     "text": [
      "\n",
      "# add EfficiencyFormula {abs(PDG code)} {efficiency formula as a function of eta and pt}\n",
      "\n",
      "# default efficiency formula (misidentification rate)\n"
     ]
    },
    {
     "data": {
      "application/vnd.jupyter.widget-view+json": {
       "model_id": "96e9953a69a843e7b2e9d6667ce486c1",
       "version_major": 2,
       "version_minor": 0
      },
      "text/plain": [
       "Text(value='add EfficiencyFormula {0} {0.01}', layout=Layout(width='550px'))"
      ]
     },
     "metadata": {},
     "output_type": "display_data"
    },
    {
     "name": "stdout",
     "output_type": "stream",
     "text": [
      "# efficiency formula for tau-jets\n"
     ]
    },
    {
     "data": {
      "application/vnd.jupyter.widget-view+json": {
       "model_id": "1f3997e3b5d64887aef57311e44dcb21",
       "version_major": 2,
       "version_minor": 0
      },
      "text/plain": [
       "Text(value='add EfficiencyFormula {15} {0.6}', layout=Layout(width='550px'))"
      ]
     },
     "metadata": {},
     "output_type": "display_data"
    },
    {
     "data": {
      "application/vnd.jupyter.widget-view+json": {
       "model_id": "f5767742a7f6480f96254c768896eb96",
       "version_major": 2,
       "version_minor": 0
      },
      "text/plain": [
       "Text(value='}', layout=Layout(width='550px'))"
      ]
     },
     "metadata": {},
     "output_type": "display_data"
    },
    {
     "name": "stdout",
     "output_type": "stream",
     "text": [
      "\n",
      "#####################################################\n",
      "# Find uniquely identified photons/electrons/tau/jets\n",
      "#####################################################\n",
      "\n"
     ]
    },
    {
     "data": {
      "application/vnd.jupyter.widget-view+json": {
       "model_id": "dd785987e64944009fb72e6436afea5f",
       "version_major": 2,
       "version_minor": 0
      },
      "text/plain": [
       "Text(value='module UniqueObjectFinder UniqueObjectFinder {', layout=Layout(width='550px'))"
      ]
     },
     "metadata": {},
     "output_type": "display_data"
    },
    {
     "name": "stdout",
     "output_type": "stream",
     "text": [
      "# earlier arrays take precedence over later ones\n",
      "# add InputArray InputArray OutputArray\n"
     ]
    },
    {
     "data": {
      "application/vnd.jupyter.widget-view+json": {
       "model_id": "11f0390fbeff4bfcb4498f72a19cde55",
       "version_major": 2,
       "version_minor": 0
      },
      "text/plain": [
       "Text(value='add InputArray PhotonIsolation/photons photons', layout=Layout(width='550px'))"
      ]
     },
     "metadata": {},
     "output_type": "display_data"
    },
    {
     "data": {
      "application/vnd.jupyter.widget-view+json": {
       "model_id": "e556054c6dc2499cb774acf1fb9b85e0",
       "version_major": 2,
       "version_minor": 0
      },
      "text/plain": [
       "Text(value='add InputArray ElectronIsolation/electrons electrons', layout=Layout(width='550px'))"
      ]
     },
     "metadata": {},
     "output_type": "display_data"
    },
    {
     "data": {
      "application/vnd.jupyter.widget-view+json": {
       "model_id": "1e6f3b659a67411a821dd11a262510c1",
       "version_major": 2,
       "version_minor": 0
      },
      "text/plain": [
       "Text(value='add InputArray MuonIsolation/muons muons', layout=Layout(width='550px'))"
      ]
     },
     "metadata": {},
     "output_type": "display_data"
    },
    {
     "data": {
      "application/vnd.jupyter.widget-view+json": {
       "model_id": "61f1affad913400fb34fa485b2b892c2",
       "version_major": 2,
       "version_minor": 0
      },
      "text/plain": [
       "Text(value='add InputArray JetEnergyScale/jets jets', layout=Layout(width='550px'))"
      ]
     },
     "metadata": {},
     "output_type": "display_data"
    },
    {
     "data": {
      "application/vnd.jupyter.widget-view+json": {
       "model_id": "0e1aae48b4074c5d919eb1d94af55021",
       "version_major": 2,
       "version_minor": 0
      },
      "text/plain": [
       "Text(value='}', layout=Layout(width='550px'))"
      ]
     },
     "metadata": {},
     "output_type": "display_data"
    },
    {
     "name": "stdout",
     "output_type": "stream",
     "text": [
      "\n",
      "##################\n",
      "# ROOT tree writer\n",
      "##################\n",
      "\n",
      "# tracks, towers and eflow objects are not stored by default in the output.\n",
      "# if needed (for jet constituent or other studies), uncomment the relevant\n",
      "# \"add Branch ...\" lines.\n",
      "\n"
     ]
    },
    {
     "data": {
      "application/vnd.jupyter.widget-view+json": {
       "model_id": "6ab948dbf04b419f83f780f64eb93fe6",
       "version_major": 2,
       "version_minor": 0
      },
      "text/plain": [
       "Text(value='module TreeWriter TreeWriter {', layout=Layout(width='550px'))"
      ]
     },
     "metadata": {},
     "output_type": "display_data"
    },
    {
     "name": "stdout",
     "output_type": "stream",
     "text": [
      "# add Branch InputArray BranchName BranchClass\n"
     ]
    },
    {
     "data": {
      "application/vnd.jupyter.widget-view+json": {
       "model_id": "70d62d9a5dc34dc1b28295b5b760ce6b",
       "version_major": 2,
       "version_minor": 0
      },
      "text/plain": [
       "Text(value='add Branch Delphes/allParticles Particle GenParticle', layout=Layout(width='550px'))"
      ]
     },
     "metadata": {},
     "output_type": "display_data"
    },
    {
     "name": "stdout",
     "output_type": "stream",
     "text": [
      "\n"
     ]
    },
    {
     "data": {
      "application/vnd.jupyter.widget-view+json": {
       "model_id": "0e19a48c92c745019dc65f3a511d3fe3",
       "version_major": 2,
       "version_minor": 0
      },
      "text/plain": [
       "Text(value='add Branch TrackMerger/tracks Track Track', layout=Layout(width='550px'))"
      ]
     },
     "metadata": {},
     "output_type": "display_data"
    },
    {
     "data": {
      "application/vnd.jupyter.widget-view+json": {
       "model_id": "35876e205575402ca56f11c6c12f22df",
       "version_major": 2,
       "version_minor": 0
      },
      "text/plain": [
       "Text(value='add Branch Calorimeter/towers Tower Tower', layout=Layout(width='550px'))"
      ]
     },
     "metadata": {},
     "output_type": "display_data"
    },
    {
     "name": "stdout",
     "output_type": "stream",
     "text": [
      "\n"
     ]
    },
    {
     "data": {
      "application/vnd.jupyter.widget-view+json": {
       "model_id": "368ac70ab2c34b5495565d07dd298c91",
       "version_major": 2,
       "version_minor": 0
      },
      "text/plain": [
       "Text(value='add Branch HCal/eflowTracks EFlowTrack Track', layout=Layout(width='550px'))"
      ]
     },
     "metadata": {},
     "output_type": "display_data"
    },
    {
     "data": {
      "application/vnd.jupyter.widget-view+json": {
       "model_id": "f09978cc9a0f4f7da2f94599e8e0e9a0",
       "version_major": 2,
       "version_minor": 0
      },
      "text/plain": [
       "Text(value='add Branch ECal/eflowPhotons EFlowPhoton Tower', layout=Layout(width='550px'))"
      ]
     },
     "metadata": {},
     "output_type": "display_data"
    },
    {
     "data": {
      "application/vnd.jupyter.widget-view+json": {
       "model_id": "a04f2d5cb4f64d4aa0d300aae24fd181",
       "version_major": 2,
       "version_minor": 0
      },
      "text/plain": [
       "Text(value='add Branch HCal/eflowNeutralHadrons EFlowNeutralHadron Tower', layout=Layout(width='550px'))"
      ]
     },
     "metadata": {},
     "output_type": "display_data"
    },
    {
     "name": "stdout",
     "output_type": "stream",
     "text": [
      "\n"
     ]
    },
    {
     "data": {
      "application/vnd.jupyter.widget-view+json": {
       "model_id": "468ffe51a3c6448a832b5d3dd1f9b7ee",
       "version_major": 2,
       "version_minor": 0
      },
      "text/plain": [
       "Text(value='add Branch GenJetFinder/jets GenJet Jet', layout=Layout(width='550px'))"
      ]
     },
     "metadata": {},
     "output_type": "display_data"
    },
    {
     "data": {
      "application/vnd.jupyter.widget-view+json": {
       "model_id": "f8834df41a2243ff91d524b7eafa6434",
       "version_major": 2,
       "version_minor": 0
      },
      "text/plain": [
       "Text(value='add Branch GenMissingET/momentum GenMissingET MissingET', layout=Layout(width='550px'))"
      ]
     },
     "metadata": {},
     "output_type": "display_data"
    },
    {
     "name": "stdout",
     "output_type": "stream",
     "text": [
      "\n"
     ]
    },
    {
     "data": {
      "application/vnd.jupyter.widget-view+json": {
       "model_id": "33c5aea416454c978538c5588296805e",
       "version_major": 2,
       "version_minor": 0
      },
      "text/plain": [
       "Text(value='add Branch UniqueObjectFinder/jets Jet Jet', layout=Layout(width='550px'))"
      ]
     },
     "metadata": {},
     "output_type": "display_data"
    },
    {
     "data": {
      "application/vnd.jupyter.widget-view+json": {
       "model_id": "d1fe0109c9a94cb7a924bd16e6f4d70c",
       "version_major": 2,
       "version_minor": 0
      },
      "text/plain": [
       "Text(value='add Branch UniqueObjectFinder/electrons Electron Electron', layout=Layout(width='550px'))"
      ]
     },
     "metadata": {},
     "output_type": "display_data"
    },
    {
     "data": {
      "application/vnd.jupyter.widget-view+json": {
       "model_id": "f82d74b2684847998a72f8d2a9aa91f3",
       "version_major": 2,
       "version_minor": 0
      },
      "text/plain": [
       "Text(value='add Branch UniqueObjectFinder/photons Photon Photon', layout=Layout(width='550px'))"
      ]
     },
     "metadata": {},
     "output_type": "display_data"
    },
    {
     "data": {
      "application/vnd.jupyter.widget-view+json": {
       "model_id": "50e1a5ffeea846b89950400487d9c6cd",
       "version_major": 2,
       "version_minor": 0
      },
      "text/plain": [
       "Text(value='add Branch UniqueObjectFinder/muons Muon Muon', layout=Layout(width='550px'))"
      ]
     },
     "metadata": {},
     "output_type": "display_data"
    },
    {
     "name": "stdout",
     "output_type": "stream",
     "text": [
      "\n"
     ]
    },
    {
     "data": {
      "application/vnd.jupyter.widget-view+json": {
       "model_id": "aef9a7fb8c3c4336aba45994cb7c497d",
       "version_major": 2,
       "version_minor": 0
      },
      "text/plain": [
       "Text(value='add Branch FatJetFinder/jets FatJet Jet', layout=Layout(width='550px'))"
      ]
     },
     "metadata": {},
     "output_type": "display_data"
    },
    {
     "name": "stdout",
     "output_type": "stream",
     "text": [
      "\n"
     ]
    },
    {
     "data": {
      "application/vnd.jupyter.widget-view+json": {
       "model_id": "6c6fe1298aee4e328534e39f91a52989",
       "version_major": 2,
       "version_minor": 0
      },
      "text/plain": [
       "Text(value='add Branch MissingET/momentum MissingET MissingET', layout=Layout(width='550px'))"
      ]
     },
     "metadata": {},
     "output_type": "display_data"
    },
    {
     "data": {
      "application/vnd.jupyter.widget-view+json": {
       "model_id": "63b860b5fc94499a8020c9a5294e19d7",
       "version_major": 2,
       "version_minor": 0
      },
      "text/plain": [
       "Text(value='add Branch ScalarHT/energy ScalarHT ScalarHT', layout=Layout(width='550px'))"
      ]
     },
     "metadata": {},
     "output_type": "display_data"
    },
    {
     "data": {
      "application/vnd.jupyter.widget-view+json": {
       "model_id": "bd55a9d35df94eada93cd87c463a3367",
       "version_major": 2,
       "version_minor": 0
      },
      "text/plain": [
       "Text(value='}', layout=Layout(width='550px'))"
      ]
     },
     "metadata": {},
     "output_type": "display_data"
    },
    {
     "data": {
      "application/vnd.jupyter.widget-view+json": {
       "model_id": "0219de066224485f80f2d38f90f210cb",
       "version_major": 2,
       "version_minor": 0
      },
      "text/plain": [
       "Button(description='Save', style=ButtonStyle())"
      ]
     },
     "metadata": {},
     "output_type": "display_data"
    },
    {
     "data": {
      "application/vnd.jupyter.widget-view+json": {
       "model_id": "8f19f4c695114deebc3e4d9cbcbd9a9a",
       "version_major": 2,
       "version_minor": 0
      },
      "text/plain": [
       "Output()"
      ]
     },
     "metadata": {},
     "output_type": "display_data"
    }
   ],
   "source": [
    "edit_card(get_framework_path(), card_name='delphes_card.dat')"
   ]
  },
  {
   "cell_type": "code",
   "execution_count": 16,
   "id": "b346a313-cdf8-43dc-871f-61faeaa929d8",
   "metadata": {},
   "outputs": [
    {
     "name": "stdout",
     "output_type": "stream",
     "text": [
      "************************************************************\n",
      "*                                                          *\n",
      "*                      W E L C O M E to                    *\n",
      "*             M A D G R A P H 5 _ a M C @ N L O            *\n",
      "*                      M A D E V E N T                     *\n",
      "*                                                          *\n",
      "*                 *                       *                *\n",
      "*                   *        * *        *                  *\n",
      "*                     * * * * 5 * * * *                    *\n",
      "*                   *        * *        *                  *\n",
      "*                 *                       *                *\n",
      "*                                                          *\n",
      "*         VERSION 3.5.5                                    *\n",
      "*                                                          *\n",
      "*    The MadGraph5_aMC@NLO Development Team - Find us at   *\n",
      "*    https://server06.fynu.ucl.ac.be/projects/madgraph     *\n",
      "*                                                          *\n",
      "*               Type 'help' for in-line help.              *\n",
      "*                                                          *\n",
      "************************************************************\n",
      "INFO: load configuration from /home/leo/MadStats/Notebooks/A/Cards/me5_configuration.txt  \n",
      "INFO: load configuration from /home/leo/MadStats/MadGraph2/mg5amcnlo/input/mg5_configuration.txt  \n",
      "INFO: load configuration from /home/leo/MadStats/Notebooks/A/Cards/me5_configuration.txt  \n",
      "Using default text editor \"vi\". Set another one in ./input/mg5_configuration.txt\n",
      "Using default eps viewer \"evince\". Set another one in ./input/mg5_configuration.txt\n",
      "Using default web browser \"firefox\". Set another one in ./input/mg5_configuration.txt\n",
      "generate_events -f\n",
      "stty: 'standard input': Inappropriate ioctl for device\n",
      "Generating 1234 events with run name run_02\n",
      "survey  run_02 \n",
      "INFO: compile directory \n",
      "compile Source Directory\n",
      "Using random number seed offset = 27\n",
      "INFO: Running Survey \n",
      "Creating Jobs\n",
      "Working on SubProcesses\n",
      "INFO: Compiling for process 1/2. \n",
      "INFO:     P1_gg_ttx  \n",
      "Gtk-\u001b[1;32mMessage\u001b[0m: \u001b[34m15:20:05.717\u001b[0m: Not loading module \"atk-bridge\": The functionality is provided by GTK natively. Please try to not load it.\n",
      "[45269, Main Thread] WARNING: GTK+ module /snap/firefox/4650/gnome-platform/usr/lib/gtk-2.0/modules/libcanberra-gtk-module.so cannot be loaded.\n",
      "GTK+ 2.x symbols detected. Using GTK+ 2.x and GTK+ 3 in the same process is not supported.: 'glib warning', file /build/firefox/parts/firefox/build/toolkit/xre/nsSigHandlers.cpp:187\n",
      "\n",
      "(firefox:45269): Gtk-\u001b[1;33mWARNING\u001b[0m **: \u001b[34m15:20:05.790\u001b[0m: GTK+ module /snap/firefox/4650/gnome-platform/usr/lib/gtk-2.0/modules/libcanberra-gtk-module.so cannot be loaded.\n",
      "GTK+ 2.x symbols detected. Using GTK+ 2.x and GTK+ 3 in the same process is not supported.\n",
      "Gtk-\u001b[1;32mMessage\u001b[0m: \u001b[34m15:20:05.790\u001b[0m: Failed to load module \"canberra-gtk-module\"\n",
      "[45269, Main Thread] WARNING: GTK+ module /snap/firefox/4650/gnome-platform/usr/lib/gtk-2.0/modules/libcanberra-gtk-module.so cannot be loaded.\n",
      "GTK+ 2.x symbols detected. Using GTK+ 2.x and GTK+ 3 in the same process is not supported.: 'glib warning', file /build/firefox/parts/firefox/build/toolkit/xre/nsSigHandlers.cpp:187\n",
      "\n",
      "(firefox:45269): Gtk-\u001b[1;33mWARNING\u001b[0m **: \u001b[34m15:20:05.795\u001b[0m: GTK+ module /snap/firefox/4650/gnome-platform/usr/lib/gtk-2.0/modules/libcanberra-gtk-module.so cannot be loaded.\n",
      "GTK+ 2.x symbols detected. Using GTK+ 2.x and GTK+ 3 in the same process is not supported.\n",
      "Gtk-\u001b[1;32mMessage\u001b[0m: \u001b[34m15:20:05.795\u001b[0m: Failed to load module \"canberra-gtk-module\"\n",
      "100%|█████████████████████████████████████| 707/707 [00:00<00:00, 205045.84it/s]\n",
      "INFO: Compiling for process 2/2. \n",
      "INFO:     P1_qq_ttx  \n",
      "100%|█████████████████████████████████████| 703/703 [00:00<00:00, 353167.53it/s]\n",
      "INFO:     P1_gg_ttx  \n",
      "INFO:     P1_qq_ttx  \n",
      "INFO:  Idle: 1,  Running: 1,  Completed: 0 [ current time: 15h20 ] \n",
      "INFO:  Idle: 0,  Running: 1,  Completed: 1 [  0.2s  ] \n",
      "INFO:  Idle: 0,  Running: 0,  Completed: 2 [  0.23s  ] \n",
      "INFO: End survey \n",
      "refine 1234\n",
      "Creating Jobs\n",
      "INFO: Refine results to 1234 \n",
      "INFO: Generating 1234.0 unweighted events. \n",
      "sum of cpu time of last step: 1 seconds\n",
      "INFO: Effective Luminosity 2.9279854075538068 pb^-1 \n",
      "INFO: need to improve 1 channels \n",
      "- Current estimate of cross-section: 505.467 +- 2.748761764958906\n",
      "    P1_gg_ttx \n",
      "    P1_qq_ttx \n",
      "INFO:  Idle: 1,  Running: 1,  Completed: 0 [ current time: 15h20 ] \n",
      "INFO:  Idle: 0,  Running: 0,  Completed: 2 [  0.22s  ] \n",
      "INFO: Combining runs \n",
      "sum of cpu time of last step: 2 seconds\n",
      "INFO: finish refine \n",
      "refine 1234 --treshold=0.9\n",
      "No need for second refine due to stability of cross-section\n",
      "INFO: Combining Events \n",
      "combination of events done in 0.24203968048095703 s \n",
      "  === Results Summary for run: run_02 tag: tag_1 ===\n",
      "\n",
      "     Cross-section :   504.1 +- 1.536 pb\n",
      "     Nb of events :  1234\n",
      " \n",
      "INFO: No version of lhapdf. Can not run systematics computation \n",
      "store_events\n",
      "INFO: Storing parton level results \n",
      "INFO: End Parton \n",
      "reweight -from_cards\n",
      "decay_events -from_cards\n",
      "INFO: \u001b[92mRunning Pythia8 [arXiv:1410.3012]\u001b[0m \n",
      "Splitting .lhe event file for PY8 parallelization...\n",
      "Submitting Pythia8 jobs...\n",
      "Pythia8 shower jobs: 1 Idle, 11 Running, 0 Done [0 second]\n",
      "Pythia8 shower jobs: 0 Idle, 11 Running, 1 Done [4 seconds]\n",
      "Pythia8 shower jobs: 0 Idle, 10 Running, 2 Done [4 seconds]\n",
      "Pythia8 shower jobs: 0 Idle, 9 Running, 3 Done [4 seconds]\n",
      "Pythia8 shower jobs: 0 Idle, 8 Running, 4 Done [4 seconds]\n",
      "Pythia8 shower jobs: 0 Idle, 7 Running, 5 Done [4 seconds]\n",
      "Pythia8 shower jobs: 0 Idle, 6 Running, 6 Done [4 seconds]\n",
      "Pythia8 shower jobs: 0 Idle, 5 Running, 7 Done [5 seconds]\n",
      "Pythia8 shower jobs: 0 Idle, 4 Running, 8 Done [5 seconds]\n",
      "Pythia8 shower jobs: 0 Idle, 3 Running, 9 Done [5 seconds]\n",
      "Pythia8 shower jobs: 0 Idle, 2 Running, 10 Done [5 seconds]\n",
      "Pythia8 shower jobs: 0 Idle, 1 Running, 11 Done [5 seconds]\n",
      "Pythia8 shower jobs: 0 Idle, 0 Running, 12 Done [5 seconds]\n",
      "Merging results from the split PY8 runs...\n",
      "INFO: Pythia8 shower finished after 6 seconds. \n",
      "INFO: prepare delphes run \n",
      "INFO: Running Delphes \n",
      "INFO: If you are interested in lhco output. please run root2lhco converter. \n",
      "INFO:  or edit bin/internal/run_delphes3 to run the converter automatically. \n",
      "INFO: delphes done \n",
      "  === Results Summary for run: run_02 tag: tag_1 ===\n",
      "\n",
      "     Cross-section :   504.1 +- 1.536 pb\n",
      "     Nb of events :  1234\n",
      " \n",
      "INFO: storing files of previous run \n",
      "INFO: Storing Pythia8 files of previous run \n",
      "INFO: Done \n",
      "quit\n",
      "INFO:  \n"
     ]
    }
   ],
   "source": [
    "# Run generate_events using the gen_event_input file directly from the command line\n",
    "# I cheated a little.. this could be integrated into a .py using process \n",
    "!./A/bin/generate_events -f < /home/leo/MadStats/Notebooks/gen_event_input.txt"
   ]
  },
  {
   "cell_type": "code",
   "execution_count": 9,
   "id": "88a46efb-44fd-47c5-9eac-5835b0821be9",
   "metadata": {},
   "outputs": [],
   "source": [
    "import sys\n",
    "import pyhepmc\n",
    "import matplotlib.pyplot as plt\n",
    "import numpy as np"
   ]
  },
  {
   "cell_type": "code",
   "execution_count": 10,
   "id": "5987f88f-cd12-4d69-8003-3d54a779bb67",
   "metadata": {},
   "outputs": [],
   "source": [
    "def ReadData(data_path, pid=15):\n",
    "    taus = []\n",
    "    for event in pyhepmc.open(data_path):\n",
    "        for particle in event.particles:\n",
    "            if particle.pid == pid:\n",
    "                taus.append(particle)\n",
    "    return taus"
   ]
  },
  {
   "cell_type": "code",
   "execution_count": 11,
   "id": "99a976a6-97dc-45c8-854d-628ddb65c246",
   "metadata": {},
   "outputs": [],
   "source": [
    "#!gunzip /home/leo/MadStats/Notebooks/NewMG5/Events/run_01/tag_1_pythia8_events.hepmc.gz"
   ]
  },
  {
   "cell_type": "code",
   "execution_count": 17,
   "id": "27cf21f0-cb2c-4053-adce-003864202fb8",
   "metadata": {},
   "outputs": [
    {
     "data": {
      "image/png": "[encoded data removed]",
      "text/plain": [
       "<Figure size 640x480 with 1 Axes>"
      ]
     },
     "metadata": {},
     "output_type": "display_data"
    }
   ],
   "source": [
    "TAUS_test = ReadData(get_framework_path()+'Events/run_02/tag_1_pythia8_events.hepmc')\n",
    "\n",
    "plt.hist([np.sqrt((t.momentum.px**2)+(t.momentum.py**2)) for t in TAUS_test], bins=30)\n",
    "plt.title(\"Transverse momenta of tau partivles (test data)\")\n",
    "plt.yscale('log')\n",
    "plt.show()"
   ]
  },
  {
   "cell_type": "code",
   "execution_count": null,
   "id": "976f61c9-2467-4e42-b3c7-a0c0edcbbcc6",
   "metadata": {},
   "outputs": [],
   "source": [
    "### DO NOT RUN ###\n",
    "\n",
    "#This cell atempts to run mg5 using process through generate_events, it is currently non-functional because \n",
    "#it does not feed in the gen_event_input.txt file. Fix later if process is to be used. \n",
    "\n",
    "gen_event_path = '/home/leo/MadStats/Notebooks/'+out.value+'/bin/generate_events'\n",
    "\n",
    "process = subprocess.Popen([gen_event_path, '-f'], stdout=subprocess.PIPE, stderr=subprocess.PIPE)\n",
    "\n",
    "try:\n",
    "    while process.poll() is None:\n",
    "        time.sleep(1)  # Add a small delay to reduce CPU usage\n",
    "finally:\n",
    "    process.stdout.close()\n",
    "    process.stderr.close()\n",
    "    process.wait()  # Ensure the process is fully terminated\n",
    "    display(\"Process cleaned up.\")"
   ]
  },
  {
   "cell_type": "code",
   "execution_count": null,
   "id": "95d7bdf5-5661-4b4e-b216-bfb244884786",
   "metadata": {},
   "outputs": [],
   "source": []
  }
 ],
 "metadata": {
  "kernelspec": {
   "display_name": "Python 3 (ipykernel)",
   "language": "python",
   "name": "python3"
  },
  "language_info": {
   "codemirror_mode": {
    "name": "ipython",
    "version": 3
   },
   "file_extension": ".py",
   "mimetype": "text/x-python",
   "name": "python",
   "nbconvert_exporter": "python",
   "pygments_lexer": "ipython3",
   "version": "3.10.12"
  }
 },
 "nbformat": 4,
 "nbformat_minor": 5
}
