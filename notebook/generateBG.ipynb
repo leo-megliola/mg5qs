{
 "cells": [
  {
   "cell_type": "code",
   "execution_count": 3,
   "id": "20388b80-8771-4e4f-92b6-93fe826c1bdd",
   "metadata": {},
   "outputs": [],
   "source": [
    "import mg5qs_import as qs\n",
    "import numpy as np\n",
    "import os\n",
    "import concurrent\n",
    "from pathlib import Path\n",
    "import pickle\n",
    "import matplotlib.pyplot as plt"
   ]
  },
  {
   "cell_type": "code",
   "execution_count": 4,
   "id": "b6e44983-07e7-47ae-be2d-fd39be7b57c8",
   "metadata": {},
   "outputs": [],
   "source": [
    "output_name, FRAMEWORK_PATH = qs.run_MG5(qs.MG5_PATH, qs.INPUT_PATH, proc_card_name='proc_card_bg.dat')"
   ]
  },
  {
   "cell_type": "code",
   "execution_count": 5,
   "id": "b35339e7-e258-4d1b-8e8e-29c698409054",
   "metadata": {},
   "outputs": [
    {
     "name": "stdout",
     "output_type": "stream",
     "text": [
      "#*********************************************************************\n",
      "#                       MadGraph5_aMC@NLO                            *\n",
      "#                                                                    *\n",
      "#                     run_card.dat MadEvent                          *\n",
      "#                                                                    *\n",
      "#  This file is used to set the parameters of the run.               *\n",
      "#                                                                    *\n",
      "#  Some notation/conventions:                                        *\n",
      "#                                                                    *\n",
      "#   Lines starting with a '# ' are info or comments                  *\n",
      "#                                                                    *\n",
      "#   mind the format:   value    = variable     ! comment             *\n",
      "#                                                                    *\n",
      "#   To display more options, you can type the command:               *\n",
      "#      update to_full                                                *\n",
      "#*********************************************************************\n",
      "#\n",
      "#*********************************************************************\n",
      "# Tag name for the run (one word)                                    *\n",
      "#*********************************************************************\n"
     ]
    },
    {
     "data": {
      "application/vnd.jupyter.widget-view+json": {
       "model_id": "88b13e22c650481fabd0518804b8f5bd",
       "version_major": 2,
       "version_minor": 0
      },
      "text/plain": [
       "Text(value='tag_1     = run_tag ! name of the run', layout=Layout(width='550px'))"
      ]
     },
     "metadata": {},
     "output_type": "display_data"
    },
    {
     "name": "stdout",
     "output_type": "stream",
     "text": [
      "#*********************************************************************\n",
      "# Number of events and rnd seed                                      *\n",
      "# Warning: Do not generate more than 1M events in a single run       *\n",
      "#*********************************************************************\n"
     ]
    },
    {
     "data": {
      "application/vnd.jupyter.widget-view+json": {
       "model_id": "01c9dc069cdf4771bd2634ce55978027",
       "version_major": 2,
       "version_minor": 0
      },
      "text/plain": [
       "Text(value='10000 = nevents ! Number of unweighted events requested', layout=Layout(width='550px'))"
      ]
     },
     "metadata": {},
     "output_type": "display_data"
    },
    {
     "data": {
      "application/vnd.jupyter.widget-view+json": {
       "model_id": "b9093d5e97da443db38f15b0d918e565",
       "version_major": 2,
       "version_minor": 0
      },
      "text/plain": [
       "Text(value='0   = iseed   ! rnd seed (0=assigned automatically=default))', layout=Layout(width='550px'))"
      ]
     },
     "metadata": {},
     "output_type": "display_data"
    },
    {
     "name": "stdout",
     "output_type": "stream",
     "text": [
      "#*********************************************************************\n",
      "# Collider type and energy                                           *\n",
      "# lpp: 0=No PDF, 1=proton, -1=antiproton,                            *\n",
      "#                2=elastic photon of proton/ion beam                 *\n",
      "#             +/-3=PDF of electron/positron beam                     *\n",
      "#             +/-4=PDF of muon/antimuon beam                         *\n",
      "#*********************************************************************\n"
     ]
    },
    {
     "data": {
      "application/vnd.jupyter.widget-view+json": {
       "model_id": "d9e2442f1aee4724ae7b345124c2b4b4",
       "version_major": 2,
       "version_minor": 0
      },
      "text/plain": [
       "Text(value='1        = lpp1    ! beam 1 type', layout=Layout(width='550px'))"
      ]
     },
     "metadata": {},
     "output_type": "display_data"
    },
    {
     "data": {
      "application/vnd.jupyter.widget-view+json": {
       "model_id": "615537252f39411fa31cb3bdf5b14e14",
       "version_major": 2,
       "version_minor": 0
      },
      "text/plain": [
       "Text(value='1        = lpp2    ! beam 2 type', layout=Layout(width='550px'))"
      ]
     },
     "metadata": {},
     "output_type": "display_data"
    },
    {
     "data": {
      "application/vnd.jupyter.widget-view+json": {
       "model_id": "f6b5688cb9014384b4b9aa326ed583ad",
       "version_major": 2,
       "version_minor": 0
      },
      "text/plain": [
       "Text(value='6500.0     = ebeam1  ! beam 1 total energy in GeV', layout=Layout(width='550px'))"
      ]
     },
     "metadata": {},
     "output_type": "display_data"
    },
    {
     "data": {
      "application/vnd.jupyter.widget-view+json": {
       "model_id": "66ed020a07024d8fac260bf9a687fbb6",
       "version_major": 2,
       "version_minor": 0
      },
      "text/plain": [
       "Text(value='6500.0     = ebeam2  ! beam 2 total energy in GeV', layout=Layout(width='550px'))"
      ]
     },
     "metadata": {},
     "output_type": "display_data"
    },
    {
     "name": "stdout",
     "output_type": "stream",
     "text": [
      "# To see polarised beam options: type \"update beam_pol\"\n",
      "\n",
      "#*********************************************************************\n",
      "# PDF CHOICE: this automatically fixes alpha_s and its evol.         *\n",
      "# pdlabel: lhapdf=LHAPDF (installation needed) [1412.7420]           *\n",
      "#          iww=Improved Weizsaecker-Williams Approx.[hep-ph/9310350] *\n",
      "#          eva=Effective W/Z/A Approx.       [2111.02442]            *\n",
      "#          edff=EDFF in gamma-UPC            [eq.(11) in 2207.03012] *\n",
      "#          chff=ChFF in gamma-UPC            [eq.(13) in 2207.03012] *\n",
      "#          none=No PDF, same as lhapdf with lppx=0                   *\n",
      "#*********************************************************************\n"
     ]
    },
    {
     "data": {
      "application/vnd.jupyter.widget-view+json": {
       "model_id": "a83dd2dd8fe846319d224dbbfc00b139",
       "version_major": 2,
       "version_minor": 0
      },
      "text/plain": [
       "Text(value='nn23lo1    = pdlabel1     ! PDF type for beam #1', layout=Layout(width='550px'))"
      ]
     },
     "metadata": {},
     "output_type": "display_data"
    },
    {
     "data": {
      "application/vnd.jupyter.widget-view+json": {
       "model_id": "18b699299c27440ab2b4509ca147fa21",
       "version_major": 2,
       "version_minor": 0
      },
      "text/plain": [
       "Text(value='nn23lo1    = pdlabel2     ! PDF type for beam #2', layout=Layout(width='550px'))"
      ]
     },
     "metadata": {},
     "output_type": "display_data"
    },
    {
     "data": {
      "application/vnd.jupyter.widget-view+json": {
       "model_id": "29a3e026e10e45c18be72fec6b47600a",
       "version_major": 2,
       "version_minor": 0
      },
      "text/plain": [
       "Text(value='230000    = lhaid     ! if pdlabel=lhapdf, this is the lhapdf number', layout=Layout(width='550px'…"
      ]
     },
     "metadata": {},
     "output_type": "display_data"
    },
    {
     "name": "stdout",
     "output_type": "stream",
     "text": [
      "# To see heavy ion options: type \"update ion_pdf\"\n",
      "#*********************************************************************\n",
      "# Renormalization and factorization scales                           *\n",
      "#*********************************************************************\n"
     ]
    },
    {
     "data": {
      "application/vnd.jupyter.widget-view+json": {
       "model_id": "2f4a35d105464c13a5ab1a36ccea3c9e",
       "version_major": 2,
       "version_minor": 0
      },
      "text/plain": [
       "Text(value='False = fixed_ren_scale  ! if .true. use fixed ren scale', layout=Layout(width='550px'))"
      ]
     },
     "metadata": {},
     "output_type": "display_data"
    },
    {
     "data": {
      "application/vnd.jupyter.widget-view+json": {
       "model_id": "a8ff90caf33c4a5eb722c61039162abe",
       "version_major": 2,
       "version_minor": 0
      },
      "text/plain": [
       "Text(value='False = fixed_fac_scale1  ! if .true. use fixed fac scale for beam 1', layout=Layout(width='550px'…"
      ]
     },
     "metadata": {},
     "output_type": "display_data"
    },
    {
     "data": {
      "application/vnd.jupyter.widget-view+json": {
       "model_id": "a0af2828bd4d41b8a584e7d3a2156838",
       "version_major": 2,
       "version_minor": 0
      },
      "text/plain": [
       "Text(value='False = fixed_fac_scale2  ! if .true. use fixed fac scale for beam 2', layout=Layout(width='550px'…"
      ]
     },
     "metadata": {},
     "output_type": "display_data"
    },
    {
     "data": {
      "application/vnd.jupyter.widget-view+json": {
       "model_id": "f24b693811d3436da80bbcfae8c0c758",
       "version_major": 2,
       "version_minor": 0
      },
      "text/plain": [
       "Text(value='91.188  = scale            ! fixed ren scale', layout=Layout(width='550px'))"
      ]
     },
     "metadata": {},
     "output_type": "display_data"
    },
    {
     "data": {
      "application/vnd.jupyter.widget-view+json": {
       "model_id": "1a9bae21bd3c4a3c93b78bac194f7a17",
       "version_major": 2,
       "version_minor": 0
      },
      "text/plain": [
       "Text(value='91.188  = dsqrt_q2fact1    ! fixed fact scale for pdf1', layout=Layout(width='550px'))"
      ]
     },
     "metadata": {},
     "output_type": "display_data"
    },
    {
     "data": {
      "application/vnd.jupyter.widget-view+json": {
       "model_id": "80c09b94544d46f59df1b9e7562785f8",
       "version_major": 2,
       "version_minor": 0
      },
      "text/plain": [
       "Text(value='91.188  = dsqrt_q2fact2    ! fixed fact scale for pdf2', layout=Layout(width='550px'))"
      ]
     },
     "metadata": {},
     "output_type": "display_data"
    },
    {
     "data": {
      "application/vnd.jupyter.widget-view+json": {
       "model_id": "21b615312e034c2da93c678536eb6dce",
       "version_major": 2,
       "version_minor": 0
      },
      "text/plain": [
       "Text(value='-1 = dynamical_scale_choice ! Choose one of the preselected dynamical choices', layout=Layout(widt…"
      ]
     },
     "metadata": {},
     "output_type": "display_data"
    },
    {
     "data": {
      "application/vnd.jupyter.widget-view+json": {
       "model_id": "a080e936ae63415e9ee59db1e7d23e3f",
       "version_major": 2,
       "version_minor": 0
      },
      "text/plain": [
       "Text(value='1.0  = scalefact        ! scale factor for event-by-event scales', layout=Layout(width='550px'))"
      ]
     },
     "metadata": {},
     "output_type": "display_data"
    },
    {
     "name": "stdout",
     "output_type": "stream",
     "text": [
      "\n",
      "\n",
      "#*********************************************************************\n",
      "# Type and output format\n",
      "#*********************************************************************\n"
     ]
    },
    {
     "data": {
      "application/vnd.jupyter.widget-view+json": {
       "model_id": "8f85c9779f4d429197163f11105148a2",
       "version_major": 2,
       "version_minor": 0
      },
      "text/plain": [
       "Text(value='False     = gridpack  !True = setting up the grid pack', layout=Layout(width='550px'))"
      ]
     },
     "metadata": {},
     "output_type": "display_data"
    },
    {
     "data": {
      "application/vnd.jupyter.widget-view+json": {
       "model_id": "90679b50e3bc4d098aac25862934fcaf",
       "version_major": 2,
       "version_minor": 0
      },
      "text/plain": [
       "Text(value='-1.0 = time_of_flight ! threshold (in mm) below which the invariant livetime is not written (-1 me…"
      ]
     },
     "metadata": {},
     "output_type": "display_data"
    },
    {
     "data": {
      "application/vnd.jupyter.widget-view+json": {
       "model_id": "a2ba848913254ead8e0e3b2f30f4f663",
       "version_major": 2,
       "version_minor": 0
      },
      "text/plain": [
       "Text(value='average =  event_norm       ! average/sum. Normalization of the weight in the LHEF', layout=Layout…"
      ]
     },
     "metadata": {},
     "output_type": "display_data"
    },
    {
     "name": "stdout",
     "output_type": "stream",
     "text": [
      "# To see MLM/CKKW  merging options: type \"update MLM\" or \"update CKKW\"\n",
      "\n",
      "#*********************************************************************\n",
      "#\n",
      "#*********************************************************************\n",
      "# Phase-Space Optimization strategy (basic options)\n",
      "#*********************************************************************\n"
     ]
    },
    {
     "data": {
      "application/vnd.jupyter.widget-view+json": {
       "model_id": "8561c4e279d54e52a0f82bdef0d4411e",
       "version_major": 2,
       "version_minor": 0
      },
      "text/plain": [
       "Text(value='0  = nhel          ! using helicities importance sampling or not.', layout=Layout(width='550px'))"
      ]
     },
     "metadata": {},
     "output_type": "display_data"
    },
    {
     "data": {
      "application/vnd.jupyter.widget-view+json": {
       "model_id": "f066c2bacc6746a58f6e68b932703030",
       "version_major": 2,
       "version_minor": 0
      },
      "text/plain": [
       "Text(value='! 0: sum over helicity, 1: importance sampling', layout=Layout(width='550px'))"
      ]
     },
     "metadata": {},
     "output_type": "display_data"
    },
    {
     "data": {
      "application/vnd.jupyter.widget-view+json": {
       "model_id": "129e9b3234da4379a51f6d99e9b6c7ae",
       "version_major": 2,
       "version_minor": 0
      },
      "text/plain": [
       "Text(value='1  = sde_strategy  ! default integration strategy (hep-ph/2021.00773)', layout=Layout(width='550px…"
      ]
     },
     "metadata": {},
     "output_type": "display_data"
    },
    {
     "data": {
      "application/vnd.jupyter.widget-view+json": {
       "model_id": "452b97aca3fc4dadbcc797603ca82e3b",
       "version_major": 2,
       "version_minor": 0
      },
      "text/plain": [
       "Text(value='! 1 is old strategy (using amp square)', layout=Layout(width='550px'))"
      ]
     },
     "metadata": {},
     "output_type": "display_data"
    },
    {
     "data": {
      "application/vnd.jupyter.widget-view+json": {
       "model_id": "989d9dee6e1748a29c96c4351fb97765",
       "version_major": 2,
       "version_minor": 0
      },
      "text/plain": [
       "Text(value='! 2 is new strategy (using only the denominator)', layout=Layout(width='550px'))"
      ]
     },
     "metadata": {},
     "output_type": "display_data"
    },
    {
     "name": "stdout",
     "output_type": "stream",
     "text": [
      "# To see advanced option for Phase-Space optimization: type \"update psoptim\"\n",
      "#*********************************************************************\n",
      "# Customization (custom cuts/scale/bias/...)                         *\n",
      "# list of files containing fortran function that overwrite default   *\n",
      "#*********************************************************************\n"
     ]
    },
    {
     "data": {
      "application/vnd.jupyter.widget-view+json": {
       "model_id": "8b1caec413154470b4a885fe3b02bb1c",
       "version_major": 2,
       "version_minor": 0
      },
      "text/plain": [
       "Text(value='= custom_fcts ! List of files containing user hook function', layout=Layout(width='550px'))"
      ]
     },
     "metadata": {},
     "output_type": "display_data"
    },
    {
     "name": "stdout",
     "output_type": "stream",
     "text": [
      "#*******************************\n",
      "# Parton level cuts definition *\n",
      "#*******************************\n"
     ]
    },
    {
     "data": {
      "application/vnd.jupyter.widget-view+json": {
       "model_id": "00a08508244647ac9fa5de72067e4e65",
       "version_major": 2,
       "version_minor": 0
      },
      "text/plain": [
       "Text(value='0.0  = dsqrt_shat ! minimal shat for full process', layout=Layout(width='550px'))"
      ]
     },
     "metadata": {},
     "output_type": "display_data"
    },
    {
     "name": "stdout",
     "output_type": "stream",
     "text": [
      "#\n",
      "#\n",
      "#*********************************************************************\n",
      "# BW cutoff (M+/-bwcutoff*Gamma) ! Define on/off-shell for \"$\" and decay\n",
      "#*********************************************************************\n"
     ]
    },
    {
     "data": {
      "application/vnd.jupyter.widget-view+json": {
       "model_id": "02fad8eb44b342279477fd292a3ca56f",
       "version_major": 2,
       "version_minor": 0
      },
      "text/plain": [
       "Text(value='15.0  = bwcutoff      ! (M+/-bwcutoff*Gamma)', layout=Layout(width='550px'))"
      ]
     },
     "metadata": {},
     "output_type": "display_data"
    },
    {
     "name": "stdout",
     "output_type": "stream",
     "text": [
      "#*********************************************************************\n",
      "# Standard Cuts                                                      *\n",
      "#*********************************************************************\n",
      "# Minimum and maximum pt's (for max, -1 means no cut)                *\n",
      "#*********************************************************************\n"
     ]
    },
    {
     "data": {
      "application/vnd.jupyter.widget-view+json": {
       "model_id": "bcb5d804d56e45818375cd6cd727f486",
       "version_major": 2,
       "version_minor": 0
      },
      "text/plain": [
       "Text(value='10.0  = ptl       ! minimum pt for the charged leptons', layout=Layout(width='550px'))"
      ]
     },
     "metadata": {},
     "output_type": "display_data"
    },
    {
     "data": {
      "application/vnd.jupyter.widget-view+json": {
       "model_id": "92ae301ae1f847258a1d598cee44bfc1",
       "version_major": 2,
       "version_minor": 0
      },
      "text/plain": [
       "Text(value=\"0.0  = misset    ! minimum missing Et (sum of neutrino's momenta)\", layout=Layout(width='550px'))"
      ]
     },
     "metadata": {},
     "output_type": "display_data"
    },
    {
     "data": {
      "application/vnd.jupyter.widget-view+json": {
       "model_id": "af35a8457886407c97c61fb321f8b79b",
       "version_major": 2,
       "version_minor": 0
      },
      "text/plain": [
       "Text(value='-1.0  = ptlmax    ! maximum pt for the charged leptons', layout=Layout(width='550px'))"
      ]
     },
     "metadata": {},
     "output_type": "display_data"
    },
    {
     "data": {
      "application/vnd.jupyter.widget-view+json": {
       "model_id": "9130c3878d6540999949445225b16b0f",
       "version_major": 2,
       "version_minor": 0
      },
      "text/plain": [
       "Text(value=\"-1.0  = missetmax ! maximum missing Et (sum of neutrino's momenta)\", layout=Layout(width='550px'))"
      ]
     },
     "metadata": {},
     "output_type": "display_data"
    },
    {
     "data": {
      "application/vnd.jupyter.widget-view+json": {
       "model_id": "dab095c683a54be29977f4b9066d7733",
       "version_major": 2,
       "version_minor": 0
      },
      "text/plain": [
       "Text(value='{} = pt_min_pdg ! pt cut for other particles (use pdg code). Applied on particle and anti-particle…"
      ]
     },
     "metadata": {},
     "output_type": "display_data"
    },
    {
     "data": {
      "application/vnd.jupyter.widget-view+json": {
       "model_id": "6402010150b74ba8a1f95ba62da6efee",
       "version_major": 2,
       "version_minor": 0
      },
      "text/plain": [
       "Text(value='{}\\t= pt_max_pdg ! pt cut for other particles (syntax e.g. {6: 100, 25: 50})', layout=Layout(width…"
      ]
     },
     "metadata": {},
     "output_type": "display_data"
    },
    {
     "name": "stdout",
     "output_type": "stream",
     "text": [
      "#\n",
      "# For display option for energy cut in the partonic center of mass frame type 'update ecut'\n",
      "#\n",
      "#*********************************************************************\n",
      "# Maximum and minimum absolute rapidity (for max, -1 means no cut)   *\n",
      "#*********************************************************************\n"
     ]
    },
    {
     "data": {
      "application/vnd.jupyter.widget-view+json": {
       "model_id": "9d4ceb2cbfaf44dca3eba35e9dc163c8",
       "version_major": 2,
       "version_minor": 0
      },
      "text/plain": [
       "Text(value='2.5  = etal    ! max rap for the charged leptons', layout=Layout(width='550px'))"
      ]
     },
     "metadata": {},
     "output_type": "display_data"
    },
    {
     "data": {
      "application/vnd.jupyter.widget-view+json": {
       "model_id": "36b02ea4d593401ebe40025103ebb1e4",
       "version_major": 2,
       "version_minor": 0
      },
      "text/plain": [
       "Text(value='0.0  = etalmin ! min rap for the charged leptons', layout=Layout(width='550px'))"
      ]
     },
     "metadata": {},
     "output_type": "display_data"
    },
    {
     "data": {
      "application/vnd.jupyter.widget-view+json": {
       "model_id": "6ae42f2a59e04d4297972467a853a82a",
       "version_major": 2,
       "version_minor": 0
      },
      "text/plain": [
       "Text(value='{} = eta_min_pdg ! rap cut for other particles (use pdg code). Applied on particle and anti-partic…"
      ]
     },
     "metadata": {},
     "output_type": "display_data"
    },
    {
     "data": {
      "application/vnd.jupyter.widget-view+json": {
       "model_id": "9ddf421e55f34c0fae340f9d8dae65ca",
       "version_major": 2,
       "version_minor": 0
      },
      "text/plain": [
       "Text(value='{} = eta_max_pdg ! rap cut for other particles (syntax e.g. {6: 2.5, 23: 5})', layout=Layout(width…"
      ]
     },
     "metadata": {},
     "output_type": "display_data"
    },
    {
     "name": "stdout",
     "output_type": "stream",
     "text": [
      "#*********************************************************************\n",
      "# Minimum and maximum DeltaR distance                                *\n",
      "#*********************************************************************\n",
      "#*********************************************************************\n",
      "# Minimum and maximum invariant mass for pairs                       *\n",
      "#*********************************************************************\n"
     ]
    },
    {
     "data": {
      "application/vnd.jupyter.widget-view+json": {
       "model_id": "866cf1417fad41ba92da722a5d237397",
       "version_major": 2,
       "version_minor": 0
      },
      "text/plain": [
       "Text(value='{} = mxx_min_pdg ! min invariant mass of a pair of particles X/X~ (e.g. {6:250})', layout=Layout(w…"
      ]
     },
     "metadata": {},
     "output_type": "display_data"
    },
    {
     "data": {
      "application/vnd.jupyter.widget-view+json": {
       "model_id": "3f31c21eaa9a4ac4912fcf28370f7752",
       "version_major": 2,
       "version_minor": 0
      },
      "text/plain": [
       "Text(value=\"{'default': False} = mxx_only_part_antipart ! if True the invariant mass is applied only\", layout=…"
      ]
     },
     "metadata": {},
     "output_type": "display_data"
    },
    {
     "data": {
      "application/vnd.jupyter.widget-view+json": {
       "model_id": "7bc412f449374d349fc818de686316b9",
       "version_major": 2,
       "version_minor": 0
      },
      "text/plain": [
       "Text(value='! to pairs of particle/antiparticle and not to pairs of the same pdg codes.', layout=Layout(width=…"
      ]
     },
     "metadata": {},
     "output_type": "display_data"
    },
    {
     "name": "stdout",
     "output_type": "stream",
     "text": [
      "#*********************************************************************\n",
      "# Minimum and maximum invariant mass for all letpons                 *\n",
      "#*********************************************************************\n"
     ]
    },
    {
     "data": {
      "application/vnd.jupyter.widget-view+json": {
       "model_id": "5096097865f94c79944f85be72117818",
       "version_major": 2,
       "version_minor": 0
      },
      "text/plain": [
       "Text(value='0.0   = mmnl    ! min invariant mass for all letpons (l+- and vl)', layout=Layout(width='550px'))"
      ]
     },
     "metadata": {},
     "output_type": "display_data"
    },
    {
     "data": {
      "application/vnd.jupyter.widget-view+json": {
       "model_id": "c47dd2e19e6942969790695b9edfe21e",
       "version_major": 2,
       "version_minor": 0
      },
      "text/plain": [
       "Text(value='-1.0  = mmnlmax ! max invariant mass for all letpons (l+- and vl)', layout=Layout(width='550px'))"
      ]
     },
     "metadata": {},
     "output_type": "display_data"
    },
    {
     "name": "stdout",
     "output_type": "stream",
     "text": [
      "#*********************************************************************\n",
      "# Minimum and maximum pt for 4-momenta sum of leptons / neutrino     *\n",
      "#  for pair of lepton includes only same flavor, opposite charge\n",
      "#*********************************************************************\n",
      "#*********************************************************************\n",
      "# Inclusive cuts                                                     *\n",
      "#*********************************************************************\n",
      "#*********************************************************************\n",
      "# maximal pdg code for quark to be considered as a light jet         *\n",
      "# (otherwise b cuts are applied)                                     *\n",
      "#*********************************************************************\n"
     ]
    },
    {
     "data": {
      "application/vnd.jupyter.widget-view+json": {
       "model_id": "c53a2fe18e384664a55247f3c2f31bc1",
       "version_major": 2,
       "version_minor": 0
      },
      "text/plain": [
       "Text(value='5 = maxjetflavor    ! Maximum jet pdg code', layout=Layout(width='550px'))"
      ]
     },
     "metadata": {},
     "output_type": "display_data"
    },
    {
     "name": "stdout",
     "output_type": "stream",
     "text": [
      "#*********************************************************************\n",
      "#\n",
      "#*********************************************************************\n",
      "# Store info for systematics studies                                 *\n",
      "# WARNING: Do not use for interference type of computation           *\n",
      "#*********************************************************************\n"
     ]
    },
    {
     "data": {
      "application/vnd.jupyter.widget-view+json": {
       "model_id": "ed2da6e72f6d42ca88672789d2770656",
       "version_major": 2,
       "version_minor": 0
      },
      "text/plain": [
       "Text(value='True  = use_syst      ! Enable systematics studies', layout=Layout(width='550px'))"
      ]
     },
     "metadata": {},
     "output_type": "display_data"
    },
    {
     "name": "stdout",
     "output_type": "stream",
     "text": [
      "#\n"
     ]
    },
    {
     "data": {
      "application/vnd.jupyter.widget-view+json": {
       "model_id": "e02624d1acae45d8b3a478c0e2579323",
       "version_major": 2,
       "version_minor": 0
      },
      "text/plain": [
       "Text(value='systematics = systematics_program ! none, systematics [python], SysCalc [depreceted, C++]', layout…"
      ]
     },
     "metadata": {},
     "output_type": "display_data"
    },
    {
     "data": {
      "application/vnd.jupyter.widget-view+json": {
       "model_id": "7f21c2e326ff4b7f896ed492d770ed07",
       "version_major": 2,
       "version_minor": 0
      },
      "text/plain": [
       "Text(value=\"['--mur=0.5,1,2', '--muf=0.5,1,2', '--pdf=errorset'] = systematics_arguments ! see: https://cp3.ir…"
      ]
     },
     "metadata": {},
     "output_type": "display_data"
    },
    {
     "name": "stdout",
     "output_type": "stream",
     "text": [
      "\n"
     ]
    },
    {
     "data": {
      "application/vnd.jupyter.widget-view+json": {
       "model_id": "1666ba6b73574522bfa4c7020d057a6a",
       "version_major": 2,
       "version_minor": 0
      },
      "text/plain": [
       "Button(description='Save', style=ButtonStyle())"
      ]
     },
     "metadata": {},
     "output_type": "display_data"
    },
    {
     "data": {
      "application/vnd.jupyter.widget-view+json": {
       "model_id": "2da7ae81955749ea9bd9cdb64cbf2dd8",
       "version_major": 2,
       "version_minor": 0
      },
      "text/plain": [
       "Output()"
      ]
     },
     "metadata": {},
     "output_type": "display_data"
    }
   ],
   "source": [
    "qs.edit_card(FRAMEWORK_PATH)"
   ]
  },
  {
   "cell_type": "code",
   "execution_count": 6,
   "id": "d6ecf858-e6ce-4a2d-ab04-44c2c3105243",
   "metadata": {},
   "outputs": [
    {
     "data": {
      "text/plain": [
       "Abstract of Parameter Card\n",
       "  /home/leo/MadStats/mg5qs/output/SM/Cards/param_card.dat\n",
       "    BLOCKS:\n",
       "      CKMBLOCK (4)\n",
       "      MASS (21)\n",
       "      SMEFT (1350)\n",
       "      SMEFTCPV (1149)\n",
       "      SMEFTCUTOFF (1)\n",
       "      SMINPUTS (3)\n",
       "      SWITCHES (1)\n",
       "      YUKAWA (9)\n",
       "      QNUMBERS 9000005 (4)\n",
       "      QNUMBERS 9000006 (4)\n",
       "      QNUMBERS 9000007 (4)\n",
       "      QNUMBERS 9000008 (4)\n",
       "    DECAY (21)"
      ]
     },
     "execution_count": 6,
     "metadata": {},
     "output_type": "execute_result"
    }
   ],
   "source": [
    "card = qs.ParamCard(FRAMEWORK_PATH)\n",
    "card"
   ]
  },
  {
   "cell_type": "code",
   "execution_count": 7,
   "id": "191243bf-4feb-4332-9f13-3c3b707453f6",
   "metadata": {},
   "outputs": [
    {
     "data": {
      "text/html": [
       "<div>\n",
       "<style scoped>\n",
       "    .dataframe tbody tr th:only-of-type {\n",
       "        vertical-align: middle;\n",
       "    }\n",
       "\n",
       "    .dataframe tbody tr th {\n",
       "        vertical-align: top;\n",
       "    }\n",
       "\n",
       "    .dataframe thead th {\n",
       "        text-align: right;\n",
       "    }\n",
       "</style>\n",
       "<table border=\"1\" class=\"dataframe\">\n",
       "  <thead>\n",
       "    <tr style=\"text-align: right;\">\n",
       "      <th></th>\n",
       "      <th>key</th>\n",
       "      <th>value</th>\n",
       "      <th>comment</th>\n",
       "    </tr>\n",
       "  </thead>\n",
       "  <tbody>\n",
       "    <tr>\n",
       "      <th>970</th>\n",
       "      <td>971</td>\n",
       "      <td>0.0</td>\n",
       "      <td>cledqRe3332</td>\n",
       "    </tr>\n",
       "  </tbody>\n",
       "</table>\n",
       "</div>"
      ],
      "text/plain": [
       "     key  value      comment\n",
       "970  971    0.0  cledqRe3332"
      ]
     },
     "execution_count": 7,
     "metadata": {},
     "output_type": "execute_result"
    }
   ],
   "source": [
    "df = card.dfs()['SMEFT']\n",
    "df[df['comment'].str.startswith('cledqRe3332')]"
   ]
  },
  {
   "cell_type": "code",
   "execution_count": 8,
   "id": "736e49fa-d0bd-42d7-90dc-3ca34b0f3ca6",
   "metadata": {},
   "outputs": [
    {
     "data": {
      "text/html": [
       "<div>\n",
       "<style scoped>\n",
       "    .dataframe tbody tr th:only-of-type {\n",
       "        vertical-align: middle;\n",
       "    }\n",
       "\n",
       "    .dataframe tbody tr th {\n",
       "        vertical-align: top;\n",
       "    }\n",
       "\n",
       "    .dataframe thead th {\n",
       "        text-align: right;\n",
       "    }\n",
       "</style>\n",
       "<table border=\"1\" class=\"dataframe\">\n",
       "  <thead>\n",
       "    <tr style=\"text-align: right;\">\n",
       "      <th></th>\n",
       "      <th>key</th>\n",
       "      <th>value</th>\n",
       "      <th>comment</th>\n",
       "    </tr>\n",
       "  </thead>\n",
       "  <tbody>\n",
       "    <tr>\n",
       "      <th>819</th>\n",
       "      <td>820</td>\n",
       "      <td>0.0</td>\n",
       "      <td>cledqIm3332</td>\n",
       "    </tr>\n",
       "  </tbody>\n",
       "</table>\n",
       "</div>"
      ],
      "text/plain": [
       "     key  value      comment\n",
       "819  820    0.0  cledqIm3332"
      ]
     },
     "execution_count": 8,
     "metadata": {},
     "output_type": "execute_result"
    }
   ],
   "source": [
    "df = card.dfs()['SMEFTCPV']\n",
    "df[df['comment'].str.startswith('cledqIm3332')]"
   ]
  },
  {
   "cell_type": "code",
   "execution_count": 9,
   "id": "6a354391-6277-4e69-942c-1e5f6956456a",
   "metadata": {},
   "outputs": [],
   "source": [
    "card.set_value('SMEFT', 971, 20)\n",
    "card.set_value('SMEFTCPV', 820, 20)"
   ]
  },
  {
   "cell_type": "code",
   "execution_count": 10,
   "id": "fef18aa6-263c-4473-918f-b17b011aac82",
   "metadata": {},
   "outputs": [],
   "source": [
    "for i in range(4):\n",
    "    qs.generate_LHE(card, FRAMEWORK_PATH)"
   ]
  },
  {
   "cell_type": "code",
   "execution_count": 11,
   "id": "f758487e-b147-4ec4-99d1-23b9f6e83506",
   "metadata": {
    "scrolled": true
   },
   "outputs": [
    {
     "name": "stdout",
     "output_type": "stream",
     "text": [
      "\n",
      " *------------------------------------------------------------------------------------* \n",
      " |                                                                                    | \n",
      " |  *------------------------------------------------------------------------------*  | \n",
      " |  |                                                                              |  | \n",
      " |  |                                                                              |  | \n",
      " |  |   PPP   Y   Y  TTTTT  H   H  III    A      Welcome to the Lund Monte Carlo!  |  | \n",
      " |  |   P  P   Y Y     T    H   H   I    A A     This is PYTHIA version 8.311      |  | \n",
      " |  |   PPP     Y      T    HHHHH   I   AAAAA    Last date of change:  8 Mar 2024  |  | \n",
      " |  |   P       Y      T    H   H   I   A   A                                      |  | \n",
      " |  |   P       Y      T    H   H  III  A   A    Now is 07 Sep 2024 at 09:08:39    |  | \n",
      " |  |                                                                              |  | \n",
      " |  |   Program documentation and an archive of historic versions is found on:     |  | \n",
      " |  |                                                                              |  | \n",
      " |  |                               https://pythia.org/                            |  | \n",
      " |  |                                                                              |  | \n",
      " |  |   PYTHIA is authored by a collaboration consisting of:                       |  | \n",
      " |  |                                                                              |  | \n",
      " |  |   Javira Altmann, Christian Bierlich, Naomi Cooke, Nishita Desai,            |  | \n",
      " |  |   Leif Gellersen, Ilkka Helenius, Philip Ilten, Leif Lonnblad,               |  | \n",
      " |  |   Stephen Mrenna, Christian Preuss, Torbjorn Sjostrand, Peter Skands,        |  | \n",
      " |  |   Marius Utheim, and Rob Verheyen.                                           |  | \n",
      " |  |                                                                              |  | \n",
      " |  |   The complete list of authors, including contact information and            |  | \n",
      " |  |   affiliations, can be found on https://pythia.org/.                         |  | \n",
      " |  |   Problems or bugs should be reported on email at authors@pythia.org.        |  | \n",
      " |  |                                                                              |  | \n",
      " |  |   The main program reference is C. Bierlich et al,                           |  | \n",
      " |  |   'A comprehensive guide to the physics and usage of Pythia 8.3',            |  | \n",
      " |  |   SciPost Phys. Codebases 8-r8.3 (2022) [arXiv:2203.11601 [hep-ph]]          |  | \n",
      " |  |                                                                              |  | \n",
      " |  |   PYTHIA is released under the GNU General Public Licence version 2 or later.|  | \n",
      " |  |   Please respect the MCnet Guidelines for Event Generator Authors and Users. |  | \n",
      " |  |                                                                              |  | \n",
      " |  |   Disclaimer: this program comes without any guarantees.                     |  | \n",
      " |  |   Beware of errors and use common sense when interpreting results.           |  | \n",
      " |  |                                                                              |  | \n",
      " |  |   Copyright (C) 2024 Torbjorn Sjostrand                                      |  | \n",
      " |  |                                                                              |  | \n",
      " |  |                                                                              |  | \n",
      " |  *------------------------------------------------------------------------------*  | \n",
      " |                                                                                    | \n",
      " *------------------------------------------------------------------------------------* \n",
      "\n",
      "\n",
      " *------------------------------------------------------------------------------------* \n",
      " |                                                                                    | \n",
      " |  *------------------------------------------------------------------------------*  | \n",
      " |  |                                                                              |  | \n",
      " |  |                                                                              |  | \n",
      " |  |   PPP   Y   Y  TTTTT  H   H  III    A      Welcome to the Lund Monte Carlo!  |  | \n",
      " |  |   P  P   Y Y     T    H   H   I    A A     This is PYTHIA version 8.311      |  | \n",
      " |  |   PPP     Y      T    HHHHH   I   AAAAA    Last date of change:  8 Mar 2024  |  | \n",
      " |  |   P       Y      T    H   H   I   A   A                                      |  | \n",
      " |  |   P       Y      T    H   H  III  A   A    Now is 07 Sep 2024 at 09:08:39    |  | \n",
      " |  |                                                                              |  | \n",
      " |  |   Program documentation and an archive of historic versions is found on:     |  | \n",
      " |  |                                                                              |  | \n",
      " |  |                               https://pythia.org/                            |  | \n",
      " |  |                                                                              |  | \n",
      " |  |   PYTHIA is authored by a collaboration consisting of:                       |  | \n",
      " |  |                                                                              |  | \n",
      " |  |   Javira Altmann, Christian Bierlich, Naomi Cooke, Nishita Desai,            |  | \n",
      " |  |   Leif Gellersen, Ilkka Helenius, Philip Ilten, Leif Lonnblad,               |  | \n",
      " |  |   Stephen Mrenna, Christian Preuss, Torbjorn Sjostrand, Peter Skands,        |  | \n",
      " |  |   Marius Utheim, and Rob Verheyen.                                           |  | \n",
      " |  |                                                                              |  | \n",
      " |  |   The complete list of authors, including contact information and            |  | \n",
      " |  |   affiliations, can be found on https://pythia.org/.                         |  | \n",
      " |  |   Problems or bugs should be reported on email at authors@pythia.org.        |  | \n",
      " |  |                                                                              |  | \n",
      " |  |   The main program reference is C. Bierlich et al,                           |  | \n",
      " |  |   'A comprehensive guide to the physics and usage of Pythia 8.3',            |  | \n",
      " |  |   SciPost Phys. Codebases 8-r8.3 (2022) [arXiv:2203.11601 [hep-ph]]          |  | \n",
      " |  |                                                                              |  | \n",
      " |  |   PYTHIA is released under the GNU General Public Licence version 2 or later.|  | \n",
      " |  |   Please respect the MCnet Guidelines for Event Generator Authors and Users. |  | \n",
      " |  |                                                                              |  | \n",
      " |  |   Disclaimer: this program comes without any guarantees.                     |  | \n",
      " |  |   Beware of errors and use common sense when interpreting results.           |  | \n",
      " |  |                                                                              |  | \n",
      " |  |   Copyright (C) 2024 Torbjorn Sjostrand                                      |  | \n",
      " |  |                                                                              |  | \n",
      " |  |                                                                              |  | \n",
      " |  *------------------------------------------------------------------------------*  | \n",
      " |                                                                                    | \n",
      " *------------------------------------------------------------------------------------* \n",
      "\n",
      "\n",
      " *------------------------------------------------------------------------------------* \n",
      " |                                                                                    | \n",
      " |  *------------------------------------------------------------------------------*  | \n",
      " |  |                                                                              |  | \n",
      " |  |                                                                              |  | \n",
      " |  |   PPP   Y   Y  TTTTT  H   H  III    A      Welcome to the Lund Monte Carlo!  |  | \n",
      " |  |   P  P   Y Y     T    H   H   I    A A     This is PYTHIA version 8.311      |  | \n",
      " |  |   PPP     Y      T    HHHHH   I   AAAAA    Last date of change:  8 Mar 2024  |  | \n",
      " |  |   P       Y      T    H   H   I   A   A                                      |  | \n",
      " |  |   P       Y      T    H   H  III  A   A    Now is 07 Sep 2024 at 09:08:39    |  | \n",
      " |  |                                                                              |  | \n",
      " |  |   Program documentation and an archive of historic versions is found on:     |  | \n",
      " |  |                                                                              |  | \n",
      " |  |                               https://pythia.org/                            |  | \n",
      " |  |                                                                              |  | \n",
      " |  |   PYTHIA is authored by a collaboration consisting of:                       |  | \n",
      " |  |                                                                              |  | \n",
      " |  |   Javira Altmann, Christian Bierlich, Naomi Cooke, Nishita Desai,            |  | \n",
      " |  |   Leif Gellersen, Ilkka Helenius, Philip Ilten, Leif Lonnblad,               |  | \n",
      " |  |   Stephen Mrenna, Christian Preuss, Torbjorn Sjostrand, Peter Skands,        |  | \n",
      " |  |   Marius Utheim, and Rob Verheyen.                                           |  | \n",
      " |  |                                                                              |  | \n",
      " |  |   The complete list of authors, including contact information and            |  | \n",
      " |  |   affiliations, can be found on https://pythia.org/.                         |  | \n",
      " |  |   Problems or bugs should be reported on email at authors@pythia.org.        |  | \n",
      " |  |                                                                              |  | \n",
      " |  |   The main program reference is C. Bierlich et al,                           |  | \n",
      " |  |   'A comprehensive guide to the physics and usage of Pythia 8.3',            |  | \n",
      " |  |   SciPost Phys. Codebases 8-r8.3 (2022) [arXiv:2203.11601 [hep-ph]]          |  | \n",
      " |  |                                                                              |  | \n",
      " |  |   PYTHIA is released under the GNU General Public Licence version 2 or later.|  | \n",
      " |  |   Please respect the MCnet Guidelines for Event Generator Authors and Users. |  | \n",
      " |  |                                                                              |  | \n",
      " |  |   Disclaimer: this program comes without any guarantees.                     |  | \n",
      " |  |   Beware of errors and use common sense when interpreting results.           |  | \n",
      " |  |                                                                              |  | \n",
      " |  |   Copyright (C) 2024 Torbjorn Sjostrand                                      |  | \n",
      " |  |                                                                              |  | \n",
      " |  |                                                                              |  | \n",
      " |  *------------------------------------------------------------------------------*  | \n",
      " |                                                                                    | \n",
      " *------------------------------------------------------------------------------------* \n",
      "\n",
      " *-----------------------  SusyLesHouches SUSY/BSM Interface  ------------------------*\n",
      " | Last Change 12 Apr 2017 - P. Skands\n",
      " | Parsing: /home/leo/MadStats/mg5qs/output/SM/Events/run_04/unweighted_events.lhe\n",
      " | (SLHA::readFile) line 296 - storing non-SLHA(2) block: ckmblock\n",
      " | (SLHA::readFile) line 323 - storing non-SLHA(2) block: smeft\n",
      " *-----------------------  SusyLesHouches SUSY/BSM Interface  ------------------------*\n",
      " | Last Change 12 Apr 2017 - P. Skands\n",
      " | Parsing: /home/leo/MadStats/mg5qs/output/SM/Events/run_02/unweighted_events.lhe\n",
      " | (SLHA::readFile) line 296 - storing non-SLHA(2) block: ckmblock\n",
      " | (SLHA::readFile) line 323 - storing non-SLHA(2) block: smeft\n",
      "\n",
      " *------------------------------------------------------------------------------------* \n",
      " |                                                                                    | \n",
      " |  *------------------------------------------------------------------------------*  | \n",
      " |  |                                                                              |  | \n",
      " |  |                                                                              |  | \n",
      " |  |   PPP   Y   Y  TTTTT  H   H  III    A      Welcome to the Lund Monte Carlo!  |  | \n",
      " |  |   P  P   Y Y     T    H   H   I    A A     This is PYTHIA version 8.311      |  | \n",
      " |  |   PPP     Y      T    HHHHH   I   AAAAA    Last date of change:  8 Mar 2024  |  | \n",
      " |  |   P       Y      T    H   H   I   A   A                                      |  | \n",
      " |  |   P       Y      T    H   H  III  A   A    Now is 07 Sep 2024 at 09:08:39    |  | \n",
      " |  |                                                                              |  | \n",
      " |  |   Program documentation and an archive of historic versions is found on:     |  | \n",
      " |  |                                                                              |  | \n",
      " |  |                               https://pythia.org/                            |  | \n",
      " |  |                                                                              |  | \n",
      " |  |   PYTHIA is authored by a collaboration consisting of:                       |  | \n",
      " |  |                                                                              |  | \n",
      " |  |   Javira Altmann, Christian Bierlich, Naomi Cooke, Nishita Desai,            |  | \n",
      " |  |   Leif Gellersen, Ilkka Helenius, Philip Ilten, Leif Lonnblad,               |  | \n",
      " |  |   Stephen Mrenna, Christian Preuss, Torbjorn Sjostrand, Peter Skands,        |  | \n",
      " |  |   Marius Utheim, and Rob Verheyen.                                           |  | \n",
      " |  |                                                                              |  | \n",
      " |  |   The complete list of authors, including contact information and            |  | \n",
      " |  |   affiliations, can be found on https://pythia.org/.                         |  | \n",
      " |  |   Problems or bugs should be reported on email at authors@pythia.org.        |  | \n",
      " |  |                                                                              |  | \n",
      " |  |   The main program reference is C. Bierlich et al,                           |  | \n",
      " |  |   'A comprehensive guide to the physics and usage of Pythia 8.3',            |  | \n",
      " |  |   SciPost Phys. Codebases 8-r8.3 (2022) [arXiv:2203.11601 [hep-ph]]          |  | \n",
      " |  |                                                                              |  | \n",
      " |  |   PYTHIA is released under the GNU General Public Licence version 2 or later.|  | \n",
      " |  |   Please respect the MCnet Guidelines for Event Generator Authors and Users. |  | \n",
      " |  |                                                                              |  | \n",
      " |  |   Disclaimer: this program comes without any guarantees.                     |  | \n",
      " |  |   Beware of errors and use common sense when interpreting results.           |  | \n",
      " |  |                                                                              |  | \n",
      " |  |   Copyright (C) 2024 Torbjorn Sjostrand                                      |  | \n",
      " |  |                                                                              |  | \n",
      " |  |                                                                              |  | \n",
      " |  *------------------------------------------------------------------------------*  | \n",
      " |                                                                                    | \n",
      " *------------------------------------------------------------------------------------* \n",
      "\n",
      " *-----------------------  SusyLesHouches SUSY/BSM Interface  ------------------------*\n",
      " | Last Change 12 Apr 2017 - P. Skands\n",
      " | Parsing: /home/leo/MadStats/mg5qs/output/SM/Events/run_01/unweighted_events.lhe\n",
      " | (SLHA::readFile) line 296 - storing non-SLHA(2) block: ckmblock\n",
      " | (SLHA::readFile) line 323 - storing non-SLHA(2) block: smeft\n",
      " | (SLHA::readFile) line 1674 - storing non-SLHA(2) block: smeftcpv\n",
      " | (SLHA::readFile) line 1674 - storing non-SLHA(2) block: smeftcpv\n",
      " | (SLHA::readFile) line 1674 - storing non-SLHA(2) block: smeftcpv\n",
      " | (SLHA::readFile) line 2824 - storing non-SLHA(2) block: smeftcutoff\n",
      " | (SLHA::readFile) line 2830 - storing non-SLHA(2) block: switches\n",
      " | (SLHA::readFile) line 2832 - storing non-SLHA(2) block: yukawa\n",
      " | (SLHA::readFile) line 2862 - storing QNUMBERS for id = 9000005 z1 \n",
      " | (SLHA::readFile) line 2867 - storing QNUMBERS for id = 9000006 w1+ \n",
      " | (SLHA::readFile) line 2872 - storing QNUMBERS for id = 9000007 t1 \n",
      " | (SLHA::readFile) line 2877 - storing QNUMBERS for id = 9000008 h1 \n",
      " | (SLHA::readFile) line 2824 - storing non-SLHA(2) block: smeftcutoff\n",
      " | (SLHA::readFile) line 2830 - storing non-SLHA(2) block: switches\n",
      " | (SLHA::readFile) line 2832 - storing non-SLHA(2) block: yukawa\n",
      " | (SLHA::readFile) line 2862 - storing QNUMBERS for id = 9000005 z1 \n",
      " | (SLHA::readFile) line 2867 - storing QNUMBERS for id = 9000006 w1+ \n",
      " | (SLHA::readFile) line 2872 - storing QNUMBERS for id = 9000007 t1 \n",
      " | (SLHA::readFile) line 2877 - storing QNUMBERS for id = 9000008 h1 \n",
      " *-----------------------  SusyLesHouches SUSY/BSM Interface  ------------------------*\n",
      " | Last Change 12 Apr 2017 - P. Skands\n",
      " | Parsing: /home/leo/MadStats/mg5qs/output/SM/Events/run_03/unweighted_events.lhe\n",
      " | (SLHA::readFile) line 296 - storing non-SLHA(2) block: ckmblock\n",
      " | (SLHA::readFile) line 323 - storing non-SLHA(2) block: smeft\n",
      " | (SLHA::readFile) line 2824 - storing non-SLHA(2) block: smeftcutoff\n",
      " | (SLHA::readFile) line 2830 - storing non-SLHA(2) block: switches\n",
      " | (SLHA::readFile) line 2832 - storing non-SLHA(2) block: yukawa\n",
      " | (SLHA::readFile) line 2862 - storing QNUMBERS for id = 9000005 z1 \n",
      " | (SLHA::readFile) line 2867 - storing QNUMBERS for id = 9000006 w1+ \n",
      " | (SLHA::readFile) line 2872 - storing QNUMBERS for id = 9000007 t1 \n",
      " | (SLHA::readFile) line 2877 - storing QNUMBERS for id = 9000008 h1 \n",
      " | (SLHA::readFile) line 1674 - storing non-SLHA(2) block: smeftcpv\n",
      " | (SLHA::readFile) line 2824 - storing non-SLHA(2) block: smeftcutoff\n",
      " | (SLHA::readFile) line 2830 - storing non-SLHA(2) block: switches\n",
      " | (SLHA::readFile) line 2832 - storing non-SLHA(2) block: yukawa\n",
      " | (SLHA::readFile) line 2862 - storing QNUMBERS for id = 9000005 z1 \n",
      " | (SLHA::readFile) line 2867 - storing QNUMBERS for id = 9000006 w1+ \n",
      " | (SLHA::readFile) line 2872 - storing QNUMBERS for id = 9000007 t1 \n",
      " | (SLHA::readFile) line 2877 - storing QNUMBERS for id = 9000008 h1 \n",
      " *------------------------------------------------------------------------------------*\n",
      "\n",
      "TAUS: 36762\n",
      " *------------------------------------------------------------------------------------*\n",
      "\n",
      "TAUS: 36756\n",
      " *------------------------------------------------------------------------------------*\n",
      "\n",
      "TAUS: 36787\n",
      " *------------------------------------------------------------------------------------*\n",
      "\n",
      "TAUS: 36731\n"
     ]
    }
   ],
   "source": [
    "output_dir = Path('pT_nonSM')  # output path relative to Jupyter\n",
    "cpu_cores = 10                    # set an appropriate value based on CPU hardware\n",
    "\n",
    "TAU = 15 # Particle ID for Tau\n",
    "LHEs = qs.get_LHEs(FRAMEWORK_PATH)\n",
    "\n",
    "# create output path if it does not exist\n",
    "if not os.path.isdir(output_dir):\n",
    "    os.mkdir(output_dir)\n",
    "\n",
    "# function to process a single LHE file, storing result in a pickle file\n",
    "def process_LHE(n, LHE, PID):\n",
    "    pTs = qs.generate_pT(PID, LHE)\n",
    "    fname = FRAMEWORK_PATH.name + '3332_20_20.' + str(n) + '.pkl'\n",
    "    with open(output_dir / fname, 'wb') as f:\n",
    "        pickle.dump(pTs, f)\n",
    "        f.close()\n",
    "\n",
    "# run multiple processes in parallel\n",
    "with concurrent.futures.ProcessPoolExecutor(max_workers=cpu_cores) as executor:\n",
    "    futures = {executor.submit(process_LHE, i, LHE, TAU): i for i, LHE in enumerate(LHEs)}"
   ]
  },
  {
   "cell_type": "code",
   "execution_count": null,
   "id": "7c50e699-a008-46a3-85c0-1e78c4382397",
   "metadata": {},
   "outputs": [],
   "source": []
  }
 ],
 "metadata": {
  "kernelspec": {
   "display_name": "Python 3 (My Custom Kernel)",
   "language": "python",
   "name": "my_custom_kernel"
  },
  "language_info": {
   "codemirror_mode": {
    "name": "ipython",
    "version": 3
   },
   "file_extension": ".py",
   "mimetype": "text/x-python",
   "name": "python",
   "nbconvert_exporter": "python",
   "pygments_lexer": "ipython3",
   "version": "3.12.2"
  }
 },
 "nbformat": 4,
 "nbformat_minor": 5
}
