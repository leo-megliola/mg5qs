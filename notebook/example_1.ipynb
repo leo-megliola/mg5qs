{
 "cells": [
  {
   "cell_type": "code",
   "execution_count": null,
   "id": "e19214a2-455b-4e43-9c71-e1173530ef64",
   "metadata": {},
   "outputs": [],
   "source": [
    "import os\n",
    "from pathlib import Path\n",
    "import matplotlib.pyplot as plt\n",
    "import numpy as np\n",
    "import scipy.stats as stats\n",
    "import concurrent.futures\n",
    "import pickle"
   ]
  },
  {
   "cell_type": "markdown",
   "id": "91fd7457-eb2f-43b2-b9c4-a4a7578965d9",
   "metadata": {},
   "source": [
    "### Generate transverse momenta\n",
    "\n",
    "This example shows the simplest path to use mg5qs functions; in subsequent examples each step will be discussed in more detail. \n",
    "\n",
    "This example includes:\n",
    "- loading a MadGraph model\n",
    "- single-thread processing\n",
    "- parallel processing\n",
    "- storing results\n",
    "- consolidating results from mulitiple runs\n",
    "- plotting results using standard libraries\n",
    "- computing statistics using standard libraries"
   ]
  },
  {
   "cell_type": "markdown",
   "id": "6e8c3145-2733-4490-8013-8c510c39908d",
   "metadata": {},
   "source": [
    "### 1. Load a MadGraph model"
   ]
  },
  {
   "cell_type": "markdown",
   "id": "58f3fad4-a743-47bc-b0d1-edc44229405d",
   "metadata": {},
   "source": [
    "**1.1 load environment variables; use MadGraph to create output directories and default cards**\n",
    "\n",
    "The enviroment variables are loaded in mg5qs_import, but it is done here explicitly in case they have not been setup yet."
   ]
  },
  {
   "cell_type": "code",
   "execution_count": null,
   "id": "534f3458-833b-4a3d-9762-d821fcabaad5",
   "metadata": {},
   "outputs": [],
   "source": [
    "# these environment variables are required, see mg5qs/README\n",
    "MG5_PATH = Path(os.getenv('MG5QS_MG5_PATH'))      # where is madgraph?\n",
    "INPUT_PATH = Path(os.getenv('MG5QS_INPUT_PATH'))  # where is model's proc_card? \n",
    "MG5_PATH, INPUT_PATH"
   ]
  },
  {
   "cell_type": "code",
   "execution_count": null,
   "id": "86f0efcd-7e1a-4dd4-9936-3d7d4e23e2cd",
   "metadata": {},
   "outputs": [],
   "source": [
    "# now, import mg5qs\n",
    "import mg5qs_import as qs"
   ]
  },
  {
   "cell_type": "code",
   "execution_count": null,
   "id": "2d786a23-40de-4806-830c-ebe8943d6f00",
   "metadata": {},
   "outputs": [],
   "source": [
    "# create madgraph output directory structure\n",
    "output_name, FRAMEWORK_PATH = qs.run_MG5(qs.MG5_PATH, qs.INPUT_PATH, proc_card_name='proc_card.dat')\n",
    "output_name, FRAMEWORK_PATH"
   ]
  },
  {
   "cell_type": "markdown",
   "id": "b2b2233e-0405-499f-a341-52fddf5cd58f",
   "metadata": {},
   "source": [
    "**1.2 at this point, cards could be edited (manually) using qs.edit_card or (programatically) using the ParamCard API:**"
   ]
  },
  {
   "cell_type": "code",
   "execution_count": null,
   "id": "bb254315-6cba-4279-a7bb-d0291b1d4ed1",
   "metadata": {},
   "outputs": [],
   "source": [
    "# example: the ParamCard API can abstract cards and set values for paramaters\n",
    "card = qs.ParamCard(FRAMEWORK_PATH)\n",
    "# ...set_value goes here...\n",
    "card"
   ]
  },
  {
   "cell_type": "markdown",
   "id": "44502414-0ccf-49a5-a6cd-fc619164e55f",
   "metadata": {},
   "source": [
    "### 2. Generate LHE files\n",
    "\n",
    "Run MadGraph to generate Les Houches Event (LHE) files; these files will then by processed into hadron showers using Pythia."
   ]
  },
  {
   "cell_type": "code",
   "execution_count": null,
   "id": "69221119-ae51-474d-8348-b8c41fd841af",
   "metadata": {},
   "outputs": [],
   "source": [
    "RUNS = 4\n",
    "\n",
    "for n in range(RUNS):\n",
    "    qs.generate_LHE(card, FRAMEWORK_PATH)"
   ]
  },
  {
   "cell_type": "code",
   "execution_count": null,
   "id": "035b5aa1-de62-4bc6-8e43-1f3e687e27c4",
   "metadata": {},
   "outputs": [],
   "source": [
    "LHEs = qs.get_LHEs(FRAMEWORK_PATH)\n",
    "LHEs"
   ]
  },
  {
   "cell_type": "markdown",
   "id": "26e630a6-34f6-4c16-a22b-4085cbc7834d",
   "metadata": {},
   "source": [
    "### 3. Generate transverse momenta"
   ]
  },
  {
   "cell_type": "markdown",
   "id": "63bfe02c-3f22-4505-93c5-0e9e21b663b0",
   "metadata": {},
   "source": [
    "**3.1 single-threaded operation**\n",
    "\n",
    "Calling qs.generate_pT for a specified particle ID will:\n",
    "- run Pythia\n",
    "- intercept events that include the specified particle\n",
    "- calculate transverse momenta\n",
    "- return status and numpy array of discrete momenta values"
   ]
  },
  {
   "cell_type": "code",
   "execution_count": null,
   "id": "009b77aa-7d7d-4afc-8f5c-e5f1e9f3039c",
   "metadata": {},
   "outputs": [],
   "source": [
    "TAU = 15  # see MadGraph docs for more particle ID numbers \n",
    "result, pTs = qs.generate_pT(TAU, LHEs[0])  # call Pythia, capture pTs for TAU"
   ]
  },
  {
   "cell_type": "code",
   "execution_count": null,
   "id": "b97bba49-e9f4-4912-870e-3ce4d6bf1580",
   "metadata": {},
   "outputs": [],
   "source": [
    "print(result) # shows total number of Tau particles and process return status code\n",
    "if result['status'] != 0:\n",
    "    print('something went wrong')"
   ]
  },
  {
   "cell_type": "code",
   "execution_count": null,
   "id": "acb525b6-c894-4f17-90ef-da07be33e63c",
   "metadata": {},
   "outputs": [],
   "source": [
    "# results from small single-threaded sample run\n",
    "plt.hist(pTs, bins=30, log=True)\n",
    "plt.title('Distribution of Transverse Momenta of Tau Particles')\n",
    "plt.show()"
   ]
  },
  {
   "cell_type": "markdown",
   "id": "be35ddc4-2172-468a-ab52-c47b38e9fcdb",
   "metadata": {},
   "source": [
    "**3.2 Multi-threaded operation**\n",
    "\n",
    "Use Python's concurrent package to run Pythia processes in parallel, storing partial results in pickle files:"
   ]
  },
  {
   "cell_type": "code",
   "execution_count": null,
   "id": "25201467-2f34-487a-9d0c-0765b797f8f1",
   "metadata": {
    "scrolled": true
   },
   "outputs": [],
   "source": [
    "import concurrent.futures\n",
    "cpu_cores = 10  # set an appropriate value based on CPU hardware\n",
    "results = np.array([])\n",
    "\n",
    "def process_LHE(LHE, PID=15):\n",
    "    return qs.generate_pT(PID, LHE)\n",
    "\n",
    "with concurrent.futures.ProcessPoolExecutor(max_workers=cpu_cores) as executor:\n",
    "    futures = {executor.submit(process_LHE, LHE): LHE for LHE in LHEs}\n",
    "    for future in concurrent.futures.as_completed(futures):\n",
    "        result = future.result()\n",
    "        results = np.concatenate((results, result[1]))  # result[1] = pT data\n",
    "        # ProcessPoolExecutor takes care of thread saftey, more on this in example_3"
   ]
  },
  {
   "cell_type": "code",
   "execution_count": null,
   "id": "6f59c858-d5de-4015-b4b0-a556b60de3e7",
   "metadata": {},
   "outputs": [],
   "source": [
    "# draw result of combined runs \n",
    "# notice this run is less noisy than last time because it contains data from 4 times more events \n",
    "plt.hist(results, bins=30, log=True)\n",
    "plt.title('Distribution of Transverse Momenta of Tau Particles')\n",
    "plt.xlabel(\"pT (GeV)\")\n",
    "plt.show()"
   ]
  },
  {
   "cell_type": "markdown",
   "id": "72b8623f-0ef3-4e2f-8ee5-5ed8c5d9dd38",
   "metadata": {},
   "source": [
    "**3.3 use standard library to calculate statistics**\n",
    "\n",
    "Now that the data is Python-exposed any library can be applied to any end. Here is a simple comparison test from **scipy**:"
   ]
  },
  {
   "cell_type": "code",
   "execution_count": null,
   "id": "ae1460ab-31e6-45cd-a64e-ea1b72aa80fd",
   "metadata": {},
   "outputs": [],
   "source": [
    "n = pTs.shape[0] // 2            # divide observations in half\n",
    "stats.ks_2samp(pTs[0:n],pTs[n:]) # do these two samples come from the same distribution?"
   ]
  }
 ],
 "metadata": {
  "kernelspec": {
   "display_name": "Python 3 (My Custom Kernel)",
   "language": "python",
   "name": "my_custom_kernel"
  },
  "language_info": {
   "codemirror_mode": {
    "name": "ipython",
    "version": 3
   },
   "file_extension": ".py",
   "mimetype": "text/x-python",
   "name": "python",
   "nbconvert_exporter": "python",
   "pygments_lexer": "ipython3",
   "version": "3.12.2"
  }
 },
 "nbformat": 4,
 "nbformat_minor": 5
}
