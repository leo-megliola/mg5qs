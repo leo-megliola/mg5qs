{
 "cells": [
  {
   "cell_type": "code",
   "execution_count": 1,
   "id": "381610ff-bff2-4fb4-b5c2-5566c8bb4c1d",
   "metadata": {},
   "outputs": [],
   "source": [
    "import mg5qs_import as qs\n",
    "from pathlib import Path\n",
    "import matplotlib.pyplot as plt\n",
    "import os\n",
    "import shutil\n",
    "import numpy as np\n",
    "import subprocess"
   ]
  },
  {
   "cell_type": "code",
   "execution_count": 2,
   "id": "9aa55c9a-181e-4024-b170-d3305cbd2c1b",
   "metadata": {},
   "outputs": [],
   "source": [
    "MG5_PATH = Path(os.getenv('MG5QS_MG5_PATH'))\n",
    "INPUT_PATH = Path(os.getenv('MG5QS_INPUT_PATH'))"
   ]
  },
  {
   "cell_type": "code",
   "execution_count": 3,
   "id": "b779cf40-b985-4bcf-8763-806ce3e5c5c1",
   "metadata": {},
   "outputs": [
    {
     "name": "stdout",
     "output_type": "stream",
     "text": [
      "#************************************************************\n",
      "#*                        MadGraph 5                        *\n",
      "#*                                                          *\n",
      "#*                *                       *                 *\n",
      "#*                  *        * *        *                   *\n",
      "#*                    * * * * 5 * * * *                     *\n",
      "#*                  *        * *        *                   *\n",
      "#*                *                       *                 *\n",
      "#*                                                          *\n",
      "#*                                                          *\n",
      "#*    The MadGraph Development Team - Please visit us at    *\n",
      "#*    https://server06.fynu.ucl.ac.be/projects/madgraph     *\n",
      "#*                                                          *\n",
      "#************************************************************\n",
      "#*                                                          *\n",
      "#*               Command File for MadGraph 5                *\n",
      "#*                                                          *\n",
      "#*     run as ./bin/mg5  filename                           *\n",
      "#*                                                          *\n",
      "#************************************************************\n"
     ]
    },
    {
     "data": {
      "application/vnd.jupyter.widget-view+json": {
       "model_id": "983757e82de746d1bdfb272333fa2304",
       "version_major": 2,
       "version_minor": 0
      },
      "text/plain": [
       "Text(value='import model sm', layout=Layout(width='550px'))"
      ]
     },
     "metadata": {},
     "output_type": "display_data"
    },
    {
     "name": "stdout",
     "output_type": "stream",
     "text": [
      "# Define multiparticle labels\n"
     ]
    },
    {
     "data": {
      "application/vnd.jupyter.widget-view+json": {
       "model_id": "6070796f98d6421795d4dc814269d700",
       "version_major": 2,
       "version_minor": 0
      },
      "text/plain": [
       "Text(value='define p = g u c d s u~ c~ d~ s~', layout=Layout(width='550px'))"
      ]
     },
     "metadata": {},
     "output_type": "display_data"
    },
    {
     "data": {
      "application/vnd.jupyter.widget-view+json": {
       "model_id": "c5e53594da2a4fb6ab5f78109209196f",
       "version_major": 2,
       "version_minor": 0
      },
      "text/plain": [
       "Text(value='define j = g u c d s u~ c~ d~ s~', layout=Layout(width='550px'))"
      ]
     },
     "metadata": {},
     "output_type": "display_data"
    },
    {
     "data": {
      "application/vnd.jupyter.widget-view+json": {
       "model_id": "4d7ec295c0af481fba0da261ba871742",
       "version_major": 2,
       "version_minor": 0
      },
      "text/plain": [
       "Text(value='define l+ = e+ mu+', layout=Layout(width='550px'))"
      ]
     },
     "metadata": {},
     "output_type": "display_data"
    },
    {
     "data": {
      "application/vnd.jupyter.widget-view+json": {
       "model_id": "cab5c852cd4b42d8bd3a31cce129fc08",
       "version_major": 2,
       "version_minor": 0
      },
      "text/plain": [
       "Text(value='define l- = e- mu-', layout=Layout(width='550px'))"
      ]
     },
     "metadata": {},
     "output_type": "display_data"
    },
    {
     "data": {
      "application/vnd.jupyter.widget-view+json": {
       "model_id": "be4c0402de7246318ed59e7a25875163",
       "version_major": 2,
       "version_minor": 0
      },
      "text/plain": [
       "Text(value='define vl = ve vm vt', layout=Layout(width='550px'))"
      ]
     },
     "metadata": {},
     "output_type": "display_data"
    },
    {
     "data": {
      "application/vnd.jupyter.widget-view+json": {
       "model_id": "6980cf759d5d448babcf8fcf3b4e51e7",
       "version_major": 2,
       "version_minor": 0
      },
      "text/plain": [
       "Text(value='define vl~ = ve~ vm~ vt~', layout=Layout(width='550px'))"
      ]
     },
     "metadata": {},
     "output_type": "display_data"
    },
    {
     "name": "stdout",
     "output_type": "stream",
     "text": [
      "# Specify process(es) to run\n"
     ]
    },
    {
     "data": {
      "application/vnd.jupyter.widget-view+json": {
       "model_id": "7642dc050a8849e3a1b744d2ae8bd8c1",
       "version_major": 2,
       "version_minor": 0
      },
      "text/plain": [
       "Text(value='generate p p > e- ve~ @1', layout=Layout(width='550px'))"
      ]
     },
     "metadata": {},
     "output_type": "display_data"
    },
    {
     "data": {
      "application/vnd.jupyter.widget-view+json": {
       "model_id": "4c8309eca10a467096c0ca6378f5e1d8",
       "version_major": 2,
       "version_minor": 0
      },
      "text/plain": [
       "Text(value='add process p p > e- ve~ j @2', layout=Layout(width='550px'))"
      ]
     },
     "metadata": {},
     "output_type": "display_data"
    },
    {
     "data": {
      "application/vnd.jupyter.widget-view+json": {
       "model_id": "1bb25c921242498fa3e097197c7ba5ce",
       "version_major": 2,
       "version_minor": 0
      },
      "text/plain": [
       "Text(value='add process p p > t t~ @3', layout=Layout(width='550px'))"
      ]
     },
     "metadata": {},
     "output_type": "display_data"
    },
    {
     "name": "stdout",
     "output_type": "stream",
     "text": [
      "# Output processes to MadEvent directory\n"
     ]
    },
    {
     "data": {
      "application/vnd.jupyter.widget-view+json": {
       "model_id": "010e440de9c2473c93995bf4683ff902",
       "version_major": 2,
       "version_minor": 0
      },
      "text/plain": [
       "Text(value='output A', layout=Layout(width='550px'))"
      ]
     },
     "metadata": {},
     "output_type": "display_data"
    },
    {
     "name": "stdout",
     "output_type": "stream",
     "text": [
      "# This will create a directory PROC_$MODELNAME_$X\n",
      "# If you want to specify the path/name of the directory use\n",
      "# output PATH\n",
      "\n",
      "# To generate events, you can go to the created directory and\n",
      "# run ./bin/generate_events\n"
     ]
    },
    {
     "data": {
      "application/vnd.jupyter.widget-view+json": {
       "model_id": "d4eb6174f15b456480606779a631ee0b",
       "version_major": 2,
       "version_minor": 0
      },
      "text/plain": [
       "Button(description='Save', style=ButtonStyle())"
      ]
     },
     "metadata": {},
     "output_type": "display_data"
    },
    {
     "data": {
      "application/vnd.jupyter.widget-view+json": {
       "model_id": "4195dc715ae1446db0ebed01f018ba9b",
       "version_major": 2,
       "version_minor": 0
      },
      "text/plain": [
       "Output()"
      ]
     },
     "metadata": {},
     "output_type": "display_data"
    }
   ],
   "source": [
    "qs.edit_card_spec(INPUT_PATH / 'proc_card.dat')"
   ]
  },
  {
   "cell_type": "code",
   "execution_count": 4,
   "id": "9364e047-33c8-406a-8b82-ebd351870d5c",
   "metadata": {},
   "outputs": [],
   "source": [
    "output_name, FRAMEWORK_PATH = qs.run_MG5(MG5_PATH, INPUT_PATH)"
   ]
  },
  {
   "cell_type": "code",
   "execution_count": 5,
   "id": "7f8c7ee1-b9a3-4c40-9e61-053758cc0093",
   "metadata": {},
   "outputs": [],
   "source": [
    "card = qs.ParamCard(FRAMEWORK_PATH)"
   ]
  },
  {
   "cell_type": "code",
   "execution_count": 6,
   "id": "13a1ebb8-2822-4fe6-bb70-fa7e59c06fa0",
   "metadata": {},
   "outputs": [
    {
     "name": "stdout",
     "output_type": "stream",
     "text": [
      "Working on MH = 75.0 ...\n",
      "Working on MH = 175.0 ...\n"
     ]
    }
   ],
   "source": [
    "for MH in np.linspace(75, 175, 2):\n",
    "    card.set_value('MASS', 25, MH)  # set the new value \n",
    "    print('Working on MH =', MH, '...')\n",
    "    qs.generate_LHE(card, FRAMEWORK_PATH)"
   ]
  },
  {
   "cell_type": "code",
   "execution_count": null,
   "id": "2dc768f8-526d-40aa-a870-2cd663b9fd5c",
   "metadata": {
    "scrolled": true
   },
   "outputs": [],
   "source": [
    "LHEs = qs.get_LHEs(FRAMEWORK_PATH)\n",
    "results = {}\n",
    "\n",
    "for LHE in LHEs:\n",
    "    results[str(LHE)] = qs.generate_pT(15, LHE)"
   ]
  },
  {
   "cell_type": "code",
   "execution_count": null,
   "id": "d3713616-c8f8-4814-929e-6eb1f5f69412",
   "metadata": {},
   "outputs": [],
   "source": [
    "fig, ax = plt.subplots(len(results), figsize=(7, len(results)*5))\n",
    "\n",
    "ks = [key for key in results.keys()]\n",
    "\n",
    "for i, k in enumerate(sorted(ks)):\n",
    "    ax[i].hist(results[k][1], bins=30)\n",
    "    ax[i].set_title(k)\n",
    "    ax[i].set_yscale('log')\n",
    "plt.show()"
   ]
  }
 ],
 "metadata": {
  "kernelspec": {
   "display_name": "Python 3 (My Custom Kernel)",
   "language": "python",
   "name": "my_custom_kernel"
  },
  "language_info": {
   "codemirror_mode": {
    "name": "ipython",
    "version": 3
   },
   "file_extension": ".py",
   "mimetype": "text/x-python",
   "name": "python",
   "nbconvert_exporter": "python",
   "pygments_lexer": "ipython3",
   "version": "3.12.2"
  }
 },
 "nbformat": 4,
 "nbformat_minor": 5
}
