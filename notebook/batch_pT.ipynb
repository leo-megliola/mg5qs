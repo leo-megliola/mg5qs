{
 "cells": [
  {
   "cell_type": "code",
   "execution_count": 1,
   "id": "381610ff-bff2-4fb4-b5c2-5566c8bb4c1d",
   "metadata": {},
   "outputs": [],
   "source": [
    "import mg5qs_import as qs\n",
    "from pathlib import Path\n",
    "import matplotlib.pyplot as plt\n",
    "import os\n",
    "import shutil\n",
    "import numpy as np\n",
    "import subprocess"
   ]
  },
  {
   "cell_type": "code",
   "execution_count": 2,
   "id": "9aa55c9a-181e-4024-b170-d3305cbd2c1b",
   "metadata": {},
   "outputs": [],
   "source": [
    "MG5_PATH = Path(os.getenv('MG5QS_MG5_PATH'))\n",
    "INPUT_PATH = Path(os.getenv('MG5QS_INPUT_PATH'))"
   ]
  },
  {
   "cell_type": "code",
   "execution_count": 3,
   "id": "b779cf40-b985-4bcf-8763-806ce3e5c5c1",
   "metadata": {},
   "outputs": [
    {
     "name": "stdout",
     "output_type": "stream",
     "text": [
      "#************************************************************\n",
      "#*                        MadGraph 5                        *\n",
      "#*                                                          *\n",
      "#*                *                       *                 *\n",
      "#*                  *        * *        *                   *\n",
      "#*                    * * * * 5 * * * *                     *\n",
      "#*                  *        * *        *                   *\n",
      "#*                *                       *                 *\n",
      "#*                                                          *\n",
      "#*                                                          *\n",
      "#*    The MadGraph Development Team - Please visit us at    *\n",
      "#*    https://server06.fynu.ucl.ac.be/projects/madgraph     *\n",
      "#*                                                          *\n",
      "#************************************************************\n",
      "#*                                                          *\n",
      "#*               Command File for MadGraph 5                *\n",
      "#*                                                          *\n",
      "#*     run as ./bin/mg5  filename                           *\n",
      "#*                                                          *\n",
      "#************************************************************\n"
     ]
    },
    {
     "data": {
      "application/vnd.jupyter.widget-view+json": {
       "model_id": "c8ba7791c9ea4f7aa63741d1a33d89a3",
       "version_major": 2,
       "version_minor": 0
      },
      "text/plain": [
       "Text(value='import model sm', layout=Layout(width='550px'))"
      ]
     },
     "metadata": {},
     "output_type": "display_data"
    },
    {
     "name": "stdout",
     "output_type": "stream",
     "text": [
      "# Define multiparticle labels\n"
     ]
    },
    {
     "data": {
      "application/vnd.jupyter.widget-view+json": {
       "model_id": "63d54bed2e9447228d723264805f206b",
       "version_major": 2,
       "version_minor": 0
      },
      "text/plain": [
       "Text(value='define p = g u c d s u~ c~ d~ s~', layout=Layout(width='550px'))"
      ]
     },
     "metadata": {},
     "output_type": "display_data"
    },
    {
     "data": {
      "application/vnd.jupyter.widget-view+json": {
       "model_id": "1939f57e6b874cd39989975da1ea84e1",
       "version_major": 2,
       "version_minor": 0
      },
      "text/plain": [
       "Text(value='define j = g u c d s u~ c~ d~ s~', layout=Layout(width='550px'))"
      ]
     },
     "metadata": {},
     "output_type": "display_data"
    },
    {
     "data": {
      "application/vnd.jupyter.widget-view+json": {
       "model_id": "84623e9457d44f9991411d92b731b5b7",
       "version_major": 2,
       "version_minor": 0
      },
      "text/plain": [
       "Text(value='define l+ = e+ mu+', layout=Layout(width='550px'))"
      ]
     },
     "metadata": {},
     "output_type": "display_data"
    },
    {
     "data": {
      "application/vnd.jupyter.widget-view+json": {
       "model_id": "0754fdb19cad497081805b5ad8081298",
       "version_major": 2,
       "version_minor": 0
      },
      "text/plain": [
       "Text(value='define l- = e- mu-', layout=Layout(width='550px'))"
      ]
     },
     "metadata": {},
     "output_type": "display_data"
    },
    {
     "data": {
      "application/vnd.jupyter.widget-view+json": {
       "model_id": "ecdfadff76fb40d7938e04622dc7b803",
       "version_major": 2,
       "version_minor": 0
      },
      "text/plain": [
       "Text(value='define vl = ve vm vt', layout=Layout(width='550px'))"
      ]
     },
     "metadata": {},
     "output_type": "display_data"
    },
    {
     "data": {
      "application/vnd.jupyter.widget-view+json": {
       "model_id": "ef1eb340dc4f4a4a92691576366a2bd4",
       "version_major": 2,
       "version_minor": 0
      },
      "text/plain": [
       "Text(value='define vl~ = ve~ vm~ vt~', layout=Layout(width='550px'))"
      ]
     },
     "metadata": {},
     "output_type": "display_data"
    },
    {
     "name": "stdout",
     "output_type": "stream",
     "text": [
      "# Specify process(es) to run\n"
     ]
    },
    {
     "data": {
      "application/vnd.jupyter.widget-view+json": {
       "model_id": "554873df49904d609c10eba1995adf82",
       "version_major": 2,
       "version_minor": 0
      },
      "text/plain": [
       "Text(value='generate p p > e- ve~ @1', layout=Layout(width='550px'))"
      ]
     },
     "metadata": {},
     "output_type": "display_data"
    },
    {
     "data": {
      "application/vnd.jupyter.widget-view+json": {
       "model_id": "8ed64cbc893a4c47b743dc327636c009",
       "version_major": 2,
       "version_minor": 0
      },
      "text/plain": [
       "Text(value='add process p p > e- ve~ j @2', layout=Layout(width='550px'))"
      ]
     },
     "metadata": {},
     "output_type": "display_data"
    },
    {
     "data": {
      "application/vnd.jupyter.widget-view+json": {
       "model_id": "2e5d87072dad477b8905e0995eeb69e7",
       "version_major": 2,
       "version_minor": 0
      },
      "text/plain": [
       "Text(value='add process p p > t t~ @3', layout=Layout(width='550px'))"
      ]
     },
     "metadata": {},
     "output_type": "display_data"
    },
    {
     "name": "stdout",
     "output_type": "stream",
     "text": [
      "# Output processes to MadEvent directory\n"
     ]
    },
    {
     "data": {
      "application/vnd.jupyter.widget-view+json": {
       "model_id": "660bf6b8a3cb48e6bae045670d2c1b0d",
       "version_major": 2,
       "version_minor": 0
      },
      "text/plain": [
       "Text(value='output A', layout=Layout(width='550px'))"
      ]
     },
     "metadata": {},
     "output_type": "display_data"
    },
    {
     "name": "stdout",
     "output_type": "stream",
     "text": [
      "# This will create a directory PROC_$MODELNAME_$X\n",
      "# If you want to specify the path/name of the directory use\n",
      "# output PATH\n",
      "\n",
      "# To generate events, you can go to the created directory and\n",
      "# run ./bin/generate_events\n"
     ]
    },
    {
     "data": {
      "application/vnd.jupyter.widget-view+json": {
       "model_id": "639e327d64804ad6a42ef149318f2c24",
       "version_major": 2,
       "version_minor": 0
      },
      "text/plain": [
       "Button(description='Save', style=ButtonStyle())"
      ]
     },
     "metadata": {},
     "output_type": "display_data"
    },
    {
     "data": {
      "application/vnd.jupyter.widget-view+json": {
       "model_id": "4effb5836fa643d99030304ee47fd9f8",
       "version_major": 2,
       "version_minor": 0
      },
      "text/plain": [
       "Output()"
      ]
     },
     "metadata": {},
     "output_type": "display_data"
    }
   ],
   "source": [
    "qs.edit_card_spec(INPUT_PATH / 'proc_card.dat')"
   ]
  },
  {
   "cell_type": "code",
   "execution_count": 4,
   "id": "9364e047-33c8-406a-8b82-ebd351870d5c",
   "metadata": {},
   "outputs": [],
   "source": [
    "output_name, OUTPUT_PATH = qs.run_MG5(MG5_PATH, INPUT_PATH)"
   ]
  },
  {
   "cell_type": "code",
   "execution_count": 5,
   "id": "7f8c7ee1-b9a3-4c40-9e61-053758cc0093",
   "metadata": {},
   "outputs": [],
   "source": [
    "card = qs.ParamCard(OUTPUT_PATH)"
   ]
  },
  {
   "cell_type": "code",
   "execution_count": 6,
   "id": "13a1ebb8-2822-4fe6-bb70-fa7e59c06fa0",
   "metadata": {},
   "outputs": [
    {
     "name": "stdout",
     "output_type": "stream",
     "text": [
      "wrote: /home/leo/MadStats/mg5qs/output/A/Cards/param_card.out\n",
      "Working on MH = 75.0 ...\n",
      "Process completed successfully.\n",
      "MH = 75.0  complete\n",
      "wrote: /home/leo/MadStats/mg5qs/output/A/Cards/param_card.out\n",
      "Working on MH = 175.0 ...\n",
      "Process completed successfully.\n",
      "MH = 175.0  complete\n"
     ]
    }
   ],
   "source": [
    "shutil.copy(card.path / 'param_card.dat', card.path / 'param_card.bak')\n",
    "\n",
    "for MH in np.linspace(75, 175, 2):\n",
    "    shutil.copy(card.path / 'param_card.bak', card.path / 'param_card.dat')  # start with the origional card \n",
    "    card.set_value('MASS', 25, MH)  # set the new value \n",
    "    card.write(overwrite=True)      # write to p_c.out \n",
    "    os.rename(card.path / 'param_card.out', card.path / 'param_card.dat')  # copy over p_c.dat\n",
    "    \n",
    "    print('Working on MH =', MH, '...')\n",
    "    # Build the command\n",
    "    command = f\"{OUTPUT_PATH / 'bin/generate_events'} -f < {INPUT_PATH / 'gen_event_input.mg5'}\"\n",
    "    # Execute the command, changing the working directory\n",
    "    try:\n",
    "        result = subprocess.run(command, shell=True, check=True, stdout=subprocess.DEVNULL, stderr=subprocess.DEVNULL)\n",
    "        print(\"Process completed successfully.\")\n",
    "    except subprocess.CalledProcessError as e:\n",
    "        print(f\"Process failed with error: {e}\")\n",
    "        print(card.dfs()['MASS'], '\\n')\n",
    "    print('MH =', MH, ' complete')\n",
    "\n",
    "shutil.copy(card.path / 'param_card.bak', card.path / 'param_card.dat')  # restore the origional card\n",
    "os.remove(card.path / 'param_card.bak')   # cleanup any resadue"
   ]
  },
  {
   "cell_type": "code",
   "execution_count": 8,
   "id": "2dc768f8-526d-40aa-a870-2cd663b9fd5c",
   "metadata": {
    "scrolled": true
   },
   "outputs": [
    {
     "name": "stdout",
     "output_type": "stream",
     "text": [
      "\n",
      " *------------------------------------------------------------------------------------* \n",
      " |                                                                                    | \n",
      " |  *------------------------------------------------------------------------------*  | \n",
      " |  |                                                                              |  | \n",
      " |  |                                                                              |  | \n",
      " |  |   PPP   Y   Y  TTTTT  H   H  III    A      Welcome to the Lund Monte Carlo!  |  | \n",
      " |  |   P  P   Y Y     T    H   H   I    A A     This is PYTHIA version 8.311      |  | \n",
      " |  |   PPP     Y      T    HHHHH   I   AAAAA    Last date of change:  8 Mar 2024  |  | \n",
      " |  |   P       Y      T    H   H   I   A   A                                      |  | \n",
      " |  |   P       Y      T    H   H  III  A   A    Now is 28 Aug 2024 at 13:17:04    |  | \n",
      " |  |                                                                              |  | \n",
      " |  |   Program documentation and an archive of historic versions is found on:     |  | \n",
      " |  |                                                                              |  | \n",
      " |  |                               https://pythia.org/                            |  | \n",
      " |  |                                                                              |  | \n",
      " |  |   PYTHIA is authored by a collaboration consisting of:                       |  | \n",
      " |  |                                                                              |  | \n",
      " |  |   Javira Altmann, Christian Bierlich, Naomi Cooke, Nishita Desai,            |  | \n",
      " |  |   Leif Gellersen, Ilkka Helenius, Philip Ilten, Leif Lonnblad,               |  | \n",
      " |  |   Stephen Mrenna, Christian Preuss, Torbjorn Sjostrand, Peter Skands,        |  | \n",
      " |  |   Marius Utheim, and Rob Verheyen.                                           |  | \n",
      " |  |                                                                              |  | \n",
      " |  |   The complete list of authors, including contact information and            |  | \n",
      " |  |   affiliations, can be found on https://pythia.org/.                         |  | \n",
      " |  |   Problems or bugs should be reported on email at authors@pythia.org.        |  | \n",
      " |  |                                                                              |  | \n",
      " |  |   The main program reference is C. Bierlich et al,                           |  | \n",
      " |  |   'A comprehensive guide to the physics and usage of Pythia 8.3',            |  | \n",
      " |  |   SciPost Phys. Codebases 8-r8.3 (2022) [arXiv:2203.11601 [hep-ph]]          |  | \n",
      " |  |                                                                              |  | \n",
      " |  |   PYTHIA is released under the GNU General Public Licence version 2 or later.|  | \n",
      " |  |   Please respect the MCnet Guidelines for Event Generator Authors and Users. |  | \n",
      " |  |                                                                              |  | \n",
      " |  |   Disclaimer: this program comes without any guarantees.                     |  | \n",
      " |  |   Beware of errors and use common sense when interpreting results.           |  | \n",
      " |  |                                                                              |  | \n",
      " |  |   Copyright (C) 2024 Torbjorn Sjostrand                                      |  | \n",
      " |  |                                                                              |  | \n",
      " |  |                                                                              |  | \n",
      " |  *------------------------------------------------------------------------------*  | \n",
      " |                                                                                    | \n",
      " *------------------------------------------------------------------------------------* \n",
      "\n",
      " *-----------------------  SusyLesHouches SUSY/BSM Interface  ------------------------*\n",
      " | Last Change 12 Apr 2017 - P. Skands\n",
      " | Parsing: /home/leo/MadStats/mg5qs/output/A/Events/run_01/unweighted_events.lhe\n",
      " | (SLHA::readFile) line 319 - storing non-SLHA(2) block: yukawa\n",
      " *------------------------------------------------------------------------------------*\n",
      "\n",
      "TAUS: 439\n",
      "\n",
      " *------------------------------------------------------------------------------------* \n",
      " |                                                                                    | \n",
      " |  *------------------------------------------------------------------------------*  | \n",
      " |  |                                                                              |  | \n",
      " |  |                                                                              |  | \n",
      " |  |   PPP   Y   Y  TTTTT  H   H  III    A      Welcome to the Lund Monte Carlo!  |  | \n",
      " |  |   P  P   Y Y     T    H   H   I    A A     This is PYTHIA version 8.311      |  | \n",
      " |  |   PPP     Y      T    HHHHH   I   AAAAA    Last date of change:  8 Mar 2024  |  | \n",
      " |  |   P       Y      T    H   H   I   A   A                                      |  | \n",
      " |  |   P       Y      T    H   H  III  A   A    Now is 28 Aug 2024 at 13:17:51    |  | \n",
      " |  |                                                                              |  | \n",
      " |  |   Program documentation and an archive of historic versions is found on:     |  | \n",
      " |  |                                                                              |  | \n",
      " |  |                               https://pythia.org/                            |  | \n",
      " |  |                                                                              |  | \n",
      " |  |   PYTHIA is authored by a collaboration consisting of:                       |  | \n",
      " |  |                                                                              |  | \n",
      " |  |   Javira Altmann, Christian Bierlich, Naomi Cooke, Nishita Desai,            |  | \n",
      " |  |   Leif Gellersen, Ilkka Helenius, Philip Ilten, Leif Lonnblad,               |  | \n",
      " |  |   Stephen Mrenna, Christian Preuss, Torbjorn Sjostrand, Peter Skands,        |  | \n",
      " |  |   Marius Utheim, and Rob Verheyen.                                           |  | \n",
      " |  |                                                                              |  | \n",
      " |  |   The complete list of authors, including contact information and            |  | \n",
      " |  |   affiliations, can be found on https://pythia.org/.                         |  | \n",
      " |  |   Problems or bugs should be reported on email at authors@pythia.org.        |  | \n",
      " |  |                                                                              |  | \n",
      " |  |   The main program reference is C. Bierlich et al,                           |  | \n",
      " |  |   'A comprehensive guide to the physics and usage of Pythia 8.3',            |  | \n",
      " |  |   SciPost Phys. Codebases 8-r8.3 (2022) [arXiv:2203.11601 [hep-ph]]          |  | \n",
      " |  |                                                                              |  | \n",
      " |  |   PYTHIA is released under the GNU General Public Licence version 2 or later.|  | \n",
      " |  |   Please respect the MCnet Guidelines for Event Generator Authors and Users. |  | \n",
      " |  |                                                                              |  | \n",
      " |  |   Disclaimer: this program comes without any guarantees.                     |  | \n",
      " |  |   Beware of errors and use common sense when interpreting results.           |  | \n",
      " |  |                                                                              |  | \n",
      " |  |   Copyright (C) 2024 Torbjorn Sjostrand                                      |  | \n",
      " |  |                                                                              |  | \n",
      " |  |                                                                              |  | \n",
      " |  *------------------------------------------------------------------------------*  | \n",
      " |                                                                                    | \n",
      " *------------------------------------------------------------------------------------* \n",
      "\n",
      " *-----------------------  SusyLesHouches SUSY/BSM Interface  ------------------------*\n",
      " | Last Change 12 Apr 2017 - P. Skands\n",
      " | Parsing: /home/leo/MadStats/mg5qs/output/A/Events/run_02/unweighted_events.lhe\n",
      " | (SLHA::readFile) line 319 - storing non-SLHA(2) block: yukawa\n",
      " *------------------------------------------------------------------------------------*\n",
      "\n",
      "TAUS: 526\n"
     ]
    }
   ],
   "source": [
    "LHEs = qs.get_LHEs(OUTPUT_PATH)\n",
    "results = {}\n",
    "\n",
    "for LHE in LHEs:\n",
    "    results[str(LHE)] = qs.generate_pT(15, 10000, LHE)"
   ]
  },
  {
   "cell_type": "code",
   "execution_count": 10,
   "id": "d3713616-c8f8-4814-929e-6eb1f5f69412",
   "metadata": {},
   "outputs": [
    {
     "data": {
      "image/png": "[encoded data removed]",
      "text/plain": [
       "<Figure size 700x1000 with 2 Axes>"
      ]
     },
     "metadata": {},
     "output_type": "display_data"
    }
   ],
   "source": [
    "fig, ax = plt.subplots(len(results), figsize=(7, len(results)*5))\n",
    "\n",
    "ks = [key for key in results.keys()]\n",
    "\n",
    "for i, k in enumerate(sorted(ks)):\n",
    "    ax[i].hist(results[k][1], bins=30)\n",
    "    ax[i].set_title(k)\n",
    "    ax[i].set_yscale('log')\n",
    "plt.show()"
   ]
  },
  {
   "cell_type": "code",
   "execution_count": null,
   "id": "e94e338f-eb9c-4d6e-9b3d-9adedaafe9e4",
   "metadata": {},
   "outputs": [],
   "source": []
  }
 ],
 "metadata": {
  "kernelspec": {
   "display_name": "Python 3 (My Custom Kernel)",
   "language": "python",
   "name": "my_custom_kernel"
  },
  "language_info": {
   "codemirror_mode": {
    "name": "ipython",
    "version": 3
   },
   "file_extension": ".py",
   "mimetype": "text/x-python",
   "name": "python",
   "nbconvert_exporter": "python",
   "pygments_lexer": "ipython3",
   "version": "3.12.2"
  }
 },
 "nbformat": 4,
 "nbformat_minor": 5
}
